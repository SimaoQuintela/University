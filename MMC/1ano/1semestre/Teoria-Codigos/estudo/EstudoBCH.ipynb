{
 "cells": [
  {
   "cell_type": "code",
   "execution_count": 3,
   "id": "e86b30b7-751a-481c-8d65-9a0f272e8b14",
   "metadata": {},
   "outputs": [
    {
     "data": {
      "text/plain": [
       "x^4 + x + 1"
      ]
     },
     "execution_count": 3,
     "metadata": {},
     "output_type": "execute_result"
    }
   ],
   "source": [
    "Z2 = IntegerModRing(2)\n",
    "Pol2 = PolynomialRing(Z2, 'x')\n",
    "pi_x = Pol2(x^4+x+1)\n",
    "pi_x"
   ]
  },
  {
   "cell_type": "code",
   "execution_count": null,
   "id": "53c9e7bd-3bf3-41e5-851b-835c87fdfe01",
   "metadata": {},
   "outputs": [],
   "source": []
  }
 ],
 "metadata": {
  "kernelspec": {
   "display_name": "SageMath 10.1",
   "language": "sage",
   "name": "sagemath"
  },
  "language_info": {
   "codemirror_mode": {
    "name": "ipython",
    "version": 3
   },
   "file_extension": ".py",
   "mimetype": "text/x-python",
   "name": "python",
   "nbconvert_exporter": "python",
   "pygments_lexer": "ipython3",
   "version": "3.11.5"
  }
 },
 "nbformat": 4,
 "nbformat_minor": 5
}
