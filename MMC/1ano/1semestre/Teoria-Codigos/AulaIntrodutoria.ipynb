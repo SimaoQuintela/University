{
 "cells": [
  {
   "cell_type": "code",
   "execution_count": 2,
   "id": "ac8aa1ad-42ff-43c3-8833-b06494d82879",
   "metadata": {},
   "outputs": [
    {
     "data": {
      "text/plain": [
       "[0, a, a^2, a + 1, a^2 + a, a^2 + a + 1, a^2 + 1, 1]"
      ]
     },
     "execution_count": 2,
     "metadata": {},
     "output_type": "execute_result"
    }
   ],
   "source": [
    "# Corpos de Galois\n",
    "F8 = GF(2^3, 'a')\n",
    "F8.list()"
   ]
  },
  {
   "cell_type": "code",
   "execution_count": 15,
   "id": "0cb41b15-4a56-44fb-a836-78c4547442e2",
   "metadata": {},
   "outputs": [
    {
     "data": {
      "text/plain": [
       "[0,\n",
       " a,\n",
       " a^2,\n",
       " a^3,\n",
       " a + 1,\n",
       " a^2 + a,\n",
       " a^3 + a^2,\n",
       " a^3 + a + 1,\n",
       " a^2 + 1,\n",
       " a^3 + a,\n",
       " a^2 + a + 1,\n",
       " a^3 + a^2 + a,\n",
       " a^3 + a^2 + a + 1,\n",
       " a^3 + a^2 + 1,\n",
       " a^3 + 1,\n",
       " 1]"
      ]
     },
     "execution_count": 15,
     "metadata": {},
     "output_type": "execute_result"
    }
   ],
   "source": [
    "F16 = GF(2^4, 'a')\n",
    "F16.list()"
   ]
  },
  {
   "cell_type": "code",
   "execution_count": 16,
   "id": "a521b2db-96ba-4a66-9220-3935de17b15a",
   "metadata": {},
   "outputs": [],
   "source": [
    "Mat25 = MatrixSpace(F16, 2, 5)\n",
    "G = Mat25.random_element()"
   ]
  },
  {
   "cell_type": "code",
   "execution_count": 17,
   "id": "3d7cd3ac-5709-4c07-9f68-5d3e8df5e3be",
   "metadata": {},
   "outputs": [
    {
     "data": {
      "text/html": [
       "<html>\\(\\displaystyle \\left(\\begin{array}{rrrrr}\n",
       "a^{3} + a^{2} + a + 1 & a^{2} & a^{2} & a^{3} + a^{2} + a + 1 & a^{3} + a^{2} + a + 1 \\\\\n",
       "a & a^{2} + a & a^{3} + a^{2} + a & a^{3} + a^{2} + 1 & a^{2} + a + 1\n",
       "\\end{array}\\right)\\)</html>"
      ],
      "text/latex": [
       "$\\displaystyle \\left(\\begin{array}{rrrrr}\n",
       "a^{3} + a^{2} + a + 1 & a^{2} & a^{2} & a^{3} + a^{2} + a + 1 & a^{3} + a^{2} + a + 1 \\\\\n",
       "a & a^{2} + a & a^{3} + a^{2} + a & a^{3} + a^{2} + 1 & a^{2} + a + 1\n",
       "\\end{array}\\right)$"
      ],
      "text/plain": [
       "[a^3 + a^2 + a + 1               a^2               a^2 a^3 + a^2 + a + 1 a^3 + a^2 + a + 1]\n",
       "[                a           a^2 + a     a^3 + a^2 + a     a^3 + a^2 + 1       a^2 + a + 1]"
      ]
     },
     "metadata": {},
     "output_type": "display_data"
    }
   ],
   "source": [
    "pretty_print(G)"
   ]
  },
  {
   "cell_type": "code",
   "execution_count": 19,
   "id": "9c53ffb2-9c32-4a4b-9119-45f49692cdd0",
   "metadata": {},
   "outputs": [
    {
     "data": {
      "text/plain": [
       "2"
      ]
     },
     "execution_count": 19,
     "metadata": {},
     "output_type": "execute_result"
    }
   ],
   "source": [
    "# caraterística da matriz\n",
    "G.rank()"
   ]
  },
  {
   "cell_type": "code",
   "execution_count": 21,
   "id": "a4e2b2d3-63a9-4116-963c-783510fe60b5",
   "metadata": {},
   "outputs": [
    {
     "data": {
      "text/html": [
       "<html>\\(\\displaystyle \\newcommand{\\Bold}[1]{\\mathbf{#1}}\\mathrm{RowSpan}_{\\Bold{F}_{2^{4}}}\\left(\\begin{array}{rrrrr}\n",
       "1 & 0 & 0 & a^{3} + 1 & a^{3} \\\\\n",
       "0 & 1 & 0 & a & a^{2} \\\\\n",
       "0 & 0 & 1 & a^{3} & a^{3} + a^{2} + a\n",
       "\\end{array}\\right)\\)</html>"
      ],
      "text/latex": [
       "$\\displaystyle \\newcommand{\\Bold}[1]{\\mathbf{#1}}\\mathrm{RowSpan}_{\\Bold{F}_{2^{4}}}\\left(\\begin{array}{rrrrr}\n",
       "1 & 0 & 0 & a^{3} + 1 & a^{3} \\\\\n",
       "0 & 1 & 0 & a & a^{2} \\\\\n",
       "0 & 0 & 1 & a^{3} & a^{3} + a^{2} + a\n",
       "\\end{array}\\right)$"
      ],
      "text/plain": [
       "Vector space of degree 5 and dimension 3 over Finite Field in a of size 2^4\n",
       "Basis matrix:\n",
       "[            1             0             0       a^3 + 1           a^3]\n",
       "[            0             1             0             a           a^2]\n",
       "[            0             0             1           a^3 a^3 + a^2 + a]"
      ]
     },
     "metadata": {},
     "output_type": "display_data"
    }
   ],
   "source": [
    "pretty_print(G.right_kernel())"
   ]
  },
  {
   "cell_type": "code",
   "execution_count": null,
   "id": "c19930ff-e4b5-42ed-9431-1d6b99d34682",
   "metadata": {},
   "outputs": [],
   "source": []
  }
 ],
 "metadata": {
  "kernelspec": {
   "display_name": "SageMath 10.1",
   "language": "sage",
   "name": "sagemath"
  },
  "language_info": {
   "codemirror_mode": {
    "name": "ipython",
    "version": 3
   },
   "file_extension": ".py",
   "mimetype": "text/x-python",
   "name": "python",
   "nbconvert_exporter": "python",
   "pygments_lexer": "ipython3",
   "version": "3.11.5"
  }
 },
 "nbformat": 4,
 "nbformat_minor": 5
}
