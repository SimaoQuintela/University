{
 "cells": [
  {
   "cell_type": "markdown",
   "id": "2432845e-7e7f-464b-ad46-585c54801e1d",
   "metadata": {},
   "source": [
    "## Conteúdos a estudar"
   ]
  },
  {
   "cell_type": "markdown",
   "id": "f6d47da3-24b0-4e95-a7c1-9002835df9ae",
   "metadata": {},
   "source": [
    "### Conteúdos em falta"
   ]
  },
  {
   "cell_type": "markdown",
   "id": "bd17b754-6da5-4e6b-bee7-f92386230c1f",
   "metadata": {},
   "source": [
    "- Fatorização QR, Reflexões Elementares\n",
    "- Ortogonalização de uma matriz usando Gram-Schmidt\n",
    "- ElGamal em Curvas Elípticas\n",
    "- Teoria de Números, Resíduos Quadráticos"
   ]
  },
  {
   "cell_type": "markdown",
   "id": "0b0af376-7d29-4e08-9bce-8c5a163b2ebc",
   "metadata": {},
   "source": [
    "### Conteúdos já estudados"
   ]
  },
  {
   "cell_type": "markdown",
   "id": "fec0c6f8-f62b-4760-af0d-61f2f6d36a15",
   "metadata": {},
   "source": [
    "- Fatorização de Lenstra\n",
    "- Fatorização QR, Rotações de Givens\n",
    "- Massey-Omura\n",
    "- Menezes-Vanstone"
   ]
  },
  {
   "cell_type": "markdown",
   "id": "6c5e173e-4bc9-41a6-8ad0-1ca17f504b94",
   "metadata": {},
   "source": [
    "### Tasks em falta\n",
    "- Teste 22-23\n",
    "- Exame 22-23"
   ]
  },
  {
   "cell_type": "code",
   "execution_count": null,
   "id": "74adfcac-8de7-4b22-b9c3-7af5dd016379",
   "metadata": {},
   "outputs": [],
   "source": []
  }
 ],
 "metadata": {
  "kernelspec": {
   "display_name": "Python 3 (ipykernel)",
   "language": "python",
   "name": "python3"
  },
  "language_info": {
   "codemirror_mode": {
    "name": "ipython",
    "version": 3
   },
   "file_extension": ".py",
   "mimetype": "text/x-python",
   "name": "python",
   "nbconvert_exporter": "python",
   "pygments_lexer": "ipython3",
   "version": "3.11.5"
  }
 },
 "nbformat": 4,
 "nbformat_minor": 5
}
