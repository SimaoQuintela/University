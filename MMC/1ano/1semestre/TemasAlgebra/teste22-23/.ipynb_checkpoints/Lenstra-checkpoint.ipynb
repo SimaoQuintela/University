{
 "cells": [
  {
   "cell_type": "markdown",
   "id": "e272cbe2-9453-47d0-8e9b-06024141b5a0",
   "metadata": {},
   "source": [
    "### Ainda não está bem isto "
   ]
  },
  {
   "cell_type": "code",
   "execution_count": 55,
   "id": "4ebdf99f-d16f-49c0-88ca-b92b7050e980",
   "metadata": {},
   "outputs": [
    {
     "data": {
      "text/plain": [
       "Elliptic Curve defined by y^2 = x^3 + 618*x + 19471 over Ring of integers modulo 63109"
      ]
     },
     "execution_count": 55,
     "metadata": {},
     "output_type": "execute_result"
    }
   ],
   "source": [
    "from sage.all import *\n",
    "n = 63109\n",
    "E = EllipticCurve(IntegerModRing(n), [618, 19471])\n",
    "E"
   ]
  },
  {
   "cell_type": "code",
   "execution_count": 62,
   "id": "46d3f298-68dc-4e21-bc8f-5927179c85f0",
   "metadata": {},
   "outputs": [
    {
     "data": {
      "text/plain": [
       "(60863 : 27581 : 1)"
      ]
     },
     "execution_count": 62,
     "metadata": {},
     "output_type": "execute_result"
    }
   ],
   "source": [
    "# Testar com um ponto aleatório depois\n",
    "P = E([60863, 27581])\n",
    "P"
   ]
  },
  {
   "cell_type": "code",
   "execution_count": 42,
   "id": "51cc2f4d-e6db-4ded-a505-ac87f5ba9a5e",
   "metadata": {},
   "outputs": [
    {
     "name": "stdout",
     "output_type": "stream",
     "text": [
      "Fator encontrado usando Lenstra: None\n"
     ]
    }
   ],
   "source": [
    "def lenstra(n, E, P):\n",
    "    \"\"\"\n",
    "    n - number to factorize\n",
    "    E - Elliptic Curve used to factorize\n",
    "    P - Random Point of the Elliptic Curve\n",
    "    \"\"\"\n",
    "    # Loop until a factor is found\n",
    "    while True:\n",
    "        # Generate a random scalar (integer) for scalar multiplication\n",
    "        scalar = randint(1, n - 1)\n",
    "        \n",
    "        # Check if the scalar has a multiplicative inverse modulo n\n",
    "        if gcd(scalar, n) == 1:\n",
    "            try:\n",
    "                # Attempt scalar multiplication\n",
    "                Q = scalar * P\n",
    "                # Calculate the greatest common divisor of the y-coordinate and n\n",
    "                g = gcd(Q[1], n)\n",
    "                \n",
    "                # If a non-trivial factor is found, return it\n",
    "                if g > 1:\n",
    "                    return g\n",
    "            except ArithmeticError:\n",
    "                # Handle arithmetic errors (e.g., division by zero)\n",
    "                pass\n",
    "\n",
    "\n",
    "factor = Lenstra(n, E, P)\n",
    "print(\"Fator encontrado usando Lenstra:\", factor)"
   ]
  },
  {
   "cell_type": "code",
   "execution_count": null,
   "id": "cb0bf3e2-96ee-4c44-a8c4-bb79ec98faa7",
   "metadata": {},
   "outputs": [],
   "source": []
  },
  {
   "cell_type": "code",
   "execution_count": null,
   "id": "0a321636-2ea0-4b11-9c56-b716f0a5e146",
   "metadata": {},
   "outputs": [],
   "source": []
  }
 ],
 "metadata": {
  "kernelspec": {
   "display_name": "SageMath 10.1",
   "language": "sage",
   "name": "sagemath"
  },
  "language_info": {
   "codemirror_mode": {
    "name": "ipython",
    "version": 3
   },
   "file_extension": ".py",
   "mimetype": "text/x-python",
   "name": "python",
   "nbconvert_exporter": "python",
   "pygments_lexer": "ipython3",
   "version": "3.11.5"
  }
 },
 "nbformat": 4,
 "nbformat_minor": 5
}
