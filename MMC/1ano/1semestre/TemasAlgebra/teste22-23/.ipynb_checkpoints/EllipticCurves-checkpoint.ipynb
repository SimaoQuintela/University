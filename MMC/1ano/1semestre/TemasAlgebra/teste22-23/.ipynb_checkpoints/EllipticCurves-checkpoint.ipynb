{
 "cells": [
  {
   "cell_type": "markdown",
   "id": "2fbead89-56f4-413c-9d73-18ef33e43b7b",
   "metadata": {},
   "source": [
    "# Notas teóricas e práticas"
   ]
  },
  {
   "cell_type": "markdown",
   "id": "c38e6533-e3c6-4a70-99c1-18041575e675",
   "metadata": {},
   "source": [
    "## Menezes-Vanstone - Criptografia de chave pública \n",
    "Dada uma curva elíptica E em $Z_p$.\n",
    "\n",
    "Seja $P \\in E$, um ponto da curva elíptica.\n",
    "\n",
    "##### PubKey: (E, P, Q), Q = aP\n",
    "##### PrivKey: a"
   ]
  },
  {
   "cell_type": "markdown",
   "id": "a1c10bdb-7b47-4a3c-84a0-6a113f0f5b09",
   "metadata": {},
   "source": [
    "## Cifração\n",
    "Alice cifra $ mens = (m1, m2) \\in Z_p^* \\times Z_p^*$. \n",
    "\n",
    "Seja k qualquer, t.q, $$kQ = (y1, y2) $$\n",
    "\n",
    "Temos:\n",
    "$$ c0 = kP$$ \n",
    "$$ c_j = y_j m_j \\mod P$$ \n",
    "\n",
    "#### Criptograma = (c0,c1,c2)"
   ]
  },
  {
   "cell_type": "markdown",
   "id": "bb982529-d33f-41b2-8665-6a88a046cb6e",
   "metadata": {},
   "source": [
    "## Decifração"
   ]
  },
  {
   "cell_type": "markdown",
   "id": "d2028b64-85c1-4ebb-a8d6-3d18f721b5e8",
   "metadata": {},
   "source": [
    "Bob recebe $c = (c0,c1,c2)$\n",
    "$$ aC_0 = (y1,y2)$$\n",
    "\n",
    "$$ m_i = c_i (y_i^{-1}) \\mod P  \\dots  i=1,2$$\n",
    "\n",
    "#### Mensagem = (m1,m2)"
   ]
  },
  {
   "cell_type": "markdown",
   "id": "5586f49a-eedb-4626-917f-29c57cf94264",
   "metadata": {},
   "source": [
    "# Exercício"
   ]
  },
  {
   "cell_type": "markdown",
   "id": "ffaeba97-997a-43b8-882b-33d5036b2181",
   "metadata": {},
   "source": [
    "Considere a curva elíptica $E : y2 = x3 + 1164x + 4366$ sobre $Z_{6151}$. Para P = (497 : 4447 :1) $\\in$ E,"
   ]
  },
  {
   "cell_type": "markdown",
   "id": "4abf96f6-6659-4ef9-8679-5a3c0b644645",
   "metadata": {},
   "source": [
    "(a) mostre que E =〈P〉(ou seja, que E é grupo cíclico e que P é gerador de E);"
   ]
  },
  {
   "cell_type": "code",
   "execution_count": 14,
   "id": "b54d581d-4fd9-4b0a-ae1f-98c7b004e146",
   "metadata": {
    "scrolled": true
   },
   "outputs": [
    {
     "data": {
      "text/plain": [
       "6151"
      ]
     },
     "execution_count": 14,
     "metadata": {},
     "output_type": "execute_result"
    }
   ],
   "source": [
    "E = EllipticCurve(IntegerModRing(6151), [1164, 4366])\n",
    "P = E.point([497, 4447, 1])\n",
    "\n",
    "curve_points = set()\n",
    "curve_points\n",
    "\n",
    "for i in range(0, 6151):\n",
    "    curve_points.add(i*P)\n",
    "\n",
    "len(curve_points) # No final obtemos todos os elementos do grupo, logo P é gerador de E"
   ]
  },
  {
   "cell_type": "markdown",
   "id": "847f9475-ec16-4b81-b80d-e6086ffe9795",
   "metadata": {},
   "source": [
    "(b) para (k, a) = (4917, 1933), use o sistema Menezes-Vanstone para cifrar mens=(213, 981);"
   ]
  },
  {
   "cell_type": "code",
   "execution_count": 35,
   "id": "a3582327-f50a-4951-9c0c-6cdff39ce810",
   "metadata": {},
   "outputs": [
    {
     "data": {
      "text/plain": [
       "((5287 : 1805 : 1), 3105, 5257)"
      ]
     },
     "execution_count": 35,
     "metadata": {},
     "output_type": "execute_result"
    }
   ],
   "source": [
    "(k, a) = (4917, 1933)\n",
    "mens=(213, 981)\n",
    "\n",
    "Q = a*P\n",
    "Y = k*Q\n",
    "\n",
    "c0 = k*P\n",
    "c1 = Y[0]*mens[0]\n",
    "c2 = Y[1]*mens[1]\n",
    "\n",
    "cript = (c0,c1,c2)\n",
    "cript"
   ]
  },
  {
   "cell_type": "markdown",
   "id": "5f6fb3e3-c7ed-41f0-936b-d3aec149ab48",
   "metadata": {},
   "source": [
    "(c) conhecendo a chave privada, decifre o que obteve na alínea anterior."
   ]
  },
  {
   "cell_type": "code",
   "execution_count": 41,
   "id": "7f8918e8-b83b-45d2-ad14-b0cf3c57ebed",
   "metadata": {},
   "outputs": [
    {
     "data": {
      "text/plain": [
       "(213, 981)"
      ]
     },
     "execution_count": 41,
     "metadata": {},
     "output_type": "execute_result"
    }
   ],
   "source": [
    "Y = a*cript[0]\n",
    "m1 = cript[1]*(power(Y[0],-1))\n",
    "m2 = cript[2]*(power(Y[1],-1))\n",
    "\n",
    "mens = (m1, m2)\n",
    "mens"
   ]
  },
  {
   "cell_type": "code",
   "execution_count": null,
   "id": "e71ba994-0452-49b0-851b-acd9929a9229",
   "metadata": {},
   "outputs": [],
   "source": []
  }
 ],
 "metadata": {
  "kernelspec": {
   "display_name": "SageMath 10.1",
   "language": "sage",
   "name": "sagemath"
  },
  "language_info": {
   "codemirror_mode": {
    "name": "ipython",
    "version": 3
   },
   "file_extension": ".py",
   "mimetype": "text/x-python",
   "name": "python",
   "nbconvert_exporter": "python",
   "pygments_lexer": "ipython3",
   "version": "3.11.5"
  }
 },
 "nbformat": 4,
 "nbformat_minor": 5
}
