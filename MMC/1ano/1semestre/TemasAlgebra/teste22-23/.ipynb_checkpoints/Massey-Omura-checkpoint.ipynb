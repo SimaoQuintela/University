{
 "cells": [
  {
   "cell_type": "markdown",
   "id": "44bc47cb-c3b9-4241-affe-3f970cebc58a",
   "metadata": {},
   "source": [
    "### Massey-Omura key exchange\n",
    "Alice e Bob acordaram na curva elíptica E definida por $y2 = x3 +47356x+58368$ sobre $Z_{92627}$\n",
    "e em P = (4274 : 62891 : 1) $\\in$ E. \n",
    "\n",
    "Irão usar o protocolo de Massey-Omura. Explique como pode Alice enviar a mensagem (63813 : 3598 : 1) a Bob. \n",
    "\n",
    "Determine o texto cifrado e descreva todos os passos que seguiu."
   ]
  },
  {
   "cell_type": "code",
   "execution_count": 14,
   "id": "34785ced-43ba-4f97-a80d-24d8d0f16adc",
   "metadata": {},
   "outputs": [
    {
     "data": {
      "text/plain": [
       "(4274 : 62891 : 1)"
      ]
     },
     "execution_count": 14,
     "metadata": {},
     "output_type": "execute_result"
    }
   ],
   "source": [
    "E = EllipticCurve(IntegerModRing(92627), [47356, 58368])\n",
    "P = E.point([4274, 62891])\n",
    "P"
   ]
  },
  {
   "cell_type": "code",
   "execution_count": 15,
   "id": "49a104cf-e3c8-4bde-b266-ead28b507dd9",
   "metadata": {},
   "outputs": [],
   "source": [
    "# Geração de chaves públicas e privadas\n",
    "alice_priv_key = 1234\n",
    "bob_priv_key = 4321\n",
    "\n",
    "alice_pub_key = alice_priv_key * P\n",
    "bob_pub_key = bob_priv_key * P\n",
    "\n",
    "mens = E([63813, 3598, 1])"
   ]
  },
  {
   "cell_type": "code",
   "execution_count": 16,
   "id": "5e67b25a-6f38-4d6c-914a-6b57cd8b6f06",
   "metadata": {},
   "outputs": [],
   "source": [
    "# Geração de chaves de troca\n",
    "alice_exchange_key = alice_priv_key * bob_pub_key\n",
    "bob_exchange_key = bob_priv_key * alice_pub_key"
   ]
  },
  {
   "cell_type": "code",
   "execution_count": 17,
   "id": "25b2eb38-047a-432e-a456-9b8aed4279b0",
   "metadata": {},
   "outputs": [],
   "source": [
    "# Alice cifra a mensagem\n",
    "encrypted_mess = mens + alice_exchange_key "
   ]
  },
  {
   "cell_type": "code",
   "execution_count": 20,
   "id": "01844700-02ce-404e-b35d-95f891f83165",
   "metadata": {},
   "outputs": [],
   "source": [
    "# Bob decifra a mensagem\n",
    "decrypted_mess = encrypted_mess - bob_exchange_key"
   ]
  },
  {
   "cell_type": "code",
   "execution_count": 21,
   "id": "24b69ab1-7e03-451e-a2f4-136560b6d24e",
   "metadata": {},
   "outputs": [
    {
     "data": {
      "text/plain": [
       "(63813 : 3598 : 1)"
      ]
     },
     "execution_count": 21,
     "metadata": {},
     "output_type": "execute_result"
    }
   ],
   "source": [
    "decrypted_mess"
   ]
  }
 ],
 "metadata": {
  "kernelspec": {
   "display_name": "SageMath 10.1",
   "language": "sage",
   "name": "sagemath"
  },
  "language_info": {
   "codemirror_mode": {
    "name": "ipython",
    "version": 3
   },
   "file_extension": ".py",
   "mimetype": "text/x-python",
   "name": "python",
   "nbconvert_exporter": "python",
   "pygments_lexer": "ipython3",
   "version": "3.11.5"
  }
 },
 "nbformat": 4,
 "nbformat_minor": 5
}
