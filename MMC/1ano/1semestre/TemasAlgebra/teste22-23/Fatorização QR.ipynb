{
 "cells": [
  {
   "cell_type": "markdown",
   "id": "f573d52f-f45d-4e58-aa4d-63eefdf7559a",
   "metadata": {},
   "source": [
    "## Fatorização QR usando reflexões elementares"
   ]
  },
  {
   "cell_type": "code",
   "execution_count": 47,
   "id": "86d5ddb8-b966-4ef9-a2ce-ad84e76fe7ae",
   "metadata": {},
   "outputs": [
    {
     "data": {
      "text/plain": [
       "[ 0.814700000000000 0.0875000000000000  0.157600000000000]\n",
       "[ 0.905800000000000  0.278500000000000  0.970600000000000]\n",
       "[ 0.127000000000000  0.546900000000000  0.957200000000000]\n",
       "[ 0.913400000000000  0.957500000000000  0.485400000000000]\n",
       "[ 0.632400000000000  0.964900000000000  0.800300000000000]"
      ]
     },
     "execution_count": 47,
     "metadata": {},
     "output_type": "execute_result"
    }
   ],
   "source": [
    "A = Matrix([[0.8147, 0.0875, 0.1576], \n",
    "           [0.9058, 0.2785, 0.9706], \n",
    "           [0.1270, 0.5469, 0.9572], \n",
    "           [0.9134, 0.9575, 0.4854], \n",
    "           [0.6324, 0.9649, 0.8003]])\n",
    "A"
   ]
  },
  {
   "cell_type": "code",
   "execution_count": 48,
   "id": "b1ca87ab-29b9-4736-90ec-fdee63ed7a3f",
   "metadata": {},
   "outputs": [
    {
     "ename": "TypeError",
     "evalue": "unsupported operand parent(s) for +: 'Full MatrixSpace of 3 by 1 dense matrices over Integer Ring' and 'Vector space of dimension 3 over Real Double Field'",
     "output_type": "error",
     "traceback": [
      "\u001b[0;31m---------------------------------------------------------------------------\u001b[0m",
      "\u001b[0;31mTypeError\u001b[0m                                 Traceback (most recent call last)",
      "Cell \u001b[0;32mIn[48], line 24\u001b[0m\n\u001b[1;32m     21\u001b[0m     \u001b[38;5;28;01mreturn\u001b[39;00m Q\u001b[38;5;241m.\u001b[39mtranspose(), A\n\u001b[1;32m     23\u001b[0m \u001b[38;5;66;03m# Realizar a fatorização QR\u001b[39;00m\n\u001b[0;32m---> 24\u001b[0m Q, R \u001b[38;5;241m=\u001b[39m \u001b[43mqr_factorization\u001b[49m\u001b[43m(\u001b[49m\u001b[43mA\u001b[49m\u001b[43m)\u001b[49m\n\u001b[1;32m     26\u001b[0m \u001b[38;5;66;03m# Mostrar os resultados\u001b[39;00m\n\u001b[1;32m     27\u001b[0m \u001b[38;5;28mprint\u001b[39m(\u001b[38;5;124m\"\u001b[39m\u001b[38;5;124mMatriz Q:\u001b[39m\u001b[38;5;124m\"\u001b[39m)\n",
      "Cell \u001b[0;32mIn[48], line 16\u001b[0m, in \u001b[0;36mqr_factorization\u001b[0;34m(A)\u001b[0m\n\u001b[1;32m     14\u001b[0m \u001b[38;5;28;01mfor\u001b[39;00m j \u001b[38;5;129;01min\u001b[39;00m \u001b[38;5;28mrange\u001b[39m(n):\n\u001b[1;32m     15\u001b[0m     x \u001b[38;5;241m=\u001b[39m A[j:, j]\n\u001b[0;32m---> 16\u001b[0m     v \u001b[38;5;241m=\u001b[39m \u001b[43mx\u001b[49m\u001b[43m \u001b[49m\u001b[38;5;241;43m+\u001b[39;49m\u001b[43m \u001b[49m\u001b[43mvector\u001b[49m\u001b[43m(\u001b[49m\u001b[43m[\u001b[49m\u001b[43mx\u001b[49m\u001b[38;5;241;43m.\u001b[39;49m\u001b[43mnorm\u001b[49m\u001b[43m(\u001b[49m\u001b[43m)\u001b[49m\u001b[43m \u001b[49m\u001b[38;5;28;43;01mif\u001b[39;49;00m\u001b[43m \u001b[49m\u001b[43mi\u001b[49m\u001b[43m \u001b[49m\u001b[38;5;241;43m==\u001b[39;49m\u001b[43m \u001b[49m\u001b[43mInteger\u001b[49m\u001b[43m(\u001b[49m\u001b[38;5;241;43m0\u001b[39;49m\u001b[43m)\u001b[49m\u001b[43m \u001b[49m\u001b[38;5;28;43;01melse\u001b[39;49;00m\u001b[43m \u001b[49m\u001b[43mInteger\u001b[49m\u001b[43m(\u001b[49m\u001b[38;5;241;43m0\u001b[39;49m\u001b[43m)\u001b[49m\u001b[43m \u001b[49m\u001b[38;5;28;43;01mfor\u001b[39;49;00m\u001b[43m \u001b[49m\u001b[43mi\u001b[49m\u001b[43m \u001b[49m\u001b[38;5;129;43;01min\u001b[39;49;00m\u001b[43m \u001b[49m\u001b[38;5;28;43mrange\u001b[39;49m\u001b[43m(\u001b[49m\u001b[43mx\u001b[49m\u001b[38;5;241;43m.\u001b[39;49m\u001b[43mnrows\u001b[49m\u001b[43m(\u001b[49m\u001b[43m)\u001b[49m\u001b[43m)\u001b[49m\u001b[43m]\u001b[49m\u001b[43m)\u001b[49m\n\u001b[1;32m     17\u001b[0m     H \u001b[38;5;241m=\u001b[39m block_matrix([[identity_matrix(j), zero_matrix(j, m\u001b[38;5;241m-\u001b[39mj)], [zero_matrix(m\u001b[38;5;241m-\u001b[39mj, j), householder_reflection(v)]])\n\u001b[1;32m     18\u001b[0m     A \u001b[38;5;241m=\u001b[39m H \u001b[38;5;241m*\u001b[39m A\n",
      "File \u001b[0;32m/usr/lib/python3.11/site-packages/sage/structure/element.pyx:1226\u001b[0m, in \u001b[0;36msage.structure.element.Element.__add__ (build/cythonized/sage/structure/element.c:11105)\u001b[0;34m()\u001b[0m\n\u001b[1;32m   1224\u001b[0m # Left and right are Sage elements => use coercion model\n\u001b[1;32m   1225\u001b[0m if BOTH_ARE_ELEMENT(cl):\n\u001b[0;32m-> 1226\u001b[0m     return coercion_model.bin_op(left, right, add)\n\u001b[1;32m   1227\u001b[0m \n\u001b[1;32m   1228\u001b[0m cdef long value\n",
      "File \u001b[0;32m/usr/lib/python3.11/site-packages/sage/structure/coerce.pyx:1269\u001b[0m, in \u001b[0;36msage.structure.coerce.CoercionModel.bin_op (build/cythonized/sage/structure/coerce.c:11865)\u001b[0;34m()\u001b[0m\n\u001b[1;32m   1267\u001b[0m     # We should really include the underlying error.\n\u001b[1;32m   1268\u001b[0m     # This causes so much headache.\n\u001b[0;32m-> 1269\u001b[0m     raise bin_op_exception(op, x, y)\n\u001b[1;32m   1270\u001b[0m \n\u001b[1;32m   1271\u001b[0m cpdef canonical_coercion(self, x, y):\n",
      "\u001b[0;31mTypeError\u001b[0m: unsupported operand parent(s) for +: 'Full MatrixSpace of 3 by 1 dense matrices over Integer Ring' and 'Vector space of dimension 3 over Real Double Field'"
     ]
    }
   ],
   "source": [
    "# Definir a matriz A\n",
    "A = Matrix([[1, 2, 3], [4, 5, 6], [7, 8, 9]])\n",
    "\n",
    "# Função para calcular a reflexão de Householder\n",
    "def householder_reflection(v):\n",
    "    beta = 2 / v.norm()^2\n",
    "    return identity_matrix(v.size()) - beta * (v * v.transpose())\n",
    "\n",
    "# Função para realizar a fatorização QR usando reflexões elementares\n",
    "def qr_factorization(A):\n",
    "    m, n = A.nrows(), A.ncols()\n",
    "    Q = identity_matrix(m)\n",
    "\n",
    "    for j in range(n):\n",
    "        x = A[j:, j]\n",
    "        v = x + vector([x.norm() if i == 0 else 0 for i in range(x.nrows())])\n",
    "        H = block_matrix([[identity_matrix(j), zero_matrix(j, m-j)], [zero_matrix(m-j, j), householder_reflection(v)]])\n",
    "        A = H * A\n",
    "        Q = H * Q\n",
    "\n",
    "    return Q.transpose(), A\n",
    "\n",
    "# Realizar a fatorização QR\n",
    "Q, R = qr_factorization(A)\n",
    "\n",
    "# Mostrar os resultados\n",
    "print(\"Matriz Q:\")\n",
    "print(Q)\n",
    "print(\"\\nMatriz R:\")\n",
    "print(R)\n"
   ]
  },
  {
   "cell_type": "code",
   "execution_count": 49,
   "id": "902f8421-0146-4da2-bfbd-9b5e621a3395",
   "metadata": {},
   "outputs": [
    {
     "data": {
      "text/plain": [
       "[0, 0, 0, 0, 0]"
      ]
     },
     "execution_count": 49,
     "metadata": {},
     "output_type": "execute_result"
    }
   ],
   "source": [
    "zero_vector = [0 for i in range(5)]\n",
    "zero_vector"
   ]
  },
  {
   "cell_type": "code",
   "execution_count": null,
   "id": "b168540e-d6c4-48f4-bd61-53442ac5f7ef",
   "metadata": {},
   "outputs": [],
   "source": []
  }
 ],
 "metadata": {
  "kernelspec": {
   "display_name": "SageMath 10.1",
   "language": "sage",
   "name": "sagemath"
  },
  "language_info": {
   "codemirror_mode": {
    "name": "ipython",
    "version": 3
   },
   "file_extension": ".py",
   "mimetype": "text/x-python",
   "name": "python",
   "nbconvert_exporter": "python",
   "pygments_lexer": "ipython3",
   "version": "3.11.5"
  }
 },
 "nbformat": 4,
 "nbformat_minor": 5
}
