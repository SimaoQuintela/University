{
 "cells": [
  {
   "cell_type": "markdown",
   "id": "246142af-d686-4494-b857-7ced24f22821",
   "metadata": {},
   "source": [
    "### 1. A matriz de dispersão S obtida de uma certa base de dados (standardizada e centrada na média 0) é \n",
    "S = np.matrix( [  \n",
    "    [ 97.18075394 , 4.01869602 , 77.40991318],  \n",
    "    [ 4.01869602 ,108.87624652 , 8.93428697],  \n",
    "    [ 77.40991318 , 8.93428697 , 98.049557675]  \n",
    "]) "
   ]
  },
  {
   "cell_type": "code",
   "execution_count": 30,
   "id": "068e30fe-9081-4e0f-9667-27bb605729fe",
   "metadata": {},
   "outputs": [],
   "source": [
    "import numpy as np\n",
    "import numpy.linalg as linalg"
   ]
  },
  {
   "cell_type": "code",
   "execution_count": 31,
   "id": "3f3170d2-83c6-4482-b028-5bbed1056d57",
   "metadata": {},
   "outputs": [
    {
     "data": {
      "text/plain": [
       "matrix([[ 97.18075394,   4.01869602,  77.40991318],\n",
       "        [  4.01869602, 108.87624652,   8.93428697],\n",
       "        [ 77.40991318,   8.93428697,  98.04955768]])"
      ]
     },
     "execution_count": 31,
     "metadata": {},
     "output_type": "execute_result"
    }
   ],
   "source": [
    "S = np.matrix([\n",
    "    [97.18075394 , 4.01869602 , 77.40991318],\n",
    "    [4.01869602 ,108.87624652 , 8.93428697],\n",
    "    [77.40991318 , 8.93428697 , 98.049557675]\n",
    "])\n",
    "S"
   ]
  },
  {
   "cell_type": "markdown",
   "id": "da7c8995-259d-4f2e-916b-baecace91759",
   "metadata": {},
   "source": [
    "##### (a) Calcule as componentes principais.  "
   ]
  },
  {
   "cell_type": "code",
   "execution_count": 42,
   "id": "763c6f01-69db-4d83-be52-8c8802bdfd94",
   "metadata": {},
   "outputs": [
    {
     "name": "stdout",
     "output_type": "stream",
     "text": [
      "[0.72114294 0.2695095  0.00934756]\n"
     ]
    },
    {
     "data": {
      "text/plain": [
       "matrix([[-0.69655167,  0.12282659, -0.70691542],\n",
       "        [-0.13494668, -0.99008273, -0.03905863],\n",
       "        [-0.70470219,  0.06818953,  0.70621882]])"
      ]
     },
     "execution_count": 42,
     "metadata": {},
     "output_type": "execute_result"
    }
   ],
   "source": [
    "# sigma = valores singulares\n",
    "e_faces, sigma, principal_components_T = linalg.svd(S.transpose(), full_matrices=False)\n",
    "e_values = sigma*sigma\n",
    "trace = sum(e_values)\n",
    "\n",
    "e_values = e_values/trace\n",
    "print(e_values)\n",
    "\n",
    "principal_components_T.transpose()"
   ]
  },
  {
   "cell_type": "markdown",
   "id": "f1646c42-7f3e-4758-97cd-0681bfe31dc6",
   "metadata": {},
   "source": [
    "##### (b) Indique as componentes principais que preservam cerca de 90% da informação. Calcule a projeção do array([0.09710545, 2.18567601, 0.0364491]) sobre o espaço gerado por estas componentes principais."
   ]
  },
  {
   "cell_type": "code",
   "execution_count": 33,
   "id": "465fb6c3-3714-4baf-8299-0e2fb1807ce1",
   "metadata": {},
   "outputs": [
    {
     "name": "stdout",
     "output_type": "stream",
     "text": [
      "Componentes principais que preservam 90%:\n",
      " [[-0.69655167 -0.13494668 -0.70470219]\n",
      " [ 0.12282659 -0.99008273  0.06818953]] \n",
      "\n",
      "Projeção dos dados: [[-0.38827444 -2.1495875 ]]\n"
     ]
    }
   ],
   "source": [
    "# resposta à 1ª parte da 1. b)\n",
    "principal_components_90 = principal_components_T[0:2]\n",
    "print(\"Componentes principais que preservam 90%:\\n\", principal_components_90, \"\\n\")\n",
    "\n",
    "# resposta à 2ª parte da 1. b)\n",
    "input_vector = np.matrix([0.09710545, 2.18567601, 0.0364491])\n",
    "projection = np.dot(input_vector, principal_components_90.T)\n",
    "print(\"Projeção dos dados:\", projection)"
   ]
  },
  {
   "cell_type": "markdown",
   "id": "348d19aa-0ece-43ae-9658-7961cc61759e",
   "metadata": {},
   "source": [
    "### Resposta do ChatGPT"
   ]
  },
  {
   "cell_type": "code",
   "execution_count": 34,
   "id": "58f3c416-5415-4078-a868-55daa3fc2b6f",
   "metadata": {},
   "outputs": [
    {
     "name": "stdout",
     "output_type": "stream",
     "text": [
      "Número de componentes para preservar 90% da informação: 2\n",
      "\n",
      "Componentes Principais (para 90% de preservação):\n",
      "[[-0.69655167 -0.13494668 -0.70470219]\n",
      " [ 0.12282659 -0.99008273  0.06818953]]\n",
      "\n",
      "Projeção do vetor de entrada:\n",
      "[-0.38827444 -2.1495875 ]\n"
     ]
    }
   ],
   "source": [
    "import numpy as np\n",
    "\n",
    "# Dada matriz\n",
    "S = np.array([\n",
    "    [97.18075394, 4.01869602, 77.40991318],\n",
    "    [4.01869602, 108.87624652, 8.93428697],\n",
    "    [77.40991318, 8.93428697, 98.049557675]\n",
    "])\n",
    "\n",
    "# Realize a Decomposição SVD\n",
    "U, Sigma, Vt = np.linalg.svd(S)\n",
    "# Calcule a proporção cumulativa dos quadrados dos valores singulares\n",
    "cumulative_ratio = np.cumsum(Sigma**2) / np.sum(Sigma**2)\n",
    "\n",
    "# Encontre o número de componentes necessárias para preservar cerca de 90% da informação\n",
    "num_components = np.argmax(cumulative_ratio >= 0.9) + 1\n",
    "\n",
    "# Mantenha apenas as primeiras 'num_components' componentes principais\n",
    "principal_components_90_percent = Vt[:num_components, :]\n",
    "\n",
    "# Projeção do vetor [0.09710545, 2.18567601, 0.0364491] no espaço gerado pelas componentes principais\n",
    "input_vector = np.array([0.09710545, 2.18567601, 0.0364491])\n",
    "projection = np.dot(input_vector, principal_components_90_percent.T)\n",
    "\n",
    "# Imprima os resultados\n",
    "print(\"Número de componentes para preservar 90% da informação:\", num_components)\n",
    "print(\"\\nComponentes Principais (para 90% de preservação):\")\n",
    "print(principal_components_90_percent)\n",
    "print(\"\\nProjeção do vetor de entrada:\")\n",
    "print(projection)"
   ]
  },
  {
   "cell_type": "code",
   "execution_count": null,
   "id": "2c4e7827-1f08-40d9-9115-5bb9f5c511ef",
   "metadata": {},
   "outputs": [],
   "source": []
  }
 ],
 "metadata": {
  "kernelspec": {
   "display_name": "SageMath 10.1",
   "language": "sage",
   "name": "sagemath"
  },
  "language_info": {
   "codemirror_mode": {
    "name": "ipython",
    "version": 3
   },
   "file_extension": ".py",
   "mimetype": "text/x-python",
   "name": "python",
   "nbconvert_exporter": "python",
   "pygments_lexer": "ipython3",
   "version": "3.11.5"
  }
 },
 "nbformat": 4,
 "nbformat_minor": 5
}
