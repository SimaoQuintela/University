{
 "cells": [
  {
   "cell_type": "markdown",
   "id": "11085f12",
   "metadata": {},
   "source": [
    "# TP2\n",
    "1. Um  programa imperativo pode ser descrito por um modelo do tipo Control Flow Automaton (CFA) como ilustrado no exemplo seguinte"
   ]
  },
  {
   "cell_type": "markdown",
   "id": "79cc6059",
   "metadata": {},
   "source": [
    "<img src=\"automato.png\" alt=\"autómato\" style=\"width: 600px;\"/>"
   ]
  },
  {
   "cell_type": "markdown",
   "id": "0c486691",
   "metadata": {},
   "source": [
    "Este programa implementa a multiplicação de dois inteiros a,b fornecidos como “input”, e com precisão limitada a $\\,n\\,$ bits (fornecido como parâmetro do programa). \n",
    "\n",
    "Note-se que:\n",
    "\n",
    "    - Existe a possibilidade de alguma das operações do programa produzir um erro de “overflow”. \n",
    "    - Os nós do grafo representam ações  que actuam sobre os “inputs” do nó e produzem um output com as operações indicadas\n",
    "    - Os ramos do grafo representam ligações que transferem o “output” de um nodo para o “input” do nodo seguinte. Esta transferência é condicionada pela satisfação da condição associada ao ramo\n",
    "\n",
    "\n",
    "a. Construa um FOTS usando BitVector de tamanho $n$ que descreva o comportamento deste autómato. Para isso identifique as variáveis do modelo, o estado inicial e a relação de transição.\n",
    "\n",
    "    \n",
    "b. Verifique se $$\\;\\;\\mathsf{P}\\,\\equiv\\,(x*y + z = a*b)\\;\\;$$é um invariante deste comportamento."
   ]
  },
  {
   "cell_type": "code",
   "execution_count": 10,
   "id": "c357161b",
   "metadata": {},
   "outputs": [],
   "source": [
    "from pysmt.shortcuts import And\n",
    "from z3 import *"
   ]
  },
  {
   "cell_type": "code",
   "execution_count": 11,
   "id": "56e7b467",
   "metadata": {
    "scrolled": true
   },
   "outputs": [],
   "source": [
    "# FOTS = (SMT, vetor_vars, init, trans)\n",
    "# SMT - LIA\n",
    "# vetor_vars = [\"a\", \"b\", z]\n",
    "\n",
    "def declare(i, n):\n",
    "    state = {}\n",
    "    state['pc'] = Int('pc'+str(i))\n",
    "    state['x'] = BitVec('x'+str(i), n)\n",
    "    state['y'] = BitVec('y'+str(i), n)\n",
    "    state['z'] = BitVec('z'+str(i), n)\n",
    "    \n",
    "    return state\n"
   ]
  },
  {
   "cell_type": "code",
   "execution_count": 12,
   "id": "b9597a18",
   "metadata": {},
   "outputs": [],
   "source": [
    "def init(state, a, b):\n",
    "    return And(Equals(state['pc'], Int(0)), Equals(state['x'], a), Equals(state['y'], b), Equals(['z'], Int(0)))"
   ]
  },
  {
   "cell_type": "code",
   "execution_count": 13,
   "id": "1d7b4225",
   "metadata": {},
   "outputs": [],
   "source": [
    "def trans(curr, prox):\n",
    "    t0 = And(\n",
    "            Equals(curr['pc'], Int(0)),\n",
    "            Equals(prox['pc'], Int(1)),\n",
    "            Equals(curr['X'], prox['x']),\n",
    "            Equals(curr['y'], prox['y']),\n",
    "            Equals(curr['z'], prox['z']),\n",
    "    )\n",
    "    \n",
    "    # y = 0\n",
    "    t1 = And(\n",
    "        Equals(sum(y), Int(0)),\n",
    "        Equals(curr['pc'], Int(1)),\n",
    "        Equals(prox['pc'], Int(5)),\n",
    "        Equals(curr['x'], prox['x']),\n",
    "        Equals(curr['y'], prox['y']),\n",
    "        Equals(curr['z'], prox['z'])\n",
    "    )\n",
    "    \n",
    "    # y != 0 ^ odd(y)\n",
    "    t2 = And(\n",
    "        Equals(sum(y), Int(0)),\n",
    "        Equals(curr['y'][-1], Int(1)),\n",
    "        Equals(curr['pc'], Int(1)),\n",
    "        Equals(prox['pc'], Int(2)),\n",
    "        Equals(curr['x'], prox['x']),\n",
    "        Equals(prox['y'], curr['y'] -1),\n",
    "        Equals(prox['z'], curr['z']+curr['x'])\n",
    "    )\n",
    "    \n",
    "    # y != 0 ^ even(y)\n",
    "    t3 = And(\n",
    "        Equals(sum(y), Int(0)),\n",
    "        Equals(curr['y'][-1], Int(0)),\n",
    "        Equals(curr['pc'], Int(1)),\n",
    "        Equals(prox['pc'], Int(3)),\n",
    "        Equals(prox['x'], curr['x']*2),\n",
    "        Equals(prox['y'], curr['y']/2),\n",
    "        Equals(prox['z'], curr['z'])\n",
    "    )\n",
    "    \n",
    "    # Q3 -> Q1\n",
    "    t4 = And(\n",
    "        Equals(curr['pc'], Int(3)),\n",
    "        Equals(prox['pc'], Int(1)),\n",
    "        Equals(prox['x'], curr['x']),\n",
    "        Equals(prox['y'], curr['y']),\n",
    "        Equals(prox['z'], curr['z'])\n",
    "    )\n",
    "        \n",
    "    #Q2 -> Q1\n",
    "    t5 = And(\n",
    "        Equals(curr['pc'], Int(2)),\n",
    "        Equals(prox['pc'], Int(1)),\n",
    "        Equals(prox['x'], curr['x']),\n",
    "        Equals(prox['y'], curr['y']),\n",
    "        Equals(prox['z'], curr['z'])\n",
    "    )\n",
    "     \n",
    "    # tbd\n",
    "    #t6 = "
   ]
  },
  {
   "cell_type": "code",
   "execution_count": 16,
   "id": "ea39dda2",
   "metadata": {},
   "outputs": [
    {
     "ename": "AttributeError",
     "evalue": "'Solver' object has no attribute 'add_assertion'",
     "output_type": "error",
     "traceback": [
      "\u001b[1;31m---------------------------------------------------------------------------\u001b[0m",
      "\u001b[1;31mAttributeError\u001b[0m                            Traceback (most recent call last)",
      "Input \u001b[1;32mIn [16]\u001b[0m, in \u001b[0;36m<cell line: 22>\u001b[1;34m()\u001b[0m\n\u001b[0;32m     18\u001b[0m                 \u001b[38;5;28mprint\u001b[39m(v, \u001b[38;5;124m\"\u001b[39m\u001b[38;5;124m=\u001b[39m\u001b[38;5;124m\"\u001b[39m, s\u001b[38;5;241m.\u001b[39mget_value(trace[i][v]))\n\u001b[0;32m     19\u001b[0m             \u001b[38;5;28mprint\u001b[39m(\u001b[38;5;124m\"\u001b[39m\u001b[38;5;124m----------------\u001b[39m\u001b[38;5;124m\"\u001b[39m)\n\u001b[1;32m---> 22\u001b[0m \u001b[43mgera_traco\u001b[49m\u001b[43m(\u001b[49m\u001b[43mdeclare\u001b[49m\u001b[43m,\u001b[49m\u001b[43minit\u001b[49m\u001b[43m,\u001b[49m\u001b[43mtrans\u001b[49m\u001b[43m,\u001b[49m\u001b[38;5;241;43m20\u001b[39;49m\u001b[43m)\u001b[49m\n",
      "Input \u001b[1;32mIn [16]\u001b[0m, in \u001b[0;36mgera_traco\u001b[1;34m(declare, init, trans, k)\u001b[0m\n\u001b[0;32m      5\u001b[0m trace \u001b[38;5;241m=\u001b[39m [declare(i, \u001b[38;5;241m8\u001b[39m) \u001b[38;5;28;01mfor\u001b[39;00m i \u001b[38;5;129;01min\u001b[39;00m \u001b[38;5;28mrange\u001b[39m(k)]\n\u001b[0;32m      7\u001b[0m \u001b[38;5;66;03m# adicionar o estado inicial\u001b[39;00m\n\u001b[1;32m----> 8\u001b[0m \u001b[43ms\u001b[49m\u001b[38;5;241;43m.\u001b[39;49m\u001b[43madd_assertion\u001b[49m(init(trace[\u001b[38;5;241m0\u001b[39m]))\n\u001b[0;32m     10\u001b[0m \u001b[38;5;28;01mfor\u001b[39;00m i \u001b[38;5;129;01min\u001b[39;00m \u001b[38;5;28mrange\u001b[39m(k \u001b[38;5;241m-\u001b[39m \u001b[38;5;241m1\u001b[39m):\n\u001b[0;32m     11\u001b[0m     s\u001b[38;5;241m.\u001b[39madd_assertion(trans(trace[i], trace[i\u001b[38;5;241m+\u001b[39m\u001b[38;5;241m1\u001b[39m]))\n",
      "\u001b[1;31mAttributeError\u001b[0m: 'Solver' object has no attribute 'add_assertion'"
     ]
    }
   ],
   "source": [
    "def gera_traco(declare,init,trans,k):\n",
    "\n",
    "    s = Solver()\n",
    "    \n",
    "    trace = [declare(i, 8) for i in range(k)]\n",
    "\n",
    "    # adicionar o estado inicial\n",
    "    s.add_assertion(init(trace[0]))\n",
    "        \n",
    "    for i in range(k - 1):\n",
    "        s.add_assertion(trans(trace[i], trace[i+1]))\n",
    "            \n",
    "    if s.solve():\n",
    "            \n",
    "        for i in range(k):\n",
    "            print(\"Passo \", i)\n",
    "            for v in trace[i]:\n",
    "                print(v, \"=\", s.get_value(trace[i][v]))\n",
    "            print(\"----------------\")\n",
    "\n",
    "                \n",
    "gera_traco(declare,init,trans,20)"
   ]
  },
  {
   "cell_type": "code",
   "execution_count": null,
   "id": "021fa40e",
   "metadata": {},
   "outputs": [],
   "source": []
  },
  {
   "cell_type": "code",
   "execution_count": null,
   "id": "cf2e508b",
   "metadata": {},
   "outputs": [],
   "source": []
  }
 ],
 "metadata": {
  "kernelspec": {
   "display_name": "Python 3 (ipykernel)",
   "language": "python",
   "name": "python3"
  },
  "language_info": {
   "codemirror_mode": {
    "name": "ipython",
    "version": 3
   },
   "file_extension": ".py",
   "mimetype": "text/x-python",
   "name": "python",
   "nbconvert_exporter": "python",
   "pygments_lexer": "ipython3",
   "version": "3.10.4"
  }
 },
 "nbformat": 4,
 "nbformat_minor": 5
}
