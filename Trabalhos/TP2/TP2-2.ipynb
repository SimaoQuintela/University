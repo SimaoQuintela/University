{
 "cells": [
  {
   "cell_type": "markdown",
   "id": "93f7c1bb",
   "metadata": {},
   "source": [
    "\n",
    "2. O Conway’s Game of Life é um exemplo bastante conhecido de um autómato celular . Neste problema vamos modificar as regras do autómato da seguinte forma\n",
    "\n",
    "    1. O espaço de estados é finito definido por uma grelha de células booleanas (morta=0/viva=1) de dimensão $\\,N\\times N\\,$ (com $N>3$) identificadas por índices $\\,(i,j)\\in \\{1..N\\}$.  Estas $\\;N^2\\;$ células são aqui referidas como “normais”. \n",
    "        No estado inicial todas as células normais estão mortas excepto  um quadrado $\\,3\\times 3\\,$, designado por “centro”, aleatoriamente posicionado formado apenas por células vivas.\n",
    "    2. Adicionalmente existem $\\,2\\,N+1\\,$ “células da borda” que correspondem a um dos índices, $i$ ou $j$, ser zero. As células da borda têm valores constantes que, no estado inicial, são gerados aleatoriamente com uma probabilidade $\\,\\rho\\,$ de estarem vivas.\n",
    "    3. As células normais o autómato modificam o estado de acordo com a regra “B3/S23”: i.e. a célula nasce (passa de $0$ a $1$) se tem exatamente 3 vizinhos vivos e sobrevive (mantém-se viva) se o número de vizinhos vivos é 2 ou 3, caso contrário morre ou continua morta."
   ]
  },
  {
   "cell_type": "markdown",
   "id": "2362abe2",
   "metadata": {},
   "source": [
    "A célula $\\;(i_0,j_0)\\;$e $\\,(i_1,j_1)\\,$ são vizinhas sse $\\;(i_0-i_1=\\pm 1) \\,\\lor\\, (j_0-j_1 = \\pm 1)$"
   ]
  },
  {
   "cell_type": "markdown",
   "id": "e7e7bbbe",
   "metadata": {},
   "source": [
    "Pretende-se:\n",
    "\n",
    "Construir uma máquina de estados finita que represente este autómato; são parâmetros do problema os parâmetros $\\,N,\\rho\\,$ e a posição do  “centro”.\n",
    "\n",
    "Verificar se se conseguem provar as seguintes propriedades:\n",
    "   1. Todos os estados acessíveis contém pelo menos uma célula viva.\n",
    "   2. Toda a célula normal está viva pelo menos uma vez em algum estado acessível.\n"
   ]
  },
  {
   "cell_type": "code",
   "execution_count": 2,
   "id": "74af65db",
   "metadata": {},
   "outputs": [],
   "source": [
    "from pysmt.shortcuts import *\n",
    "from z3 import *"
   ]
  },
  {
   "cell_type": "code",
   "execution_count": 3,
   "id": "be017cbe",
   "metadata": {},
   "outputs": [],
   "source": [
    "def declare(t, N):\n",
    "    state = {}\n",
    "    state['pc'] = Int('pc'+str(t))\n",
    "    \n",
    "    state['pos'] = {}\n",
    "    for i in range(N):\n",
    "        for j in range(N):\n",
    "            state['pos'][f'({i},{j})'] = Bool(f'pos({i},{j})'+str(t))\n",
    "\n",
    "\n",
    "    return state"
   ]
  },
  {
   "cell_type": "code",
   "execution_count": 10,
   "id": "42b2589d",
   "metadata": {},
   "outputs": [],
   "source": [
    "'''\n",
    "from pyprobs import Probability as pr\n",
    "probabilidade de sair True = 25%\n",
    "pr.prob(\"25%\", num=5)\n",
    "[False, False, True, False, False]\n",
    "'''\n",
    "from pyprobs import Probability as pr\n",
    "from random import randint\n",
    "\n",
    "def init(state, prob, N):\n",
    "    init_state = []\n",
    "\n",
    "    border_x = [ state['pos'][f'({i},{j})'] == pr.prob(prob, num=1) for i in range(0,1) for j in range(0, N) ]\n",
    "    border_y = [ state['pos'][f'({i},{j})'] == pr.prob(prob, num=1) for i in range(0,N) for j in range(0, 1) ]\n",
    "    \n",
    "    border = border_x + border_y\n",
    "    \n",
    "    \n",
    "    center_square = (randint(1, N-2), randint(1, N-2))\n",
    "    \n",
    "    not_border = []\n",
    "    # colocar tudo o que não é borda a falso\n",
    "    for i in range(1, N):\n",
    "        for j in range(1, N):\n",
    "            not_border.append(state['pos'][f'({i},{j})'] == False)\n",
    "\n",
    "    # colocar o quadrado a True\n",
    "    for i in range(center_square[0]-1, center_square[0]+1):\n",
    "        for j in range(center_square[1]-1, center_square[1]+1):\n",
    "            not_border.append(state['pos'][f'({i},{j})'] == True)\n",
    "            \n",
    "    print(border)\n",
    "    print(not_border)\n",
    "    print(center_square)\n",
    "    \n",
    "    return And(\n",
    "        state['pc'] == 0,\n",
    "        And(border),\n",
    "        And(not_border)\n",
    "    )\n",
    "\n"
   ]
  },
  {
   "cell_type": "code",
   "execution_count": 11,
   "id": "f563ea02",
   "metadata": {},
   "outputs": [
    {
     "data": {
      "text/plain": [
       "[x == True, y == False, z == True]"
      ]
     },
     "execution_count": 11,
     "metadata": {},
     "output_type": "execute_result"
    }
   ],
   "source": [
    "def teste():\n",
    "    t = {\n",
    "        'pos': {\n",
    "            (0,0): Bool('x'),\n",
    "            (1,0): Bool('y'),\n",
    "            (2,0): Bool('z')\n",
    "        }\n",
    "    }\n",
    "    \n",
    "    \n",
    "    lista = []\n",
    "    lista.append(t['pos'][(0,0)] == True)\n",
    "    lista.append(t['pos'][(1,0)] == False)\n",
    "    lista.append(t['pos'][(2,0)] == True)\n",
    "    \n",
    "    return lista\n",
    "teste()"
   ]
  },
  {
   "cell_type": "code",
   "execution_count": 12,
   "id": "143521e2",
   "metadata": {},
   "outputs": [
    {
     "name": "stdout",
     "output_type": "stream",
     "text": [
      "[pos(0,0)0 == False, pos(0,1)0 == True, pos(0,2)0 == False, pos(0,3)0 == False, pos(0,4)0 == True, pos(0,0)0 == False, pos(1,0)0 == False, pos(2,0)0 == False, pos(3,0)0 == False, pos(4,0)0 == True]\n",
      "[pos(1,1)0 == False, pos(1,2)0 == False, pos(1,3)0 == False, pos(1,4)0 == False, pos(2,1)0 == False, pos(2,2)0 == False, pos(2,3)0 == False, pos(2,4)0 == False, pos(3,1)0 == False, pos(3,2)0 == False, pos(3,3)0 == False, pos(3,4)0 == False, pos(4,1)0 == False, pos(4,2)0 == False, pos(4,3)0 == False, pos(4,4)0 == False, pos(2,0)0 == True, pos(2,1)0 == True, pos(3,0)0 == True, pos(3,1)0 == True]\n",
      "(3, 1)\n",
      "unsat\n"
     ]
    }
   ],
   "source": [
    "# Tentar mudar a estrutura de dados da função init (lista para dicionário possivelmente)\n",
    "# Pensar num modelo para as transições\n",
    "\n",
    "def gera_traco(declare,init,k, N):\n",
    "\n",
    "    s = Solver()\n",
    "    \n",
    "    trace = [declare(i, N) for i in range(k)]\n",
    "\n",
    "    # adicionar o estado inicial\n",
    "    s.add(init(trace[0],\"10%\",N))\n",
    "    \n",
    "    # adicionar as transições\n",
    "    #for i in range(k - 1):\n",
    "    #    s.add(trans(trace[i], trace[i+1], N))\n",
    "    \n",
    "    \n",
    "    check = s.check()\n",
    "    if check == sat:\n",
    "        m = s.model()\n",
    "        for i in range(k):\n",
    "            print(\"Passo \", i)\n",
    "            for v in trace[i]:\n",
    "                print(v, \"=\", m[trace[i][v]])\n",
    "            print(\"----------------\")\n",
    "    else:\n",
    "        print(check)\n",
    "                \n",
    "gera_traco(declare,init,20, 5)"
   ]
  },
  {
   "cell_type": "code",
   "execution_count": null,
   "id": "9b1d8d38",
   "metadata": {},
   "outputs": [],
   "source": []
  }
 ],
 "metadata": {
  "kernelspec": {
   "display_name": "Python 3 (ipykernel)",
   "language": "python",
   "name": "python3"
  },
  "language_info": {
   "codemirror_mode": {
    "name": "ipython",
    "version": 3
   },
   "file_extension": ".py",
   "mimetype": "text/x-python",
   "name": "python",
   "nbconvert_exporter": "python",
   "pygments_lexer": "ipython3",
   "version": "3.10.4"
  }
 },
 "nbformat": 4,
 "nbformat_minor": 5
}
