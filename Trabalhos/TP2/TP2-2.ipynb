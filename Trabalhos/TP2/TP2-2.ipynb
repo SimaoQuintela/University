{
 "cells": [
  {
   "cell_type": "markdown",
   "id": "93f7c1bb",
   "metadata": {},
   "source": [
    "\n",
    "2. O Conway’s Game of Life é um exemplo bastante conhecido de um autómato celular . Neste problema vamos modificar as regras do autómato da seguinte forma\n",
    "\n",
    "    1. O espaço de estados é finito definido por uma grelha de células booleanas (morta=0/viva=1) de dimensão $\\,N\\times N\\,$ (com $N>3$) identificadas por índices $\\,(i,j)\\in \\{1..N\\}$.  Estas $\\;N^2\\;$ células são aqui referidas como “normais”. \n",
    "        No estado inicial todas as células normais estão mortas excepto  um quadrado $\\,3\\times 3\\,$, designado por “centro”, aleatoriamente posicionado formado apenas por células vivas.\n",
    "    2. Adicionalmente existem $\\,2\\,N+1\\,$ “células da borda” que correspondem a um dos índices, $i$ ou $j$, ser zero. As células da borda têm valores constantes que, no estado inicial, são gerados aleatoriamente com uma probabilidade $\\,\\rho\\,$ de estarem vivas.\n",
    "    3. As células normais o autómato modificam o estado de acordo com a regra “B3/S23”: i.e. a célula nasce (passa de $0$ a $1$) se tem exatamente 3 vizinhos vivos e sobrevive (mantém-se viva) se o número de vizinhos vivos é 2 ou 3, caso contrário morre ou continua morta."
   ]
  },
  {
   "cell_type": "markdown",
   "id": "2362abe2",
   "metadata": {},
   "source": [
    "A célula $\\;(i_0,j_0)\\;$e $\\,(i_1,j_1)\\,$ são vizinhas sse $\\;(i_0-i_1=\\pm 1) \\,\\lor\\, (j_0-j_1 = \\pm 1)$"
   ]
  },
  {
   "cell_type": "markdown",
   "id": "e7e7bbbe",
   "metadata": {},
   "source": [
    "Pretende-se:\n",
    "\n",
    "Construir uma máquina de estados finita que represente este autómato; são parâmetros do problema os parâmetros $\\,N,\\rho\\,$ e a posição do  “centro”.\n",
    "\n",
    "Verificar se se conseguem provar as seguintes propriedades:\n",
    "   1. Todos os estados acessíveis contém pelo menos uma célula viva.\n",
    "   2. Toda a célula normal está viva pelo menos uma vez em algum estado acessível.\n"
   ]
  },
  {
   "cell_type": "code",
   "execution_count": 1,
   "id": "74af65db",
   "metadata": {},
   "outputs": [],
   "source": [
    "from pysmt.shortcuts import *\n",
    "from z3 import *"
   ]
  },
  {
   "cell_type": "code",
   "execution_count": 15,
   "id": "be017cbe",
   "metadata": {},
   "outputs": [],
   "source": [
    "def declare(t, N):\n",
    "    state = {}\n",
    "    state['pc'] = Int('pc'+str(t))\n",
    "    \n",
    "    state['pos'] = {}\n",
    "    for i in range(N):\n",
    "        for j in range(N):\n",
    "            state['pos'][f'({i},{j})'] = Bool(f'pos({i},{j})'+str(t))\n",
    "\n",
    "\n",
    "    return state"
   ]
  },
  {
   "cell_type": "code",
   "execution_count": 34,
   "id": "42b2589d",
   "metadata": {},
   "outputs": [],
   "source": [
    "'''\n",
    "from pyprobs import Probability as pr\n",
    "probabilidade de sair True = 25%\n",
    "pr.prob(\"25%\", num=5)\n",
    "[False, False, True, False, False]\n",
    "'''\n",
    "from pyprobs import Probability as pr\n",
    "from random import randint\n",
    "\n",
    "def init(state, prob, N):\n",
    "    init_state = {}\n",
    "\n",
    "    center_square = (randint(1, N-2), randint(1, N-2))\n",
    "    \n",
    "    \n",
    "    # colocar o quadrado a True\n",
    "    for i in range(center_square[0]-1, center_square[0]+2):\n",
    "        for j in range(center_square[1]-1, center_square[1]+2):\n",
    "            init_state[(i,j)] = (state['pos'][f'({i},{j})'] == True)\n",
    "    \n",
    "    \n",
    "    # colocar tudo o que não é borda a falso\n",
    "    for i in range(1, N):\n",
    "        for j in range(1, N):\n",
    "            if (i,j) not in init_state:\n",
    "                init_state[(i,j)] = (state['pos'][f'({i},{j})'] == False)\n",
    "    \n",
    "      \n",
    "    # border-x\n",
    "    for i in range(0,1):\n",
    "        for j in range(0, N):\n",
    "            if (i,j) not in init_state:\n",
    "                init_state[(i,j)]=(state['pos'][f'({i},{j})'] == pr.prob(prob, num=1))\n",
    "                \n",
    "    # border-y\n",
    "    for i in range(0,N):\n",
    "        for j in range(0, 1):\n",
    "            if (i,j) not in init_state:\n",
    "                init_state[(i,j)]=(state['pos'][f'({i},{j})'] == pr.prob(prob, num=1))\n",
    "                \n",
    "\n",
    "    statements = list(init_state.values())\n",
    "    \n",
    "    print(center_square)\n",
    "    print(And(statements))\n",
    "    \n",
    "    return And(\n",
    "        state['pc'] == 0,\n",
    "        And(statements)\n",
    "    )\n",
    "\n"
   ]
  },
  {
   "cell_type": "code",
   "execution_count": 35,
   "id": "f563ea02",
   "metadata": {},
   "outputs": [
    {
     "name": "stdout",
     "output_type": "stream",
     "text": [
      "[x == True, y, z]\n"
     ]
    },
    {
     "data": {
      "text/plain": [
       "[x == True, y == False, z == True]"
      ]
     },
     "execution_count": 35,
     "metadata": {},
     "output_type": "execute_result"
    }
   ],
   "source": [
    "def teste():\n",
    "    t = {\n",
    "        (0,0): Bool('x') == True,\n",
    "        (1,0): Bool('y'),\n",
    "        (2,0): Bool('z')\n",
    "    }\n",
    "    \n",
    "    print(list(t.values()))\n",
    "    \n",
    "    lista = []\n",
    "    lista.append(t[(0,0)])\n",
    "    lista.append(t[(1,0)] == False)\n",
    "    lista.append(t[(2,0)] == True)\n",
    "    \n",
    "    return lista\n",
    "teste()"
   ]
  },
  {
   "cell_type": "code",
   "execution_count": 36,
   "id": "143521e2",
   "metadata": {},
   "outputs": [
    {
     "name": "stdout",
     "output_type": "stream",
     "text": [
      "(1, 1)\n",
      "And(pos(0,0)0 == True,\n",
      "    pos(0,1)0 == True,\n",
      "    pos(0,2)0 == True,\n",
      "    pos(1,0)0 == True,\n",
      "    pos(1,1)0 == True,\n",
      "    pos(1,2)0 == True,\n",
      "    pos(2,0)0 == True,\n",
      "    pos(2,1)0 == True,\n",
      "    pos(2,2)0 == True,\n",
      "    pos(1,3)0 == False,\n",
      "    pos(1,4)0 == False,\n",
      "    pos(2,3)0 == False,\n",
      "    pos(2,4)0 == False,\n",
      "    pos(3,1)0 == False,\n",
      "    pos(3,2)0 == False,\n",
      "    pos(3,3)0 == False,\n",
      "    pos(3,4)0 == False,\n",
      "    pos(4,1)0 == False,\n",
      "    pos(4,2)0 == False,\n",
      "    pos(4,3)0 == False,\n",
      "    pos(4,4)0 == False,\n",
      "    pos(0,3)0 == False,\n",
      "    pos(0,4)0 == False,\n",
      "    pos(3,0)0 == False,\n",
      "    pos(4,0)0 == False)\n",
      "Passo  0\n",
      "----------------\n",
      "Passo  1\n",
      "----------------\n",
      "Passo  2\n",
      "----------------\n",
      "Passo  3\n",
      "----------------\n",
      "Passo  4\n",
      "----------------\n",
      "Passo  5\n",
      "----------------\n",
      "Passo  6\n",
      "----------------\n",
      "Passo  7\n",
      "----------------\n",
      "Passo  8\n",
      "----------------\n",
      "Passo  9\n",
      "----------------\n",
      "Passo  10\n",
      "----------------\n",
      "Passo  11\n",
      "----------------\n",
      "Passo  12\n",
      "----------------\n",
      "Passo  13\n",
      "----------------\n",
      "Passo  14\n",
      "----------------\n",
      "Passo  15\n",
      "----------------\n",
      "Passo  16\n",
      "----------------\n",
      "Passo  17\n",
      "----------------\n",
      "Passo  18\n",
      "----------------\n",
      "Passo  19\n",
      "----------------\n"
     ]
    }
   ],
   "source": [
    "# Pensar num modelo para as transições\n",
    "\n",
    "def gera_traco(declare,init,k, N):\n",
    "\n",
    "    s = Solver()\n",
    "    \n",
    "    trace = [declare(i, N) for i in range(k)]\n",
    "\n",
    "    # adicionar o estado inicial\n",
    "    s.add(init(trace[0],\"0%\",N))\n",
    "    \n",
    "    # adicionar as transições\n",
    "    #for i in range(k - 1):\n",
    "    #    s.add(trans(trace[i], trace[i+1], N))\n",
    "    \n",
    "    \n",
    "    check = s.check()\n",
    "    if check == sat:\n",
    "        m = s.model()\n",
    "        for i in range(k):\n",
    "            print(\"Passo \", i)\n",
    "            for v in trace[i]:\n",
    "                x = 0\n",
    "                #print(v, \"=\", m[trace[i][v]])\n",
    "            print(\"----------------\")\n",
    "    else:\n",
    "        print(check)\n",
    "                \n",
    "gera_traco(declare,init,20, 5)"
   ]
  },
  {
   "cell_type": "code",
   "execution_count": null,
   "id": "9b1d8d38",
   "metadata": {},
   "outputs": [],
   "source": []
  },
  {
   "cell_type": "code",
   "execution_count": null,
   "id": "f175ddb1",
   "metadata": {},
   "outputs": [],
   "source": []
  }
 ],
 "metadata": {
  "kernelspec": {
   "display_name": "Python 3 (ipykernel)",
   "language": "python",
   "name": "python3"
  },
  "language_info": {
   "codemirror_mode": {
    "name": "ipython",
    "version": 3
   },
   "file_extension": ".py",
   "mimetype": "text/x-python",
   "name": "python",
   "nbconvert_exporter": "python",
   "pygments_lexer": "ipython3",
   "version": "3.10.4"
  }
 },
 "nbformat": 4,
 "nbformat_minor": 5
}
