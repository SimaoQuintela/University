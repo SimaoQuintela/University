{
 "cells": [
  {
   "cell_type": "markdown",
   "id": "4c543ad3",
   "metadata": {},
   "source": [
    "## Problema 2"
   ]
  },
  {
   "cell_type": "markdown",
   "id": "14ec7043",
   "metadata": {},
   "source": [
    "Na criptografia pós-quântica os reticulados inteiros (“$hard lattices$”) e os problemas a eles associados são uma componente essencial. Um reticulado inteiro pode ser definido por uma matriz $\\;\\mathsf{L} \\in \\mathbb{Z}^{m\\times n}\\;$ (com $\\;m > n\\;$) de inteiros e por um inteiro primo $\\;q\\geq 3\\;$. O chamado problema do vetor curto  (SVP) consiste  no cálculo de um vetor de inteiros $$\\;e\\in \\{-1,0,1\\}^m\\;$$  \n",
    "não nulo que  verifique a seguinte relação matricial\n",
    "$$\\forall\\,i < n\\,\\centerdot\\,\\sum_{j< m}\\,e_j\\,\\times\\,\\mathsf{L}_{j,i}\\;\\equiv\\;0\\mod q$$\n"
   ]
  },
  {
   "cell_type": "markdown",
   "id": "2d43b3f0",
   "metadata": {},
   "source": [
    "\n",
    "1. Pretende-se resolver o SVP por programação inteira dentro das seguintes condições\n",
    "   1. Os valores  $\\,m\\,,\\,n\\,,\\,q\\,$  são escolhidos com $\\,n > 30\\,$, $\\,|m| > 1 + |n|\\;$ e $\\,|q| > |m|\\,$. \n",
    "   2. Os elementos $\\;\\mathsf{L}_{j,i}\\;$ são gerados aleatória e uniformemente no intervalo inteiro $\\,\\{-d \\cdots d\\}$ sendo  $\\;d\\equiv (q-1)/2\\;$.\n",
    "2. Pretende-se determinar, em primeiro lugar, se existe um vetor $\\,e\\,$ não nulo (pelo menos um dos $\\,e_j\\,$é diferente de zero). Se existir $\\,e\\,$ pretende-se calcular o vetor que minimiza o número de componentes não nulas.\n",
    "   \n",
    "Notas                  \n",
    "    $\\quad$ Se $\\;x \\ge 0\\;$, representa-se por $\\,|x|\\,$ o tamanho de $\\,x\\,$ em bits:  o menor $\\,\\ell\\,$ tal que $\\,x < 2^\\ell$ .\n",
    "    \n",
    "   - Um inteiro $\\;x\\;$ verifica $\\;x \\equiv 0 \\mod q\\;$  sse $\\;x\\;$ é um múltiplo de $\\,q\\,$. $x \\equiv 0 \\mod q \\;\\quad \\text{sse}\\quad\\; \\exists\\,k\\in \\mathbb{Z}\\,\\centerdot\\, x \\,=\\,q\\times k$.\n",
    "    \n",
    "   Por isso, escrito de forma matricial, as relações que  determinam o vetor $\\;e\\neq 0\\;$ são $$\\left\\{\\begin{array}{rcl}\\exists\\,e\\in \\{-1,0,1\\}^m\\,\\centerdot\\,\\exists\\,k\\in \\mathbb{Z}^n &\\centerdot & e\\times \\mathsf{L} \\;=\\; q\\,k \\\\ \\exists\\,i < n &\\centerdot & e_i \\,\\neq\\, 0 \\end{array}\\right.$$"
   ]
  },
  {
   "cell_type": "markdown",
   "id": "93657f1a",
   "metadata": {},
   "source": [
    "### Resolução do problema"
   ]
  },
  {
   "cell_type": "markdown",
   "id": "e8c0b657",
   "metadata": {},
   "source": [
    "**Função get_value_by_bit_size(n, up)**\n",
    "\n",
    "    n - número passado como argumento para contar o número de bits necessários para o representar\n",
    "    up - parâmetro que diz quantos bits acima tem de ter o novo valor\n",
    "\n",
    "Utilizada para satisfazer as condições $\\,n > 30\\,$, $\\,|m| > 1 + |n|\\;$ e $\\,|q| > |m|\\,$."
   ]
  },
  {
   "cell_type": "code",
   "execution_count": 9,
   "id": "40a55fcb",
   "metadata": {},
   "outputs": [],
   "source": [
    "\n",
    "from math import log, floor# em alternativa à função log podemos usar um while loop \n",
    "\n",
    "'''\n",
    "def get_value_by_bit_size(n, up):\n",
    "    m = log(n,2)\n",
    "    lower_bound = floor(m)\n",
    "    upper_bound = lower_bound + up\n",
    "    \n",
    "    return 2**upper_bound\n",
    "'''\n",
    "pass"
   ]
  },
  {
   "cell_type": "markdown",
   "id": "fabb9bd7",
   "metadata": {},
   "source": [
    "**Função find_closest_prime_number(n)**\n",
    "    \n",
    "    n - número mínimo pelo qual temos de começar a procurar"
   ]
  },
  {
   "cell_type": "code",
   "execution_count": 10,
   "id": "041a0257",
   "metadata": {},
   "outputs": [
    {
     "name": "stdout",
     "output_type": "stream",
     "text": [
      "[2, 3, 5, 7, 11, 13, 17, 19, 23, 29, 31, 37, 41, 43, 47, 53, 59, 61, 67, 71, 73, 79, 83, 89, 97, 101, 103, 107, 109, 113, 127, 131, 137, 139, 149, 151, 157, 163, 167, 173, 179, 181, 191, 193, 197, 199, 211, 223, 227, 229, 233, 239, 241, 251]\n"
     ]
    }
   ],
   "source": [
    "\n",
    "def erastostenes_crive(n):\n",
    "    numeros = [True] * (n + 1)\n",
    "    \n",
    "    numeros[0] = False\n",
    "    numeros[1] = False\n",
    "    \n",
    "    primos = []\n",
    "    \n",
    "    for numero, primo in enumerate(numeros):\n",
    "        if primo:\n",
    "            primos.append(numero)\n",
    "            \n",
    "            for i in range(numero * 2, n + 1, numero):\n",
    "                numeros[i] = False\n",
    "\n",
    "    print(primos)\n",
    "    return primos\n",
    "\n",
    "erastostenes_crive(255)\n",
    "pass\n"
   ]
  },
  {
   "cell_type": "markdown",
   "id": "5e4345db",
   "metadata": {},
   "source": [
    "**Função generate_matrix(m, n, d)**\n",
    "\n",
    "    m - número de linhas da matriz\n",
    "    n - número de colunas da matriz\n",
    "    d - inteiro que serve de referência para o intervalo de valores [-d, d] da matriz L\n",
    "\n",
    "Utilizada para gerar uma matriz com m linhas e n colunas com valores entre d e -d"
   ]
  },
  {
   "cell_type": "code",
   "execution_count": 19,
   "id": "0ad08ff3",
   "metadata": {},
   "outputs": [],
   "source": [
    "from random import randint\n",
    "\n",
    "def generate_matrix(m, n, d):\n",
    "    L = {}\n",
    "    for i in range(0, m):\n",
    "        L[i] = {}\n",
    "        for j in range(0, n):\n",
    "            random_number = randint(-d,d)\n",
    "            L[i][j] = random_number\n",
    "    return L"
   ]
  },
  {
   "cell_type": "markdown",
   "id": "28621f50",
   "metadata": {},
   "source": [
    "#### exemplo 1"
   ]
  },
  {
   "cell_type": "code",
   "execution_count": 33,
   "id": "662e8158",
   "metadata": {},
   "outputs": [
    {
     "name": "stdout",
     "output_type": "stream",
     "text": [
      "18\n",
      "{0: {0: 18, 1: -1, 2: 2, 3: 16, 4: -6, 5: -12, 6: 6}, 1: {0: 13, 1: 2, 2: 0, 3: -14, 4: -15, 5: 11, 6: 17}, 2: {0: 4, 1: -17, 2: 2, 3: -16, 4: 5, 5: 11, 6: 7}, 3: {0: -2, 1: -8, 2: -2, 3: 16, 4: -6, 5: -2, 6: 14}, 4: {0: -11, 1: -11, 2: 4, 3: -14, 4: -5, 5: 13, 6: 16}, 5: {0: 6, 1: 8, 2: -16, 3: -15, 4: 7, 5: -3, 6: -3}, 6: {0: 0, 1: -15, 2: 9, 3: -4, 4: 9, 5: -13, 6: -3}, 7: {0: -11, 1: -5, 2: 16, 3: -16, 4: 16, 5: 12, 6: 10}, 8: {0: 14, 1: 7, 2: 10, 3: -1, 4: 7, 5: -4, 6: -11}, 9: {0: 15, 1: 4, 2: 2, 3: 15, 4: -1, 5: -7, 6: 16}, 10: {0: 6, 1: -1, 2: -16, 3: 2, 4: -1, 5: -7, 6: 8}, 11: {0: -10, 1: -5, 2: -10, 3: 17, 4: -14, 5: 6, 6: 14}, 12: {0: -8, 1: -16, 2: 3, 3: -5, 4: -1, 5: -16, 6: 5}, 13: {0: 12, 1: 6, 2: -10, 3: 8, 4: 1, 5: -12, 6: 15}, 14: {0: -9, 1: -14, 2: -15, 3: 10, 4: 14, 5: -6, 6: 6}, 15: {0: -7, 1: -4, 2: -7, 3: -10, 4: -13, 5: -4, 6: -15}}\n"
     ]
    }
   ],
   "source": [
    "'''\n",
    "n = 31\n",
    "m = get_value_by_bit_size(n, 2) # m = 128\n",
    "q = get_value_by_bit_size(m, 1) # q = 256\n",
    "d = floor((q-1)/2)\n",
    "L = generate_matrix(m,n,d)\n",
    "#print(n)\n",
    "#print(m)\n",
    "#print(q)\n",
    "#print(d)\n",
    "#print(L)\n",
    "'''\n",
    "\n",
    "# |m| > 1 + |n|\n",
    "# |q| > |m|\n",
    "\n",
    "\n",
    "n = 7\n",
    "m = 16\n",
    "q = 37\n",
    "d = floor((q-1)/2)\n",
    "L = generate_matrix(m,n,d)\n",
    "\n",
    "print(d)\n",
    "print(L)"
   ]
  },
  {
   "cell_type": "markdown",
   "id": "e8cfcead",
   "metadata": {},
   "source": [
    "### 2.1"
   ]
  },
  {
   "cell_type": "code",
   "execution_count": 34,
   "id": "e209a349",
   "metadata": {},
   "outputs": [],
   "source": [
    "def print_table(table, solver):\n",
    "    for i in table:\n",
    "        for j in table[i]:\n",
    "            print(int(solver.Value(table[i][j])), end=\"  \")\n",
    "        print(\"\")"
   ]
  },
  {
   "cell_type": "code",
   "execution_count": 35,
   "id": "d381c060",
   "metadata": {},
   "outputs": [
    {
     "name": "stdout",
     "output_type": "stream",
     "text": [
      "0  0  0  0  0  0  0  0  -1  0  0  0  0  0  0  0  "
     ]
    }
   ],
   "source": [
    "from ortools.sat.python import cp_model\n",
    "from pysmt.typing import INT\n",
    "\n",
    "model = cp_model.CpModel()\n",
    "\n",
    "e = {}\n",
    "e_square = {}\n",
    "for i in range(0, m):\n",
    "    e[i] = model.NewIntVar(-1, 1, f'e[{i}]')\n",
    "    e_square[i] = model.NewIntVar(0, 1, f'e_square[{i}]')\n",
    "    model.AddMultiplicationEquality(e_square[i], [e[i], e[i]])\n",
    "\n",
    "\n",
    "# 1ª condição - Não há o vetor nulo\n",
    "model.Add(sum([e_square[i] for i in range(0,m)]) >= 1)\n",
    "\n",
    "\n",
    "# 2ª condição - Ser congruente 0 módulo q\n",
    "k = {}\n",
    "max_range = 100000\n",
    "for i in range(0, n):\n",
    "    k[i] = model.NewIntVar(-1*max_range, max_range, f'k[{i}]')\n",
    "    model.Add( sum(e[i] * L[j][i] for j in range(0, m)) == k[i]*q)\n",
    "\n",
    "    \n",
    "# Cria um solver CP-SAT a solver and solves the model.\n",
    "solver = cp_model.CpSolver()\n",
    "    \n",
    "# Invoca o solver com o modelo criado\n",
    "status = solver.Solve(model)\n",
    "\n",
    "# Interpreta os resultados\n",
    "if status == cp_model.OPTIMAL or status == cp_model.FEASIBLE:\n",
    "    for i in e:\n",
    "        print(solver.Value(e[i]), end=\"  \")\n",
    "        \n",
    "else:\n",
    "    print('No solution found.')"
   ]
  },
  {
   "cell_type": "code",
   "execution_count": 31,
   "id": "ae94d4e1",
   "metadata": {},
   "outputs": [
    {
     "name": "stdout",
     "output_type": "stream",
     "text": [
      "No solution found.\n"
     ]
    }
   ],
   "source": [
    "from ortools.sat.python import cp_model\n",
    "from pysmt.typing import INT\n",
    "\n",
    "model = cp_model.CpModel()\n",
    "\n",
    "e_matrix = {}\n",
    "\n",
    "for i in range(0, m):\n",
    "    e_matrix[i] = {}\n",
    "    for j in range(-1, 2):\n",
    "        e_matrix[i][j] = model.NewBoolVar(f'e_matrix[{i}][{j}]')\n",
    "\n",
    "    \n",
    "    \n",
    "# 1ª condição - Cada linha tem um valor\n",
    "for i in range(0,m):\n",
    "    model.Add( sum( [e_matrix[i][j] for j in range(-1,2)]) == 1  )\n",
    "\n",
    "# 2ª condição - Não há o vetor nulo\n",
    "model.Add(sum([e_matrix[i][0] for i in range(0,m)]) <= (m-1))\n",
    "\n",
    "\n",
    "k = {}\n",
    "max_range = 10000000\n",
    "# condição de congruência\n",
    "for i in range(0,n):\n",
    "    k[i] = model.NewIntVar(-1*max_range, max_range, f'k[{i}]')            \n",
    "    model.Add(sum( sum( e_matrix[j][t]*t for t in range(-1,2)) *L[j][i] for j in range(0,m) )  == k[i]*q )\n",
    "\n",
    "    \n",
    "# Cria um solver CP-SAT a solver and solves the model.\n",
    "solver = cp_model.CpSolver()\n",
    "    \n",
    "# Invoca o solver com o modelo criado\n",
    "status = solver.Solve(model)\n",
    "\n",
    "# Interpreta os resultados\n",
    "if status == cp_model.OPTIMAL or status == cp_model.FEASIBLE:\n",
    "    print_table(e_matrix, solver)\n",
    "else:\n",
    "    print('No solution found.')\n"
   ]
  },
  {
   "cell_type": "code",
   "execution_count": null,
   "id": "429d6cca",
   "metadata": {},
   "outputs": [],
   "source": []
  }
 ],
 "metadata": {
  "kernelspec": {
   "display_name": "Python 3 (ipykernel)",
   "language": "python",
   "name": "python3"
  },
  "language_info": {
   "codemirror_mode": {
    "name": "ipython",
    "version": 3
   },
   "file_extension": ".py",
   "mimetype": "text/x-python",
   "name": "python",
   "nbconvert_exporter": "python",
   "pygments_lexer": "ipython3",
   "version": "3.10.4"
  }
 },
 "nbformat": 4,
 "nbformat_minor": 5
}
