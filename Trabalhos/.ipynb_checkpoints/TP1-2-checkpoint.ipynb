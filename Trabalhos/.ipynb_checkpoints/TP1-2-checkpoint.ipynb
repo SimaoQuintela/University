{
 "cells": [
  {
   "cell_type": "markdown",
   "id": "98711e8c",
   "metadata": {},
   "source": [
    "### Problema 2"
   ]
  },
  {
   "cell_type": "markdown",
   "id": "4c543ad3",
   "metadata": {},
   "source": [
    "Na criptografia pós-quântica os reticulados inteiros (“$hard lattices$”) e os problemas a eles associados são uma componente essencial. Um reticulado inteiro pode ser definido por uma matriz $\\;\\mathsf{L} \\in \\mathbb{Z}^{m\\times n}\\;$ (com $\\;m > n\\;$) de inteiros e por um inteiro primo $\\;q\\geq 3\\;$. O chamado problema do vetor curto  (SVP) consiste  no cálculo de um vetor de inteiros $$\\;e\\in \\{-1,0,1\\}^m\\;$$  \n",
    "não nulo que  verifique a seguinte relação matricial\n",
    "$$\\forall\\,i < n\\,\\centerdot\\,\\sum_{j< m}\\,e_j\\,\\times\\,\\mathsf{L}_{j,i}\\;\\equiv\\;0\\mod q$$\n"
   ]
  },
  {
   "cell_type": "markdown",
   "id": "2d43b3f0",
   "metadata": {},
   "source": [
    "\n",
    "1. Pretende-se resolver o SVP por programação inteira dentro das seguintes condições\n",
    "   1. Os valores  $\\,m\\,,\\,n\\,,\\,q\\,$  são escolhidos com $\\,n > 30\\,$, $\\,|m| > 1 + |n|\\;$ e $\\,|q| > |m|\\,$. \n",
    "   2. Os elementos $\\;\\mathsf{L}_{j,i}\\;$ são gerados aleatória e uniformemente no intervalo inteiro $\\,\\{-d \\cdots d\\}$ sendo  $\\;d\\equiv (q-1)/2\\;$.\n",
    "2. Pretende-se determinar, em primeiro lugar, se existe um vetor $\\,e\\,$ não nulo (pelo menos um dos $\\,e_j\\,$é diferente de zero). Se existir $\\,e\\,$ pretende-se calcular o vetor que minimiza o número de componentes não nulas.\n",
    "   \n",
    "Notas                  \n",
    "    $\\quad$ Se $\\;x \\ge 0\\;$, representa-se por $\\,|x|\\,$ o tamanho de $\\,x\\,$ em bits:  o menor $\\,\\ell\\,$ tal que $\\,x < 2^\\ell$ .\n",
    "    \n",
    "   - Um inteiro $\\;x\\;$ verifica $\\;x \\equiv 0 \\mod q\\;$  sse $\\;x\\;$ é um múltiplo de $\\,q\\,$. $x \\equiv 0 \\mod q \\;\\quad \\text{sse}\\quad\\; \\exists\\,k\\in \\mathbb{Z}\\,\\centerdot\\, x \\,=\\,q\\times k$.\n",
    "    \n",
    "   Por isso, escrito de forma matricial, as relações que  determinam o vetor $\\;e\\neq 0\\;$ são $$\\left\\{\\begin{array}{rcl}\\exists\\,e\\in \\{-1,0,1\\}^m\\,\\centerdot\\,\\exists\\,k\\in \\mathbb{Z}^n &\\centerdot & e\\times \\mathsf{L} \\;=\\; q\\,k \\\\ \\exists\\,i < n &\\centerdot & e_i \\,\\neq\\, 0 \\end{array}\\right.$$"
   ]
  },
  {
   "cell_type": "code",
   "execution_count": 66,
   "id": "662e8158",
   "metadata": {},
   "outputs": [
    {
     "name": "stdout",
     "output_type": "stream",
     "text": [
      "7\n"
     ]
    }
   ],
   "source": [
    "from math import log, ceil# em alternativa a esta função posso usar um while loop \n",
    "n = 127\n",
    "m = get_value_by_bit_size(n)\n",
    "\n",
    "def get_value_by_bit_size(n):\n",
    "    m = ceil(log(n,2))\n",
    "    \n",
    "    return m\n",
    "    \n",
    "\n",
    "print(get_value_by_bit_size(2**get_value_by_bit_size(n)))"
   ]
  },
  {
   "cell_type": "code",
   "execution_count": null,
   "id": "04cdb546",
   "metadata": {},
   "outputs": [],
   "source": []
  }
 ],
 "metadata": {
  "kernelspec": {
   "display_name": "Python 3 (ipykernel)",
   "language": "python",
   "name": "python3"
  },
  "language_info": {
   "codemirror_mode": {
    "name": "ipython",
    "version": 3
   },
   "file_extension": ".py",
   "mimetype": "text/x-python",
   "name": "python",
   "nbconvert_exporter": "python",
   "pygments_lexer": "ipython3",
   "version": "3.10.4"
  }
 },
 "nbformat": 4,
 "nbformat_minor": 5
}
