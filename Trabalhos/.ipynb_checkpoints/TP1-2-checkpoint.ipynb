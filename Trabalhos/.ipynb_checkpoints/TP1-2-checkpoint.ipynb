{
 "cells": [
  {
   "cell_type": "markdown",
   "id": "4c543ad3",
   "metadata": {},
   "source": [
    "## Problema 2"
   ]
  },
  {
   "cell_type": "markdown",
   "id": "14ec7043",
   "metadata": {},
   "source": [
    "Na criptografia pós-quântica os reticulados inteiros (“$hard lattices$”) e os problemas a eles associados são uma componente essencial. Um reticulado inteiro pode ser definido por uma matriz $\\;\\mathsf{L} \\in \\mathbb{Z}^{m\\times n}\\;$ (com $\\;m > n\\;$) de inteiros e por um inteiro primo $\\;q\\geq 3\\;$. O chamado problema do vetor curto  (SVP) consiste  no cálculo de um vetor de inteiros $$\\;e\\in \\{-1,0,1\\}^m\\;$$  \n",
    "não nulo que  verifique a seguinte relação matricial\n",
    "$$\\forall\\,i < n\\,\\centerdot\\,\\sum_{j< m}\\,e_j\\,\\times\\,\\mathsf{L}_{j,i}\\;\\equiv\\;0\\mod q$$\n"
   ]
  },
  {
   "cell_type": "markdown",
   "id": "2d43b3f0",
   "metadata": {},
   "source": [
    "\n",
    "1. Pretende-se resolver o SVP por programação inteira dentro das seguintes condições\n",
    "   1. Os valores  $\\,m\\,,\\,n\\,,\\,q\\,$  são escolhidos com $\\,n > 30\\,$, $\\,|m| > 1 + |n|\\;$ e $\\,|q| > |m|\\,$. \n",
    "   2. Os elementos $\\;\\mathsf{L}_{j,i}\\;$ são gerados aleatória e uniformemente no intervalo inteiro $\\,\\{-d \\cdots d\\}$ sendo  $\\;d\\equiv (q-1)/2\\;$.\n",
    "2. Pretende-se determinar, em primeiro lugar, se existe um vetor $\\,e\\,$ não nulo (pelo menos um dos $\\,e_j\\,$é diferente de zero). Se existir $\\,e\\,$ pretende-se calcular o vetor que minimiza o número de componentes não nulas.\n",
    "   \n",
    "Notas                  \n",
    "    $\\quad$ Se $\\;x \\ge 0\\;$, representa-se por $\\,|x|\\,$ o tamanho de $\\,x\\,$ em bits:  o menor $\\,\\ell\\,$ tal que $\\,x < 2^\\ell$ .\n",
    "    \n",
    "   - Um inteiro $\\;x\\;$ verifica $\\;x \\equiv 0 \\mod q\\;$  sse $\\;x\\;$ é um múltiplo de $\\,q\\,$. $x \\equiv 0 \\mod q \\;\\quad \\text{sse}\\quad\\; \\exists\\,k\\in \\mathbb{Z}\\,\\centerdot\\, x \\,=\\,q\\times k$.\n",
    "    \n",
    "   Por isso, escrito de forma matricial, as relações que  determinam o vetor $\\;e\\neq 0\\;$ são $$\\left\\{\\begin{array}{rcl}\\exists\\,e\\in \\{-1,0,1\\}^m\\,\\centerdot\\,\\exists\\,k\\in \\mathbb{Z}^n &\\centerdot & e\\times \\mathsf{L} \\;=\\; q\\,k \\\\ \\exists\\,i < n &\\centerdot & e_i \\,\\neq\\, 0 \\end{array}\\right.$$"
   ]
  },
  {
   "cell_type": "markdown",
   "id": "93657f1a",
   "metadata": {},
   "source": [
    "## Resolução do problema"
   ]
  },
  {
   "cell_type": "markdown",
   "id": "e69e54f9",
   "metadata": {},
   "source": [
    "Para a resolução deste problema utilizamos 2 estratégias distintas"
   ]
  },
  {
   "cell_type": "markdown",
   "id": "f4d715a8",
   "metadata": {},
   "source": [
    "### Estratégia 1"
   ]
  },
  {
   "cell_type": "markdown",
   "id": "793e9b25",
   "metadata": {},
   "source": [
    "\n",
    "\\begin{bmatrix}\n",
    "x_{0,-1} & x_{0,0} & x_{0,1}\\\\\n",
    "x_{1,-1} & x_{1,0} & x_{1,1}\\\\\n",
    ". & . & .\\\\\n",
    ". & . & .\\\\\n",
    ". & . & .\\\\\n",
    "x_{m-1,-1} & x_{m-1,0} & x_{m-1,1}\\\\\n",
    "\\end{bmatrix}\n",
    "\n",
    "Utilização de uma matriz com $m$ linhas e 3 colunas em que os valores das colunas estão dentro do intervalo [-1, 1] e onde os valores de $x_{i,j}$ são 0(False) ou 1(True), com $0 \\leq i \\leq m-1 $ e $-1 \\leq j \\leq 1 $.\n",
    "#### A seguinte expressão, para $i$ = 0\n",
    "$$\\sum_{j= -1}^{j< 2}\\,x_{0,j}\\,\\times\\,\\mathsf{j}\\;$$ \n",
    "representa o elemento $e_{0}$ do vetor $e$.\n",
    "\n",
    "#### Assim, obtemos o vetor $e$ a partir da seguinte expressão:\n",
    "$$ \\forall_{i<m}\\,( e_{i} = \\sum_{j= -1}^{j< 2}\\,x_{i,j}\\,\\times\\,\\mathsf{j}\\;)$$"
   ]
  },
  {
   "cell_type": "markdown",
   "id": "5e22f455",
   "metadata": {},
   "source": [
    "### Restrições"
   ]
  },
  {
   "cell_type": "markdown",
   "id": "058a2b9b",
   "metadata": {},
   "source": [
    "    1 - Cada linha da matriz tem de ter um e um só valor a 1\n",
    "$\\hspace{0.62cm} $ Para isso utilizamos a seguinte restrição:\\\n",
    "$$ \\forall_{i<m}(\\sum_{j=-1}^{j<2} x_{i,j}) = 1 $$\n",
    "\n",
    "    2 - O vetor nulo não pode ser uma solução\n",
    "$\\hspace{0.62cm} $ Para isso utilizamos a seguinte restrição:\\\n",
    "$$ \\sum_{i=0}^{i<m} x_{i,0} = m $$\n",
    "\n",
    "    3- Relação de congruência\n",
    "$$\\forall\\,i < n\\,\\centerdot\\,\\sum_{j< m}\\,e_j\\,\\times\\,\\mathsf{L}_{j,i}\\;\\equiv\\;0\\mod q$$\n",
    "$\\hspace{0.62cm} $ Para isso utilizamos a seguinte restrição:\\\n",
    "$$\\forall_{i<n}(\\sum_{j=0}^{j<m}(\\sum_{t=-1}^{t<2} x_{j,t} \\times t) \\times L_{j,i}) = q \\times k_{i} ,\\hspace{0.5cm} k_{i} \\in \\mathbb{Z}$$\n",
    "$\\hspace{0.62cm} $ Em que $k$ toma diferentes valores consoante o $i$ que toma para validar a congruência"
   ]
  },
  {
   "cell_type": "code",
   "execution_count": null,
   "id": "006ad16e",
   "metadata": {},
   "outputs": [],
   "source": []
  },
  {
   "cell_type": "markdown",
   "id": "fabb9bd7",
   "metadata": {},
   "source": [
    "**Função erastostenes_crive(n)**\n",
    "    \n",
    "    n - limite superior\n",
    "    \n",
    "Esta função é utilizada para saber quais os números primos entre 1 e n"
   ]
  },
  {
   "cell_type": "code",
   "execution_count": 22,
   "id": "041a0257",
   "metadata": {},
   "outputs": [
    {
     "name": "stdout",
     "output_type": "stream",
     "text": [
      "[2, 3, 5, 7, 11, 13, 17, 19, 23, 29, 31, 37, 41, 43, 47, 53, 59, 61, 67, 71, 73, 79, 83, 89, 97, 101, 103, 107, 109, 113, 127, 131, 137, 139, 149, 151, 157, 163, 167, 173, 179, 181, 191, 193, 197, 199, 211, 223, 227, 229, 233, 239, 241, 251]\n"
     ]
    }
   ],
   "source": [
    "\n",
    "def erastostenes_crive(n):\n",
    "    numeros = [True] * (n + 1)\n",
    "    \n",
    "    numeros[0] = False\n",
    "    numeros[1] = False\n",
    "    \n",
    "    primos = []\n",
    "    \n",
    "    for numero, primo in enumerate(numeros):\n",
    "        if primo:\n",
    "            primos.append(numero)\n",
    "            \n",
    "            for i in range(numero * 2, n + 1, numero):\n",
    "                numeros[i] = False\n",
    "\n",
    "    print(primos)\n",
    "    return primos\n",
    "\n",
    "erastostenes_crive(255)\n",
    "pass\n"
   ]
  },
  {
   "cell_type": "markdown",
   "id": "5e4345db",
   "metadata": {},
   "source": [
    "**Função generate_matrix(m, n, d)**\n",
    "\n",
    "    m - número de linhas da matriz\n",
    "    n - número de colunas da matriz\n",
    "    d - inteiro que serve de referência para o intervalo de valores [-d, d] da matriz L\n",
    "\n",
    "Utilizada para gerar uma matriz com m linhas e n colunas com valores entre d e -d"
   ]
  },
  {
   "cell_type": "code",
   "execution_count": 2,
   "id": "0ad08ff3",
   "metadata": {},
   "outputs": [],
   "source": [
    "from random import randint\n",
    "\n",
    "def generate_matrix(m, n, d):\n",
    "    L = {}\n",
    "    for i in range(0, m):\n",
    "        L[i] = {}\n",
    "        for j in range(0, n):\n",
    "            random_number = randint(-d,d)\n",
    "            L[i][j] = random_number\n",
    "    return L"
   ]
  },
  {
   "cell_type": "code",
   "execution_count": 6,
   "id": "e209a349",
   "metadata": {},
   "outputs": [],
   "source": [
    "def print_table(table, solver):\n",
    "    for i in table:\n",
    "        for j in table[i]:\n",
    "            print(int(solver.Value(table[i][j])), end=\"  \")\n",
    "        print(\"\")"
   ]
  },
  {
   "cell_type": "code",
   "execution_count": 16,
   "id": "ae94d4e1",
   "metadata": {},
   "outputs": [],
   "source": [
    "from ortools.sat.python import cp_model\n",
    "from pysmt.typing import INT\n",
    "\n",
    "def SVP_problem(n, m, q, d, L):\n",
    "    model = cp_model.CpModel()\n",
    "\n",
    "    e_matrix = {}\n",
    "\n",
    "    for i in range(0, m):\n",
    "        e_matrix[i] = {}\n",
    "        for j in range(-1, 2):\n",
    "            e_matrix[i][j] = model.NewBoolVar(f'e_matrix[{i}][{j}]')\n",
    "\n",
    "    \n",
    "    \n",
    "    # 1ª condição - Cada linha tem um valor\n",
    "    for i in range(0,m):\n",
    "        model.Add( sum( [e_matrix[i][j] for j in range(-1,2)]) == 1  )\n",
    "\n",
    "    # 2ª condição - Não há o vetor nulo\n",
    "    model.Add(sum([e_matrix[i][0] for i in range(0,m)]) <= (m-1))\n",
    "\n",
    "\n",
    "    k = {}\n",
    "    max_range = 10000000\n",
    "    # condição de congruência\n",
    "    for i in range(0,n):\n",
    "        k[i] = model.NewIntVar(-1*max_range, max_range, f'k[{i}]')            \n",
    "        model.Add(sum( sum( e_matrix[j][t]*t for t in range(-1,2)) *L[j][i] for j in range(0,m) )  == k[i]*q )\n",
    "\n",
    "    \n",
    "    model.Minimize( sum(e_matrix[i][0] for i in range(0, m)) )\n",
    "    \n",
    "    # Cria um solver CP-SAT a solver and solves the model.\n",
    "    solver = cp_model.CpSolver()\n",
    "    \n",
    "    \n",
    "    \n",
    "    \n",
    "    # Invoca o solver com o modelo criado\n",
    "    status = solver.Solve(model)\n",
    "    \n",
    "        \n",
    "    \n",
    "    \n",
    "    # Interpreta os resultados\n",
    "    if status == cp_model.OPTIMAL or status == cp_model.FEASIBLE:\n",
    "        print_table(e_matrix, solver)\n",
    "    else:\n",
    "        print('No solution found.')\n"
   ]
  },
  {
   "cell_type": "markdown",
   "id": "f90a5212",
   "metadata": {},
   "source": [
    "### Exemplo 1"
   ]
  },
  {
   "cell_type": "code",
   "execution_count": 17,
   "id": "41888c33",
   "metadata": {},
   "outputs": [
    {
     "name": "stdout",
     "output_type": "stream",
     "text": [
      "0  0  1  \n",
      "0  1  0  \n",
      "1  0  0  \n",
      "0  0  1  \n",
      "0  0  1  \n",
      "0  0  1  \n",
      "0  0  1  \n",
      "0  1  0  \n",
      "1  0  0  \n",
      "0  0  1  \n",
      "0  0  1  \n",
      "1  0  0  \n",
      "1  0  0  \n",
      "0  0  1  \n",
      "0  0  1  \n",
      "1  0  0  \n"
     ]
    }
   ],
   "source": [
    "from math import floor\n",
    "\n",
    "n = 4\n",
    "m = 16\n",
    "q = 37\n",
    "d = floor((q-1)/2)\n",
    "L = generate_matrix(m,n,d)\n",
    "\n",
    "SVP_problem(n, m, q, d, L)"
   ]
  },
  {
   "cell_type": "markdown",
   "id": "406dfc99",
   "metadata": {},
   "source": [
    "### Exemplo 2"
   ]
  },
  {
   "cell_type": "code",
   "execution_count": 20,
   "id": "31447eab",
   "metadata": {},
   "outputs": [
    {
     "name": "stdout",
     "output_type": "stream",
     "text": [
      "No solution found.\n"
     ]
    }
   ],
   "source": [
    "from math import floor\n",
    "\n",
    "n = 5\n",
    "m = 16\n",
    "q = 37\n",
    "d = floor((q-1)/2)\n",
    "L = generate_matrix(m,n,d)\n",
    "\n",
    "SVP_problem(n, m, q, d, L)"
   ]
  },
  {
   "cell_type": "markdown",
   "id": "8a334090",
   "metadata": {},
   "source": [
    "# Solução 2"
   ]
  },
  {
   "cell_type": "code",
   "execution_count": null,
   "id": "f8fc7ce9",
   "metadata": {},
   "outputs": [],
   "source": [
    "from ortools.sat.python import cp_model\n",
    "from pysmt.typing import INT\n",
    "\n",
    "model = cp_model.CpModel()\n",
    "\n",
    "e = {}\n",
    "e_square = {}\n",
    "for i in range(0, m):\n",
    "    e[i] = model.NewIntVar(-1, 1, f'e[{i}]')\n",
    "    e_square[i] = model.NewIntVar(0, 1, f'e_square[{i}]')\n",
    "    model.AddMultiplicationEquality(e_square[i], [e[i], e[i]])\n",
    "\n",
    "\n",
    "# 1ª condição - Não há o vetor nulo\n",
    "model.Add(sum([e_square[i] for i in range(0,m)]) >= 1)\n",
    "\n",
    "\n",
    "# 2ª condição - Ser congruente 0 módulo q\n",
    "k = {}\n",
    "max_range = 100000\n",
    "for i in range(0, n):\n",
    "    k[i] = model.NewIntVar(-1*max_range, max_range, f'k[{i}]')\n",
    "    model.Add( sum(e[i] * L[j][i] for j in range(0, m)) == k[i]*q)\n",
    "\n",
    "    \n",
    "# Cria um solver CP-SAT a solver and solves the model.\n",
    "solver = cp_model.CpSolver()\n",
    "    \n",
    "# Invoca o solver com o modelo criado\n",
    "status = solver.Solve(model)\n",
    "\n",
    "# Interpreta os resultados\n",
    "if status == cp_model.OPTIMAL or status == cp_model.FEASIBLE:\n",
    "    for i in e:\n",
    "        print(solver.Value(e[i]), end=\"  \")\n",
    "        \n",
    "else:\n",
    "    print('No solution found.')"
   ]
  }
 ],
 "metadata": {
  "kernelspec": {
   "display_name": "Python 3 (ipykernel)",
   "language": "python",
   "name": "python3"
  },
  "language_info": {
   "codemirror_mode": {
    "name": "ipython",
    "version": 3
   },
   "file_extension": ".py",
   "mimetype": "text/x-python",
   "name": "python",
   "nbconvert_exporter": "python",
   "pygments_lexer": "ipython3",
   "version": "3.10.4"
  }
 },
 "nbformat": 4,
 "nbformat_minor": 5
}
