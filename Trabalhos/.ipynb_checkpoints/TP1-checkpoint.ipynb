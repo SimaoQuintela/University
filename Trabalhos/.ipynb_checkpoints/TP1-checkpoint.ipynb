{
 "cells": [
  {
   "cell_type": "markdown",
   "id": "98dcbd45",
   "metadata": {},
   "source": [
    "# TP1\n"
   ]
  },
  {
   "cell_type": "markdown",
   "id": "aedb70fb",
   "metadata": {},
   "source": [
    "## Propósito do trabalho"
   ]
  },
  {
   "cell_type": "markdown",
   "id": "2a752cf9",
   "metadata": {},
   "source": [
    "\n",
    "O propósito deste trabalho é a análise de problemas de alocação usando técnicas de SAT,  em lógica proposicional, e IP em lógica linear inteira.\n"
   ]
  },
  {
   "cell_type": "markdown",
   "id": "49736070",
   "metadata": {},
   "source": [
    "## Enunciado"
   ]
  },
  {
   "cell_type": "markdown",
   "id": "a2d1aa50",
   "metadata": {},
   "source": [
    "### Problema 1"
   ]
  },
  {
   "cell_type": "markdown",
   "id": "0848114b",
   "metadata": {},
   "source": [
    "\n",
    "1. Pretende-se construir um horário semanal para o plano de reuniões de projeto de uma “StartUp” de acordo com as seguintes condições:\n",
    "\n",
    "    1. Cada reunião ocupa uma sala (enumeradas $1...S\\,$) durante um “slot”  $1..T\\,$ $(\\text{hora},\\text{dia})$.  \n",
    "    2.  Cada reunião tem associado um projeto (enumerados $1..P$) e um conjunto de participantes. Os diferentes colaboradores são enumerados $1..C$.\n",
    "    3. Cada projeto tem associado um conjunto de colaboradores, dos quais um  é o líder. Cada projeto realiza um dado número de reuniões semanais. \n",
    "    4. O líder do projeto participa em todas as reuniões do seu projeto; os restantes colaboradores podem ou não participar consoante a sua disponibilidade, num mínimo (“quorum”) de  $50\\%$ do total de colaboradores do projeto.\n",
    "    \n",
    "   São “inputs” do problema:\n",
    "      1. Os parâmetros $S\\,,\\,T\\,,\\,P\\,,\\,C$\n",
    "      2. O conjunto de colaboradores de cada projeto, o seu líder e o número de reuniões semanais.\n",
    "      3. A disponibilidade de cada participante, incluindo o lider. Essa disponibilidade é um conjunto de “slots\"  representada numa matriz booleana de acessibilidade com uma linha por cada participante $1..C$ e uma coluna por “slot” $\\,1..T\\,$\n",
    "   \n",
    "   São critérios de optimização:\n",
    "      1. Maximizar o número de reuniões efetivamente realizadas\n",
    "      2. Minimizar o número médio de reuniões por participante.\n"
   ]
  },
  {
   "cell_type": "code",
   "execution_count": null,
   "id": "7be83941",
   "metadata": {},
   "outputs": [],
   "source": []
  },
  {
   "cell_type": "markdown",
   "id": "59f28c59",
   "metadata": {},
   "source": [
    "## Restrições\n",
    "### Restrição 1\n",
    "$\\forall t \\in T, (\\sum_{i=0, i<c} x_{c,t}\\frac c) = 0.5 $ "
   ]
  },
  {
   "cell_type": "code",
   "execution_count": null,
   "id": "d060d1cf",
   "metadata": {},
   "outputs": [],
   "source": []
  }
 ],
 "metadata": {
  "kernelspec": {
   "display_name": "Python 3 (ipykernel)",
   "language": "python",
   "name": "python3"
  },
  "language_info": {
   "codemirror_mode": {
    "name": "ipython",
    "version": 3
   },
   "file_extension": ".py",
   "mimetype": "text/x-python",
   "name": "python",
   "nbconvert_exporter": "python",
   "pygments_lexer": "ipython3",
   "version": "3.10.4"
  }
 },
 "nbformat": 4,
 "nbformat_minor": 5
}
