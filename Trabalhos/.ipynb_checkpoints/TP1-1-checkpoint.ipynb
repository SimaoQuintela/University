{
 "cells": [
  {
   "cell_type": "markdown",
   "id": "4266744b",
   "metadata": {},
   "source": [
    "# TP1\n"
   ]
  },
  {
   "cell_type": "markdown",
   "id": "dae2caf1",
   "metadata": {},
   "source": [
    "## Propósito do trabalho"
   ]
  },
  {
   "cell_type": "markdown",
   "id": "8a3d025f",
   "metadata": {},
   "source": [
    "\n",
    "O propósito deste trabalho é a análise de problemas de alocação usando técnicas de SAT,  em lógica proposicional, e IP em lógica linear inteira.\n"
   ]
  },
  {
   "cell_type": "markdown",
   "id": "1b922fcf",
   "metadata": {},
   "source": [
    "## Enunciado"
   ]
  },
  {
   "cell_type": "markdown",
   "id": "66296ee1",
   "metadata": {},
   "source": [
    "### Problema 1"
   ]
  },
  {
   "cell_type": "markdown",
   "id": "cf589e0c",
   "metadata": {},
   "source": [
    "\n",
    "1. Pretende-se construir um horário semanal para o plano de reuniões de projeto de uma “StartUp” de acordo com as seguintes condições:\n",
    "\n",
    "    1. Cada reunião ocupa uma sala (enumeradas $1...S\\,$) durante um “slot”  $1..T\\,$ $(\\text{hora},\\text{dia})$.  \n",
    "    2.  Cada reunião tem associado um projeto (enumerados $1..P$) e um conjunto de participantes. Os diferentes colaboradores são enumerados $1..C$.\n",
    "    3. Cada projeto tem associado um conjunto de colaboradores, dos quais um  é o líder. Cada projeto realiza um dado número de reuniões semanais. \n",
    "    4. O líder do projeto participa em todas as reuniões do seu projeto; os restantes colaboradores podem ou não participar consoante a sua disponibilidade, num mínimo (“quorum”) de  $50\\%$ do total de colaboradores do projeto.\n",
    "    \n",
    "   São “inputs” do problema:\n",
    "      1. Os parâmetros $S\\,,\\,T\\,,\\,P\\,,\\,C$\n",
    "      2. O conjunto de colaboradores de cada projeto, o seu líder e o número de reuniões semanais.\n",
    "      3. A disponibilidade de cada participante, incluindo o lider. Essa disponibilidade é um conjunto de “slots\"  representada numa matriz booleana de acessibilidade com uma linha por cada participante $1..C$ e uma coluna por “slot” $\\,1..T\\,$\n",
    "   \n",
    "   São critérios de optimização:\n",
    "      1. Maximizar o número de reuniões efetivamente realizadas\n",
    "      2. Minimizar o número médio de reuniões por participante.\n"
   ]
  },
  {
   "cell_type": "markdown",
   "id": "fc3a1d48",
   "metadata": {},
   "source": [
    "## Resolução"
   ]
  },
  {
   "cell_type": "code",
   "execution_count": 10,
   "id": "5051c9a3",
   "metadata": {},
   "outputs": [],
   "source": [
    "def gera_slots(d, h_min, h_max):\n",
    "    slots = []\n",
    "    for i in range(d):\n",
    "        for j in range(h_min, h_max):\n",
    "            slots.append((i,j))\n",
    "    return slots"
   ]
  },
  {
   "cell_type": "code",
   "execution_count": 11,
   "id": "cbb55de0",
   "metadata": {},
   "outputs": [],
   "source": [
    "def gera_disponibilidade(C,T):\n",
    "    disp = {}\n",
    "    for c in range(C):\n",
    "        disp[c] = {}\n",
    "        for t in T:\n",
    "            disp[c][t] = randint(0,1)\n",
    "    return disp"
   ]
  },
  {
   "cell_type": "code",
   "execution_count": 18,
   "id": "41876e19",
   "metadata": {},
   "outputs": [
    {
     "name": "stdout",
     "output_type": "stream",
     "text": [
      "{0: {(0, 9): 0, (0, 10): 0, (0, 11): 1, (0, 12): 0, (0, 13): 1, (0, 14): 0, (0, 15): 1, (0, 16): 1, (0, 17): 0, (1, 9): 0, (1, 10): 1, (1, 11): 1, (1, 12): 1, (1, 13): 1, (1, 14): 0, (1, 15): 1, (1, 16): 0, (1, 17): 0, (2, 9): 0, (2, 10): 0, (2, 11): 1, (2, 12): 1, (2, 13): 1, (2, 14): 0, (2, 15): 1, (2, 16): 1, (2, 17): 1, (3, 9): 1, (3, 10): 1, (3, 11): 1, (3, 12): 0, (3, 13): 0, (3, 14): 1, (3, 15): 0, (3, 16): 0, (3, 17): 0, (4, 9): 0, (4, 10): 0, (4, 11): 1, (4, 12): 0, (4, 13): 0, (4, 14): 0, (4, 15): 1, (4, 16): 0, (4, 17): 1}, 1: {(0, 9): 0, (0, 10): 0, (0, 11): 0, (0, 12): 1, (0, 13): 1, (0, 14): 0, (0, 15): 0, (0, 16): 1, (0, 17): 1, (1, 9): 0, (1, 10): 0, (1, 11): 0, (1, 12): 1, (1, 13): 0, (1, 14): 1, (1, 15): 1, (1, 16): 0, (1, 17): 0, (2, 9): 1, (2, 10): 0, (2, 11): 0, (2, 12): 0, (2, 13): 0, (2, 14): 0, (2, 15): 0, (2, 16): 0, (2, 17): 1, (3, 9): 0, (3, 10): 1, (3, 11): 0, (3, 12): 0, (3, 13): 1, (3, 14): 0, (3, 15): 1, (3, 16): 1, (3, 17): 1, (4, 9): 0, (4, 10): 1, (4, 11): 0, (4, 12): 0, (4, 13): 1, (4, 14): 0, (4, 15): 1, (4, 16): 0, (4, 17): 1}, 2: {(0, 9): 1, (0, 10): 0, (0, 11): 1, (0, 12): 1, (0, 13): 0, (0, 14): 1, (0, 15): 0, (0, 16): 0, (0, 17): 0, (1, 9): 0, (1, 10): 1, (1, 11): 0, (1, 12): 1, (1, 13): 1, (1, 14): 1, (1, 15): 0, (1, 16): 0, (1, 17): 0, (2, 9): 1, (2, 10): 1, (2, 11): 1, (2, 12): 0, (2, 13): 0, (2, 14): 1, (2, 15): 0, (2, 16): 1, (2, 17): 0, (3, 9): 1, (3, 10): 1, (3, 11): 0, (3, 12): 0, (3, 13): 0, (3, 14): 1, (3, 15): 0, (3, 16): 1, (3, 17): 0, (4, 9): 0, (4, 10): 0, (4, 11): 1, (4, 12): 0, (4, 13): 1, (4, 14): 0, (4, 15): 1, (4, 16): 1, (4, 17): 0}, 3: {(0, 9): 1, (0, 10): 1, (0, 11): 1, (0, 12): 0, (0, 13): 1, (0, 14): 1, (0, 15): 1, (0, 16): 1, (0, 17): 1, (1, 9): 1, (1, 10): 0, (1, 11): 1, (1, 12): 0, (1, 13): 1, (1, 14): 1, (1, 15): 1, (1, 16): 0, (1, 17): 1, (2, 9): 1, (2, 10): 1, (2, 11): 0, (2, 12): 0, (2, 13): 1, (2, 14): 1, (2, 15): 1, (2, 16): 0, (2, 17): 1, (3, 9): 1, (3, 10): 0, (3, 11): 0, (3, 12): 1, (3, 13): 1, (3, 14): 1, (3, 15): 1, (3, 16): 1, (3, 17): 1, (4, 9): 0, (4, 10): 0, (4, 11): 1, (4, 12): 0, (4, 13): 0, (4, 14): 1, (4, 15): 0, (4, 16): 1, (4, 17): 1}, 4: {(0, 9): 1, (0, 10): 1, (0, 11): 0, (0, 12): 1, (0, 13): 0, (0, 14): 1, (0, 15): 0, (0, 16): 0, (0, 17): 1, (1, 9): 1, (1, 10): 0, (1, 11): 1, (1, 12): 0, (1, 13): 1, (1, 14): 1, (1, 15): 0, (1, 16): 0, (1, 17): 0, (2, 9): 0, (2, 10): 1, (2, 11): 1, (2, 12): 1, (2, 13): 1, (2, 14): 0, (2, 15): 1, (2, 16): 1, (2, 17): 1, (3, 9): 0, (3, 10): 0, (3, 11): 0, (3, 12): 0, (3, 13): 1, (3, 14): 0, (3, 15): 1, (3, 16): 1, (3, 17): 0, (4, 9): 0, (4, 10): 0, (4, 11): 1, (4, 12): 1, (4, 13): 1, (4, 14): 1, (4, 15): 1, (4, 16): 0, (4, 17): 1}, 5: {(0, 9): 0, (0, 10): 1, (0, 11): 0, (0, 12): 1, (0, 13): 0, (0, 14): 0, (0, 15): 0, (0, 16): 0, (0, 17): 1, (1, 9): 0, (1, 10): 0, (1, 11): 1, (1, 12): 0, (1, 13): 1, (1, 14): 0, (1, 15): 0, (1, 16): 1, (1, 17): 0, (2, 9): 0, (2, 10): 0, (2, 11): 1, (2, 12): 0, (2, 13): 1, (2, 14): 0, (2, 15): 0, (2, 16): 0, (2, 17): 0, (3, 9): 1, (3, 10): 1, (3, 11): 1, (3, 12): 1, (3, 13): 0, (3, 14): 0, (3, 15): 0, (3, 16): 0, (3, 17): 0, (4, 9): 1, (4, 10): 0, (4, 11): 0, (4, 12): 0, (4, 13): 0, (4, 14): 0, (4, 15): 1, (4, 16): 0, (4, 17): 0}, 6: {(0, 9): 0, (0, 10): 1, (0, 11): 1, (0, 12): 1, (0, 13): 1, (0, 14): 0, (0, 15): 0, (0, 16): 0, (0, 17): 0, (1, 9): 1, (1, 10): 0, (1, 11): 0, (1, 12): 1, (1, 13): 0, (1, 14): 1, (1, 15): 0, (1, 16): 0, (1, 17): 1, (2, 9): 1, (2, 10): 1, (2, 11): 0, (2, 12): 0, (2, 13): 0, (2, 14): 0, (2, 15): 1, (2, 16): 1, (2, 17): 1, (3, 9): 0, (3, 10): 1, (3, 11): 1, (3, 12): 1, (3, 13): 0, (3, 14): 1, (3, 15): 0, (3, 16): 1, (3, 17): 0, (4, 9): 0, (4, 10): 0, (4, 11): 0, (4, 12): 1, (4, 13): 0, (4, 14): 0, (4, 15): 1, (4, 16): 0, (4, 17): 1}, 7: {(0, 9): 0, (0, 10): 1, (0, 11): 1, (0, 12): 1, (0, 13): 0, (0, 14): 1, (0, 15): 0, (0, 16): 0, (0, 17): 0, (1, 9): 0, (1, 10): 0, (1, 11): 1, (1, 12): 0, (1, 13): 0, (1, 14): 1, (1, 15): 1, (1, 16): 0, (1, 17): 1, (2, 9): 0, (2, 10): 0, (2, 11): 1, (2, 12): 1, (2, 13): 0, (2, 14): 1, (2, 15): 1, (2, 16): 0, (2, 17): 0, (3, 9): 1, (3, 10): 1, (3, 11): 0, (3, 12): 1, (3, 13): 1, (3, 14): 0, (3, 15): 0, (3, 16): 0, (3, 17): 1, (4, 9): 1, (4, 10): 1, (4, 11): 1, (4, 12): 0, (4, 13): 0, (4, 14): 0, (4, 15): 1, (4, 16): 0, (4, 17): 0}, 8: {(0, 9): 0, (0, 10): 1, (0, 11): 0, (0, 12): 0, (0, 13): 1, (0, 14): 1, (0, 15): 1, (0, 16): 1, (0, 17): 0, (1, 9): 0, (1, 10): 0, (1, 11): 0, (1, 12): 0, (1, 13): 0, (1, 14): 1, (1, 15): 1, (1, 16): 0, (1, 17): 0, (2, 9): 1, (2, 10): 1, (2, 11): 0, (2, 12): 1, (2, 13): 0, (2, 14): 1, (2, 15): 0, (2, 16): 0, (2, 17): 1, (3, 9): 1, (3, 10): 1, (3, 11): 1, (3, 12): 1, (3, 13): 1, (3, 14): 0, (3, 15): 0, (3, 16): 1, (3, 17): 1, (4, 9): 1, (4, 10): 0, (4, 11): 0, (4, 12): 1, (4, 13): 0, (4, 14): 1, (4, 15): 1, (4, 16): 0, (4, 17): 0}, 9: {(0, 9): 1, (0, 10): 1, (0, 11): 0, (0, 12): 0, (0, 13): 1, (0, 14): 0, (0, 15): 0, (0, 16): 1, (0, 17): 1, (1, 9): 0, (1, 10): 0, (1, 11): 1, (1, 12): 1, (1, 13): 1, (1, 14): 0, (1, 15): 1, (1, 16): 1, (1, 17): 0, (2, 9): 1, (2, 10): 1, (2, 11): 1, (2, 12): 1, (2, 13): 1, (2, 14): 1, (2, 15): 1, (2, 16): 0, (2, 17): 1, (3, 9): 0, (3, 10): 0, (3, 11): 0, (3, 12): 0, (3, 13): 0, (3, 14): 1, (3, 15): 1, (3, 16): 0, (3, 17): 1, (4, 9): 0, (4, 10): 0, (4, 11): 0, (4, 12): 1, (4, 13): 0, (4, 14): 0, (4, 15): 0, (4, 16): 1, (4, 17): 1}}\n"
     ]
    }
   ],
   "source": [
    "from ortools.linear_solver import pywraplp\n",
    "from random import randint\n",
    "\n",
    "solver = pywraplp.Solver.CreateSolver('SCIP')\n",
    "\n",
    "S = 2\n",
    "P = 2\n",
    "C = 4\n",
    "\n",
    "# CP = {projeto: [colaboradores]}   CP -> colaboradores do projeto\n",
    "CP = {\n",
    "    0: [0,1,3],\n",
    "    1: [0,2,3]\n",
    "}\n",
    "\n",
    "\n",
    "# projects_in = {colab: {project: 1(True) ou 0(False)}}  - dicionário que diz em que projetos o colaborador c está envolvido\n",
    "projects_in = {\n",
    "    0: {0:1,\n",
    "        1:1},\n",
    "    \n",
    "    1: {0:1,\n",
    "        1:0},\n",
    "    \n",
    "    2: {0:0,\n",
    "        1:1},\n",
    "    \n",
    "    3: {0:1,\n",
    "        1:1}\n",
    "}\n",
    "\n",
    "# {projeto: lider}  LP -> Líder do projeto\n",
    "LP = {\n",
    "      0: 1,\n",
    "      1: 2\n",
    "}\n",
    "\n",
    "\n",
    "\n",
    "\n",
    "T = gera_slots(5,9,18)\n",
    "disp = gera_disponibilidade(C,T)\n",
    "print(disp)\n",
    "\n",
    "\n",
    "\n"
   ]
  },
  {
   "cell_type": "markdown",
   "id": "9552c97c",
   "metadata": {},
   "source": [
    "## Exemplo 2"
   ]
  },
  {
   "cell_type": "code",
   "execution_count": 4,
   "id": "e3840483",
   "metadata": {},
   "outputs": [
    {
     "name": "stdout",
     "output_type": "stream",
     "text": [
      "{0: {(0, 9): 1, (0, 10): 1, (0, 11): 0, (0, 12): 1, (0, 13): 0, (1, 9): 1, (1, 10): 1, (1, 11): 1, (1, 12): 0, (1, 13): 1, (2, 9): 0, (2, 10): 1, (2, 11): 0, (2, 12): 0, (2, 13): 1}, 1: {(0, 9): 1, (0, 10): 0, (0, 11): 0, (0, 12): 1, (0, 13): 0, (1, 9): 1, (1, 10): 0, (1, 11): 0, (1, 12): 0, (1, 13): 0, (2, 9): 1, (2, 10): 0, (2, 11): 0, (2, 12): 0, (2, 13): 0}, 2: {(0, 9): 0, (0, 10): 0, (0, 11): 1, (0, 12): 1, (0, 13): 1, (1, 9): 1, (1, 10): 1, (1, 11): 0, (1, 12): 0, (1, 13): 0, (2, 9): 1, (2, 10): 0, (2, 11): 0, (2, 12): 0, (2, 13): 1}}\n"
     ]
    }
   ],
   "source": [
    "from ortools.linear_solver import pywraplp\n",
    "from random import randint\n",
    "\n",
    "solver = pywraplp.Solver.CreateSolver('SCIP')\n",
    "\n",
    "S = 2\n",
    "P = 2\n",
    "C = 3\n",
    "\n",
    "# CP = {projeto: [colaboradores]}   CP -> colaboradores do projeto\n",
    "CP = {\n",
    "    0: [0,1,2],\n",
    "    1: [0,1]\n",
    "}\n",
    "\n",
    "\n",
    "# projects_in = {colab: {project: 1(True) ou 0(False)}}  - dicionário que diz em que projetos o colaborador c está envolvido\n",
    "projects_in = {\n",
    "    0: {0:1,\n",
    "        1:1},\n",
    "    \n",
    "    1: {0:1,\n",
    "        1:1},\n",
    "    \n",
    "    2: {0:1,\n",
    "        1:0}\n",
    "}\n",
    "\n",
    "# {projeto: lider}  LP -> Líder do projeto\n",
    "LP = {\n",
    "      0: 1,\n",
    "      1: 0\n",
    "}\n",
    "\n",
    "\n",
    "reunioes_semanais = 3\n",
    "\n",
    "\n",
    "T = gera_slots(3,9,14)\n",
    "disp = gera_disponibilidade(C,T)\n",
    "print(disp)"
   ]
  },
  {
   "cell_type": "markdown",
   "id": "234b354f",
   "metadata": {},
   "source": [
    "#### Matriz de alocação de reuniões\n",
    "A matriz A serve para alocar reuniões de projetos $p$ em salas $s$ no slot $t$\n",
    "tem-se então\n",
    "$$ \\forall_{p < P}. \\forall_{s < S}. \\forall_{t < T}. A_{p,s,t} == 1 $$  se e só se existe uma reunião $ p $ na sala $s$ no slot $t$ "
   ]
  },
  {
   "cell_type": "code",
   "execution_count": 13,
   "id": "82a24b7b",
   "metadata": {},
   "outputs": [],
   "source": [
    "# Matriz de alocação de reuniões\n",
    "A = {}\n",
    "for p in range(P):\n",
    "    A[p] = {}\n",
    "    for s in range(S):\n",
    "        A[p][s] = {}\n",
    "        for t in T:\n",
    "            A[p][s][t] = solver.BoolVar(f'A[{p}],[{s}],[{t}]')\n",
    "                            "
   ]
  },
  {
   "cell_type": "markdown",
   "id": "4f00d4c2",
   "metadata": {},
   "source": [
    "#### Matriz de alocação de colaboradores a uma reunião\n",
    "A matriz R serve para alocar colaboradores a reuniões\n",
    "tem-se então\n",
    "$$\\forall_{c < C} \\forall_{p < P}. \\forall_{s < S}. \\forall_{t < T}. R_{x,p,s,t} == 1 $$  se e só se um colaborador tem uma reunião do projeto $p$ na sala $s$ no slot $t$ "
   ]
  },
  {
   "cell_type": "code",
   "execution_count": 14,
   "id": "55a2e89b",
   "metadata": {},
   "outputs": [],
   "source": [
    "# Matriz de alocação de colaboradores a uma reunião\n",
    "R = {}\n",
    "for c in range(C):\n",
    "    R[c] = {}\n",
    "    for p in range(P):\n",
    "        R[c][p] = {}\n",
    "        for s in range(S):\n",
    "            R[c][p][s] = {}\n",
    "            for t in T:\n",
    "                R[c][p][s][t] = solver.BoolVar(f'R[{c},{p},{s},{t}]')\n"
   ]
  },
  {
   "cell_type": "markdown",
   "id": "770bfc53",
   "metadata": {},
   "source": [
    "### Restrições"
   ]
  },
  {
   "cell_type": "code",
   "execution_count": 15,
   "id": "aa070927",
   "metadata": {},
   "outputs": [],
   "source": [
    "# Condições para as reuniões na empresa\n",
    "# Não pode haver mais do que 1 reunião numa sala num slot - Certo\n",
    "for s in range(S):\n",
    "    for t in T:\n",
    "        solver.Add( (sum(A[p][s][t] for p in range(P))) <= 1)\n",
    "\n",
    "# Cada projeto tem x reuniões semanais - Certo\n",
    "for p in range(P):\n",
    "    solver.Add( sum(A[p][s][t] for s in range(S) for t in T) == reunioes_semanais)\n",
    "\n",
    "    \n",
    "# A assiduidade a cada reunião tem de ser superior a 50% - Certo (ter em atenção a divisão, alterar depois)\n",
    "for p in range(P):\n",
    "    for s in range(S):\n",
    "        for t in T:\n",
    "            solver.Add ( (sum(R[c][p][s][t] for c in range(C)) / len(CP[p])) >= 0.5*R[LP[p]][p][s][t] )\n",
    "\n",
    "    \n",
    "# -------------------------------------------------------------------------------------- #\n",
    "        \n",
    "# Condições para alocar um colaborador a uma reunião\n",
    "\n",
    "# O colaborador só pode ir à reunião se tiver alocado ao projeto - Certo, mas requer review do Pedro\n",
    "for p in range(P):\n",
    "    for c in range(C):\n",
    "        for s in range(S):\n",
    "            for t in T:\n",
    "                solver.Add( R[c][p][s][t] <= A[p][s][t] * projects_in[c][p])\n",
    "                \n",
    "                \n",
    "# Disponibilidade dos colaboradores - Certo\n",
    "for c in range(C):\n",
    "    for p in range(P):\n",
    "        for s in range(S):\n",
    "            for t in T:\n",
    "                solver.Add( R[c][p][s][t] <= disp[c][t])\n",
    "                \n",
    "# Um colaborador só pode estar em reunião se a reunião estiver marcada - Certo\n",
    "for t in T:\n",
    "    for s in range(S):\n",
    "        for p in range(P):\n",
    "            for c in range(C):\n",
    "                solver.Add( R[c][p][s][t] <= A[p][s][t])\n",
    "        \n",
    "                 \n",
    "# O Líder tem que ir a todas as reuniões do projeto no qual é líder - Duvidosa, falar com o Pedro\n",
    "for p in range(P):\n",
    "    for s in range(S):\n",
    "        for t in T:\n",
    "            solver.Add( R[LP[p]][p][s][t] == A[p][s][t] )\n",
    "\n",
    "        \n",
    "# Um colaborador não pode estar em duas reuniões em simultâneo - Certo\n",
    "for c in range(C):\n",
    "    for t in T:\n",
    "        solver.Add( (sum(R[c][p][s][t] for s in range(S) for p in range(P))) <= 1)\n"
   ]
  },
  {
   "cell_type": "code",
   "execution_count": 16,
   "id": "b4caf2cd",
   "metadata": {},
   "outputs": [],
   "source": [
    "from tabulate import tabulate\n",
    "\n",
    "def print_table(hMin, hMax, dMax, A, R):\n",
    "    table = [[x] for x in range(hMin, hMax)]\n",
    "    fst_line = [\"Slots\"]\n",
    "    for t in T:\n",
    "        if (\"Dia \" + str(t[0])) not in fst_line:\n",
    "            fst_line.append(\"Dia \" + str(t[0]))\n",
    "    table.insert(0,fst_line)\n",
    "    \n",
    "    for d in range(0,dMax):\n",
    "        for t in range(hMin, hMax):\n",
    "            table[t+1-hMin].insert(d+1, \"\")\n",
    "            for p in range(0, P):\n",
    "                for s in range(0, S):  \n",
    "                    if int(A[p][s][(d,t)].solution_value()) == 1:\n",
    "                        table[t+1-hMin][d+1] += (\"Projeto %i - sala %i\\nColabs: \" % (p,s)) \n",
    "                        for c in range(0, C):\n",
    "                            if int(R[c][p][s][(d,t)].solution_value()) == 1:\n",
    "                                table[t+1-hMin][d+1] += f\"{c}  \"\n",
    "                        table[t+1-hMin][d+1] = table[t+1-hMin][d+1][:-2]\n",
    "    print(tabulate(table))\n"
   ]
  },
  {
   "cell_type": "code",
   "execution_count": 17,
   "id": "dc6e1e32",
   "metadata": {
    "scrolled": false
   },
   "outputs": [
    {
     "name": "stdout",
     "output_type": "stream",
     "text": [
      "-----  ------------------  ------------------  ------------------  ------------------  -----\n",
      "Slots  Dia 0               Dia 1               Dia 2               Dia 3               Dia 4\n",
      "9                                                                  Projeto 0 - sala 0\n",
      "                                                                   Colabs: 1  3\n",
      "10\n",
      "11                                             Projeto 1 - sala 0\n",
      "                                               Colabs: 0  2  3\n",
      "12     Projeto 0 - sala 0\n",
      "       Colabs: 0  1\n",
      "13                         Projeto 0 - sala 0\n",
      "                           Colabs: 0  1  3\n",
      "14\n",
      "15\n",
      "16                         Projeto 1 - sala 0  Projeto 1 - sala 0\n",
      "                           Colabs: 0  2        Colabs: 0  2\n",
      "17\n",
      "-----  ------------------  ------------------  ------------------  ------------------  -----\n"
     ]
    }
   ],
   "source": [
    "from tabulate import tabulate\n",
    "status = solver.Solve()\n",
    "\n",
    "if status == pywraplp.Solver.OPTIMAL:\n",
    "    print_table(9, 18, 5, A, R)\n",
    "else:\n",
    "    print(\"No solution found\")"
   ]
  },
  {
   "cell_type": "code",
   "execution_count": null,
   "id": "2a93fd45",
   "metadata": {},
   "outputs": [],
   "source": []
  }
 ],
 "metadata": {
  "kernelspec": {
   "display_name": "Python 3 (ipykernel)",
   "language": "python",
   "name": "python3"
  },
  "language_info": {
   "codemirror_mode": {
    "name": "ipython",
    "version": 3
   },
   "file_extension": ".py",
   "mimetype": "text/x-python",
   "name": "python",
   "nbconvert_exporter": "python",
   "pygments_lexer": "ipython3",
   "version": "3.10.4"
  }
 },
 "nbformat": 4,
 "nbformat_minor": 5
}
