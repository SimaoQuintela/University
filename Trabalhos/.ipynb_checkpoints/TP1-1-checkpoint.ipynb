{
 "cells": [
  {
   "cell_type": "markdown",
   "id": "4266744b",
   "metadata": {},
   "source": [
    "# TP1\n"
   ]
  },
  {
   "cell_type": "markdown",
   "id": "dae2caf1",
   "metadata": {},
   "source": [
    "## Propósito do trabalho"
   ]
  },
  {
   "cell_type": "markdown",
   "id": "8a3d025f",
   "metadata": {},
   "source": [
    "\n",
    "O propósito deste trabalho é a análise de problemas de alocação usando técnicas de SAT,  em lógica proposicional, e IP em lógica linear inteira.\n"
   ]
  },
  {
   "cell_type": "markdown",
   "id": "1b922fcf",
   "metadata": {},
   "source": [
    "## Enunciado"
   ]
  },
  {
   "cell_type": "markdown",
   "id": "66296ee1",
   "metadata": {},
   "source": [
    "### Problema 1"
   ]
  },
  {
   "cell_type": "markdown",
   "id": "cf589e0c",
   "metadata": {},
   "source": [
    "\n",
    "1. Pretende-se construir um horário semanal para o plano de reuniões de projeto de uma “StartUp” de acordo com as seguintes condições:\n",
    "\n",
    "    1. Cada reunião ocupa uma sala (enumeradas $1...S\\,$) durante um “slot”  $1..T\\,$ $(\\text{hora},\\text{dia})$.  \n",
    "    2.  Cada reunião tem associado um projeto (enumerados $1..P$) e um conjunto de participantes. Os diferentes colaboradores são enumerados $1..C$.\n",
    "    3. Cada projeto tem associado um conjunto de colaboradores, dos quais um  é o líder. Cada projeto realiza um dado número de reuniões semanais. \n",
    "    4. O líder do projeto participa em todas as reuniões do seu projeto; os restantes colaboradores podem ou não participar consoante a sua disponibilidade, num mínimo (“quorum”) de  $50\\%$ do total de colaboradores do projeto.\n",
    "    \n",
    "   São “inputs” do problema:\n",
    "      1. Os parâmetros $S\\,,\\,T\\,,\\,P\\,,\\,C$\n",
    "      2. O conjunto de colaboradores de cada projeto, o seu líder e o número de reuniões semanais.\n",
    "      3. A disponibilidade de cada participante, incluindo o lider. Essa disponibilidade é um conjunto de “slots\"  representada numa matriz booleana de acessibilidade com uma linha por cada participante $1..C$ e uma coluna por “slot” $\\,1..T\\,$\n",
    "   \n",
    "   São critérios de optimização:\n",
    "      1. Maximizar o número de reuniões efetivamente realizadas\n",
    "      2. Minimizar o número médio de reuniões por participante.\n"
   ]
  },
  {
   "cell_type": "markdown",
   "id": "fc3a1d48",
   "metadata": {},
   "source": [
    "## Resolução"
   ]
  },
  {
   "cell_type": "markdown",
   "id": "448e0f4d",
   "metadata": {},
   "source": [
    "### Variáveis do programa"
   ]
  },
  {
   "cell_type": "markdown",
   "id": "550f0568",
   "metadata": {},
   "source": [
    "    S - Número de salas \n",
    "    P - Número de projetos \n",
    "    C - Número de colaboradores\n",
    "    T - Lista de slots (dia, hora)\n",
    "    CP - Dicionário em que as chaves são o id dum projeto e o valor correspondente é a lista de colaboradores associados ao projeto \n",
    "    LP - Dicionário em que as chaves são o id dum projeto e o valor correspondente é o id do líder desse projeto\n",
    "    projects_in - Dicionário em que as chaves são o id de um colaborador e os values são os projetos a que esse colaborador está associado"
   ]
  },
  {
   "cell_type": "code",
   "execution_count": 4,
   "id": "5051c9a3",
   "metadata": {},
   "outputs": [],
   "source": [
    "def gera_slots(d, h_min, h_max):\n",
    "    slots = []\n",
    "    for i in range(d):\n",
    "        for j in range(h_min, h_max):\n",
    "            slots.append((i,j))\n",
    "    return slots"
   ]
  },
  {
   "cell_type": "code",
   "execution_count": 5,
   "id": "cbb55de0",
   "metadata": {},
   "outputs": [],
   "source": [
    "def gera_disponibilidade(C,T):\n",
    "    disp = {}\n",
    "    for c in range(C):\n",
    "        disp[c] = {}\n",
    "        for t in T:\n",
    "            disp[c][t] = randint(0,1)\n",
    "    return disp"
   ]
  },
  {
   "cell_type": "code",
   "execution_count": 26,
   "id": "5ca2395a",
   "metadata": {},
   "outputs": [],
   "source": [
    "def gera_projects_in(CP, C):\n",
    "    projects_in = {}\n",
    "    \n",
    "    for c in range(C):\n",
    "        projects_in[c] = {}\n",
    "        for p in CP:\n",
    "            if c in CP[p]:\n",
    "                projects_in[c][p] = 1\n",
    "            else:\n",
    "                projects_in[c][p] = 0\n",
    "                \n",
    "        \n",
    "        \n",
    "    return projects_in"
   ]
  },
  {
   "cell_type": "code",
   "execution_count": 27,
   "id": "352a43b6",
   "metadata": {},
   "outputs": [],
   "source": [
    "from tabulate import tabulate\n",
    "\n",
    "def print_disponibilidade(disp, hMin, hMax, dMax):\n",
    "    for c in disp:\n",
    "        print('\\nDisponibilidade do colaborador '+str(c))\n",
    "\n",
    "        table = [[x] for x in range(hMin, hMax)]\n",
    "        fst_line = [\"Slots\"]\n",
    "        for t in T:\n",
    "            if (\"Dia \" + str(t[0])) not in fst_line:\n",
    "                fst_line.append(\"Dia \" + str(t[0]))\n",
    "        table.insert(0,fst_line)\n",
    "        \n",
    "        for d in range(0,dMax):\n",
    "            for t in range(hMin, hMax):\n",
    "                table[t+1-hMin].insert(d+1, \"\")\n",
    "                if (disp[c][(d,t)]) == 0:\n",
    "                    table[t+1-hMin][d+1] = \"X\"\n",
    "        \n",
    "        print(tabulate(table))"
   ]
  },
  {
   "cell_type": "code",
   "execution_count": 28,
   "id": "42e12f17",
   "metadata": {},
   "outputs": [],
   "source": [
    "from tabulate import tabulate\n",
    "\n",
    "def print_table(hMin, hMax, dMax, A, R):\n",
    "    table = [[x] for x in range(hMin, hMax)]\n",
    "    fst_line = [\"Slots\"]\n",
    "    for t in T:\n",
    "        if (\"Dia \" + str(t[0])) not in fst_line:\n",
    "            fst_line.append(\"Dia \" + str(t[0]))\n",
    "    table.insert(0,fst_line)\n",
    "    \n",
    "    for d in range(0,dMax):\n",
    "        for t in range(hMin, hMax):\n",
    "            table[t+1-hMin].insert(d+1, \"\")\n",
    "            for p in range(0, P):\n",
    "                for s in range(0, S):  \n",
    "                    if int(A[p][s][(d,t)].solution_value()) == 1:\n",
    "                        table[t+1-hMin][d+1] += (\"\\nProj %i - S %i\\nCols: \" % (p,s)) \n",
    "                        for c in range(0, C):\n",
    "                            if int(R[c][p][s][(d,t)].solution_value()) == 1:\n",
    "                                table[t+1-hMin][d+1] += f\"{c}  \"\n",
    "                        table[t+1-hMin][d+1] = table[t+1-hMin][d+1][:-2]\n",
    "    print(tabulate(table))"
   ]
  },
  {
   "cell_type": "markdown",
   "id": "73bd8823",
   "metadata": {},
   "source": [
    "## Exemplo 1"
   ]
  },
  {
   "cell_type": "code",
   "execution_count": 30,
   "id": "6fc4771a",
   "metadata": {},
   "outputs": [
    {
     "name": "stdout",
     "output_type": "stream",
     "text": [
      "{0: {0: 1, 1: 1}, 1: {0: 1, 1: 0}, 2: {0: 0, 1: 1}, 3: {0: 1, 1: 1}}\n",
      "\n",
      "Disponibilidade do colaborador 0\n",
      "-----  -----  -----  -----  -----  -----\n",
      "Slots  Dia 0  Dia 1  Dia 2  Dia 3  Dia 4\n",
      "9                           X      X\n",
      "10     X      X             X\n",
      "11     X      X\n",
      "12     X             X             X\n",
      "13            X             X\n",
      "14            X      X             X\n",
      "15     X\n",
      "16                          X      X\n",
      "17     X                    X\n",
      "-----  -----  -----  -----  -----  -----\n",
      "\n",
      "Disponibilidade do colaborador 1\n",
      "-----  -----  -----  -----  -----  -----\n",
      "Slots  Dia 0  Dia 1  Dia 2  Dia 3  Dia 4\n",
      "9             X             X      X\n",
      "10     X                    X      X\n",
      "11     X      X\n",
      "12     X             X\n",
      "13     X      X\n",
      "14     X             X\n",
      "15     X      X      X      X      X\n",
      "16     X      X      X             X\n",
      "17     X      X\n",
      "-----  -----  -----  -----  -----  -----\n",
      "\n",
      "Disponibilidade do colaborador 2\n",
      "-----  -----  -----  -----  -----  -----\n",
      "Slots  Dia 0  Dia 1  Dia 2  Dia 3  Dia 4\n",
      "9      X             X      X\n",
      "10            X             X\n",
      "11     X      X             X\n",
      "12            X      X\n",
      "13            X\n",
      "14            X\n",
      "15            X      X      X\n",
      "16            X             X      X\n",
      "17     X      X      X\n",
      "-----  -----  -----  -----  -----  -----\n",
      "\n",
      "Disponibilidade do colaborador 3\n",
      "-----  -----  -----  -----  -----  -----\n",
      "Slots  Dia 0  Dia 1  Dia 2  Dia 3  Dia 4\n",
      "9                    X      X      X\n",
      "10     X      X             X\n",
      "11     X             X      X      X\n",
      "12     X             X      X\n",
      "13     X      X                    X\n",
      "14            X                    X\n",
      "15     X      X             X      X\n",
      "16     X             X             X\n",
      "17                          X      X\n",
      "-----  -----  -----  -----  -----  -----\n"
     ]
    }
   ],
   "source": [
    "from ortools.linear_solver import pywraplp\n",
    "from random import randint\n",
    "\n",
    "solver = pywraplp.Solver.CreateSolver('SCIP')\n",
    "\n",
    "S = 2\n",
    "P = 2\n",
    "C = 4\n",
    "\n",
    "# CP = {projeto: [colaboradores]}   CP -> colaboradores do projeto\n",
    "CP = {\n",
    "    0: [0,1,3],\n",
    "    1: [0,2,3]\n",
    "}\n",
    "\n",
    "\n",
    "# projects_in = {colab: {project: 1(True) ou 0(False)}}  - dicionário que diz em que projetos o colaborador c está envolvido\n",
    "projects_in = gera_projects_in(CP, C)\n",
    "print(projects_in)\n",
    "'''\n",
    "projects_in = {\n",
    "    0: {0:1,\n",
    "        1:1},\n",
    "    \n",
    "    1: {0:1,\n",
    "        1:0},\n",
    "    \n",
    "    2: {0:0,\n",
    "        1:1},\n",
    "    \n",
    "    3: {0:1,\n",
    "        1:1}\n",
    "}\n",
    "'''\n",
    "\n",
    "# {projeto: lider}  LP -> Líder do projeto\n",
    "LP = {\n",
    "      0: 1,\n",
    "      1: 2\n",
    "}\n",
    "\n",
    "\n",
    "T = gera_slots(5,9,18)\n",
    "disp = gera_disponibilidade(C,T)\n",
    "reunioes_semanais = 5\n",
    "\n",
    "\n",
    "print_disponibilidade(disp, 9, 18, 5)\n",
    "\n",
    "\n",
    "\n"
   ]
  },
  {
   "cell_type": "markdown",
   "id": "9552c97c",
   "metadata": {},
   "source": [
    "## Exemplo 2"
   ]
  },
  {
   "cell_type": "code",
   "execution_count": null,
   "id": "e3840483",
   "metadata": {},
   "outputs": [],
   "source": [
    "from ortools.linear_solver import pywraplp\n",
    "from random import randint\n",
    "\n",
    "solver = pywraplp.Solver.CreateSolver('SCIP')\n",
    "\n",
    "#Para S=4 P=7 C=10 Nunca tive solução\n",
    "#Para S=4 P=5 C=7 Tive apenas uma vez solução\n",
    "\n",
    "\n",
    "S = 4\n",
    "P = 5\n",
    "C = 7\n",
    "\n",
    "# CP = {projeto: [colaboradores]}   CP -> colaboradores do projeto\n",
    "CP = {\n",
    "    0: [0,1,2,3,6],\n",
    "    1: [0,1,4,5],\n",
    "    2: [2,3],\n",
    "    3: [4,5,6],\n",
    "    4: [1,3,4,5]\n",
    "}\n",
    "'''\n",
    "CP = {\n",
    "    0: [0,1,2,3,6,8],\n",
    "    1: [0,1,4,5,9],\n",
    "    2: [2,3,7,8],\n",
    "    3: [4,5,6,7,9],\n",
    "    4: [1,3,4,5]\n",
    "}\n",
    "'''\n",
    "\n",
    "# projects_in = {colab: {project: 1(True) ou 0(False)}}  - dicionário que diz em que projetos o colaborador c está envolvido\n",
    "projects_in = gera_projects_in(CP, C)\n",
    "'''\n",
    "projects_in = {\n",
    "    0: {0:1,\n",
    "        1:1,\n",
    "        2:0,\n",
    "        3:0,\n",
    "        4:0},\n",
    "    \n",
    "    1: {0:1,\n",
    "        1:1,\n",
    "        2:0,\n",
    "        3:0,\n",
    "        4:1},\n",
    "    \n",
    "    2: {0:1,\n",
    "        1:0,\n",
    "        2:1,\n",
    "        3:0,\n",
    "        4:0},\n",
    "    \n",
    "    3: {0:1,\n",
    "        1:0,\n",
    "        2:1,\n",
    "        3:0,\n",
    "        4:1},\n",
    "    \n",
    "    4: {0:0,                         \n",
    "        1:1,\n",
    "        2:0,\n",
    "        3:1,\n",
    "        4:1},\n",
    "    \n",
    "    5: {0:0,\n",
    "        1:1,\n",
    "        2:0,\n",
    "        3:1,\n",
    "        4:1},\n",
    "    \n",
    "    6: {0:1,\n",
    "        1:0,\n",
    "        2:0,\n",
    "        3:1,\n",
    "        4:0},\n",
    "}\n",
    "'''\n",
    "'''\n",
    "    7: {0:0,\n",
    "        1:0,\n",
    "        2:1,\n",
    "        3:1,\n",
    "        4:0},\n",
    "    \n",
    "    8: {0:1,\n",
    "        1:0,\n",
    "        2:1,\n",
    "        3:0,\n",
    "        4:0},\n",
    "    \n",
    "    9: {0:0,\n",
    "        1:1,\n",
    "        2:0,\n",
    "        3:1,\n",
    "        4:0},\n",
    "'''\n",
    "\n",
    "\n",
    "\n",
    "# {projeto: lider}  LP -> Líder do projeto\n",
    "LP = {\n",
    "      0: 1,\n",
    "      1: 4,\n",
    "      2: 2,\n",
    "      3: 5,\n",
    "      4: 3\n",
    "}\n",
    "\n",
    "\n",
    "reunioes_semanais = 10\n",
    "\n",
    "\n",
    "T = gera_slots(5,9,19)\n",
    "disp = gera_disponibilidade(C,T)\n",
    "\n",
    "print_disponibilidade(disp, 9, 19, 5)"
   ]
  },
  {
   "cell_type": "markdown",
   "id": "234b354f",
   "metadata": {},
   "source": [
    "#### Matriz de alocação de reuniões\n",
    "A matriz A serve para alocar reuniões de projetos $p$ em salas $s$ no slot $t$\n",
    "tem-se então\n",
    "$$ \\forall_{p < P}. \\forall_{s < S}. \\forall_{t < T}. A_{p,s,t} == 1 $$  se e só se existe uma reunião $ p $ na sala $s$ no slot $t$ "
   ]
  },
  {
   "cell_type": "code",
   "execution_count": null,
   "id": "82a24b7b",
   "metadata": {},
   "outputs": [],
   "source": [
    "# Matriz de alocação de reuniões\n",
    "A = {}\n",
    "for p in range(P):\n",
    "    A[p] = {}\n",
    "    for s in range(S):\n",
    "        A[p][s] = {}\n",
    "        for t in T:\n",
    "            A[p][s][t] = solver.BoolVar(f'A[{p}],[{s}],[{t}]')\n",
    "\n",
    "                            "
   ]
  },
  {
   "cell_type": "markdown",
   "id": "4f00d4c2",
   "metadata": {},
   "source": [
    "#### Matriz de alocação de colaboradores a uma reunião\n",
    "A matriz R serve para alocar colaboradores a reuniões\n",
    "tem-se então\n",
    "$$\\forall_{c < C} \\forall_{p < P}. \\forall_{s < S}. \\forall_{t < T}. R_{x,p,s,t} == 1 $$  se e só se um colaborador tem uma reunião do projeto $p$ na sala $s$ no slot $t$ "
   ]
  },
  {
   "cell_type": "code",
   "execution_count": null,
   "id": "55a2e89b",
   "metadata": {},
   "outputs": [],
   "source": [
    "# Matriz de alocação de colaboradores a uma reunião\n",
    "R = {}\n",
    "for c in range(C):\n",
    "    R[c] = {}\n",
    "    for p in range(P):\n",
    "        R[c][p] = {}\n",
    "        for s in range(S):\n",
    "            R[c][p][s] = {}\n",
    "            for t in T:\n",
    "                R[c][p][s][t] = solver.BoolVar(f'R[{c},{p},{s},{t}]')\n"
   ]
  },
  {
   "cell_type": "markdown",
   "id": "770bfc53",
   "metadata": {},
   "source": [
    "### Restrições"
   ]
  },
  {
   "cell_type": "markdown",
   "id": "be5a278a",
   "metadata": {},
   "source": [
    "    1 - Disponibilidade dos colaboradores\n",
    "    \n",
    "$$ \\forall_{c < C}\\,\\forall_{p < P}\\,\\forall_{s < S} \\, \\forall_{t \\in T}\\, R_{c,p,s,t} \\leq disp_{c,t} $$\n",
    "\n",
    "Com esta restrição garantimos que só é alocada uma reunião a um colaborador $C$, num projeto $P$, numa sala $S$, num slot $T$ caso o colaborador $C$ esteja disponível.\n",
    "    "
   ]
  },
  {
   "cell_type": "code",
   "execution_count": null,
   "id": "08e5ddce",
   "metadata": {},
   "outputs": [],
   "source": [
    "# Disponibilidade dos colaboradores\n",
    "for c in range(C):\n",
    "    for p in range(P):\n",
    "        for s in range(S):\n",
    "            for t in T:\n",
    "                solver.Add( R[c][p][s][t] <= disp[c][t])"
   ]
  },
  {
   "cell_type": "markdown",
   "id": "5939a52b",
   "metadata": {},
   "source": [
    "    2 - Cada projeto tem X ou mais reuniões semanais\n",
    "$$ \\forall_{p < P}\\, \\sum_{s < S, t \\in T} A_{p,s,t} \\geq X$$\n",
    "Com esta restrição garantimos que um projeto $P$ tem **pelo menos** X reuniões semanais."
   ]
  },
  {
   "cell_type": "code",
   "execution_count": null,
   "id": "c102d686",
   "metadata": {},
   "outputs": [],
   "source": [
    "# Cada projeto tem x reuniões semanais - Certo\n",
    "for p in range(P):\n",
    "    solver.Add( sum(A[p][s][t] for s in range(S) for t in T) >= reunioes_semanais)\n"
   ]
  },
  {
   "cell_type": "markdown",
   "id": "5212ca5b",
   "metadata": {},
   "source": [
    "    3 - Não pode haver mais do que 1 reunião numa sala num slot\n",
    "$$ \\forall_{s < S}\\, \\forall_{t \\in T} \\sum_{p < P} A_{p,s,t} \\leq 1 $$\n",
    "Com esta restrição garantimos que numa sala $S$, num slot $T$, apenas está alocada uma ou nenhuma reunião.  "
   ]
  },
  {
   "cell_type": "code",
   "execution_count": null,
   "id": "83a0c787",
   "metadata": {},
   "outputs": [],
   "source": [
    "# Não pode haver mais do que 1 reunião numa sala num slot\n",
    "for s in range(S):\n",
    "    for t in T:\n",
    "        solver.Add( (sum(A[p][s][t] for p in range(P))) <= 1)"
   ]
  },
  {
   "cell_type": "markdown",
   "id": "fbc17ac7",
   "metadata": {},
   "source": [
    "    4 - O colaborador só pode ir à reunião se tiver alocado ao projeto\n",
    "$$ \\forall_{p < P}\\,\\forall_{c < C}\\,\\forall_{s < S} \\, \\forall_{t \\in T}\\, R_{c,p,s,t} \\leq A_{p,s,t} \\times projectsIn_{c,p} $$\n",
    "\n",
    "Com esta restrição garantimos que um colaborador $C$ só será alocado a uma reunião num projeto $P$, numa sala $S$, num slot $T$ caso este esteja alocado ao projeto $P$ correspondente.\n",
    "    "
   ]
  },
  {
   "cell_type": "code",
   "execution_count": null,
   "id": "0680927b",
   "metadata": {},
   "outputs": [],
   "source": [
    "# O colaborador só pode ir à reunião se tiver alocado ao projeto \n",
    "for p in range(P):\n",
    "    for c in range(C):\n",
    "        for s in range(S):\n",
    "            for t in T:\n",
    "                solver.Add( R[c][p][s][t] <= A[p][s][t] * projects_in[c][p])\n",
    "                "
   ]
  },
  {
   "cell_type": "markdown",
   "id": "7f9480de",
   "metadata": {},
   "source": [
    "    5 - Um colaborador só pode ser alocado a uma reunião se esta estiver marcada\n",
    "$$ \\forall_{t < T}\\,\\forall_{s < T}\\,\\forall_{p < P} \\, \\forall_{c \\in C}\\, R_{c,p,s,t} \\leq A_{p,s,t} $$\n",
    "\n",
    "Com esta restrição garantimos que um colaborador $C$ só será alocado a uma reunião num slot $T$, numa sala $S$, a um projeto $P$ caso a reunião tenha sido marcada."
   ]
  },
  {
   "cell_type": "code",
   "execution_count": null,
   "id": "66cdbaed",
   "metadata": {},
   "outputs": [],
   "source": [
    "# Um colaborador só pode estar em reunião se esta estiver marcada \n",
    "for t in T:\n",
    "    for s in range(S):\n",
    "        for p in range(P):\n",
    "            for c in range(C):\n",
    "                solver.Add( R[c][p][s][t] <= A[p][s][t])"
   ]
  },
  {
   "cell_type": "markdown",
   "id": "2ea03b31",
   "metadata": {},
   "source": [
    "    6 - O líder tem que ir a todas as reuniões do projeto no qual é líder\n",
    "$$ \\forall_{p < P, s < S, t \\in T} R_{LP_{p},p,s,t} = A_{p,s,t} $$\n",
    "Com esta restrição garantimos que qualquer líder de um projeto $P$ tem de estar presente em todas as reuniões do projeto $P$ numa sala $S$, num slot $T$."
   ]
  },
  {
   "cell_type": "code",
   "execution_count": null,
   "id": "daff0d67",
   "metadata": {},
   "outputs": [],
   "source": [
    "# O Líder tem que ir a todas as reuniões do projeto no qual é líder\n",
    "for p in range(P):\n",
    "    for s in range(S):\n",
    "        for t in T:\n",
    "            solver.Add( R[LP[p]][p][s][t] == A[p][s][t] )"
   ]
  },
  {
   "cell_type": "markdown",
   "id": "14e51c8b",
   "metadata": {},
   "source": [
    "    7 - A assiduidade a cada reunião tem de ser superior a 50%\n",
    "    CPp dá-nos a lista com os colaboradores do projeto P\n",
    "$$ \\forall_{p < P, s < S, t \\in T} \\frac{\\sum_{c < C} R_{c,p,s,t}}{len(CP_{p})} $$\n",
    "\n",
    "Com esta restrição garantimos que para qualquer projeto $P$, numa sala $S$, num slot $T$, a assiduidade é de, pelo menos, 50% face ao número de colaboradores existentes no projeto $P$.\n",
    "\n",
    "    "
   ]
  },
  {
   "cell_type": "code",
   "execution_count": null,
   "id": "e4a2e5c3",
   "metadata": {},
   "outputs": [],
   "source": [
    "# A assiduidade a cada reunião tem de ser superior a 50%\n",
    "for p in range(P):\n",
    "    for s in range(S):\n",
    "        for t in T:\n",
    "            solver.Add ( (sum(R[c][p][s][t] for c in range(C)) / len(CP[p])) >= 0.5*R[LP[p]][p][s][t] )"
   ]
  },
  {
   "cell_type": "markdown",
   "id": "9efa256a",
   "metadata": {},
   "source": [
    "    8 - Um colaborador não pode estar em duas reuniões em simultâneo\n",
    "$$ \\forall_{c < C, t \\in T} \\sum_{s < S, p < P} R_{c,p,s,t} \\leq 1 $$\n",
    "Com esta restrição garantimos que para qualquer colaborador $C$, num slot $T$, este não está alocado a mais do que 1 sala $S$, em qualquer projeto $P$."
   ]
  },
  {
   "cell_type": "code",
   "execution_count": null,
   "id": "aa070927",
   "metadata": {},
   "outputs": [],
   "source": [
    "# Um colaborador não pode estar em duas reuniões em simultâneo\n",
    "for c in range(C):\n",
    "    for t in T:\n",
    "        solver.Add( (sum(R[c][p][s][t] for s in range(S) for p in range(P))) <= 1)\n"
   ]
  },
  {
   "cell_type": "markdown",
   "id": "6f8ddfa4",
   "metadata": {},
   "source": [
    "### Maximizar o número de reuniões realizadas"
   ]
  },
  {
   "cell_type": "markdown",
   "id": "0a3ff605",
   "metadata": {},
   "source": [
    "Para maximizar o número de reuniões realizadas maximizamos o somatório de todas as reuniões alocadas na matriz de alocação de reuniões.\n",
    "$$ maximize \\sum_{p < P, s < S, t \\in T} A_{p,s,t} $$"
   ]
  },
  {
   "cell_type": "code",
   "execution_count": null,
   "id": "c27f412c",
   "metadata": {},
   "outputs": [],
   "source": [
    "solver.Maximize( sum(A[p][s][t] for p in range(P) for s in range(S) for t in T) )"
   ]
  },
  {
   "cell_type": "markdown",
   "id": "df813f8a",
   "metadata": {},
   "source": [
    "### Minimizar o número médio de reuniões por participante"
   ]
  },
  {
   "cell_type": "markdown",
   "id": "18b5b1a8",
   "metadata": {},
   "source": [
    "Para minimizar o número médio de reuniões por participantes, minimizamos o somatório das reuniões alocadas a colaboradores $C$ na matriz R.\n",
    "$$ \\forall_{c < C} \\hspace{0.3cm} minimize \\sum_{p < P, s < S, t \\in T} R_{c,p,s,t} $$"
   ]
  },
  {
   "cell_type": "code",
   "execution_count": null,
   "id": "b4caf2cd",
   "metadata": {},
   "outputs": [],
   "source": [
    "for c in range(C):\n",
    "    solver.Minimize(sum(R[c][p][s][t] for p in range(P) for s in range(S) for t in T))"
   ]
  },
  {
   "cell_type": "code",
   "execution_count": null,
   "id": "dc6e1e32",
   "metadata": {
    "scrolled": false
   },
   "outputs": [],
   "source": [
    "from tabulate import tabulate\n",
    "status = solver.Solve()\n",
    "\n",
    "if status == pywraplp.Solver.OPTIMAL:\n",
    "    print_table(9, 19, 5, A, R)\n",
    "else:\n",
    "    print(\"No solution found\")"
   ]
  },
  {
   "cell_type": "code",
   "execution_count": null,
   "id": "2a93fd45",
   "metadata": {},
   "outputs": [],
   "source": []
  },
  {
   "cell_type": "code",
   "execution_count": null,
   "id": "77fbffaa",
   "metadata": {},
   "outputs": [],
   "source": []
  }
 ],
 "metadata": {
  "kernelspec": {
   "display_name": "Python 3 (ipykernel)",
   "language": "python",
   "name": "python3"
  },
  "language_info": {
   "codemirror_mode": {
    "name": "ipython",
    "version": 3
   },
   "file_extension": ".py",
   "mimetype": "text/x-python",
   "name": "python",
   "nbconvert_exporter": "python",
   "pygments_lexer": "ipython3",
   "version": "3.10.4"
  }
 },
 "nbformat": 4,
 "nbformat_minor": 5
}
