{
 "cells": [
  {
   "cell_type": "markdown",
   "id": "4266744b",
   "metadata": {},
   "source": [
    "# TP1\n"
   ]
  },
  {
   "cell_type": "markdown",
   "id": "dae2caf1",
   "metadata": {},
   "source": [
    "## Propósito do trabalho"
   ]
  },
  {
   "cell_type": "markdown",
   "id": "8a3d025f",
   "metadata": {},
   "source": [
    "\n",
    "O propósito deste trabalho é a análise de problemas de alocação usando técnicas de SAT,  em lógica proposicional, e IP em lógica linear inteira.\n"
   ]
  },
  {
   "cell_type": "markdown",
   "id": "1b922fcf",
   "metadata": {},
   "source": [
    "## Enunciado"
   ]
  },
  {
   "cell_type": "markdown",
   "id": "66296ee1",
   "metadata": {},
   "source": [
    "### Problema 1"
   ]
  },
  {
   "cell_type": "markdown",
   "id": "cf589e0c",
   "metadata": {},
   "source": [
    "\n",
    "1. Pretende-se construir um horário semanal para o plano de reuniões de projeto de uma “StartUp” de acordo com as seguintes condições:\n",
    "\n",
    "    1. Cada reunião ocupa uma sala (enumeradas $1...S\\,$) durante um “slot”  $1..T\\,$ $(\\text{hora},\\text{dia})$.  \n",
    "    2.  Cada reunião tem associado um projeto (enumerados $1..P$) e um conjunto de participantes. Os diferentes colaboradores são enumerados $1..C$.\n",
    "    3. Cada projeto tem associado um conjunto de colaboradores, dos quais um  é o líder. Cada projeto realiza um dado número de reuniões semanais. \n",
    "    4. O líder do projeto participa em todas as reuniões do seu projeto; os restantes colaboradores podem ou não participar consoante a sua disponibilidade, num mínimo (“quorum”) de  $50\\%$ do total de colaboradores do projeto.\n",
    "    \n",
    "   São “inputs” do problema:\n",
    "      1. Os parâmetros $S\\,,\\,T\\,,\\,P\\,,\\,C$\n",
    "      2. O conjunto de colaboradores de cada projeto, o seu líder e o número de reuniões semanais.\n",
    "      3. A disponibilidade de cada participante, incluindo o lider. Essa disponibilidade é um conjunto de “slots\"  representada numa matriz booleana de acessibilidade com uma linha por cada participante $1..C$ e uma coluna por “slot” $\\,1..T\\,$\n",
    "   \n",
    "   São critérios de optimização:\n",
    "      1. Maximizar o número de reuniões efetivamente realizadas\n",
    "      2. Minimizar o número médio de reuniões por participante.\n"
   ]
  },
  {
   "cell_type": "markdown",
   "id": "fc3a1d48",
   "metadata": {},
   "source": [
    "## Resolução"
   ]
  },
  {
   "cell_type": "code",
   "execution_count": 1,
   "id": "5051c9a3",
   "metadata": {},
   "outputs": [],
   "source": [
    "def gera_slots(d, h_min, h_max):\n",
    "    slots = []\n",
    "    for i in range(d):\n",
    "        for j in range(h_min, h_max):\n",
    "            slots.append((i,j))\n",
    "    return slots"
   ]
  },
  {
   "cell_type": "code",
   "execution_count": 2,
   "id": "cbb55de0",
   "metadata": {},
   "outputs": [],
   "source": [
    "def gera_disponibilidade(C,T):\n",
    "    disp = {}\n",
    "    for c in range(C):\n",
    "        disp[c] = {}\n",
    "        for t in T:\n",
    "            disp[c][t] = 1 #randint(0,1)\n",
    "    return disp"
   ]
  },
  {
   "cell_type": "code",
   "execution_count": null,
   "id": "41876e19",
   "metadata": {},
   "outputs": [],
   "source": [
    "from ortools.linear_solver import pywraplp\n",
    "from random import randint\n",
    "\n",
    "solver = pywraplp.Solver.CreateSolver('SCIP')\n",
    "\n",
    "S = 2\n",
    "P = 2\n",
    "C = 4\n",
    "\n",
    "# CP = {projeto: [colaboradores]}   CP -> colaboradores do projeto\n",
    "CP = {\n",
    "    0: [0,1,3],\n",
    "    1: [0,2,3]\n",
    "}\n",
    "\n",
    "\n",
    "# projects_in = {colab: {project: 1(True) ou 0(False)}}  - dicionário que diz em que projetos o colaborador c está envolvido\n",
    "projects_in = {\n",
    "    0: {0:1,\n",
    "        1:1},\n",
    "    \n",
    "    1: {0:1,\n",
    "        1:0},\n",
    "    \n",
    "    2: {0:0,\n",
    "        1:1},\n",
    "    \n",
    "    3: {0:1,\n",
    "        1:1}\n",
    "}\n",
    "\n",
    "# {projeto: lider}  LP -> Líder do projeto\n",
    "LP = {\n",
    "      0: 1,\n",
    "      1: 2\n",
    "}\n",
    "\n",
    "\n",
    "reunioes_semanais = 5\n",
    "\n",
    "\n",
    "T = gera_slots(5,9,18)\n",
    "disp = gera_disponibilidade(C,T)\n",
    "print(disp)\n",
    "\n",
    "\n",
    "\n"
   ]
  },
  {
   "cell_type": "markdown",
   "id": "9552c97c",
   "metadata": {},
   "source": [
    "## Exemplo 2"
   ]
  },
  {
   "cell_type": "code",
   "execution_count": 3,
   "id": "e3840483",
   "metadata": {},
   "outputs": [
    {
     "name": "stdout",
     "output_type": "stream",
     "text": [
      "{0: {(0, 9): 1, (0, 10): 1, (0, 11): 1, (0, 12): 1, (0, 13): 1, (1, 9): 1, (1, 10): 1, (1, 11): 1, (1, 12): 1, (1, 13): 1, (2, 9): 1, (2, 10): 1, (2, 11): 1, (2, 12): 1, (2, 13): 1}, 1: {(0, 9): 1, (0, 10): 1, (0, 11): 1, (0, 12): 1, (0, 13): 1, (1, 9): 1, (1, 10): 1, (1, 11): 1, (1, 12): 1, (1, 13): 1, (2, 9): 1, (2, 10): 1, (2, 11): 1, (2, 12): 1, (2, 13): 1}, 2: {(0, 9): 1, (0, 10): 1, (0, 11): 1, (0, 12): 1, (0, 13): 1, (1, 9): 1, (1, 10): 1, (1, 11): 1, (1, 12): 1, (1, 13): 1, (2, 9): 1, (2, 10): 1, (2, 11): 1, (2, 12): 1, (2, 13): 1}}\n"
     ]
    }
   ],
   "source": [
    "from ortools.linear_solver import pywraplp\n",
    "from random import randint\n",
    "\n",
    "solver = pywraplp.Solver.CreateSolver('SCIP')\n",
    "\n",
    "S = 2\n",
    "P = 2\n",
    "C = 3\n",
    "\n",
    "# CP = {projeto: [colaboradores]}   CP -> colaboradores do projeto\n",
    "CP = {\n",
    "    0: [0,1,2],\n",
    "    1: [0,1]\n",
    "}\n",
    "\n",
    "\n",
    "# projects_in = {colab: {project: 1(True) ou 0(False)}}  - dicionário que diz em que projetos o colaborador c está envolvido\n",
    "projects_in = {\n",
    "    0: {0:1,\n",
    "        1:1},\n",
    "    \n",
    "    1: {0:1,\n",
    "        1:1},\n",
    "    \n",
    "    2: {0:1,\n",
    "        1:0}\n",
    "}\n",
    "\n",
    "# {projeto: lider}  LP -> Líder do projeto\n",
    "LP = {\n",
    "      0: 1,\n",
    "      1: 0\n",
    "}\n",
    "\n",
    "\n",
    "reunioes_semanais = 3\n",
    "\n",
    "\n",
    "T = gera_slots(3,9,14)\n",
    "disp = gera_disponibilidade(C,T)\n",
    "print(disp)"
   ]
  },
  {
   "cell_type": "markdown",
   "id": "234b354f",
   "metadata": {},
   "source": [
    "#### Matriz de alocação de reuniões\n",
    "A matriz A serve para alocar reuniões de projetos $p$ em salas $s$ no slot $t$\n",
    "tem-se então\n",
    "$$ \\forall_{p < P}. \\forall_{s < S}. \\forall_{t < T}. A_{p,s,t} == 1 $$  se e só se existe uma reunião $ p $ na sala $s$ no slot $t$ "
   ]
  },
  {
   "cell_type": "code",
   "execution_count": 4,
   "id": "82a24b7b",
   "metadata": {},
   "outputs": [],
   "source": [
    "# Matriz de alocação de reuniões\n",
    "A = {}\n",
    "for p in range(P):\n",
    "    A[p] = {}\n",
    "    for s in range(S):\n",
    "        A[p][s] = {}\n",
    "        for t in T:\n",
    "            A[p][s][t] = solver.BoolVar(f'A[{p}],[{s}],[{t}]')\n",
    "                            "
   ]
  },
  {
   "cell_type": "markdown",
   "id": "4f00d4c2",
   "metadata": {},
   "source": [
    "#### Matriz de alocação de colaboradores a uma reunião\n",
    "A matriz R serve para alocar colaboradores a reuniões\n",
    "tem-se então\n",
    "$$\\forall_{c < C} \\forall_{p < P}. \\forall_{s < S}. \\forall_{t < T}. R_{x,p,s,t} == 1 $$  se e só se um colaborador tem uma reunião do projeto $p$ na sala $s$ no slot $t$ "
   ]
  },
  {
   "cell_type": "code",
   "execution_count": 5,
   "id": "55a2e89b",
   "metadata": {},
   "outputs": [],
   "source": [
    "# Matriz de alocação de colaboradores a uma reunião\n",
    "R = {}\n",
    "for c in range(C):\n",
    "    R[c] = {}\n",
    "    for p in range(P):\n",
    "        R[c][p] = {}\n",
    "        for s in range(S):\n",
    "            R[c][p][s] = {}\n",
    "            for t in T:\n",
    "                R[c][p][s][t] = solver.BoolVar(f'R[{c},{p},{s},{t}]')\n"
   ]
  },
  {
   "cell_type": "code",
   "execution_count": 6,
   "id": "9a9bbfd4",
   "metadata": {},
   "outputs": [],
   "source": [
    "def print_table(table, slots):\n",
    "    #for t in T:\n",
    "    #     print(\"Slot \", t)\n",
    "    \n",
    "    print(\"\\n\")\n",
    "    \n",
    "    for c in range(C):\n",
    "        print(\"Colab \", c)\n",
    "        for p in range(P):\n",
    "            print(\"Project \", p)\n",
    "            for s in range(S):\n",
    "                print(\"Sala \", s)\n",
    "                for t in slots:\n",
    "                    print(\"Slot \", t)\n",
    "                    print(int(table[c][p][s][t].solution_value()))\n",
    "                    "
   ]
  },
  {
   "cell_type": "markdown",
   "id": "770bfc53",
   "metadata": {},
   "source": [
    "### Restrições"
   ]
  },
  {
   "cell_type": "code",
   "execution_count": 7,
   "id": "aa070927",
   "metadata": {},
   "outputs": [],
   "source": [
    "# Condições para as reuniões na empresa\n",
    "# Não pode haver mais do que 1 reunião numa sala num slot - Certo\n",
    "for s in range(S):\n",
    "    for t in T:\n",
    "        solver.Add( (sum(A[p][s][t] for p in range(P))) <= 1)\n",
    "\n",
    "# Cada projeto tem x reuniões semanais - Certo\n",
    "for p in range(P):\n",
    "    solver.Add( sum(A[p][s][t] for s in range(S) for t in T) == reunioes_semanais)\n",
    "\n",
    "    \n",
    "# A assiduidade a cada reunião tem de ser superior a 50% - Certo (ter em atenção a divisão, alterar depois)\n",
    "for p in range(P):\n",
    "    for s in range(S):\n",
    "        for t in T:\n",
    "            solver.Add ( (sum(R[c][p][s][t] for c in range(C)) / len(CP[p])) >= 0.5*R[LP[p]][p][s][t] )\n",
    "\n",
    "    \n",
    "# -------------------------------------------------------------------------------------- #\n",
    "        \n",
    "# Condições para alocar um colaborador a uma reunião\n",
    "\n",
    "# O colaborador só pode ir à reunião se tiver alocado ao projeto - Certo, mas requer review do Pedro\n",
    "for p in range(P):\n",
    "    for c in range(C):\n",
    "        for s in range(S):\n",
    "            for t in T:\n",
    "                solver.Add( R[c][p][s][t] <= A[p][s][t] * projects_in[c][p])\n",
    "                \n",
    "                \n",
    "# Disponibilidade dos colaboradores - Certo\n",
    "for c in range(C):\n",
    "    for p in range(P):\n",
    "        for s in range(S):\n",
    "            for t in T:\n",
    "                solver.Add( R[c][p][s][t] <= disp[c][t])\n",
    "                \n",
    "# Um colaborador só pode estar em reunião se a reunião estiver marcada - Certo\n",
    "for t in T:\n",
    "    for s in range(S):\n",
    "        for p in range(P):\n",
    "            for c in range(C):\n",
    "                solver.Add( R[c][p][s][t] <= A[p][s][t])\n",
    "        \n",
    "                 \n",
    "# O Líder tem que ir a todas as reuniões do projeto no qual é líder - Duvidosa, falar com o Pedro\n",
    "for p in range(P):\n",
    "    for s in range(S):\n",
    "        for t in T:\n",
    "            solver.Add( R[LP[p]][p][s][t] == A[p][s][t] )\n",
    "\n",
    "        \n",
    "# Um colaborador não pode estar em duas reuniões em simultâneo - Certo\n",
    "for c in range(C):\n",
    "    for t in T:\n",
    "        solver.Add( (sum(R[c][p][s][t] for s in range(S) for p in range(P))) <= 1)\n"
   ]
  },
  {
   "cell_type": "code",
   "execution_count": 31,
   "id": "dc6e1e32",
   "metadata": {
    "scrolled": false
   },
   "outputs": [
    {
     "ename": "IndentationError",
     "evalue": "expected an indented block after 'for' statement on line 22 (612676319.py, line 27)",
     "output_type": "error",
     "traceback": [
      "\u001b[1;36m  Input \u001b[1;32mIn [31]\u001b[1;36m\u001b[0m\n\u001b[1;33m    print(tabulate(table))\u001b[0m\n\u001b[1;37m    ^\u001b[0m\n\u001b[1;31mIndentationError\u001b[0m\u001b[1;31m:\u001b[0m expected an indented block after 'for' statement on line 22\n"
     ]
    }
   ],
   "source": [
    "from tabulate import tabulate\n",
    "status = solver.Solve()\n",
    "\n",
    "if status == pywraplp.Solver.OPTIMAL:\n",
    "    #print(\"Solution found\")\n",
    "    table = []\n",
    "    fst_line = [\"Slots\"]\n",
    "    for t in T:\n",
    "        if (\"Dia \" + str(t[0])) not in fst_line:\n",
    "            fst_line.append(\"Dia \" + str(t[0]))\n",
    "    table.append(fst_line)\n",
    "    \n",
    "    \n",
    "    for j in range(9, 14):\n",
    "        next_lines = []\n",
    "        next_lines.append(str(j) + \"hhhhhhhhhhhhhhhhhhh\")\n",
    "        table.append(next_lines)\n",
    "        \n",
    "    for c in range(0, C):\n",
    "        for p in range(0, P):\n",
    "            for s in range(0, S):\n",
    "                for t in T:\n",
    "                    x = 2\n",
    "    \n",
    "    \n",
    "    \n",
    "    print(tabulate(table))\n",
    "    \n",
    "    #print_table(R, T)\n",
    "else:\n",
    "    print(\"No solution found\")"
   ]
  },
  {
   "cell_type": "code",
   "execution_count": null,
   "id": "f90c91b5",
   "metadata": {},
   "outputs": [],
   "source": []
  },
  {
   "cell_type": "code",
   "execution_count": null,
   "id": "4371f77a",
   "metadata": {},
   "outputs": [],
   "source": []
  }
 ],
 "metadata": {
  "kernelspec": {
   "display_name": "Python 3 (ipykernel)",
   "language": "python",
   "name": "python3"
  },
  "language_info": {
   "codemirror_mode": {
    "name": "ipython",
    "version": 3
   },
   "file_extension": ".py",
   "mimetype": "text/x-python",
   "name": "python",
   "nbconvert_exporter": "python",
   "pygments_lexer": "ipython3",
   "version": "3.10.4"
  }
 },
 "nbformat": 4,
 "nbformat_minor": 5
}
