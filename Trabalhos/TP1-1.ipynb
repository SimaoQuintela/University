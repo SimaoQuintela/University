{
 "cells": [
  {
   "cell_type": "markdown",
   "id": "4266744b",
   "metadata": {},
   "source": [
    "# TP1\n"
   ]
  },
  {
   "cell_type": "markdown",
   "id": "dae2caf1",
   "metadata": {},
   "source": [
    "## Propósito do trabalho"
   ]
  },
  {
   "cell_type": "markdown",
   "id": "8a3d025f",
   "metadata": {},
   "source": [
    "\n",
    "O propósito deste trabalho é a análise de problemas de alocação usando técnicas de SAT,  em lógica proposicional, e IP em lógica linear inteira.\n"
   ]
  },
  {
   "cell_type": "markdown",
   "id": "1b922fcf",
   "metadata": {},
   "source": [
    "## Enunciado"
   ]
  },
  {
   "cell_type": "markdown",
   "id": "66296ee1",
   "metadata": {},
   "source": [
    "### Problema 1"
   ]
  },
  {
   "cell_type": "markdown",
   "id": "cf589e0c",
   "metadata": {},
   "source": [
    "\n",
    "1. Pretende-se construir um horário semanal para o plano de reuniões de projeto de uma “StartUp” de acordo com as seguintes condições:\n",
    "\n",
    "    1. Cada reunião ocupa uma sala (enumeradas $1...S\\,$) durante um “slot”  $1..T\\,$ $(\\text{hora},\\text{dia})$.  \n",
    "    2.  Cada reunião tem associado um projeto (enumerados $1..P$) e um conjunto de participantes. Os diferentes colaboradores são enumerados $1..C$.\n",
    "    3. Cada projeto tem associado um conjunto de colaboradores, dos quais um  é o líder. Cada projeto realiza um dado número de reuniões semanais. \n",
    "    4. O líder do projeto participa em todas as reuniões do seu projeto; os restantes colaboradores podem ou não participar consoante a sua disponibilidade, num mínimo (“quorum”) de  $50\\%$ do total de colaboradores do projeto.\n",
    "    \n",
    "   São “inputs” do problema:\n",
    "      1. Os parâmetros $S\\,,\\,T\\,,\\,P\\,,\\,C$\n",
    "      2. O conjunto de colaboradores de cada projeto, o seu líder e o número de reuniões semanais.\n",
    "      3. A disponibilidade de cada participante, incluindo o lider. Essa disponibilidade é um conjunto de “slots\"  representada numa matriz booleana de acessibilidade com uma linha por cada participante $1..C$ e uma coluna por “slot” $\\,1..T\\,$\n",
    "   \n",
    "   São critérios de optimização:\n",
    "      1. Maximizar o número de reuniões efetivamente realizadas\n",
    "      2. Minimizar o número médio de reuniões por participante.\n"
   ]
  },
  {
   "cell_type": "markdown",
   "id": "fc3a1d48",
   "metadata": {},
   "source": [
    "## Resolução"
   ]
  },
  {
   "cell_type": "markdown",
   "id": "448e0f4d",
   "metadata": {},
   "source": [
    "### Variáveis do programa"
   ]
  },
  {
   "cell_type": "markdown",
   "id": "550f0568",
   "metadata": {},
   "source": [
    "    S - Número de salas \n",
    "    P - Número de projetos \n",
    "    C - Número de colaboradores\n",
    "    T - Lista de slots (dia, hora)\n",
    "    CP - Dicionário em que as chaves são o id dum projeto e o valor correspondente é a lista de colaboradores associados ao projeto \n",
    "    LP - Dicionário em que as chaves são o id dum projeto e o valor correspondente é o id do líder desse projeto\n",
    "    projects_in - Dicionário em que as chaves são o id de um colaborador e os values são os projetos a que esse colaborador está associado"
   ]
  },
  {
   "cell_type": "markdown",
   "id": "4ba1d299",
   "metadata": {},
   "source": [
    "#### Função gera_slots(d, h_min, h_max):\n",
    "    d - quantidade de dias que queremos gerar\n",
    "    h_min - hora mínima de agendamento duma reunião\n",
    "    h_max - hora máxima de agendamento duma reunião\n",
    "Esta função gera slots para o agendamento de reuniões."
   ]
  },
  {
   "cell_type": "code",
   "execution_count": 1,
   "id": "5051c9a3",
   "metadata": {},
   "outputs": [],
   "source": [
    "def gera_slots(d, h_min, h_max):\n",
    "    slots = []\n",
    "    for i in range(d):\n",
    "        for j in range(h_min, h_max):\n",
    "            slots.append((i,j))\n",
    "    return slots"
   ]
  },
  {
   "cell_type": "markdown",
   "id": "0a0c4e9c",
   "metadata": {},
   "source": [
    "#### Função gera_disponibilidade(C,T):\n",
    "    C - Número de colaboradores\n",
    "    T - Lista com slots\n",
    "Esta função gera de forma aleatória a disponibilidade dos colaboradores.\n",
    "    "
   ]
  },
  {
   "cell_type": "code",
   "execution_count": 2,
   "id": "cbb55de0",
   "metadata": {},
   "outputs": [],
   "source": [
    "def gera_disponibilidade(C,T):\n",
    "    disp = {}\n",
    "    for c in range(C):\n",
    "        disp[c] = {}\n",
    "        for t in T:\n",
    "            disp[c][t] = randint(0,1)\n",
    "    return disp"
   ]
  },
  {
   "cell_type": "markdown",
   "id": "cdd54714",
   "metadata": {},
   "source": [
    "#### Função gera_projects_in(CP, C):\n",
    "    CP - Dicionário com os colaboradores por projeto\n",
    "    C - Número de colaboradores\n",
    "Esta função gera um dicionário que diz se o colaborador $C$ está associado ao projeto $P$."
   ]
  },
  {
   "cell_type": "code",
   "execution_count": 3,
   "id": "5ca2395a",
   "metadata": {},
   "outputs": [],
   "source": [
    "def gera_projects_in(CP, C):\n",
    "    projects_in = {}\n",
    "    \n",
    "    for c in range(C):\n",
    "        projects_in[c] = {}\n",
    "        for p in CP:\n",
    "            if c in CP[p]:\n",
    "                projects_in[c][p] = 1\n",
    "            else:\n",
    "                projects_in[c][p] = 0\n",
    "                \n",
    "        \n",
    "        \n",
    "    return projects_in"
   ]
  },
  {
   "cell_type": "markdown",
   "id": "b2dc1ff0",
   "metadata": {},
   "source": [
    "#### Função print_disponibilidade(disp, hMin, hMax, dMax):\n",
    "    disp - Matriz de disponibilidade\n",
    "    hMin - hora mínima\n",
    "    hMax - hora máxima\n",
    "    dMax - dias máximos\n",
    "Esta função dá print da disponibilidade de cada colaborador"
   ]
  },
  {
   "cell_type": "code",
   "execution_count": 4,
   "id": "352a43b6",
   "metadata": {},
   "outputs": [],
   "source": [
    "from tabulate import tabulate\n",
    "\n",
    "def print_disponibilidade(disp, hMin, hMax, dMax):\n",
    "    for c in disp:\n",
    "        print('\\nDisponibilidade do colaborador '+str(c))\n",
    "\n",
    "        table = [[x] for x in range(hMin, hMax)]\n",
    "        fst_line = [\"Slots\"]\n",
    "        for t in T:\n",
    "            if (\"Dia \" + str(t[0])) not in fst_line:\n",
    "                fst_line.append(\"Dia \" + str(t[0]))\n",
    "        table.insert(0,fst_line)\n",
    "        \n",
    "        for d in range(0,dMax):\n",
    "            for t in range(hMin, hMax):\n",
    "                table[t+1-hMin].insert(d+1, \"\")\n",
    "                if (disp[c][(d,t)]) == 0:\n",
    "                    table[t+1-hMin][d+1] = \"X\"\n",
    "        \n",
    "        print(tabulate(table))"
   ]
  },
  {
   "cell_type": "markdown",
   "id": "f77d5546",
   "metadata": {},
   "source": [
    "#### Função print_table(hMin, hMax, dMax, A, R):\n",
    "    hMin - hora mínima\n",
    "    hMax - hora máxima\n",
    "    dMax - dias máximos\n",
    "    A - Matriz de alocação de reuniões\n",
    "    R - Matriz de alocação de colaboradores a reuniões\n",
    "Esta função dá print do resultado devolvido pelo solver."
   ]
  },
  {
   "cell_type": "code",
   "execution_count": 5,
   "id": "42e12f17",
   "metadata": {},
   "outputs": [],
   "source": [
    "from tabulate import tabulate\n",
    "\n",
    "def print_table(hMin, hMax, dMax, A, R):\n",
    "    table = [[x] for x in range(hMin, hMax)]\n",
    "    fst_line = [\"Slots\"]\n",
    "    for t in T:\n",
    "        if (\"Dia \" + str(t[0])) not in fst_line:\n",
    "            fst_line.append(\"Dia \" + str(t[0]))\n",
    "    table.insert(0,fst_line)\n",
    "    \n",
    "    for d in range(0,dMax):\n",
    "        for t in range(hMin, hMax):\n",
    "            table[t+1-hMin].insert(d+1, \"\")\n",
    "            for p in range(0, P):\n",
    "                for s in range(0, S):  \n",
    "                    if int(A[p][s][(d,t)].solution_value()) == 1:\n",
    "                        table[t+1-hMin][d+1] += (\"\\nProj %i - S %i\\nCols: \" % (p,s)) \n",
    "                        for c in range(0, C):\n",
    "                            if int(R[c][p][s][(d,t)].solution_value()) == 1:\n",
    "                                table[t+1-hMin][d+1] += f\"{c}  \"\n",
    "                        table[t+1-hMin][d+1] = table[t+1-hMin][d+1][:-2]\n",
    "    print(tabulate(table))"
   ]
  },
  {
   "cell_type": "markdown",
   "id": "234b354f",
   "metadata": {},
   "source": [
    "#### Matriz de alocação de reuniões\n",
    "A matriz A serve para alocar reuniões de projetos $p$ em salas $s$ no slot $t$\n",
    "tem-se então\n",
    "$$ \\forall_{p < P}. \\forall_{s < S}. \\forall_{t < T}. A_{p,s,t} == 1 $$  se e só se existe uma reunião $ p $ na sala $s$ no slot $t$ "
   ]
  },
  {
   "cell_type": "markdown",
   "id": "4f00d4c2",
   "metadata": {},
   "source": [
    "#### Matriz de alocação de colaboradores a uma reunião\n",
    "A matriz R serve para alocar colaboradores a reuniões\n",
    "tem-se então\n",
    "$$\\forall_{c < C} \\forall_{p < P}. \\forall_{s < S}. \\forall_{t < T}. R_{x,p,s,t} == 1 $$  se e só se um colaborador tem uma reunião do projeto $p$ na sala $s$ no slot $t$ "
   ]
  },
  {
   "cell_type": "markdown",
   "id": "770bfc53",
   "metadata": {},
   "source": [
    "## Restrições"
   ]
  },
  {
   "cell_type": "markdown",
   "id": "be5a278a",
   "metadata": {},
   "source": [
    "    1 - Disponibilidade dos colaboradores\n",
    "    \n",
    "$$ \\forall_{c < C}\\,\\forall_{p < P}\\,\\forall_{s < S} \\, \\forall_{t \\in T}\\, R_{c,p,s,t} \\leq disp_{c,t} $$\n",
    "\n",
    "Com esta restrição garantimos que só é alocada uma reunião a um colaborador $C$, num projeto $P$, numa sala $S$, num slot $T$ caso o colaborador $C$ esteja disponível.\n",
    "    "
   ]
  },
  {
   "cell_type": "markdown",
   "id": "5939a52b",
   "metadata": {},
   "source": [
    "    2 - Cada projeto tem X ou mais reuniões semanais\n",
    "$$ \\forall_{p < P}\\, \\sum_{s < S, t \\in T} A_{p,s,t} \\geq X$$\n",
    "Com esta restrição garantimos que um projeto $P$ tem **pelo menos** X reuniões semanais."
   ]
  },
  {
   "cell_type": "markdown",
   "id": "5212ca5b",
   "metadata": {},
   "source": [
    "    3 - Não pode haver mais do que 1 reunião numa sala num slot\n",
    "$$ \\forall_{s < S}\\, \\forall_{t \\in T} \\sum_{p < P} A_{p,s,t} \\leq 1 $$\n",
    "Com esta restrição garantimos que numa sala $S$, num slot $T$, apenas está alocada uma ou nenhuma reunião.  "
   ]
  },
  {
   "cell_type": "markdown",
   "id": "fbc17ac7",
   "metadata": {},
   "source": [
    "    4 - O colaborador só pode ir à reunião se tiver alocado ao projeto\n",
    "$$ \\forall_{p < P}\\,\\forall_{c < C}\\,\\forall_{s < S} \\, \\forall_{t \\in T}\\, R_{c,p,s,t} \\leq A_{p,s,t} \\times projectsIn_{c,p} $$\n",
    "\n",
    "Com esta restrição garantimos que um colaborador $C$ só será alocado a uma reunião num projeto $P$, numa sala $S$, num slot $T$ caso este esteja alocado ao projeto $P$ correspondente.\n",
    "    "
   ]
  },
  {
   "cell_type": "markdown",
   "id": "7f9480de",
   "metadata": {},
   "source": [
    "    5 - Um colaborador só pode ser alocado a uma reunião se esta estiver marcada\n",
    "$$ \\forall_{t < T}\\,\\forall_{s < T}\\,\\forall_{p < P} \\, \\forall_{c \\in C}\\, R_{c,p,s,t} \\leq A_{p,s,t} $$\n",
    "\n",
    "Com esta restrição garantimos que um colaborador $C$ só será alocado a uma reunião num slot $T$, numa sala $S$, a um projeto $P$ caso a reunião tenha sido marcada."
   ]
  },
  {
   "cell_type": "markdown",
   "id": "2ea03b31",
   "metadata": {},
   "source": [
    "    6 - O líder tem que ir a todas as reuniões do projeto no qual é líder\n",
    "$$ \\forall_{p < P, s < S, t \\in T} R_{LP_{p},p,s,t} = A_{p,s,t} $$\n",
    "Com esta restrição garantimos que qualquer líder de um projeto $P$ tem de estar presente em todas as reuniões do projeto $P$ numa sala $S$, num slot $T$."
   ]
  },
  {
   "cell_type": "markdown",
   "id": "14e51c8b",
   "metadata": {},
   "source": [
    "    7 - A assiduidade a cada reunião tem de ser superior a 50%\n",
    "    CPp dá-nos a lista com os colaboradores do projeto P\n",
    "$$ \\forall_{p < P, s < S, t \\in T} \\frac{\\sum_{c < C} R_{c,p,s,t}}{len(CP_{p})} $$\n",
    "\n",
    "Com esta restrição garantimos que para qualquer projeto $P$, numa sala $S$, num slot $T$, a assiduidade é de, pelo menos, 50% face ao número de colaboradores existentes no projeto $P$.\n",
    "\n",
    "    "
   ]
  },
  {
   "cell_type": "markdown",
   "id": "9efa256a",
   "metadata": {},
   "source": [
    "    8 - Um colaborador não pode estar em duas reuniões em simultâneo\n",
    "$$ \\forall_{c < C, t \\in T} \\sum_{s < S, p < P} R_{c,p,s,t} \\leq 1 $$\n",
    "Com esta restrição garantimos que para qualquer colaborador $C$, num slot $T$, este não está alocado a mais do que 1 sala $S$, em qualquer projeto $P$."
   ]
  },
  {
   "cell_type": "markdown",
   "id": "6f8ddfa4",
   "metadata": {},
   "source": [
    "### Maximizar o número de reuniões realizadas"
   ]
  },
  {
   "cell_type": "markdown",
   "id": "0a3ff605",
   "metadata": {},
   "source": [
    "Para maximizar o número de reuniões realizadas maximizamos o somatório de todas as reuniões alocadas na matriz de alocação de reuniões.\n",
    "$$ maximize \\sum_{p < P, s < S, t \\in T} A_{p,s,t} $$"
   ]
  },
  {
   "cell_type": "markdown",
   "id": "df813f8a",
   "metadata": {},
   "source": [
    "### Minimizar o número médio de reuniões por participante"
   ]
  },
  {
   "cell_type": "markdown",
   "id": "18b5b1a8",
   "metadata": {},
   "source": [
    "Para minimizar o número médio de reuniões por participantes, minimizamos o somatório das reuniões alocadas a colaboradores $C$ na matriz R.\n",
    "$$ \\forall_{c < C} \\hspace{0.3cm} minimize \\sum_{p < P, s < S, t \\in T} R_{c,p,s,t} $$"
   ]
  },
  {
   "cell_type": "code",
   "execution_count": 6,
   "id": "2a93fd45",
   "metadata": {},
   "outputs": [],
   "source": [
    "def horario(S, P, C, T, CP, projects_in, reunioes_semanais, disp):\n",
    "    # Matriz de alocação de reuniões\n",
    "    A = {}\n",
    "    for p in range(P):\n",
    "        A[p] = {}\n",
    "        for s in range(S):\n",
    "            A[p][s] = {}\n",
    "            for t in T:\n",
    "                A[p][s][t] = solver.BoolVar(f'A[{p}],[{s}],[{t}]')\n",
    "    \n",
    "    \n",
    "    # Matriz de alocação de colaboradores a uma reunião\n",
    "    R = {}\n",
    "    for c in range(C):\n",
    "        R[c] = {}\n",
    "        for p in range(P):\n",
    "            R[c][p] = {}\n",
    "            for s in range(S):\n",
    "                R[c][p][s] = {}\n",
    "                for t in T:\n",
    "                    R[c][p][s][t] = solver.BoolVar(f'R[{c},{p},{s},{t}]')\n",
    "    \n",
    "    # 1 - Disponibilidade dos colaboradores\n",
    "    for c in range(C):\n",
    "        for p in range(P):\n",
    "            for s in range(S):\n",
    "                for t in T:\n",
    "                    solver.Add( R[c][p][s][t] <= disp[c][t])\n",
    "                    \n",
    "    # 2 - Cada projeto tem x reuniões semanais\n",
    "    for p in range(P):\n",
    "        solver.Add( sum(A[p][s][t] for s in range(S) for t in T) >= reunioes_semanais)\n",
    "        \n",
    "    # 3 - Não pode haver mais do que 1 reunião numa sala num slot\n",
    "    for s in range(S):\n",
    "        for t in T:\n",
    "            solver.Add( (sum(A[p][s][t] for p in range(P))) <= 1)\n",
    "            \n",
    "    # 4 - O colaborador só pode ir à reunião se tiver alocado ao projeto \n",
    "    for p in range(P):\n",
    "        for c in range(C):\n",
    "            for s in range(S):\n",
    "                for t in T:\n",
    "                    solver.Add( R[c][p][s][t] <= A[p][s][t] * projects_in[c][p])\n",
    "                    \n",
    "    # 5 - Um colaborador só pode estar em reunião se esta estiver marcada \n",
    "    for t in T:\n",
    "        for s in range(S):\n",
    "            for p in range(P):\n",
    "                for c in range(C):\n",
    "                    solver.Add( R[c][p][s][t] <= A[p][s][t])\n",
    "                    \n",
    "    # 6 - O Líder tem que ir a todas as reuniões do projeto no qual é líder\n",
    "    for p in range(P):\n",
    "        for s in range(S):\n",
    "            for t in T:\n",
    "                solver.Add( R[LP[p]][p][s][t] == A[p][s][t] )\n",
    "                \n",
    "    # 7 - A assiduidade a cada reunião tem de ser superior a 50%\n",
    "    for p in range(P):\n",
    "        for s in range(S):\n",
    "            for t in T:\n",
    "                solver.Add ( (sum(R[c][p][s][t] for c in range(C)) / len(CP[p])) >= 0.5*R[LP[p]][p][s][t] )\n",
    "                \n",
    "    # 8 - Um colaborador não pode estar em duas reuniões em simultâneo\n",
    "    for c in range(C):\n",
    "        for t in T:\n",
    "            solver.Add( (sum(R[c][p][s][t] for s in range(S) for p in range(P))) <= 1)\n",
    "            \n",
    "    # Maximizar o número de reuniões realizadas\n",
    "    solver.Maximize( sum(A[p][s][t] for p in range(P) for s in range(S) for t in T) )\n",
    "    \n",
    "    # Minimizar o número de reuniões por participante\n",
    "    for c in range(C):\n",
    "        solver.Minimize(sum(R[c][p][s][t] for p in range(P) for s in range(S) for t in T))\n",
    "        \n",
    "    status = solver.Solve()\n",
    "\n",
    "\n",
    "    \n",
    "    if status == pywraplp.Solver.OPTIMAL:\n",
    "        print_table(T[0][1], T[-1][1] +1, 5, A, R)\n",
    "    else:\n",
    "        print(\"No solution found\")"
   ]
  },
  {
   "cell_type": "markdown",
   "id": "99055777",
   "metadata": {},
   "source": [
    "### Exemplo 1"
   ]
  },
  {
   "cell_type": "code",
   "execution_count": 7,
   "id": "77fbffaa",
   "metadata": {},
   "outputs": [
    {
     "name": "stdout",
     "output_type": "stream",
     "text": [
      "-----  ------------  ------------  ------------  ------------  ------------\n",
      "Slots  Dia 0         Dia 1         Dia 2         Dia 3         Dia 4\n",
      "9\n",
      "10     Proj 1 - S 0                              Proj 0 - S 0  Proj 0 - S 0\n",
      "       Cols: 2  3                                Cols: 0  1    Cols: 0  1\n",
      "11     Proj 1 - S 1                Proj 0 - S 0\n",
      "       Cols: 0  2                  Cols: 0  1\n",
      "12                                 Proj 0 - S 0\n",
      "                                   Cols: 0  1\n",
      "13                                                             Proj 1 - S 1\n",
      "                                                               Cols: 0  2\n",
      "14\n",
      "15                   Proj 1 - S 1\n",
      "                     Cols: 0  2\n",
      "16\n",
      "17                   Proj 1 - S 0                Proj 0 - S 0\n",
      "                     Cols: 0  2                  Cols: 0  1\n",
      "-----  ------------  ------------  ------------  ------------  ------------\n"
     ]
    }
   ],
   "source": [
    "from ortools.linear_solver import pywraplp\n",
    "from random import randint\n",
    "\n",
    "solver = pywraplp.Solver.CreateSolver('SCIP')\n",
    "\n",
    "S = 2\n",
    "P = 2\n",
    "C = 4\n",
    "\n",
    "# CP = {projeto: [colaboradores]}   CP -> colaboradores do projeto\n",
    "CP = {\n",
    "    0: [0,1,3],\n",
    "    1: [0,2,3]\n",
    "}\n",
    "\n",
    "\n",
    "# projects_in = {colab: {project: 1(True) ou 0(False)}}  - dicionário que diz em que projetos o colaborador c está envolvido\n",
    "projects_in = gera_projects_in(CP, C)\n",
    "'''\n",
    "projects_in = {\n",
    "    0: {0:1,\n",
    "        1:1},\n",
    "    \n",
    "    1: {0:1,\n",
    "        1:0},\n",
    "    \n",
    "    2: {0:0,\n",
    "        1:1},\n",
    "    \n",
    "    3: {0:1,\n",
    "        1:1}\n",
    "}\n",
    "'''\n",
    "\n",
    "# {projeto: lider}  LP -> Líder do projeto\n",
    "LP = {\n",
    "      0: 1,\n",
    "      1: 2\n",
    "}\n",
    "\n",
    "\n",
    "T = gera_slots(5,9,18)\n",
    "disp = gera_disponibilidade(C,T)\n",
    "reunioes_semanais = 5\n",
    "\n",
    "\n",
    "#print_disponibilidade(disp, 9, 18, 5)\n",
    "\n",
    "horario(S, P, C, T, CP, projects_in, reunioes_semanais, disp)\n",
    "\n",
    "\n"
   ]
  },
  {
   "cell_type": "markdown",
   "id": "c6db8408",
   "metadata": {},
   "source": [
    "### Exemplo 2"
   ]
  },
  {
   "cell_type": "code",
   "execution_count": 8,
   "id": "4427d380",
   "metadata": {},
   "outputs": [
    {
     "name": "stdout",
     "output_type": "stream",
     "text": [
      "-----  -------------  -------------  -------------  -------------  -------------\n",
      "Slots  Dia 0          Dia 1          Dia 2          Dia 3          Dia 4\n",
      "9      Proj 3 - S 0   Proj 4 - S 2   Proj 0 - S 0   Proj 1 - S 2   Proj 0 - S 0\n",
      "       Cols: 4  5     Cols: 3  5     Cols: 1  2  3  Cols: 1  4     Cols: 0  1  3\n",
      "                                     Proj 3 - S 3                  Proj 2 - S 2\n",
      "                                     Cols: 4  5                    Cols: 2\n",
      "10     Proj 1 - S 1   Proj 4 - S 0   Proj 1 - S 0   Proj 4 - S 3   Proj 2 - S 2\n",
      "       Cols: 4  5     Cols: 3  5     Cols: 1  4     Cols: 3  4     Cols: 2\n",
      "                                     Proj 2 - S 2                  Proj 3 - S 1\n",
      "                                     Cols: 2                       Cols: 4  5\n",
      "11     Proj 0 - S 3   Proj 0 - S 3                                 Proj 4 - S 1\n",
      "       Cols: 0  1  2  Cols: 0  1  3                                Cols: 1  3\n",
      "                      Proj 2 - S 2\n",
      "                      Cols: 2\n",
      "12     Proj 4 - S 2                  Proj 1 - S 2\n",
      "       Cols: 3  5                    Cols: 0  4\n",
      "                                     Proj 2 - S 1\n",
      "                                     Cols: 2\n",
      "13     Proj 0 - S 0   Proj 2 - S 2   Proj 1 - S 0\n",
      "       Cols: 0  1  2  Cols: 2        Cols: 1  4\n",
      "                      Proj 4 - S 3\n",
      "                      Cols: 1  3\n",
      "14                    Proj 3 - S 0   Proj 1 - S 0   Proj 2 - S 1   Proj 0 - S 3\n",
      "                      Cols: 4  5     Cols: 4  5     Cols: 2        Cols: 0  1  2\n",
      "15     Proj 1 - S 1   Proj 2 - S 1   Proj 4 - S 3   Proj 1 - S 0\n",
      "       Cols: 0  4     Cols: 2        Cols: 3  5     Cols: 4  5\n",
      "       Proj 4 - S 2\n",
      "       Cols: 1  3\n",
      "16     Proj 4 - S 0   Proj 2 - S 1   Proj 0 - S 1                  Proj 1 - S 3\n",
      "       Cols: 3  4     Cols: 2        Cols: 1  2  3                 Cols: 0  4\n",
      "                                     Proj 3 - S 2\n",
      "                                     Cols: 4  5\n",
      "17     Proj 4 - S 1                  Proj 3 - S 1                  Proj 0 - S 3\n",
      "       Cols: 3  5                    Cols: 4  5                    Cols: 1  2  3\n",
      "                                                                   Proj 1 - S 1\n",
      "                                                                   Cols: 0  4\n",
      "18     Proj 2 - S 3   Proj 0 - S 1   Proj 3 - S 3   Proj 0 - S 3   Proj 3 - S 3\n",
      "       Cols: 2        Cols: 0  1  3  Cols: 4  5     Cols: 0  1  3  Cols: 4  5\n",
      "                      Proj 3 - S 0                  Proj 3 - S 2\n",
      "                      Cols: 4  5                    Cols: 4  5\n",
      "-----  -------------  -------------  -------------  -------------  -------------\n"
     ]
    }
   ],
   "source": [
    "from ortools.linear_solver import pywraplp\n",
    "from random import randint\n",
    "\n",
    "solver = pywraplp.Solver.CreateSolver('SCIP')\n",
    "\n",
    "S = 4\n",
    "P = 5\n",
    "C = 7\n",
    "\n",
    "# CP = {projeto: [colaboradores]}   CP -> colaboradores do projeto\n",
    "CP = {\n",
    "    0: [0,1,2,3,6],\n",
    "    1: [0,1,4,5],\n",
    "    2: [2,3],\n",
    "    3: [4,5,6],\n",
    "    4: [1,3,4,5]\n",
    "}\n",
    "\n",
    "# projects_in = {colab: {project: 1(True) ou 0(False)}}  - dicionário que diz em que projetos o colaborador c está envolvido\n",
    "projects_in = gera_projects_in(CP, C)\n",
    "\n",
    "\n",
    "# {projeto: lider}  LP -> Líder do projeto\n",
    "LP = {\n",
    "      0: 1,\n",
    "      1: 4,\n",
    "      2: 2,\n",
    "      3: 5,\n",
    "      4: 3\n",
    "}\n",
    "\n",
    "\n",
    "reunioes_semanais = 10\n",
    "\n",
    "\n",
    "T = gera_slots(5,9,19)\n",
    "disp = gera_disponibilidade(C,T)\n",
    "\n",
    "#print_disponibilidade(disp, T[0][0], T[-1][1]+1, 5)\n",
    "\n",
    "horario(S, P, C, T, CP, projects_in, reunioes_semanais, disp)\n",
    "\n"
   ]
  },
  {
   "cell_type": "markdown",
   "id": "497b4853",
   "metadata": {},
   "source": [
    "### Exemplo 3"
   ]
  },
  {
   "cell_type": "code",
   "execution_count": 9,
   "id": "e23acaa2",
   "metadata": {},
   "outputs": [
    {
     "name": "stdout",
     "output_type": "stream",
     "text": [
      "-----  ----------------  -------------  -------------  ----------------  -------------\n",
      "Slots  Dia 0             Dia 1          Dia 2          Dia 3             Dia 4\n",
      "9                        Proj 3 - S 1   Proj 4 - S 3                     Proj 1 - S 2\n",
      "                         Cols: 4  5  6  Cols: 3  4                       Cols: 0  4  5\n",
      "                                                                         Proj 2 - S 1\n",
      "                                                                         Cols: 2  3\n",
      "10     Proj 2 - S 1      Proj 0 - S 2   Proj 0 - S 2   Proj 1 - S 2      Proj 4 - S 3\n",
      "       Cols: 2  7        Cols: 1  2  6  Cols: 0  1  2  Cols: 0  1  4     Cols: 3  5\n",
      "       Proj 3 - S 2                                    Proj 2 - S 1\n",
      "       Cols: 4  5  6                                   Cols: 2  3\n",
      "                                                       Proj 3 - S 0\n",
      "                                                       Cols: 5  7  9\n",
      "11     Proj 1 - S 3      Proj 0 - S 2                  Proj 3 - S 2      Proj 1 - S 3\n",
      "       Cols: 0  1  4     Cols: 0  1  2                 Cols: 4  5  6     Cols: 1  4  5\n",
      "                         Proj 3 - S 1\n",
      "                         Cols: 5  7  9\n",
      "12     Proj 1 - S 0      Proj 2 - S 3   Proj 0 - S 0   Proj 2 - S 3\n",
      "       Cols: 0  1  4     Cols: 2  8     Cols: 0  1  8  Cols: 2  7\n",
      "                                                       Proj 4 - S 0\n",
      "                                                       Cols: 3  4\n",
      "13                       Proj 0 - S 0   Proj 2 - S 0   Proj 0 - S 1\n",
      "                         Cols: 1  3  6  Cols: 2  8     Cols: 0  1  2  3\n",
      "                                                       Proj 3 - S 0\n",
      "                                                       Cols: 5  6  9\n",
      "14                       Proj 4 - S 0   Proj 3 - S 2   Proj 4 - S 2      Proj 1 - S 0\n",
      "                         Cols: 3  4     Cols: 4  5  7  Cols: 3  4        Cols: 0  1  4\n",
      "                                                                         Proj 2 - S 1\n",
      "                                                                         Cols: 2  8\n",
      "15     Proj 2 - S 1      Proj 1 - S 1   Proj 4 - S 3   Proj 1 - S 2      Proj 4 - S 1\n",
      "       Cols: 2  3        Cols: 0  1  4  Cols: 3  5     Cols: 4  5  9     Cols: 1  3\n",
      "                         Proj 3 - S 3\n",
      "                         Cols: 5  6  9\n",
      "16     Proj 4 - S 1                     Proj 2 - S 1                     Proj 3 - S 0\n",
      "       Cols: 1  3                       Cols: 2  7                       Cols: 5  6  7\n",
      "                                                                         Proj 4 - S 1\n",
      "                                                                         Cols: 3  4\n",
      "17                       Proj 0 - S 3                  Proj 0 - S 2      Proj 1 - S 0\n",
      "                         Cols: 1  3  8                 Cols: 1  2  6     Cols: 0  4  5\n",
      "                                                       Proj 4 - S 0\n",
      "                                                       Cols: 3  4\n",
      "18     Proj 0 - S 3      Proj 0 - S 0                  Proj 3 - S 3      Proj 1 - S 3\n",
      "       Cols: 1  2  6  8  Cols: 1  6  8                 Cols: 4  5  6     Cols: 1  4  5\n",
      "                                                                         Proj 2 - S 1\n",
      "                                                                         Cols: 2  7\n",
      "-----  ----------------  -------------  -------------  ----------------  -------------\n"
     ]
    }
   ],
   "source": [
    "from ortools.linear_solver import pywraplp\n",
    "from random import randint\n",
    "\n",
    "solver = pywraplp.Solver.CreateSolver('SCIP')\n",
    "\n",
    "S = 4\n",
    "P = 5\n",
    "C = 10\n",
    "\n",
    "# CP = {projeto: [colaboradores]}   CP -> colaboradores do projeto\n",
    "CP = {\n",
    "    0: [0,1,2,3,6,8],\n",
    "    1: [0,1,4,5,9],\n",
    "    2: [2,3,7,8],\n",
    "    3: [4,5,6,7,9],\n",
    "    4: [1,3,4,5]\n",
    "}\n",
    "\n",
    "# projects_in = {colab: {project: 1(True) ou 0(False)}}  - dicionário que diz em que projetos o colaborador c está envolvido\n",
    "projects_in = gera_projects_in(CP, C)\n",
    "\n",
    "\n",
    "# {projeto: lider}  LP -> Líder do projeto\n",
    "LP = {\n",
    "      0: 1,\n",
    "      1: 4,\n",
    "      2: 2,\n",
    "      3: 5,\n",
    "      4: 3\n",
    "}\n",
    "\n",
    "\n",
    "reunioes_semanais = 10\n",
    "\n",
    "\n",
    "T = gera_slots(5,9,19)\n",
    "disp = gera_disponibilidade(C,T)\n",
    "\n",
    "#print_disponibilidade(disp, T[0][0], T[-1][1]+1, 5)\n",
    "\n",
    "horario(S, P, C, T, CP, projects_in, reunioes_semanais, disp)\n",
    "\n"
   ]
  },
  {
   "cell_type": "markdown",
   "id": "c4fc21be",
   "metadata": {},
   "source": [
    "### Exemplo 4"
   ]
  },
  {
   "cell_type": "code",
   "execution_count": 10,
   "id": "30a79700",
   "metadata": {},
   "outputs": [
    {
     "name": "stdout",
     "output_type": "stream",
     "text": [
      "-----  -----------------  -----------------  ------------------  -------------------  -----------------\n",
      "Slots  Dia 0              Dia 1              Dia 2               Dia 3                Dia 4\n",
      "9                         Proj 3 - S 0       Proj 4 - S 3        Proj 1 - S 1         Proj 2 - S 0\n",
      "                          Cols: 5  6  7      Cols: 1  3  12  13  Cols: 0  4  9        Cols: 2  7  10\n",
      "                                                                 Proj 2 - S 2         Proj 6 - S 2\n",
      "                                                                 Cols: 2  8  10       Cols: 0  5  9\n",
      "                                                                 Proj 4 - S 0\n",
      "                                                                 Cols: 3  5  12  13\n",
      "10     Proj 1 - S 0                          Proj 3 - S 0        Proj 0 - S 0         Proj 5 - S 0\n",
      "       Cols: 0  1  4                         Cols: 4  5  6       Cols: 1  6  8        Cols: 8  12  13\n",
      "11     Proj 0 - S 0       Proj 0 - S 3       Proj 1 - S 1        Proj 0 - S 0         Proj 6 - S 3\n",
      "       Cols: 1  3  8      Cols: 1  2  6      Cols: 1  4  5       Cols: 1  2  3  6  8  Cols: 0  9  10\n",
      "                                             Proj 5 - S 3        Proj 1 - S 3\n",
      "                                             Cols: 2  8  12      Cols: 0  4  5\n",
      "                                                                 Proj 6 - S 1\n",
      "                                                                 Cols: 9  10  12\n",
      "12     Proj 0 - S 1       Proj 3 - S 0       Proj 5 - S 0                             Proj 0 - S 2\n",
      "       Cols: 0  1  3      Cols: 4  5  6      Cols: 2  12  13                          Cols: 0  1  8\n",
      "       Proj 3 - S 0       Proj 6 - S 3                                                Proj 2 - S 3\n",
      "       Cols: 5  6  7      Cols: 9  10  12                                             Cols: 2  7  10\n",
      "13     Proj 0 - S 1                          Proj 4 - S 3        Proj 0 - S 0         Proj 4 - S 0\n",
      "       Cols: 0  1  6                         Cols: 1  3  5  13   Cols: 0  1  3        Cols: 3  4  5  13\n",
      "       Proj 2 - S 0                                              Proj 2 - S 2\n",
      "       Cols: 2  8  11                                            Cols: 2  8  11\n",
      "       Proj 6 - S 3\n",
      "       Cols: 5  9  12\n",
      "14     Proj 4 - S 3       Proj 6 - S 1       Proj 1 - S 1        Proj 5 - S 0         Proj 3 - S 2\n",
      "       Cols: 1  3  4  13  Cols: 5  9  10     Cols: 0  1  4       Cols: 2  8  12       Cols: 4  5  6\n",
      "       Proj 5 - S 2                          Proj 2 - S 0                             Proj 5 - S 1\n",
      "       Cols: 2  8  12                        Cols: 2  3  7                            Cols: 1  2  12\n",
      "       Proj 6 - S 0\n",
      "       Cols: 5  9  10\n",
      "15     Proj 4 - S 1       Proj 4 - S 2                           Proj 3 - S 3         Proj 1 - S 0\n",
      "       Cols: 3  4  5  13  Cols: 3  4  5  13                      Cols: 5  6  7        Cols: 0  1  4\n",
      "                                                                 Proj 5 - S 0\n",
      "                                                                 Cols: 1  12  13\n",
      "16                        Proj 0 - S 0       Proj 3 - S 1        Proj 0 - S 1         Proj 1 - S 2\n",
      "                          Cols: 1  2  3      Cols: 5  6  7       Cols: 1  2  6        Cols: 1  4  9\n",
      "                          Proj 3 - S 2                           Proj 4 - S 0\n",
      "                          Cols: 5  6  9                          Cols: 3  4  12  13\n",
      "                                                                 Proj 6 - S 2\n",
      "                                                                 Cols: 0  9  10\n",
      "17     Proj 2 - S 1       Proj 1 - S 1       Proj 1 - S 0        Proj 2 - S 1         Proj 3 - S 0\n",
      "       Cols: 2  3  8      Cols: 0  4  9      Cols: 0  4  9       Cols: 2  3  8        Cols: 5  6  9\n",
      "                          Proj 4 - S 2       Proj 2 - S 3        Proj 6 - S 3         Proj 5 - S 1\n",
      "                          Cols: 1  3  5  12  Cols: 2  7  8       Cols: 0  9  12       Cols: 2  8  12\n",
      "18     Proj 3 - S 3       Proj 6 - S 0       Proj 4 - S 0        Proj 1 - S 2         Proj 5 - S 0\n",
      "       Cols: 5  7  9      Cols: 0  9  12     Cols: 3  4  5  12   Cols: 1  4  5  9     Cols: 1  12  13\n",
      "       Proj 5 - S 2                                              Proj 2 - S 1\n",
      "       Cols: 2  8  12                                            Cols: 2  8  10\n",
      "-----  -----------------  -----------------  ------------------  -------------------  -----------------\n"
     ]
    }
   ],
   "source": [
    "from ortools.linear_solver import pywraplp\n",
    "from random import randint\n",
    "\n",
    "solver = pywraplp.Solver.CreateSolver('SCIP')\n",
    "\n",
    "S = 4\n",
    "P = 7\n",
    "C = 15\n",
    "\n",
    "# CP = {projeto: [colaboradores]}   CP -> colaboradores do projeto\n",
    "CP = {\n",
    "    0: [0,1,2,3,6,8],\n",
    "    1: [0,1,4,5,9],\n",
    "    2: [2,3,7,8,10,11],\n",
    "    3: [4,5,6,7,9],\n",
    "    4: [1,3,4,5,12,13,14],\n",
    "    5: [1,2,8,12,13],\n",
    "    6: [0,5,9,10,12,14]\n",
    "}\n",
    "\n",
    "# projects_in = {colab: {project: 1(True) ou 0(False)}}  - dicionário que diz em que projetos o colaborador c está envolvido\n",
    "projects_in = gera_projects_in(CP, C)\n",
    "\n",
    "\n",
    "# {projeto: lider}  LP -> Líder do projeto\n",
    "LP = {\n",
    "      0: 1,\n",
    "      1: 4,\n",
    "      2: 2,\n",
    "      3: 5,\n",
    "      4: 3,\n",
    "      5: 12,\n",
    "      6: 9\n",
    "}\n",
    "\n",
    "\n",
    "reunioes_semanais = 10\n",
    "\n",
    "\n",
    "T = gera_slots(5,9,19)\n",
    "disp = gera_disponibilidade(C,T)\n",
    "\n",
    "#print_disponibilidade(disp, T[0][0], T[-1][1]+1, 5)\n",
    "\n",
    "horario(S, P, C, T, CP, projects_in, reunioes_semanais, disp)\n",
    "\n"
   ]
  },
  {
   "cell_type": "code",
   "execution_count": null,
   "id": "9677dd7c",
   "metadata": {},
   "outputs": [],
   "source": []
  }
 ],
 "metadata": {
  "kernelspec": {
   "display_name": "Python 3 (ipykernel)",
   "language": "python",
   "name": "python3"
  },
  "language_info": {
   "codemirror_mode": {
    "name": "ipython",
    "version": 3
   },
   "file_extension": ".py",
   "mimetype": "text/x-python",
   "name": "python",
   "nbconvert_exporter": "python",
   "pygments_lexer": "ipython3",
   "version": "3.10.4"
  }
 },
 "nbformat": 4,
 "nbformat_minor": 5
}
