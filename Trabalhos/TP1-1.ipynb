{
 "cells": [
  {
   "cell_type": "markdown",
   "id": "4266744b",
   "metadata": {},
   "source": [
    "# TP1\n"
   ]
  },
  {
   "cell_type": "markdown",
   "id": "dae2caf1",
   "metadata": {},
   "source": [
    "## Propósito do trabalho"
   ]
  },
  {
   "cell_type": "markdown",
   "id": "8a3d025f",
   "metadata": {},
   "source": [
    "\n",
    "O propósito deste trabalho é a análise de problemas de alocação usando técnicas de SAT,  em lógica proposicional, e IP em lógica linear inteira.\n"
   ]
  },
  {
   "cell_type": "markdown",
   "id": "1b922fcf",
   "metadata": {},
   "source": [
    "## Enunciado"
   ]
  },
  {
   "cell_type": "markdown",
   "id": "66296ee1",
   "metadata": {},
   "source": [
    "### Problema 1"
   ]
  },
  {
   "cell_type": "markdown",
   "id": "cf589e0c",
   "metadata": {},
   "source": [
    "\n",
    "1. Pretende-se construir um horário semanal para o plano de reuniões de projeto de uma “StartUp” de acordo com as seguintes condições:\n",
    "\n",
    "    1. Cada reunião ocupa uma sala (enumeradas $1...S\\,$) durante um “slot”  $1..T\\,$ $(\\text{hora},\\text{dia})$.  \n",
    "    2.  Cada reunião tem associado um projeto (enumerados $1..P$) e um conjunto de participantes. Os diferentes colaboradores são enumerados $1..C$.\n",
    "    3. Cada projeto tem associado um conjunto de colaboradores, dos quais um  é o líder. Cada projeto realiza um dado número de reuniões semanais. \n",
    "    4. O líder do projeto participa em todas as reuniões do seu projeto; os restantes colaboradores podem ou não participar consoante a sua disponibilidade, num mínimo (“quorum”) de  $50\\%$ do total de colaboradores do projeto.\n",
    "    \n",
    "   São “inputs” do problema:\n",
    "      1. Os parâmetros $S\\,,\\,T\\,,\\,P\\,,\\,C$\n",
    "      2. O conjunto de colaboradores de cada projeto, o seu líder e o número de reuniões semanais.\n",
    "      3. A disponibilidade de cada participante, incluindo o lider. Essa disponibilidade é um conjunto de “slots\"  representada numa matriz booleana de acessibilidade com uma linha por cada participante $1..C$ e uma coluna por “slot” $\\,1..T\\,$\n",
    "   \n",
    "   São critérios de optimização:\n",
    "      1. Maximizar o número de reuniões efetivamente realizadas\n",
    "      2. Minimizar o número médio de reuniões por participante.\n"
   ]
  },
  {
   "cell_type": "markdown",
   "id": "fb935037",
   "metadata": {},
   "source": [
    "## Para a resolução deste problema encontramos as seguintes restrições\n",
    "### Restrição 1 - A assiduidade a cada reunião tem de ser superior a 50%\n",
    "Seja $ x_{c,t} $ a variável que verifica se um colaborador está disponível no slot $ t $ tem-se que:\n",
    "\n",
    "$\\forall t \\in T, \\frac{(\\sum_{i=1, i<c} x_{c,t})} {c} >= 0.5 $\n",
    "\n"
   ]
  },
  {
   "cell_type": "code",
   "execution_count": 7,
   "id": "41876e19",
   "metadata": {},
   "outputs": [],
   "source": [
    "from ortools.linear_solver import pywraplp\n",
    "from random import randint\n",
    "\n",
    "horario = pywraplp.Solver.CreateSolver('SCIP')\n",
    "\n",
    "S = 2\n",
    "P = 2\n",
    "C = 4\n",
    "#{colaborador: {proj: 0 ou 1}}\n",
    "CP = {0: {0: 1, 1: 1}, 1: {0: 1, 1: 0}, 2: {0: 0, 1: 0}, 3: {0: 1, 1: 1}}\n",
    "#{lider: {proj: 0 ou 1}}\n",
    "LP = {0:1, 1:0}\n",
    "reunioes_semanais = 5\n",
    "\n",
    "\n",
    "def gera_slots(d,h_min, h_max):\n",
    "    slots = []\n",
    "    for i in range(d):\n",
    "        for j in range(h_min, h_max):\n",
    "            slots.append((i,j))\n",
    "    return slots\n",
    "\n",
    "T = gera_slots(5,9,18)\n",
    "    \n",
    "\n",
    "\n",
    "\n",
    "\n"
   ]
  },
  {
   "cell_type": "code",
   "execution_count": 9,
   "id": "82a24b7b",
   "metadata": {},
   "outputs": [],
   "source": [
    "#Criação das matrizes                       \n",
    "#Matriz de alocação\n",
    "R = {}\n",
    "for c in range(C):\n",
    "    R[c] = {}\n",
    "    for p in range(P):\n",
    "        R[c][p] = {}\n",
    "        for s in range(S):\n",
    "            R[c][p][s] = {}\n",
    "            for t in T:\n",
    "                R[c][p][s][t] = horario.BoolVar(f'R[{c},{p},{s},{t}]')\n",
    "                "
   ]
  },
  {
   "cell_type": "code",
   "execution_count": null,
   "id": "aa070927",
   "metadata": {},
   "outputs": [],
   "source": [
    "#Condições\n",
    "\n",
    "#A assiduidade a cada reunião tem de ser superior a 50%\n",
    "for p in range(P):\n",
    "    for s in range(S):\n",
    "        for t in range(T):\n",
    "            for c in range(C):\n",
    "                solver.Add ( (sum(R[c][p][s][t]) / C) >= 0.5 )\n",
    "                \n",
    "#O Líder tem que ir a todas as reuniões\n",
    "\n",
    "\n"
   ]
  }
 ],
 "metadata": {
  "kernelspec": {
   "display_name": "Python 3 (ipykernel)",
   "language": "python",
   "name": "python3"
  },
  "language_info": {
   "codemirror_mode": {
    "name": "ipython",
    "version": 3
   },
   "file_extension": ".py",
   "mimetype": "text/x-python",
   "name": "python",
   "nbconvert_exporter": "python",
   "pygments_lexer": "ipython3",
   "version": "3.10.4"
  }
 },
 "nbformat": 4,
 "nbformat_minor": 5
}
