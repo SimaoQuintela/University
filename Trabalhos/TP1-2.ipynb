{
 "cells": [
  {
   "cell_type": "markdown",
   "id": "4c543ad3",
   "metadata": {},
   "source": [
    "## Problema 2"
   ]
  },
  {
   "cell_type": "markdown",
   "id": "14ec7043",
   "metadata": {},
   "source": [
    "Na criptografia pós-quântica os reticulados inteiros (“$hard lattices$”) e os problemas a eles associados são uma componente essencial. Um reticulado inteiro pode ser definido por uma matriz $\\;\\mathsf{L} \\in \\mathbb{Z}^{m\\times n}\\;$ (com $\\;m > n\\;$) de inteiros e por um inteiro primo $\\;q\\geq 3\\;$. O chamado problema do vetor curto  (SVP) consiste  no cálculo de um vetor de inteiros $$\\;e\\in \\{-1,0,1\\}^m\\;$$  \n",
    "não nulo que  verifique a seguinte relação matricial\n",
    "$$\\forall\\,i < n\\,\\centerdot\\,\\sum_{j< m}\\,e_j\\,\\times\\,\\mathsf{L}_{j,i}\\;\\equiv\\;0\\mod q$$\n"
   ]
  },
  {
   "cell_type": "markdown",
   "id": "2d43b3f0",
   "metadata": {},
   "source": [
    "\n",
    "1. Pretende-se resolver o SVP por programação inteira dentro das seguintes condições\n",
    "   1. Os valores  $\\,m\\,,\\,n\\,,\\,q\\,$  são escolhidos com $\\,n > 30\\,$, $\\,|m| > 1 + |n|\\;$ e $\\,|q| > |m|\\,$. \n",
    "   2. Os elementos $\\;\\mathsf{L}_{j,i}\\;$ são gerados aleatória e uniformemente no intervalo inteiro $\\,\\{-d \\cdots d\\}$ sendo  $\\;d\\equiv (q-1)/2\\;$.\n",
    "2. Pretende-se determinar, em primeiro lugar, se existe um vetor $\\,e\\,$ não nulo (pelo menos um dos $\\,e_j\\,$é diferente de zero). Se existir $\\,e\\,$ pretende-se calcular o vetor que minimiza o número de componentes não nulas.\n",
    "   \n",
    "Notas                  \n",
    "    $\\quad$ Se $\\;x \\ge 0\\;$, representa-se por $\\,|x|\\,$ o tamanho de $\\,x\\,$ em bits:  o menor $\\,\\ell\\,$ tal que $\\,x < 2^\\ell$ .\n",
    "    \n",
    "   - Um inteiro $\\;x\\;$ verifica $\\;x \\equiv 0 \\mod q\\;$  sse $\\;x\\;$ é um múltiplo de $\\,q\\,$. $x \\equiv 0 \\mod q \\;\\quad \\text{sse}\\quad\\; \\exists\\,k\\in \\mathbb{Z}\\,\\centerdot\\, x \\,=\\,q\\times k$.\n",
    "    \n",
    "   Por isso, escrito de forma matricial, as relações que  determinam o vetor $\\;e\\neq 0\\;$ são $$\\left\\{\\begin{array}{rcl}\\exists\\,e\\in \\{-1,0,1\\}^m\\,\\centerdot\\,\\exists\\,k\\in \\mathbb{Z}^n &\\centerdot & e\\times \\mathsf{L} \\;=\\; q\\,k \\\\ \\exists\\,i < n &\\centerdot & e_i \\,\\neq\\, 0 \\end{array}\\right.$$"
   ]
  },
  {
   "cell_type": "markdown",
   "id": "93657f1a",
   "metadata": {},
   "source": [
    "### Resolução do problema"
   ]
  },
  {
   "cell_type": "markdown",
   "id": "e8c0b657",
   "metadata": {},
   "source": [
    "**Função get_value_by_bit_size(n, up)**\n",
    "\n",
    "    n - número passado como argumento para contar o número de bits necessários para o representar\n",
    "    up - parâmetro que diz quantos bits acima tem de ter o novo valor\n",
    "\n",
    "Utilizada para satisfazer as condições $\\,n > 30\\,$, $\\,|m| > 1 + |n|\\;$ e $\\,|q| > |m|\\,$."
   ]
  },
  {
   "cell_type": "code",
   "execution_count": 4,
   "id": "40a55fcb",
   "metadata": {},
   "outputs": [],
   "source": [
    "\n",
    "from math import log, floor# em alternativa à função log podemos usar um while loop \n",
    "\n",
    "'''\n",
    "def get_value_by_bit_size(n, up):\n",
    "    m = log(n,2)\n",
    "    lower_bound = floor(m)\n",
    "    upper_bound = lower_bound + up\n",
    "    \n",
    "    return 2**upper_bound\n",
    "'''\n",
    "pass"
   ]
  },
  {
   "cell_type": "markdown",
   "id": "fabb9bd7",
   "metadata": {},
   "source": [
    "**Função find_closest_prime_number(n)**\n",
    "    \n",
    "    n - número mínimo pelo qual temos de começar a procurar"
   ]
  },
  {
   "cell_type": "code",
   "execution_count": 5,
   "id": "041a0257",
   "metadata": {},
   "outputs": [
    {
     "name": "stdout",
     "output_type": "stream",
     "text": [
      "[2, 3, 5, 7, 11, 13, 17, 19, 23, 29, 31, 37, 41, 43, 47, 53, 59, 61, 67, 71, 73, 79, 83, 89, 97, 101, 103, 107, 109, 113, 127, 131, 137, 139, 149, 151, 157, 163, 167, 173, 179, 181, 191, 193, 197, 199, 211, 223, 227, 229, 233, 239, 241, 251]\n"
     ]
    }
   ],
   "source": [
    "\n",
    "def erastostenes_crive(n):\n",
    "    numeros = [True] * (n + 1)\n",
    "    \n",
    "    numeros[0] = False\n",
    "    numeros[1] = False\n",
    "    \n",
    "    primos = []\n",
    "    \n",
    "    for numero, primo in enumerate(numeros):\n",
    "        if primo:\n",
    "            primos.append(numero)\n",
    "            \n",
    "            for i in range(numero * 2, n + 1, numero):\n",
    "                numeros[i] = False\n",
    "\n",
    "    print(primos)\n",
    "    return primos\n",
    "\n",
    "erastostenes_crive(255)\n",
    "pass\n"
   ]
  },
  {
   "cell_type": "markdown",
   "id": "5e4345db",
   "metadata": {},
   "source": [
    "**Função generate_matrix(m, n, d)**\n",
    "\n",
    "    m - número de linhas da matriz\n",
    "    n - número de colunas da matriz\n",
    "    d - inteiro que serve de referência para o intervalo de valores [-d, d] da matriz L\n",
    "\n",
    "Utilizada para gerar uma matriz com m linhas e n colunas com valores entre d e -d"
   ]
  },
  {
   "cell_type": "code",
   "execution_count": 6,
   "id": "0ad08ff3",
   "metadata": {},
   "outputs": [],
   "source": [
    "from random import randint\n",
    "\n",
    "def generate_matrix(m, n, d):\n",
    "    L = {}\n",
    "    for i in range(0, m):\n",
    "        L[i] = {}\n",
    "        for j in range(0, n):\n",
    "            random_number = randint(-d,d)\n",
    "            L[i][j] = random_number\n",
    "    return L"
   ]
  },
  {
   "cell_type": "markdown",
   "id": "28621f50",
   "metadata": {},
   "source": [
    "#### exemplo 1"
   ]
  },
  {
   "cell_type": "code",
   "execution_count": 19,
   "id": "662e8158",
   "metadata": {},
   "outputs": [
    {
     "name": "stdout",
     "output_type": "stream",
     "text": [
      "33\n",
      "{0: {0: -5, 1: -28, 2: 23, 3: 29, 4: 32}, 1: {0: -10, 1: -19, 2: 9, 3: -12, 4: 11}, 2: {0: 0, 1: -2, 2: 18, 3: -23, 4: 15}, 3: {0: 11, 1: 29, 2: 27, 3: 33, 4: 29}, 4: {0: -5, 1: 6, 2: 21, 3: -15, 4: -33}, 5: {0: -6, 1: -1, 2: 10, 3: 24, 4: 28}, 6: {0: -22, 1: -9, 2: 15, 3: 12, 4: -7}, 7: {0: -3, 1: -29, 2: -20, 3: 32, 4: -25}, 8: {0: 25, 1: -15, 2: -23, 3: -29, 4: -3}, 9: {0: 21, 1: 18, 2: -27, 3: -1, 4: -2}, 10: {0: 23, 1: 6, 2: 1, 3: -33, 4: -1}, 11: {0: 28, 1: 16, 2: -29, 3: 18, 4: -13}, 12: {0: -12, 1: -23, 2: -32, 3: -15, 4: 8}, 13: {0: 17, 1: 7, 2: -16, 3: -25, 4: 2}, 14: {0: 7, 1: -3, 2: -12, 3: -1, 4: -1}, 15: {0: 13, 1: 2, 2: -2, 3: -24, 4: -10}, 16: {0: -2, 1: -11, 2: -27, 3: -7, 4: -3}, 17: {0: 2, 1: 2, 2: 9, 3: -10, 4: -4}, 18: {0: 15, 1: 30, 2: 4, 3: 23, 4: 29}, 19: {0: -25, 1: 26, 2: -13, 3: -26, 4: -6}, 20: {0: -6, 1: -27, 2: -6, 3: -3, 4: 29}, 21: {0: 26, 1: 6, 2: 6, 3: -15, 4: 25}, 22: {0: -9, 1: -16, 2: -7, 3: 9, 4: 26}, 23: {0: 9, 1: 4, 2: -18, 3: -8, 4: 12}, 24: {0: -3, 1: -6, 2: 5, 3: -22, 4: -3}, 25: {0: 1, 1: -20, 2: -5, 3: -4, 4: -31}, 26: {0: -32, 1: -9, 2: 0, 3: 32, 4: 32}, 27: {0: -12, 1: -11, 2: 24, 3: 20, 4: -18}, 28: {0: -14, 1: 11, 2: -16, 3: -26, 4: -5}, 29: {0: -6, 1: -18, 2: -31, 3: 23, 4: -7}, 30: {0: 32, 1: 19, 2: -18, 3: 23, 4: 7}, 31: {0: 22, 1: -11, 2: -17, 3: 5, 4: -25}}\n"
     ]
    }
   ],
   "source": [
    "'''\n",
    "n = 31\n",
    "m = get_value_by_bit_size(n, 2) # m = 128\n",
    "q = get_value_by_bit_size(m, 1) # q = 256\n",
    "d = floor((q-1)/2)\n",
    "L = generate_matrix(m,n,d)\n",
    "#print(n)\n",
    "#print(m)\n",
    "#print(q)\n",
    "#print(d)\n",
    "#print(L)\n",
    "'''\n",
    "n = 5\n",
    "m = 32\n",
    "q = 67\n",
    "d = floor((q-1)/2)\n",
    "L = generate_matrix(m,n,d)\n",
    "\n",
    "print(d)\n",
    "print(L)"
   ]
  },
  {
   "cell_type": "markdown",
   "id": "e8cfcead",
   "metadata": {},
   "source": [
    "### 2.1"
   ]
  },
  {
   "cell_type": "markdown",
   "id": "3595d880",
   "metadata": {},
   "source": [
    "**Função is_module(x, q)**\n",
    "\n",
    "    x - valor que queremos verificar se é congruente com 0 módulo q\n",
    "    q - valor do módulo\n",
    "    \n",
    "Esta função pretende verificar se o valor x é congruente com 0 módulo q"
   ]
  },
  {
   "cell_type": "code",
   "execution_count": null,
   "id": "29ef2647",
   "metadata": {},
   "outputs": [],
   "source": [
    "from ortools.sat.python import cp_model\n",
    "from pysmt.shortcuts import And, Or, LE, GE, Not, Symbol\n",
    "from pysmt.typing import INT\n",
    "\n",
    "solver = pywraplp.Solver.CreateSolver('SCIP')\n",
    "\n",
    "e_matrix = {}\n",
    "k = {}\n",
    "for i in range(0, m):\n",
    "    e_matrix[i] = {}\n",
    "    for j in range(-1, 2):\n",
    "        e_matrix[i][j] = solver.BoolVar(f'e_matrix[{i}][{j}]')\n",
    "\n",
    "for i in range(0, n):\n",
    "    k[i] = solver.IntVar(-1*solver.infinity(), solver.infinity(), f'k[{i}]')\n",
    "  \n",
    "\n",
    "# 1ª condição - Cada linha tem um valor\n",
    "for i in range(0,m):\n",
    "    solver.Add( sum( [e_matrix[i][j] for j in range(-1,2)]) == 1  )\n",
    "\n",
    "# 2ª condição - Não há o vetor nulo\n",
    "solver.Add(sum([e_matrix[i][0] for i in range(0,m)]) <= (m-1))\n",
    "\n",
    "\n",
    "for i in range(0,n):\n",
    "    solver.Add(sum( sum( e_matrix[j][t]*t for t in range(-1,2)) *L[j][i] for j in range(0,m) )  == k[i]*q )\n",
    "        \n",
    "    \n",
    "# minimizar o número de componentes não nulas\n",
    "#solver.Minimize( sum([e_matrix[i][0] for i in range(0, m)]))\n",
    "\n",
    "\n",
    "solver.Solve()\n",
    "\n",
    "for e in e_matrix:\n",
    "    for s in e_matrix[e]:\n",
    "        print(int(e_matrix[e][s].solution_value()), end=\" \")\n",
    "    print(\"\")"
   ]
  },
  {
   "cell_type": "code",
   "execution_count": null,
   "id": "e0261f60",
   "metadata": {},
   "outputs": [],
   "source": []
  },
  {
   "cell_type": "code",
   "execution_count": null,
   "id": "429d6cca",
   "metadata": {},
   "outputs": [],
   "source": []
  }
 ],
 "metadata": {
  "kernelspec": {
   "display_name": "Python 3 (ipykernel)",
   "language": "python",
   "name": "python3"
  },
  "language_info": {
   "codemirror_mode": {
    "name": "ipython",
    "version": 3
   },
   "file_extension": ".py",
   "mimetype": "text/x-python",
   "name": "python",
   "nbconvert_exporter": "python",
   "pygments_lexer": "ipython3",
   "version": "3.10.4"
  }
 },
 "nbformat": 4,
 "nbformat_minor": 5
}
