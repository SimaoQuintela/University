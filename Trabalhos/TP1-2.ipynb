{
 "cells": [
  {
   "cell_type": "markdown",
   "id": "98711e8c",
   "metadata": {},
   "source": [
    "### Problema 2"
   ]
  },
  {
   "cell_type": "markdown",
   "id": "4c543ad3",
   "metadata": {},
   "source": [
    "Na criptografia pós-quântica os reticulados inteiros (“$hard lattices$”) e os problemas a eles associados são uma componente essencial. Um reticulado inteiro pode ser definido por uma matriz $\\;\\mathsf{L} \\in \\mathbb{Z}^{m\\times n}\\;$ (com $\\;m > n\\;$) de inteiros e por um inteiro primo $\\;q\\geq 3\\;$. O chamado problema do vetor curto  (SVP) consiste  no cálculo de um vetor de inteiros $$\\;e\\in \\{-1,0,1\\}^m\\;$$  \n",
    "não nulo que  verifique a seguinte relação matricial\n",
    "$$\\forall\\,i < n\\,\\centerdot\\,\\sum_{j< m}\\,e_j\\,\\times\\,\\mathsf{L}_{j,i}\\;\\equiv\\;0\\mod q$$\n"
   ]
  },
  {
   "cell_type": "markdown",
   "id": "2d43b3f0",
   "metadata": {},
   "source": [
    "\n",
    "1. Pretende-se resolver o SVP por programação inteira dentro das seguintes condições\n",
    "   1. Os valores  $\\,m\\,,\\,n\\,,\\,q\\,$  são escolhidos com $\\,n > 30\\,$, $\\,|m| > 1 + |n|\\;$ e $\\,|q| > |m|\\,$. \n",
    "   2. Os elementos $\\;\\mathsf{L}_{j,i}\\;$ são gerados aleatória e uniformemente no intervalo inteiro $\\,\\{-d \\cdots d\\}$ sendo  $\\;d\\equiv (q-1)/2\\;$.\n",
    "2. Pretende-se determinar, em primeiro lugar, se existe um vetor $\\,e\\,$ não nulo (pelo menos um dos $\\,e_j\\,$é diferente de zero). Se existir $\\,e\\,$ pretende-se calcular o vetor que minimiza o número de componentes não nulas.\n",
    "   \n",
    "Notas                  \n",
    "    $\\quad$ Se $\\;x \\ge 0\\;$, representa-se por $\\,|x|\\,$ o tamanho de $\\,x\\,$ em bits:  o menor $\\,\\ell\\,$ tal que $\\,x < 2^\\ell$ .\n",
    "    \n",
    "   - Um inteiro $\\;x\\;$ verifica $\\;x \\equiv 0 \\mod q\\;$  sse $\\;x\\;$ é um múltiplo de $\\,q\\,$. $x \\equiv 0 \\mod q \\;\\quad \\text{sse}\\quad\\; \\exists\\,k\\in \\mathbb{Z}\\,\\centerdot\\, x \\,=\\,q\\times k$.\n",
    "    \n",
    "   Por isso, escrito de forma matricial, as relações que  determinam o vetor $\\;e\\neq 0\\;$ são $$\\left\\{\\begin{array}{rcl}\\exists\\,e\\in \\{-1,0,1\\}^m\\,\\centerdot\\,\\exists\\,k\\in \\mathbb{Z}^n &\\centerdot & e\\times \\mathsf{L} \\;=\\; q\\,k \\\\ \\exists\\,i < n &\\centerdot & e_i \\,\\neq\\, 0 \\end{array}\\right.$$"
   ]
  },
  {
   "cell_type": "markdown",
   "id": "93657f1a",
   "metadata": {},
   "source": [
    "### Resolução do problema"
   ]
  },
  {
   "cell_type": "markdown",
   "id": "e8c0b657",
   "metadata": {},
   "source": [
    "**Função get_value_by_bit_size(n, up)**\n",
    "\n",
    "    n - número passado como argumento para contar o número de bits necessários para o representar\n",
    "    up - parâmetro que diz quantos bits acima tem de ter o novo valor\n",
    "\n",
    "Utilizada para satisfazer as condições $\\,n > 30\\,$, $\\,|m| > 1 + |n|\\;$ e $\\,|q| > |m|\\,$."
   ]
  },
  {
   "cell_type": "code",
   "execution_count": 85,
   "id": "40a55fcb",
   "metadata": {},
   "outputs": [],
   "source": [
    "from math import log, floor# em alternativa a esta função posso usar um while loop \n",
    "\n",
    "\n",
    "def get_value_by_bit_size(n, up):\n",
    "    m = log(n,2)\n",
    "    lower_bound = floor(m)\n",
    "    upper_bound = lower_bound + up\n",
    "    \n",
    "    return 2**upper_bound\n"
   ]
  },
  {
   "cell_type": "markdown",
   "id": "5e4345db",
   "metadata": {},
   "source": [
    "**Função generate_matrix(m, n, d)**\n",
    "\n",
    "    m - número de linhas da matriz\n",
    "    n - número de colunas da matriz\n",
    "    d - inteiro que serve de referência para o intervalo de valores da matriz [d, -d]\n",
    "\n",
    "Utilizada para gerar uma matriz com m linhas e n colunas com valores entre d e -d"
   ]
  },
  {
   "cell_type": "code",
   "execution_count": 86,
   "id": "0ad08ff3",
   "metadata": {},
   "outputs": [],
   "source": [
    "from random import randint\n",
    "\n",
    "def generate_matrix(m, n, d):\n",
    "    L = {}\n",
    "    for i in range(0, m):\n",
    "        L[i] = {}\n",
    "        for j in range(0, n):\n",
    "            random_number = randint(-d,d)\n",
    "            L[i][j] = random_number\n",
    "    return L\n",
    "            "
   ]
  },
  {
   "cell_type": "markdown",
   "id": "28621f50",
   "metadata": {},
   "source": [
    "#### exemplo 1"
   ]
  },
  {
   "cell_type": "code",
   "execution_count": 87,
   "id": "662e8158",
   "metadata": {},
   "outputs": [],
   "source": [
    "\n",
    "n = 32\n",
    "m = get_value_by_bit_size(n, 2) # m = 128\n",
    "q = get_value_by_bit_size(m, 1) # q = 256\n",
    "d = floor((q-1)/2)\n",
    "L = generate_matrix(m,n,d)\n",
    "#print(n)\n",
    "#print(m)\n",
    "#print(q)\n",
    "#print(d)\n",
    "#print(L)"
   ]
  },
  {
   "cell_type": "markdown",
   "id": "e8cfcead",
   "metadata": {},
   "source": [
    "### 2.1"
   ]
  },
  {
   "cell_type": "code",
   "execution_count": 84,
   "id": "29ef2647",
   "metadata": {},
   "outputs": [
    {
     "name": "stdout",
     "output_type": "stream",
     "text": [
      "[e[0], e[1], e[2], e[3], e[4], e[5], e[6], e[7], e[8], e[9], e[10], e[11], e[12], e[13], e[14], e[15], e[16], e[17], e[18], e[19], e[20], e[21], e[22], e[23], e[24], e[25], e[26], e[27], e[28], e[29], e[30], e[31], e[32], e[33], e[34], e[35], e[36], e[37], e[38], e[39], e[40], e[41], e[42], e[43], e[44], e[45], e[46], e[47], e[48], e[49], e[50], e[51], e[52], e[53], e[54], e[55], e[56], e[57], e[58], e[59], e[60], e[61], e[62], e[63], e[64], e[65], e[66], e[67], e[68], e[69], e[70], e[71], e[72], e[73], e[74], e[75], e[76], e[77], e[78], e[79], e[80], e[81], e[82], e[83], e[84], e[85], e[86], e[87], e[88], e[89], e[90], e[91], e[92], e[93], e[94], e[95], e[96], e[97], e[98], e[99], e[100], e[101], e[102], e[103], e[104], e[105], e[106], e[107], e[108], e[109], e[110], e[111], e[112], e[113], e[114], e[115], e[116], e[117], e[118], e[119], e[120], e[121], e[122], e[123], e[124], e[125], e[126], e[127]]\n"
     ]
    },
    {
     "ename": "TypeError",
     "evalue": "unsupported operand type(s) for %: 'SumArray' and 'int'",
     "output_type": "error",
     "traceback": [
      "\u001b[0;31m---------------------------------------------------------------------------\u001b[0m",
      "\u001b[0;31mTypeError\u001b[0m                                 Traceback (most recent call last)",
      "Input \u001b[0;32mIn [84]\u001b[0m, in \u001b[0;36m<cell line: 10>\u001b[0;34m()\u001b[0m\n\u001b[1;32m      8\u001b[0m \u001b[38;5;28mprint\u001b[39m(e)\n\u001b[1;32m     10\u001b[0m \u001b[38;5;28;01mfor\u001b[39;00m i \u001b[38;5;129;01min\u001b[39;00m \u001b[38;5;28mrange\u001b[39m(\u001b[38;5;241m0\u001b[39m,n):\n\u001b[0;32m---> 11\u001b[0m     solver\u001b[38;5;241m.\u001b[39mAdd( (\u001b[38;5;28;43msum\u001b[39;49m\u001b[43m(\u001b[49m\u001b[43me\u001b[49m\u001b[43m[\u001b[49m\u001b[43mj\u001b[49m\u001b[43m]\u001b[49m\u001b[38;5;241;43m*\u001b[39;49m\u001b[43mL\u001b[49m\u001b[43m[\u001b[49m\u001b[43mj\u001b[49m\u001b[43m]\u001b[49m\u001b[43m[\u001b[49m\u001b[43mi\u001b[49m\u001b[43m]\u001b[49m\u001b[43m \u001b[49m\u001b[38;5;28;43;01mfor\u001b[39;49;00m\u001b[43m \u001b[49m\u001b[43mj\u001b[49m\u001b[43m \u001b[49m\u001b[38;5;129;43;01min\u001b[39;49;00m\u001b[43m \u001b[49m\u001b[38;5;28;43mrange\u001b[39;49m\u001b[43m(\u001b[49m\u001b[38;5;241;43m0\u001b[39;49m\u001b[43m,\u001b[49m\u001b[43mm\u001b[49m\u001b[43m)\u001b[49m\u001b[43m)\u001b[49m\u001b[43m \u001b[49m\u001b[38;5;241;43m%\u001b[39;49m\u001b[43m \u001b[49m\u001b[43mq\u001b[49m) \u001b[38;5;241m==\u001b[39m \u001b[38;5;241m0\u001b[39m )\n",
      "\u001b[0;31mTypeError\u001b[0m: unsupported operand type(s) for %: 'SumArray' and 'int'"
     ]
    }
   ],
   "source": [
    "from ortools.linear_solver import pywraplp\n",
    "\n",
    "solver = pywraplp.Solver.CreateSolver('SCIP')\n",
    "e = []\n",
    "# Adicionar os símbolos ao vetor e\n",
    "for i in range(0,m):\n",
    "    e.append(solver.IntVar(-d,d, f\"e[{i}]\"))\n",
    "print(e)\n",
    "\n",
    "for i in range(0,n):\n",
    "    solver.Add( (sum(e[j]*L[j][i] for j in range(0,m)) % q) == 0 )\n",
    "\n",
    "    # tá a dar no operador % ver isto depois"
   ]
  },
  {
   "cell_type": "code",
   "execution_count": null,
   "id": "69b05d1e",
   "metadata": {},
   "outputs": [],
   "source": []
  }
 ],
 "metadata": {
  "kernelspec": {
   "display_name": "Python 3 (ipykernel)",
   "language": "python",
   "name": "python3"
  },
  "language_info": {
   "codemirror_mode": {
    "name": "ipython",
    "version": 3
   },
   "file_extension": ".py",
   "mimetype": "text/x-python",
   "name": "python",
   "nbconvert_exporter": "python",
   "pygments_lexer": "ipython3",
   "version": "3.10.4"
  }
 },
 "nbformat": 4,
 "nbformat_minor": 5
}
