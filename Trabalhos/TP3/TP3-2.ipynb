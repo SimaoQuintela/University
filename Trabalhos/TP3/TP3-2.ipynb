{
 "cells": [
  {
   "cell_type": "markdown",
   "id": "8b12ad50",
   "metadata": {},
   "source": [
    "2. O seguinte sistema dinâmico denota 4 inversores ($\\,A, B, C, D\\,$) que lêm um bit num canal input e escrevem num canal output uma transformação desse bit.\n"
   ]
  },
  {
   "cell_type": "markdown",
   "id": "7cc492be",
   "metadata": {},
   "source": [
    "<img src=\"inversores.png\" alt=\"autómato\"/>"
   ]
  },
  {
   "cell_type": "markdown",
   "id": "b5b7cf4e",
   "metadata": {},
   "source": [
    "\n",
    "   1. Cada inversor tem um bit $s$ de estado, inicializado  com um valor aleatório.\n",
    "   2. Cada inversor é regido pelas seguintes transformações \n",
    "  \n",
    "     $$ \\mathbf{invert}\\mathtt(in,out) $$\n",
    "     $$x \\gets \\mathsf{read}(\\mathtt{in})$$\n",
    "     $$s \\gets \\neg x\\;\\;\\|\\;\\; s\\gets s\\oplus x$$             \n",
    "     $$\\mathsf{write}(\\mathtt{out},s)$$\n",
    "     \n",
    "        iii. A escolha neste comando é sempre determinística; isto é, em cada inversor a escolha do comando a executar é sempre a mesma. Porém qual é essa escolha é determinada aleatoriamente na inicializarão do sistema.\n",
    "        \n",
    "        iii. O estado do sistema é um duplo definido pelos 4 bits $s$, e é inicializado com um vetor aleatório em $\\{0,1\\}^4\\;$.\n",
    "        \n",
    "        iv. O sistema termina em ERRO quando o estado do sistema for $\\,(0,0,0,0)\\,$."
   ]
  },
  {
   "cell_type": "markdown",
   "id": "8996e1fa",
   "metadata": {},
   "source": [
    "\n",
    "    1. Construa um SFOTS que descreva este sistema e implemente este sistema, numa abordagem BMC (“bouded model checker”) num traço com $$\\,n\\,$$ estados.\n",
    "    \n",
    "    2. Verifique se o sistema é seguro usando BMC, k-indução ou model checking com interpolantes."
   ]
  },
  {
   "cell_type": "markdown",
   "id": "9fbf08f1",
   "metadata": {},
   "source": [
    "### Função genState bla bla bla"
   ]
  },
  {
   "cell_type": "code",
   "execution_count": null,
   "id": "793f9dca",
   "metadata": {},
   "outputs": [],
   "source": [
    "# vars = ['s', 'x']\n",
    "def genState(vars,s,i):\n",
    "    state = {}\n",
    "    for i in range(1, 5):\n",
    "        for v in vars:\n",
    "            state[v][i] = Int(v+{i}+'_'+s+str(i))\n",
    "            \n",
    "    state['state'] = (state['s'][0], state['s'][1], state['s'][2], state['s'][3]) \n",
    "            \n",
    "    return state"
   ]
  },
  {
   "cell_type": "markdown",
   "id": "458ba0a7",
   "metadata": {},
   "source": [
    "#### Função init(state):\n",
    "\n",
    "    state - Dicionário de variáveis de estado\n",
    "\n",
    "\n",
    "   A função `init` tem como objetivo devolver um predicado do Solver que testa se é um possível estado inicial do programa, através do `state`, um dicionário de variáveis."
   ]
  },
  {
   "cell_type": "code",
   "execution_count": null,
   "id": "0ebf16e9",
   "metadata": {},
   "outputs": [],
   "source": [
    "def init(state):\n",
    "    random_state = (randint(0,1),randint(0,1),randint(0,1),randint(0,1))\n",
    "    \n",
    "    return And(state['x'] == -1, state['s'] == randint(0,1), state['state'] == random_state)"
   ]
  },
  {
   "cell_type": "markdown",
   "id": "83943a36",
   "metadata": {},
   "source": [
    "#### Função trans(curr, prox):\n",
    "\n",
    "    curr - Estado das variáveis no momento atual\n",
    "    prox - Estado das variáveis no momento da próxima iteração\n",
    "    \n",
    "   A função `trans` tem como objetivo devolver um predicado do Solver, através dos três estados disponíveis, que teste se é possível transitar entre os estados possíveis."
   ]
  },
  {
   "cell_type": "code",
   "execution_count": null,
   "id": "dc84af18",
   "metadata": {},
   "outputs": [],
   "source": [
    "def error(state):\n",
    "    return Or( state['state'] == (0,0,0,0) )\n",
    "\n",
    "\n",
    "# perguntar ao stor sobre ordem de execução\n",
    "def trans(curr, prox):\n",
    "    "
   ]
  },
  {
   "cell_type": "code",
   "execution_count": null,
   "id": "9b7f48c8",
   "metadata": {},
   "outputs": [],
   "source": []
  }
 ],
 "metadata": {
  "kernelspec": {
   "display_name": "Python 3 (ipykernel)",
   "language": "python",
   "name": "python3"
  },
  "language_info": {
   "codemirror_mode": {
    "name": "ipython",
    "version": 3
   },
   "file_extension": ".py",
   "mimetype": "text/x-python",
   "name": "python",
   "nbconvert_exporter": "python",
   "pygments_lexer": "ipython3",
   "version": "3.10.4"
  }
 },
 "nbformat": 4,
 "nbformat_minor": 5
}
