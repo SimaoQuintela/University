{
 "cells": [
  {
   "cell_type": "markdown",
   "id": "8b12ad50",
   "metadata": {},
   "source": [
    "### TP3 - 2"
   ]
  },
  {
   "cell_type": "markdown",
   "id": "bfb59eb3",
   "metadata": {},
   "source": [
    "2. O seguinte sistema dinâmico denota 4 inversores ($\\,A, B, C, D\\,$) que lêm um bit num canal input e escrevem num canal output uma transformação desse bit.\n"
   ]
  },
  {
   "cell_type": "markdown",
   "id": "7cc492be",
   "metadata": {},
   "source": [
    "<img src=\"inversores.png\" alt=\"autómato\"/>"
   ]
  },
  {
   "cell_type": "markdown",
   "id": "b5b7cf4e",
   "metadata": {},
   "source": [
    "\n",
    "   1. Cada inversor tem um bit $s$ de estado, inicializado  com um valor aleatório.\n",
    "   2. Cada inversor é regido pelas seguintes transformações \n",
    "  \n",
    "     $$ \\mathbf{invert}\\mathtt(in,out) $$\n",
    "     $$x \\gets \\mathsf{read}(\\mathtt{in})$$\n",
    "     $$s \\gets \\neg x\\;\\;\\|\\;\\; s\\gets s\\oplus x$$             \n",
    "     $$\\mathsf{write}(\\mathtt{out},s)$$\n",
    "     \n",
    "        iii. A escolha neste comando é sempre determinística; isto é, em cada inversor a escolha do comando a executar é sempre a mesma. Porém qual é essa escolha é determinada aleatoriamente na inicializarão do sistema.\n",
    "        \n",
    "        iii. O estado do sistema é um duplo definido pelos 4 bits $s$, e é inicializado com um vetor aleatório em $\\{0,1\\}^4\\;$.\n",
    "        \n",
    "        iv. O sistema termina em ERRO quando o estado do sistema for $\\,(0,0,0,0)\\,$."
   ]
  },
  {
   "cell_type": "markdown",
   "id": "8996e1fa",
   "metadata": {},
   "source": [
    "\n",
    "1. Construa um SFOTS que descreva este sistema e implemente este sistema, numa abordagem BMC (“bouded model checker”) num traço com $\\,n\\,$ estados.\n",
    "2. Verifique se o sistema é seguro usando BMC, k-indução ou model checking com interpolantes."
   ]
  },
  {
   "cell_type": "code",
   "execution_count": 1,
   "id": "464c13db",
   "metadata": {},
   "outputs": [],
   "source": [
    "from pysmt.shortcuts import *\n",
    "from pysmt.typing import INT\n",
    "import itertools \n",
    "from random import randint"
   ]
  },
  {
   "cell_type": "markdown",
   "id": "9fbf08f1",
   "metadata": {},
   "source": [
    "### Função genState bla bla bla"
   ]
  },
  {
   "cell_type": "code",
   "execution_count": 2,
   "id": "793f9dca",
   "metadata": {},
   "outputs": [],
   "source": [
    "# vars = ['pc', s']\n",
    "def genState(vars,s,i,n):\n",
    "    state = {}\n",
    "    state['pc'] = Symbol('pc'+'_'+s+str(i), BVType(n))\n",
    "    for j in range(1, 5):\n",
    "        for v in vars[1:]:\n",
    "            if v not in state:\n",
    "                state[v] = {}\n",
    "            \n",
    "            state[v][j] = Symbol(v+str(j)+'_'+s+str(i), BVType(n))\n",
    "            \n",
    "    #print(state)\n",
    "    \n",
    "            \n",
    "    return state"
   ]
  },
  {
   "cell_type": "markdown",
   "id": "458ba0a7",
   "metadata": {},
   "source": [
    "#### Função init(state):\n",
    "\n",
    "    state - Dicionário de variáveis de estado\n",
    "\n",
    "\n",
    "   A função `init` tem como objetivo devolver um predicado do Solver que testa se é um possível estado inicial do programa, através do `state`, um dicionário de variáveis."
   ]
  },
  {
   "cell_type": "code",
   "execution_count": 3,
   "id": "0ebf16e9",
   "metadata": {},
   "outputs": [],
   "source": [
    "def init(state, n):\n",
    "    random_state = (BV(randint(0,1), n), BV(randint(0,1), n), BV(randint(0,1), n), BV(randint(0,1), n)) \n",
    "    \n",
    "\n",
    "    s_list = []\n",
    "    for v in state['s']:\n",
    "        s_list.append( Equals(state['s'][v], random_state[v-1]) )\n",
    "    \n",
    "    return And(\n",
    "        Equals(state['pc'], BV(1, n)),\n",
    "        And(s_list)\n",
    "    )"
   ]
  },
  {
   "cell_type": "markdown",
   "id": "83943a36",
   "metadata": {},
   "source": [
    "#### Função trans(curr, prox):\n",
    "\n",
    "    curr - Estado das variáveis no momento atual\n",
    "    prox - Estado das variáveis no momento da próxima iteração\n",
    "    \n",
    "   A função `trans` tem como objetivo devolver um predicado do Solver, através dos três estados disponíveis, que teste se é possível transitar entre os estados possíveis."
   ]
  },
  {
   "cell_type": "code",
   "execution_count": 4,
   "id": "dc84af18",
   "metadata": {},
   "outputs": [],
   "source": [
    "def error(state, n):\n",
    "    return Or( \n",
    "        Equals( Or([ BVOr(state['s'][i], BVZero(n)) for i in range(1,5)]) )\n",
    "    )\n",
    "\n",
    "\n",
    "def trans(curr, prox, n):\n",
    "    zero_state = Equals( Or([ BVOr(curr['s'][i], BVZero(n)) for i in range(1,5)]), BVZero(n))\n",
    "    \n",
    "    # prox_x = prox_s\n",
    "    # prox_s = Not(curr[x])  V Xor(curr[s], curr[x])  \n",
    "    t1_2 = And(\n",
    "        Equals(curr['pc'], BVOne(n)),\n",
    "            \n",
    "        Or(\n",
    "            And(BVNot(zero_state), Equals(prox['pc'], BV(2, n))),\n",
    "            And(zero_state, Equals(prox['pc'], BV(5, n)))\n",
    "        ),\n",
    "        \n",
    "        # o x é o s do inversor anterior\n",
    "        # prox_s = Not(curr[x])  V Xor(curr[s], curr[x])\n",
    "        Equals(prox['s'][1], Or(BVNot(curr['s'][4]), BVXor(curr['s'][1], curr['s'][4]) )), \n",
    "        \n",
    "        And([ Equals(prox['s'][i], curr['s'][i]) for i in range(2,5)])\n",
    "        \n",
    "    )  \n",
    "    \n",
    "    t2_3 = And(\n",
    "        Equals(curr['pc'], BV(2, n)),\n",
    "            \n",
    "        Or(\n",
    "            And(Not(zero_state), Equals(prox['pc'], BV(3, n))),\n",
    "            And(zero_state, Equals(prox['pc'], BV(5, n)))\n",
    "        ),\n",
    "        \n",
    "        Equals(prox['s'][2], Or(BVNot(curr['s'][1]), BVXor(curr['s'][2], curr['s'][1]) )),\n",
    "        \n",
    "        Equals(prox['s'][1], curr['s'][1]),\n",
    "        And([Equals(prox['s'][i], curr['s'][i]) for i in range(3,5)]) \n",
    "    )\n",
    "    \n",
    "    t3_4 = And(\n",
    "        Equals(curr['pc'], BV(3, n)),\n",
    "            \n",
    "        Or(\n",
    "            And(BVNot(zero_state), Equals(prox['pc'], BV(4, n))),\n",
    "            And(zero_state, Equals(prox['pc'], BV(5, n)))\n",
    "        ),\n",
    "        \n",
    "        Equals(prox['s'][3], Or(BVNot(curr['s'][2]), BVXor(curr['s'][3], curr['s'][2]) )),\n",
    "        \n",
    "        And([Equals(prox['s'][i], curr['s'][i]) for i in range(1,3)]),\n",
    "        Equals(prox['s'][4], curr['s'][4])\n",
    "    )\n",
    "    \n",
    "    t4_1 = And(\n",
    "        Equals(curr['pc'], BV(4, n)),\n",
    "            \n",
    "        Or(\n",
    "            And(Not(zero_state), Equals(prox['pc'], BV(1, n))),\n",
    "            And(zero_state, Equals(prox['pc'], BV(5, n)))\n",
    "        ),\n",
    "        \n",
    "        Equals(prox['s'][4], Or(BVNot(curr['s'][3]), BVXor(curr['s'][4], curr['s'][3]) )),\n",
    "        \n",
    "        And([Equals(prox['s'][i], curr['s'][i]) for i in range(1,4)])\n",
    "    )\n",
    "    \n",
    "    \n",
    "    error = And(\n",
    "        Equals(curr['pc'], BV(5, n)),\n",
    "        Equals(prox['pc'], curr['pc']),\n",
    "        zero_state,\n",
    "        And( [Equals(prox['s'][i], curr['s'][i]) for i in range(1,5)])\n",
    "    )\n",
    "    \n",
    "    return Or(t1_2, t2_3, t3_4, t4_1, error)\n",
    "    "
   ]
  },
  {
   "cell_type": "markdown",
   "id": "bc2e2193",
   "metadata": {},
   "source": [
    "#### Função gera_traco(declare, init, trans, k, n, a, b)\n",
    "\n",
    "    declare - Variáveis de estado\n",
    "    init - Condições para o estado inicial\n",
    "    trans - Função transição\n",
    "    k - Valor do traço\n",
    "\n",
    "\n",
    "A função `gera_traco` tem como objetivo imprimir o valor das variáveis à medida que vão percorrendo os estados, através das variáveis do estado e de um predicado que testa se um estado é inicial."
   ]
  },
  {
   "cell_type": "code",
   "execution_count": 5,
   "id": "f723bf2a",
   "metadata": {
    "scrolled": false
   },
   "outputs": [
    {
     "name": "stdout",
     "output_type": "stream",
     "text": [
      "((pc_X0 = 1_5) & ((s1_X0 = 1_5) & (s2_X0 = 0_5) & (s3_X0 = 0_5) & (s4_X0 = 0_5)))\n"
     ]
    },
    {
     "ename": "AttributeError",
     "evalue": "'list' object has no attribute 'bv_width'",
     "output_type": "error",
     "traceback": [
      "\u001b[1;31m---------------------------------------------------------------------------\u001b[0m",
      "\u001b[1;31mAttributeError\u001b[0m                            Traceback (most recent call last)",
      "Input \u001b[1;32mIn [5]\u001b[0m, in \u001b[0;36m<cell line: 25>\u001b[1;34m()\u001b[0m\n\u001b[0;32m     21\u001b[0m         \u001b[38;5;28;01melse\u001b[39;00m:\n\u001b[0;32m     22\u001b[0m             \u001b[38;5;28mprint\u001b[39m(\u001b[38;5;124m\"\u001b[39m\u001b[38;5;124munsat\u001b[39m\u001b[38;5;124m\"\u001b[39m)\n\u001b[1;32m---> 25\u001b[0m \u001b[43mgera_traco\u001b[49m\u001b[43m(\u001b[49m\u001b[43m[\u001b[49m\u001b[38;5;124;43m'\u001b[39;49m\u001b[38;5;124;43mpc\u001b[39;49m\u001b[38;5;124;43m'\u001b[39;49m\u001b[43m,\u001b[49m\u001b[43m \u001b[49m\u001b[38;5;124;43m'\u001b[39;49m\u001b[38;5;124;43ms\u001b[39;49m\u001b[38;5;124;43m'\u001b[39;49m\u001b[43m]\u001b[49m\u001b[43m,\u001b[49m\u001b[43m \u001b[49m\u001b[43minit\u001b[49m\u001b[43m,\u001b[49m\u001b[43m \u001b[49m\u001b[43mtrans\u001b[49m\u001b[43m,\u001b[49m\u001b[43m \u001b[49m\u001b[43merror\u001b[49m\u001b[43m,\u001b[49m\u001b[43m \u001b[49m\u001b[38;5;241;43m5\u001b[39;49m\u001b[43m,\u001b[49m\u001b[43m \u001b[49m\u001b[38;5;241;43m20\u001b[39;49m\u001b[43m)\u001b[49m\n",
      "Input \u001b[1;32mIn [5]\u001b[0m, in \u001b[0;36mgera_traco\u001b[1;34m(vars, init, trans, error, n, k)\u001b[0m\n\u001b[0;32m      6\u001b[0m I \u001b[38;5;241m=\u001b[39m init(X[\u001b[38;5;241m0\u001b[39m], n)\n\u001b[0;32m      7\u001b[0m \u001b[38;5;28mprint\u001b[39m(I)\n\u001b[1;32m----> 8\u001b[0m Tks \u001b[38;5;241m=\u001b[39m [ trans(X[i],X[i\u001b[38;5;241m+\u001b[39m\u001b[38;5;241m1\u001b[39m],n) \u001b[38;5;28;01mfor\u001b[39;00m i \u001b[38;5;129;01min\u001b[39;00m \u001b[38;5;28mrange\u001b[39m(k) ]\n\u001b[0;32m      9\u001b[0m \u001b[38;5;66;03m#print(Tks)\u001b[39;00m\n\u001b[0;32m     11\u001b[0m \u001b[38;5;28;01mif\u001b[39;00m s\u001b[38;5;241m.\u001b[39msolve([I,And(Tks)]):\n",
      "Input \u001b[1;32mIn [5]\u001b[0m, in \u001b[0;36m<listcomp>\u001b[1;34m(.0)\u001b[0m\n\u001b[0;32m      6\u001b[0m I \u001b[38;5;241m=\u001b[39m init(X[\u001b[38;5;241m0\u001b[39m], n)\n\u001b[0;32m      7\u001b[0m \u001b[38;5;28mprint\u001b[39m(I)\n\u001b[1;32m----> 8\u001b[0m Tks \u001b[38;5;241m=\u001b[39m [ \u001b[43mtrans\u001b[49m\u001b[43m(\u001b[49m\u001b[43mX\u001b[49m\u001b[43m[\u001b[49m\u001b[43mi\u001b[49m\u001b[43m]\u001b[49m\u001b[43m,\u001b[49m\u001b[43mX\u001b[49m\u001b[43m[\u001b[49m\u001b[43mi\u001b[49m\u001b[38;5;241;43m+\u001b[39;49m\u001b[38;5;241;43m1\u001b[39;49m\u001b[43m]\u001b[49m\u001b[43m,\u001b[49m\u001b[43mn\u001b[49m\u001b[43m)\u001b[49m \u001b[38;5;28;01mfor\u001b[39;00m i \u001b[38;5;129;01min\u001b[39;00m \u001b[38;5;28mrange\u001b[39m(k) ]\n\u001b[0;32m      9\u001b[0m \u001b[38;5;66;03m#print(Tks)\u001b[39;00m\n\u001b[0;32m     11\u001b[0m \u001b[38;5;28;01mif\u001b[39;00m s\u001b[38;5;241m.\u001b[39msolve([I,And(Tks)]):\n",
      "Input \u001b[1;32mIn [4]\u001b[0m, in \u001b[0;36mtrans\u001b[1;34m(curr, prox, n)\u001b[0m\n\u001b[0;32m      7\u001b[0m \u001b[38;5;28;01mdef\u001b[39;00m \u001b[38;5;21mtrans\u001b[39m(curr, prox, n):\n\u001b[1;32m----> 8\u001b[0m     zero_state \u001b[38;5;241m=\u001b[39m Equals( \u001b[43mBVOr\u001b[49m\u001b[43m(\u001b[49m\u001b[43m[\u001b[49m\u001b[43m \u001b[49m\u001b[43mBVOr\u001b[49m\u001b[43m(\u001b[49m\u001b[43mcurr\u001b[49m\u001b[43m[\u001b[49m\u001b[38;5;124;43m'\u001b[39;49m\u001b[38;5;124;43ms\u001b[39;49m\u001b[38;5;124;43m'\u001b[39;49m\u001b[43m]\u001b[49m\u001b[43m[\u001b[49m\u001b[43mi\u001b[49m\u001b[43m]\u001b[49m\u001b[43m,\u001b[49m\u001b[43m \u001b[49m\u001b[43mBVZero\u001b[49m\u001b[43m(\u001b[49m\u001b[43mn\u001b[49m\u001b[43m)\u001b[49m\u001b[43m)\u001b[49m\u001b[43m \u001b[49m\u001b[38;5;28;43;01mfor\u001b[39;49;00m\u001b[43m \u001b[49m\u001b[43mi\u001b[49m\u001b[43m \u001b[49m\u001b[38;5;129;43;01min\u001b[39;49;00m\u001b[43m \u001b[49m\u001b[38;5;28;43mrange\u001b[39;49m\u001b[43m(\u001b[49m\u001b[38;5;241;43m1\u001b[39;49m\u001b[43m,\u001b[49m\u001b[38;5;241;43m5\u001b[39;49m\u001b[43m)\u001b[49m\u001b[43m]\u001b[49m\u001b[43m,\u001b[49m\u001b[43m \u001b[49m\u001b[43mBVZero\u001b[49m\u001b[43m(\u001b[49m\u001b[43mn\u001b[49m\u001b[43m)\u001b[49m\u001b[43m)\u001b[49m, BVZero(n))\n\u001b[0;32m     10\u001b[0m     \u001b[38;5;66;03m# prox_x = prox_s\u001b[39;00m\n\u001b[0;32m     11\u001b[0m     \u001b[38;5;66;03m# prox_s = Not(curr[x])  V Xor(curr[s], curr[x])  \u001b[39;00m\n\u001b[0;32m     12\u001b[0m     t1_2 \u001b[38;5;241m=\u001b[39m And(\n\u001b[0;32m     13\u001b[0m         Equals(curr[\u001b[38;5;124m'\u001b[39m\u001b[38;5;124mpc\u001b[39m\u001b[38;5;124m'\u001b[39m], BVOne(n)),\n\u001b[0;32m     14\u001b[0m             \n\u001b[1;32m   (...)\u001b[0m\n\u001b[0;32m     25\u001b[0m         \n\u001b[0;32m     26\u001b[0m     )  \n",
      "File \u001b[1;32m~\\anaconda3\\envs\\logica\\lib\\site-packages\\pysmt\\shortcuts.py:461\u001b[0m, in \u001b[0;36mBVOr\u001b[1;34m(*args)\u001b[0m\n\u001b[0;32m    453\u001b[0m \u001b[38;5;28;01mdef\u001b[39;00m \u001b[38;5;21mBVOr\u001b[39m(\u001b[38;5;241m*\u001b[39margs):\n\u001b[0;32m    454\u001b[0m     \u001b[38;5;124;03m\"\"\"Returns the Bit-wise OR of bitvectors of the same size.\u001b[39;00m\n\u001b[0;32m    455\u001b[0m \u001b[38;5;124;03m    If more than 2 arguments are passed, a left-associative formula is generated.\u001b[39;00m\n\u001b[0;32m    456\u001b[0m \n\u001b[1;32m   (...)\u001b[0m\n\u001b[0;32m    459\u001b[0m \u001b[38;5;124;03m    :rtype: FNode\u001b[39;00m\n\u001b[0;32m    460\u001b[0m \u001b[38;5;124;03m    \"\"\"\u001b[39;00m\n\u001b[1;32m--> 461\u001b[0m     \u001b[38;5;28;01mreturn\u001b[39;00m \u001b[43mget_env\u001b[49m\u001b[43m(\u001b[49m\u001b[43m)\u001b[49m\u001b[38;5;241;43m.\u001b[39;49m\u001b[43mformula_manager\u001b[49m\u001b[38;5;241;43m.\u001b[39;49m\u001b[43mBVOr\u001b[49m\u001b[43m(\u001b[49m\u001b[38;5;241;43m*\u001b[39;49m\u001b[43margs\u001b[49m\u001b[43m)\u001b[49m\n",
      "File \u001b[1;32m~\\anaconda3\\envs\\logica\\lib\\site-packages\\pysmt\\formula.py:686\u001b[0m, in \u001b[0;36mFormulaManager.BVOr\u001b[1;34m(self, *args)\u001b[0m\n\u001b[0;32m    682\u001b[0m res \u001b[38;5;241m=\u001b[39m args[\u001b[38;5;241m0\u001b[39m]\n\u001b[0;32m    683\u001b[0m \u001b[38;5;28;01mfor\u001b[39;00m arg \u001b[38;5;129;01min\u001b[39;00m args[\u001b[38;5;241m1\u001b[39m:]:\n\u001b[0;32m    684\u001b[0m     res \u001b[38;5;241m=\u001b[39m \u001b[38;5;28mself\u001b[39m\u001b[38;5;241m.\u001b[39mcreate_node(node_type\u001b[38;5;241m=\u001b[39mop\u001b[38;5;241m.\u001b[39mBV_OR,\n\u001b[0;32m    685\u001b[0m                      args\u001b[38;5;241m=\u001b[39m(res,arg),\n\u001b[1;32m--> 686\u001b[0m                      payload\u001b[38;5;241m=\u001b[39m(\u001b[43mres\u001b[49m\u001b[38;5;241;43m.\u001b[39;49m\u001b[43mbv_width\u001b[49m(),))\n\u001b[0;32m    687\u001b[0m \u001b[38;5;28;01mreturn\u001b[39;00m res\n",
      "\u001b[1;31mAttributeError\u001b[0m: 'list' object has no attribute 'bv_width'"
     ]
    }
   ],
   "source": [
    "def gera_traco(vars, init, trans, error, n, k):\n",
    "    with Solver(name=\"z3\") as s:\n",
    "    \n",
    "        X = [genState(vars,'X',i, n) for i in range(k+1)]\n",
    "        #print(X)\n",
    "        I = init(X[0], n)\n",
    "        print(I)\n",
    "        Tks = [ trans(X[i],X[i+1],n) for i in range(k) ]\n",
    "        #print(Tks)\n",
    "    \n",
    "        if s.solve([I,And(Tks)]):\n",
    "            for i in range(k):\n",
    "                print(\"Passo:\",i)\n",
    "                for v in X[i]:\n",
    "                    if v == 'pc':\n",
    "                        print(\"Estado: \",s.get_value(X[i][v]))\n",
    "                    else:\n",
    "                        for k in range(1,5):\n",
    "                            print(\"          \",v,'=',s.get_value(X[i][v][k]))\n",
    "                print(\"----------------\")\n",
    "        else:\n",
    "            print(\"unsat\")\n",
    "        \n",
    "        \n",
    "gera_traco(['pc', 's'], init, trans, error, 5, 20)"
   ]
  },
  {
   "cell_type": "code",
   "execution_count": null,
   "id": "8f6eb59d",
   "metadata": {},
   "outputs": [],
   "source": []
  },
  {
   "cell_type": "code",
   "execution_count": null,
   "id": "ef8464af",
   "metadata": {},
   "outputs": [],
   "source": []
  },
  {
   "cell_type": "code",
   "execution_count": null,
   "id": "61ebec28",
   "metadata": {},
   "outputs": [],
   "source": []
  }
 ],
 "metadata": {
  "kernelspec": {
   "display_name": "Python 3 (ipykernel)",
   "language": "python",
   "name": "python3"
  },
  "language_info": {
   "codemirror_mode": {
    "name": "ipython",
    "version": 3
   },
   "file_extension": ".py",
   "mimetype": "text/x-python",
   "name": "python",
   "nbconvert_exporter": "python",
   "pygments_lexer": "ipython3",
   "version": "3.10.4"
  }
 },
 "nbformat": 4,
 "nbformat_minor": 5
}
