{
 "cells": [
  {
   "cell_type": "markdown",
   "id": "8b12ad50",
   "metadata": {},
   "source": [
    "### TP3 - 2"
   ]
  },
  {
   "cell_type": "markdown",
   "id": "bfb59eb3",
   "metadata": {},
   "source": [
    "2. O seguinte sistema dinâmico denota 4 inversores ($\\,A, B, C, D\\,$) que lêm um bit num canal input e escrevem num canal output uma transformação desse bit.\n"
   ]
  },
  {
   "cell_type": "markdown",
   "id": "7cc492be",
   "metadata": {},
   "source": [
    "<img src=\"inversores.png\" alt=\"autómato\"/>"
   ]
  },
  {
   "cell_type": "markdown",
   "id": "b5b7cf4e",
   "metadata": {},
   "source": [
    "\n",
    "   1. Cada inversor tem um bit $s$ de estado, inicializado  com um valor aleatório.\n",
    "   2. Cada inversor é regido pelas seguintes transformações \n",
    "  \n",
    "     $$ \\mathbf{invert}\\mathtt(in,out) $$\n",
    "     $$x \\gets \\mathsf{read}(\\mathtt{in})$$\n",
    "     $$s \\gets \\neg x\\;\\;\\|\\;\\; s\\gets s\\oplus x$$             \n",
    "     $$\\mathsf{write}(\\mathtt{out},s)$$\n",
    "     \n",
    "        iii. A escolha neste comando é sempre determinística; isto é, em cada inversor a escolha do comando a executar é sempre a mesma. Porém qual é essa escolha é determinada aleatoriamente na inicializarão do sistema.\n",
    "        \n",
    "        iii. O estado do sistema é um duplo definido pelos 4 bits $s$, e é inicializado com um vetor aleatório em $\\{0,1\\}^4\\;$.\n",
    "        \n",
    "        iv. O sistema termina em ERRO quando o estado do sistema for $\\,(0,0,0,0)\\,$."
   ]
  },
  {
   "cell_type": "markdown",
   "id": "8996e1fa",
   "metadata": {},
   "source": [
    "\n",
    "1. Construa um SFOTS que descreva este sistema e implemente este sistema, numa abordagem BMC (“bouded model checker”) num traço com $\\,n\\,$ estados.\n",
    "    \n",
    "2. Verifique se o sistema é seguro usando BMC, k-indução ou model checking com interpolantes."
   ]
  },
  {
   "cell_type": "code",
   "execution_count": 1,
   "id": "464c13db",
   "metadata": {},
   "outputs": [],
   "source": [
    "from pysmt.shortcuts import *\n",
    "from pysmt.typing import INT\n",
    "import itertools \n",
    "from random import random, choice"
   ]
  },
  {
   "cell_type": "markdown",
   "id": "9fbf08f1",
   "metadata": {},
   "source": [
    "### Função genState bla bla bla"
   ]
  },
  {
   "cell_type": "code",
   "execution_count": 2,
   "id": "793f9dca",
   "metadata": {},
   "outputs": [],
   "source": [
    "# vars = [s', 'x']\n",
    "def genState(vars,s,i):\n",
    "    state = {}\n",
    "    for j in range(1, 5):\n",
    "        for v in vars:\n",
    "            if v not in state:\n",
    "                state[v] = {}\n",
    "            \n",
    "            state[v][j] = Symbol(v+str(j)+'_'+s+str(i))\n",
    "            \n",
    "    #print(state)\n",
    "    \n",
    "            \n",
    "    return state"
   ]
  },
  {
   "cell_type": "code",
   "execution_count": 3,
   "id": "2fe2a0eb",
   "metadata": {},
   "outputs": [
    {
     "data": {
      "text/plain": [
       "\"\\nA = Symbol('a')\\nB = Symbol('b')\\nwith Solver(name='z3')\\n    s.solve(Xor(A,B))\\n\""
      ]
     },
     "execution_count": 3,
     "metadata": {},
     "output_type": "execute_result"
    }
   ],
   "source": [
    "'''\n",
    "A = Symbol('a')\n",
    "B = Symbol('b')\n",
    "with Solver(name='z3')\n",
    "    s.solve(Xor(A,B))\n",
    "'''"
   ]
  },
  {
   "cell_type": "markdown",
   "id": "458ba0a7",
   "metadata": {},
   "source": [
    "#### Função init(state):\n",
    "\n",
    "    state - Dicionário de variáveis de estado\n",
    "\n",
    "\n",
    "   A função `init` tem como objetivo devolver um predicado do Solver que testa se é um possível estado inicial do programa, através do `state`, um dicionário de variáveis."
   ]
  },
  {
   "cell_type": "code",
   "execution_count": 4,
   "id": "0ebf16e9",
   "metadata": {},
   "outputs": [],
   "source": [
    "def init(state):\n",
    "    #random_state = (Bool(choice([True, False])),Bool(choice([True, False])),Bool(choice([True, False])),Bool(choice([True, False]))) \n",
    "    \n",
    "    random_state = (Bool(True), Bool(True), Bool(True), Bool(True))\n",
    "    \n",
    "    x_list = []\n",
    "    print(state['x'])\n",
    "    for v in state['x']:\n",
    "        x_list.append( Iff( state['x'][v] , random_state[v-2]) )\n",
    "\n",
    "    s_list = []\n",
    "    for v in state['s']:\n",
    "        s_list.append( Iff(state['s'][v], random_state[v-1]) )\n",
    "    \n",
    "    \n",
    "    return And(\n",
    "        And(x_list),\n",
    "        And(s_list),\n",
    "    )"
   ]
  },
  {
   "cell_type": "markdown",
   "id": "83943a36",
   "metadata": {},
   "source": [
    "#### Função trans(curr, prox):\n",
    "\n",
    "    curr - Estado das variáveis no momento atual\n",
    "    prox - Estado das variáveis no momento da próxima iteração\n",
    "    \n",
    "   A função `trans` tem como objetivo devolver um predicado do Solver, através dos três estados disponíveis, que teste se é possível transitar entre os estados possíveis."
   ]
  },
  {
   "cell_type": "code",
   "execution_count": 5,
   "id": "dc84af18",
   "metadata": {},
   "outputs": [],
   "source": [
    "def error(state):\n",
    "    return Or( \n",
    "        And( [Iff( state['s'][i], Bool(False)) for i in range(1,5)] )\n",
    "    )\n",
    "\n",
    "\n",
    "def trans(curr, prox):\n",
    "    zero_state = And( [Iff( curr['s'][i], Bool(False)) for i in range(1,5)] )\n",
    "    \n",
    "    # prox_x = prox_s\n",
    "    # prox_s = Not(curr[x])  V Xor(curr[s], curr[x])\n",
    "    magia = And(\n",
    "        Not(zero_state),\n",
    "        And([ Iff(prox['x'][i], prox['s'][i]) for i in range(1,5)]),\n",
    "        And([ Iff(prox['s'][i], Not(And( curr['x'][i] , Not(Xor(curr['x'][i], curr['s'][i])))  )) for i in range(1,5)])\n",
    "    )\n",
    "    \n",
    "    error = And(\n",
    "        zero_state,\n",
    "        And( [Iff(prox['x'][i], curr['x'][i]) for i in range(1,5)]),\n",
    "        And( [Iff(prox['s'][i], curr['s'][i]) for i in range(1,5)]),\n",
    "    )\n",
    "    \n",
    "    return Or(magia, error)\n",
    "    "
   ]
  },
  {
   "cell_type": "markdown",
   "id": "bc2e2193",
   "metadata": {},
   "source": [
    "#### Função gera_traco(declare, init, trans, k, n, a, b)\n",
    "\n",
    "    declare - Variáveis de estado\n",
    "    init - Condições para o estado inicial\n",
    "    trans - Função transição\n",
    "    k - Valor do traço\n",
    "\n",
    "\n",
    "A função `gera_traco` tem como objetivo imprimir o valor das variáveis à medida que vão percorrendo os estados, através das variáveis do estado e de um predicado que testa se um estado é inicial."
   ]
  },
  {
   "cell_type": "code",
   "execution_count": 6,
   "id": "f723bf2a",
   "metadata": {
    "scrolled": false
   },
   "outputs": [
    {
     "name": "stdout",
     "output_type": "stream",
     "text": [
      "{1: x1_X0, 2: x2_X0, 3: x3_X0, 4: x4_X0}\n",
      "(((x1_X0 <-> True) & (x2_X0 <-> True) & (x3_X0 <-> True) & (x4_X0 <-> True)) & ((s1_X0 <-> True) & (s2_X0 <-> True) & (s3_X0 <-> True) & (s4_X0 <-> True)))\n"
     ]
    },
    {
     "ename": "KeyError",
     "evalue": "-1",
     "output_type": "error",
     "traceback": [
      "\u001b[1;31m---------------------------------------------------------------------------\u001b[0m",
      "\u001b[1;31mKeyError\u001b[0m                                  Traceback (most recent call last)",
      "Input \u001b[1;32mIn [6]\u001b[0m, in \u001b[0;36m<cell line: 22>\u001b[1;34m()\u001b[0m\n\u001b[0;32m     18\u001b[0m         \u001b[38;5;28;01melse\u001b[39;00m:\n\u001b[0;32m     19\u001b[0m             \u001b[38;5;28mprint\u001b[39m(\u001b[38;5;124m\"\u001b[39m\u001b[38;5;124munsat\u001b[39m\u001b[38;5;124m\"\u001b[39m)\n\u001b[1;32m---> 22\u001b[0m \u001b[43mgera_traco\u001b[49m\u001b[43m(\u001b[49m\u001b[43m[\u001b[49m\u001b[38;5;124;43m'\u001b[39;49m\u001b[38;5;124;43ms\u001b[39;49m\u001b[38;5;124;43m'\u001b[39;49m\u001b[43m,\u001b[49m\u001b[43m \u001b[49m\u001b[38;5;124;43m'\u001b[39;49m\u001b[38;5;124;43mx\u001b[39;49m\u001b[38;5;124;43m'\u001b[39;49m\u001b[43m]\u001b[49m\u001b[43m,\u001b[49m\u001b[43m \u001b[49m\u001b[43minit\u001b[49m\u001b[43m,\u001b[49m\u001b[43m \u001b[49m\u001b[43mtrans\u001b[49m\u001b[43m,\u001b[49m\u001b[43m \u001b[49m\u001b[43merror\u001b[49m\u001b[43m,\u001b[49m\u001b[43m \u001b[49m\u001b[38;5;241;43m20\u001b[39;49m\u001b[43m)\u001b[49m\n",
      "Input \u001b[1;32mIn [6]\u001b[0m, in \u001b[0;36mgera_traco\u001b[1;34m(vars, init, trans, error, k)\u001b[0m\n\u001b[0;32m      6\u001b[0m I \u001b[38;5;241m=\u001b[39m init(X[\u001b[38;5;241m0\u001b[39m])\n\u001b[0;32m      7\u001b[0m \u001b[38;5;28mprint\u001b[39m(I)\n\u001b[1;32m----> 8\u001b[0m Tks \u001b[38;5;241m=\u001b[39m [ trans(X[i],X[i\u001b[38;5;241m+\u001b[39m\u001b[38;5;241m1\u001b[39m]) \u001b[38;5;28;01mfor\u001b[39;00m i \u001b[38;5;129;01min\u001b[39;00m \u001b[38;5;28mrange\u001b[39m(k) ]\n\u001b[0;32m      9\u001b[0m \u001b[38;5;66;03m#print(Tks)\u001b[39;00m\n\u001b[0;32m     11\u001b[0m \u001b[38;5;28;01mif\u001b[39;00m s\u001b[38;5;241m.\u001b[39msolve([I,And(Tks)]):\n",
      "Input \u001b[1;32mIn [6]\u001b[0m, in \u001b[0;36m<listcomp>\u001b[1;34m(.0)\u001b[0m\n\u001b[0;32m      6\u001b[0m I \u001b[38;5;241m=\u001b[39m init(X[\u001b[38;5;241m0\u001b[39m])\n\u001b[0;32m      7\u001b[0m \u001b[38;5;28mprint\u001b[39m(I)\n\u001b[1;32m----> 8\u001b[0m Tks \u001b[38;5;241m=\u001b[39m [ \u001b[43mtrans\u001b[49m\u001b[43m(\u001b[49m\u001b[43mX\u001b[49m\u001b[43m[\u001b[49m\u001b[43mi\u001b[49m\u001b[43m]\u001b[49m\u001b[43m,\u001b[49m\u001b[43mX\u001b[49m\u001b[43m[\u001b[49m\u001b[43mi\u001b[49m\u001b[38;5;241;43m+\u001b[39;49m\u001b[38;5;241;43m1\u001b[39;49m\u001b[43m]\u001b[49m\u001b[43m)\u001b[49m \u001b[38;5;28;01mfor\u001b[39;00m i \u001b[38;5;129;01min\u001b[39;00m \u001b[38;5;28mrange\u001b[39m(k) ]\n\u001b[0;32m      9\u001b[0m \u001b[38;5;66;03m#print(Tks)\u001b[39;00m\n\u001b[0;32m     11\u001b[0m \u001b[38;5;28;01mif\u001b[39;00m s\u001b[38;5;241m.\u001b[39msolve([I,And(Tks)]):\n",
      "Input \u001b[1;32mIn [5]\u001b[0m, in \u001b[0;36mtrans\u001b[1;34m(curr, prox)\u001b[0m\n\u001b[0;32m      8\u001b[0m zero_state \u001b[38;5;241m=\u001b[39m And( [Iff( curr[\u001b[38;5;124m'\u001b[39m\u001b[38;5;124ms\u001b[39m\u001b[38;5;124m'\u001b[39m][i], Bool(\u001b[38;5;28;01mFalse\u001b[39;00m)) \u001b[38;5;28;01mfor\u001b[39;00m i \u001b[38;5;129;01min\u001b[39;00m \u001b[38;5;28mrange\u001b[39m(\u001b[38;5;241m1\u001b[39m,\u001b[38;5;241m5\u001b[39m)] )\n\u001b[0;32m     10\u001b[0m \u001b[38;5;66;03m# prox_x = prox_s\u001b[39;00m\n\u001b[0;32m     11\u001b[0m \u001b[38;5;66;03m# prox_s = Not(curr[x])  V Xor(curr[s], curr[x])\u001b[39;00m\n\u001b[0;32m     12\u001b[0m magia \u001b[38;5;241m=\u001b[39m And(\n\u001b[0;32m     13\u001b[0m     Not(zero_state),\n\u001b[1;32m---> 14\u001b[0m     And([ Iff(prox[\u001b[38;5;124m'\u001b[39m\u001b[38;5;124mx\u001b[39m\u001b[38;5;124m'\u001b[39m][i], prox[\u001b[38;5;124m'\u001b[39m\u001b[38;5;124ms\u001b[39m\u001b[38;5;124m'\u001b[39m][i\u001b[38;5;241m-\u001b[39m\u001b[38;5;241m2\u001b[39m]) \u001b[38;5;28;01mfor\u001b[39;00m i \u001b[38;5;129;01min\u001b[39;00m \u001b[38;5;28mrange\u001b[39m(\u001b[38;5;241m1\u001b[39m,\u001b[38;5;241m5\u001b[39m)]),\n\u001b[0;32m     15\u001b[0m     And([ Iff(prox[\u001b[38;5;124m'\u001b[39m\u001b[38;5;124ms\u001b[39m\u001b[38;5;124m'\u001b[39m][i], Not(And( curr[\u001b[38;5;124m'\u001b[39m\u001b[38;5;124mx\u001b[39m\u001b[38;5;124m'\u001b[39m][i] , Not(Xor(curr[\u001b[38;5;124m'\u001b[39m\u001b[38;5;124mx\u001b[39m\u001b[38;5;124m'\u001b[39m][i], curr[\u001b[38;5;124m'\u001b[39m\u001b[38;5;124ms\u001b[39m\u001b[38;5;124m'\u001b[39m][i])))  )) \u001b[38;5;28;01mfor\u001b[39;00m i \u001b[38;5;129;01min\u001b[39;00m \u001b[38;5;28mrange\u001b[39m(\u001b[38;5;241m1\u001b[39m,\u001b[38;5;241m5\u001b[39m)])\n\u001b[0;32m     16\u001b[0m )\n\u001b[0;32m     18\u001b[0m error \u001b[38;5;241m=\u001b[39m And(\n\u001b[0;32m     19\u001b[0m     zero_state,\n\u001b[0;32m     20\u001b[0m     And( [Iff(prox[\u001b[38;5;124m'\u001b[39m\u001b[38;5;124mx\u001b[39m\u001b[38;5;124m'\u001b[39m][i], curr[\u001b[38;5;124m'\u001b[39m\u001b[38;5;124mx\u001b[39m\u001b[38;5;124m'\u001b[39m][i]) \u001b[38;5;28;01mfor\u001b[39;00m i \u001b[38;5;129;01min\u001b[39;00m \u001b[38;5;28mrange\u001b[39m(\u001b[38;5;241m1\u001b[39m,\u001b[38;5;241m5\u001b[39m)]),\n\u001b[0;32m     21\u001b[0m     And( [Iff(prox[\u001b[38;5;124m'\u001b[39m\u001b[38;5;124ms\u001b[39m\u001b[38;5;124m'\u001b[39m][i], curr[\u001b[38;5;124m'\u001b[39m\u001b[38;5;124ms\u001b[39m\u001b[38;5;124m'\u001b[39m][i]) \u001b[38;5;28;01mfor\u001b[39;00m i \u001b[38;5;129;01min\u001b[39;00m \u001b[38;5;28mrange\u001b[39m(\u001b[38;5;241m1\u001b[39m,\u001b[38;5;241m5\u001b[39m)]),\n\u001b[0;32m     22\u001b[0m )\n\u001b[0;32m     24\u001b[0m \u001b[38;5;28;01mreturn\u001b[39;00m Or(magia, error)\n",
      "Input \u001b[1;32mIn [5]\u001b[0m, in \u001b[0;36m<listcomp>\u001b[1;34m(.0)\u001b[0m\n\u001b[0;32m      8\u001b[0m zero_state \u001b[38;5;241m=\u001b[39m And( [Iff( curr[\u001b[38;5;124m'\u001b[39m\u001b[38;5;124ms\u001b[39m\u001b[38;5;124m'\u001b[39m][i], Bool(\u001b[38;5;28;01mFalse\u001b[39;00m)) \u001b[38;5;28;01mfor\u001b[39;00m i \u001b[38;5;129;01min\u001b[39;00m \u001b[38;5;28mrange\u001b[39m(\u001b[38;5;241m1\u001b[39m,\u001b[38;5;241m5\u001b[39m)] )\n\u001b[0;32m     10\u001b[0m \u001b[38;5;66;03m# prox_x = prox_s\u001b[39;00m\n\u001b[0;32m     11\u001b[0m \u001b[38;5;66;03m# prox_s = Not(curr[x])  V Xor(curr[s], curr[x])\u001b[39;00m\n\u001b[0;32m     12\u001b[0m magia \u001b[38;5;241m=\u001b[39m And(\n\u001b[0;32m     13\u001b[0m     Not(zero_state),\n\u001b[1;32m---> 14\u001b[0m     And([ Iff(prox[\u001b[38;5;124m'\u001b[39m\u001b[38;5;124mx\u001b[39m\u001b[38;5;124m'\u001b[39m][i], \u001b[43mprox\u001b[49m\u001b[43m[\u001b[49m\u001b[38;5;124;43m'\u001b[39;49m\u001b[38;5;124;43ms\u001b[39;49m\u001b[38;5;124;43m'\u001b[39;49m\u001b[43m]\u001b[49m\u001b[43m[\u001b[49m\u001b[43mi\u001b[49m\u001b[38;5;241;43m-\u001b[39;49m\u001b[38;5;241;43m2\u001b[39;49m\u001b[43m]\u001b[49m) \u001b[38;5;28;01mfor\u001b[39;00m i \u001b[38;5;129;01min\u001b[39;00m \u001b[38;5;28mrange\u001b[39m(\u001b[38;5;241m1\u001b[39m,\u001b[38;5;241m5\u001b[39m)]),\n\u001b[0;32m     15\u001b[0m     And([ Iff(prox[\u001b[38;5;124m'\u001b[39m\u001b[38;5;124ms\u001b[39m\u001b[38;5;124m'\u001b[39m][i], Not(And( curr[\u001b[38;5;124m'\u001b[39m\u001b[38;5;124mx\u001b[39m\u001b[38;5;124m'\u001b[39m][i] , Not(Xor(curr[\u001b[38;5;124m'\u001b[39m\u001b[38;5;124mx\u001b[39m\u001b[38;5;124m'\u001b[39m][i], curr[\u001b[38;5;124m'\u001b[39m\u001b[38;5;124ms\u001b[39m\u001b[38;5;124m'\u001b[39m][i])))  )) \u001b[38;5;28;01mfor\u001b[39;00m i \u001b[38;5;129;01min\u001b[39;00m \u001b[38;5;28mrange\u001b[39m(\u001b[38;5;241m1\u001b[39m,\u001b[38;5;241m5\u001b[39m)])\n\u001b[0;32m     16\u001b[0m )\n\u001b[0;32m     18\u001b[0m error \u001b[38;5;241m=\u001b[39m And(\n\u001b[0;32m     19\u001b[0m     zero_state,\n\u001b[0;32m     20\u001b[0m     And( [Iff(prox[\u001b[38;5;124m'\u001b[39m\u001b[38;5;124mx\u001b[39m\u001b[38;5;124m'\u001b[39m][i], curr[\u001b[38;5;124m'\u001b[39m\u001b[38;5;124mx\u001b[39m\u001b[38;5;124m'\u001b[39m][i]) \u001b[38;5;28;01mfor\u001b[39;00m i \u001b[38;5;129;01min\u001b[39;00m \u001b[38;5;28mrange\u001b[39m(\u001b[38;5;241m1\u001b[39m,\u001b[38;5;241m5\u001b[39m)]),\n\u001b[0;32m     21\u001b[0m     And( [Iff(prox[\u001b[38;5;124m'\u001b[39m\u001b[38;5;124ms\u001b[39m\u001b[38;5;124m'\u001b[39m][i], curr[\u001b[38;5;124m'\u001b[39m\u001b[38;5;124ms\u001b[39m\u001b[38;5;124m'\u001b[39m][i]) \u001b[38;5;28;01mfor\u001b[39;00m i \u001b[38;5;129;01min\u001b[39;00m \u001b[38;5;28mrange\u001b[39m(\u001b[38;5;241m1\u001b[39m,\u001b[38;5;241m5\u001b[39m)]),\n\u001b[0;32m     22\u001b[0m )\n\u001b[0;32m     24\u001b[0m \u001b[38;5;28;01mreturn\u001b[39;00m Or(magia, error)\n",
      "\u001b[1;31mKeyError\u001b[0m: -1"
     ]
    }
   ],
   "source": [
    "def gera_traco(vars, init, trans, error, k):\n",
    "    with Solver(name=\"z3\") as s:\n",
    "    \n",
    "        X = [genState(vars,'X',i) for i in range(k+1)]\n",
    "        #print(X)\n",
    "        I = init(X[0])\n",
    "        print(I)\n",
    "        Tks = [ trans(X[i],X[i+1]) for i in range(k) ]\n",
    "        #print(Tks)\n",
    "    \n",
    "        if s.solve([I,And(Tks)]):\n",
    "            for i in range(k):\n",
    "                print(\"Estado:\",i)\n",
    "                for v in X[i]:\n",
    "                    for k in range(1,5):\n",
    "                        print(\"          \",v,'=',s.get_value(X[i][v][k]))\n",
    "                print(\"----------------\")\n",
    "        else:\n",
    "            print(\"unsat\")\n",
    "        \n",
    "        \n",
    "gera_traco(['s', 'x'], init, trans, error, 20)"
   ]
  },
  {
   "cell_type": "code",
   "execution_count": null,
   "id": "8f6eb59d",
   "metadata": {},
   "outputs": [],
   "source": []
  },
  {
   "cell_type": "code",
   "execution_count": null,
   "id": "ef8464af",
   "metadata": {},
   "outputs": [],
   "source": []
  },
  {
   "cell_type": "code",
   "execution_count": null,
   "id": "61ebec28",
   "metadata": {},
   "outputs": [],
   "source": []
  }
 ],
 "metadata": {
  "kernelspec": {
   "display_name": "Python 3 (ipykernel)",
   "language": "python",
   "name": "python3"
  },
  "language_info": {
   "codemirror_mode": {
    "name": "ipython",
    "version": 3
   },
   "file_extension": ".py",
   "mimetype": "text/x-python",
   "name": "python",
   "nbconvert_exporter": "python",
   "pygments_lexer": "ipython3",
   "version": "3.10.4"
  }
 },
 "nbformat": 4,
 "nbformat_minor": 5
}
