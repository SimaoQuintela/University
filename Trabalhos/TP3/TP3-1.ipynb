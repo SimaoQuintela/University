{
 "cells": [
  {
   "cell_type": "markdown",
   "id": "0d833ef2",
   "metadata": {},
   "source": [
    "### TP3"
   ]
  },
  {
   "cell_type": "markdown",
   "id": "7afac0d9",
   "metadata": {},
   "source": [
    "\n",
    "1. Pretende-se construir uma implementação simplificada do algoritmo “model checking” orientado aos interpolantes seguindo a estrutura apresentada nos apontamentos onde no passo $(n,m)\\,$na impossibilidade de encontrar um interpolante invariante se dá ao utilizador a possibilidade de incrementar um dos índices $n$ e $m$ à sua escolha.\n",
    "    Pretende-se aplicar este algoritmo ao problema da da multiplicação de inteiros positivos em `BitVec`  (apresentado no TP2)."
   ]
  },
  {
   "cell_type": "code",
   "execution_count": 1,
   "id": "3f6437c5",
   "metadata": {},
   "outputs": [],
   "source": [
    "from z3 import *\n",
    "from pysmt.shortcuts import *\n",
    "import itertools "
   ]
  },
  {
   "cell_type": "markdown",
   "id": "e6d79a9a",
   "metadata": {},
   "source": [
    "<img src=\"automato.png\" alt=\"autómato\" style=\"width: 600px;\"/>"
   ]
  },
  {
   "cell_type": "markdown",
   "id": "a8b1c717",
   "metadata": {},
   "source": [
    "#### Função declare(t, N):\n",
    "\n",
    "   A seguinte função cria a $t$-ésima cópia das variáveis de estado, agrupadas num dicionário que nos permite aceder às mesmas pelo nome."
   ]
  },
  {
   "cell_type": "code",
   "execution_count": 9,
   "id": "6c486398",
   "metadata": {},
   "outputs": [],
   "source": [
    "'''\n",
    "def declare(i, n):\n",
    "    state = {}\n",
    "    state['pc'] = Int('pc'+str(i))\n",
    "    state['x'] = BitVec('x'+str(i), n)\n",
    "    state['y'] = BitVec('y'+str(i), n)\n",
    "    state['z'] = BitVec('z'+str(i), n)\n",
    "    \n",
    "    return state\n",
    "'''\n",
    "\n",
    "def genState(vars,s,i,n):\n",
    "    state = {}\n",
    "    state['pc'] = Int('pc'+'!'+s+str(i))\n",
    "    for v in vars[1:]:\n",
    "        state[v] = BitVec(v+'!'+s+str(i),n)\n",
    "    return state"
   ]
  },
  {
   "cell_type": "markdown",
   "id": "6742176b",
   "metadata": {},
   "source": [
    "#### Função init(state, prob, N):\n",
    "\n",
    "    state - Dicionário de variáveis de estado\n",
    "    a - valor associado ao 1º número a multiplicar\n",
    "    b - valor associado ao 2º número a multiplicar\n",
    "\n",
    "   A função `init` tem como objetivo devolver um predicado do Solver que testa se é um possível estado inicial do programa, através do `state`, um dicionário de variáveis."
   ]
  },
  {
   "cell_type": "code",
   "execution_count": 10,
   "id": "0edbdbfb",
   "metadata": {},
   "outputs": [],
   "source": [
    "def init(state, a, b):\n",
    "    return And(state['pc']== 0, state['x'] == a, state['y'] == b, state['z'] == 0)"
   ]
  },
  {
   "cell_type": "markdown",
   "id": "32d66c0a",
   "metadata": {},
   "source": [
    "#### Função trans(curr, prox, N):\n",
    "\n",
    "    curr - Estado das variáveis no momento atual\n",
    "    prox - Estado das variáveis no momento da próxima iteração\n",
    "    n - Número de bits \n",
    "    \n",
    "   A função `trans` tem como objetivo devolver um predicado do Solver, através dos três estados disponíveis, que teste se é possível transitar entre os estados possíveis."
   ]
  },
  {
   "cell_type": "code",
   "execution_count": 11,
   "id": "e4ac2635",
   "metadata": {},
   "outputs": [],
   "source": [
    "def error(state):\n",
    "    return Or(state['pc'] == 4, state['pc'] == 6)\n",
    "\n",
    "def trans(curr, prox, n):\n",
    "    same_values = And(\n",
    "        prox['x'] == curr['x'],\n",
    "        prox['y'] == curr['y'],\n",
    "        prox['z'] == curr['z']    \n",
    "    )\n",
    "    \n",
    "    t0 = And(\n",
    "        curr['pc'] == 0,\n",
    "        prox['pc'] == 1,\n",
    "        same_values\n",
    "    )\n",
    "    \n",
    "    # y = 0\n",
    "    t1 = And(\n",
    "        curr['y'] == 0,\n",
    "        curr['pc'] == 1,\n",
    "        prox['pc'] == 5,\n",
    "        same_values\n",
    "    )\n",
    "    \n",
    "    # y != 0 ^ odd(y)\n",
    "    t2 = And(\n",
    "        curr['y'] != 0,\n",
    "        URem(curr['y'], 2) == 1,\n",
    "        curr['pc'] == 1,\n",
    "        prox['pc'] == 2,\n",
    "        same_values\n",
    "    )\n",
    "    \n",
    "    \n",
    "    # y != 0 ^ even(y)\n",
    "    t3 = And(\n",
    "        curr['y'] != 0,\n",
    "        URem(curr['y'], 2) == 0,\n",
    "        curr['pc'] == 1,\n",
    "        prox['pc'] == 3,\n",
    "        same_values\n",
    "    )\n",
    "\n",
    "    \n",
    "\n",
    "    # transição em que o solver decide se vai para o estado de overflow ou se continua\n",
    "    magia_left = And(\n",
    "        prox['x'] == curr['x'] << BitVecVal(1, n),\n",
    "        prox['y'] == curr['y'] >> BitVecVal(1, n),\n",
    "        prox['z'] == curr['z'],\n",
    "        \n",
    "        curr['pc'] == 3,\n",
    "        \n",
    "        Or(\n",
    "            And(ULT(curr['x'], prox['x']), prox['pc'] == 1),  # curr['x'] < prox['x']  - não há overflow\n",
    "            And(UGE(curr['x'], prox['x'] ), prox['pc'] == 4),  # curr['x'] >= prox['x'] - há overflow\n",
    "        )\n",
    "    )\n",
    "    \n",
    "    # transição em que o solver decide se vai para o estado de overflow ou se continua\n",
    "    magia_right = And(\n",
    "        prox['x'] == curr['x'],\n",
    "        prox['y'] == curr['y'] - BitVecVal(1,n),\n",
    "        prox['z'] == curr['z'] + curr['x'],\n",
    "        \n",
    "        curr['pc'] == 2,\n",
    "        \n",
    "        Or(\n",
    "            And(UGT(prox['z'], curr['z']), prox['pc'] == 1),  # curr['x'] < prox['x']  - não há overflow\n",
    "            And(ULT(prox['z'], curr['z']), prox['pc'] == 6),  # curr['x'] >= prox['x'] - há overflow\n",
    "        )\n",
    "    )\n",
    "    \n",
    "    \n",
    "    # caso de paragem no overflow e no estado final\n",
    "    stop_case = And(\n",
    "        prox['pc'] == curr['pc'],\n",
    "        same_values,\n",
    "        \n",
    "        Or(\n",
    "            And(curr['pc'] == 4, prox['pc'] == 4),\n",
    "            And(curr['pc'] == 5, prox['pc'] == 5),\n",
    "            And(curr['pc'] == 6, prox['pc'] == 6)\n",
    "        )\n",
    "    )\n",
    "    \n",
    "    \n",
    "    return Or(t0, t1, t2, t3, stop_case, magia_left, magia_right)"
   ]
  },
  {
   "cell_type": "markdown",
   "id": "099186d3",
   "metadata": {},
   "source": [
    "#### Função gera_traco(declare, init, trans, k, n, a, b)\n",
    "\n",
    "    declare - Variáveis de estado\n",
    "    init - Condições para o estado inicial\n",
    "    trans - Função transição\n",
    "    k - Valor do traço\n",
    "    n - Número de bits\n",
    "    a - Valor a ser multiplicado\n",
    "    b - Valor a ser multiplicado\n",
    "\n",
    "A função `gera_traco` tem como objetivo imprimir o valor das variáveis à medida que vão percorrendo os estados, através das variáveis do estado, de um predicado que testa se um estado é inicial, um número positivo para gerar um possível traço de execução do programa de tamanho `k` , com `N` bits, multiplicando `a` por `b`."
   ]
  },
  {
   "cell_type": "code",
   "execution_count": 12,
   "id": "87e008ae",
   "metadata": {},
   "outputs": [
    {
     "ename": "PysmtTypeError",
     "evalue": "Invalid type in constant. The type was:<class 'str'>",
     "output_type": "error",
     "traceback": [
      "\u001b[1;31m---------------------------------------------------------------------------\u001b[0m",
      "\u001b[1;31mPysmtTypeError\u001b[0m                            Traceback (most recent call last)",
      "Cell \u001b[1;32mIn [12], line 26\u001b[0m\n\u001b[0;32m     23\u001b[0m     \u001b[38;5;28;01melse\u001b[39;00m:\n\u001b[0;32m     24\u001b[0m         \u001b[38;5;28mprint\u001b[39m(check)\n\u001b[1;32m---> 26\u001b[0m gera_traco([\u001b[38;5;124m'\u001b[39m\u001b[38;5;124mpc\u001b[39m\u001b[38;5;124m'\u001b[39m, \u001b[38;5;124m'\u001b[39m\u001b[38;5;124mx\u001b[39m\u001b[38;5;124m'\u001b[39m, \u001b[38;5;124m'\u001b[39m\u001b[38;5;124my\u001b[39m\u001b[38;5;124m'\u001b[39m, \u001b[38;5;124m'\u001b[39m\u001b[38;5;124mz\u001b[39m\u001b[38;5;124m'\u001b[39m],init,trans, error, \u001b[38;5;241m20\u001b[39m, \u001b[38;5;241m9\u001b[39m, \u001b[38;5;241m150\u001b[39m, \u001b[38;5;241m2\u001b[39m)\n",
      "Cell \u001b[1;32mIn [12], line 6\u001b[0m, in \u001b[0;36mgera_traco\u001b[1;34m(vars, init, trans, error, k, n, a, b)\u001b[0m\n\u001b[0;32m      1\u001b[0m \u001b[38;5;28;01mdef\u001b[39;00m \u001b[38;5;21mgera_traco\u001b[39m(\u001b[38;5;28mvars\u001b[39m,init,trans, error, k, n, a, b):\n\u001b[0;32m      3\u001b[0m     s \u001b[38;5;241m=\u001b[39m Solver()\n\u001b[1;32m----> 6\u001b[0m     X \u001b[38;5;241m=\u001b[39m [genState(\u001b[38;5;28mvars\u001b[39m, \u001b[38;5;124m'\u001b[39m\u001b[38;5;124mX\u001b[39m\u001b[38;5;124m'\u001b[39m, i, n) \u001b[38;5;28;01mfor\u001b[39;00m i \u001b[38;5;129;01min\u001b[39;00m \u001b[38;5;28mrange\u001b[39m(k\u001b[38;5;241m+\u001b[39m\u001b[38;5;241m1\u001b[39m)]\n\u001b[0;32m      7\u001b[0m     I \u001b[38;5;241m=\u001b[39m init(X[\u001b[38;5;241m0\u001b[39m], a, b)\n\u001b[0;32m      8\u001b[0m     Tks \u001b[38;5;241m=\u001b[39m [trans(X[i], X[i\u001b[38;5;241m+\u001b[39m\u001b[38;5;241m1\u001b[39m], n) \u001b[38;5;28;01mfor\u001b[39;00m i \u001b[38;5;129;01min\u001b[39;00m \u001b[38;5;28mrange\u001b[39m(k)]\n",
      "Cell \u001b[1;32mIn [12], line 6\u001b[0m, in \u001b[0;36m<listcomp>\u001b[1;34m(.0)\u001b[0m\n\u001b[0;32m      1\u001b[0m \u001b[38;5;28;01mdef\u001b[39;00m \u001b[38;5;21mgera_traco\u001b[39m(\u001b[38;5;28mvars\u001b[39m,init,trans, error, k, n, a, b):\n\u001b[0;32m      3\u001b[0m     s \u001b[38;5;241m=\u001b[39m Solver()\n\u001b[1;32m----> 6\u001b[0m     X \u001b[38;5;241m=\u001b[39m [\u001b[43mgenState\u001b[49m\u001b[43m(\u001b[49m\u001b[38;5;28;43mvars\u001b[39;49m\u001b[43m,\u001b[49m\u001b[43m \u001b[49m\u001b[38;5;124;43m'\u001b[39;49m\u001b[38;5;124;43mX\u001b[39;49m\u001b[38;5;124;43m'\u001b[39;49m\u001b[43m,\u001b[49m\u001b[43m \u001b[49m\u001b[43mi\u001b[49m\u001b[43m,\u001b[49m\u001b[43m \u001b[49m\u001b[43mn\u001b[49m\u001b[43m)\u001b[49m \u001b[38;5;28;01mfor\u001b[39;00m i \u001b[38;5;129;01min\u001b[39;00m \u001b[38;5;28mrange\u001b[39m(k\u001b[38;5;241m+\u001b[39m\u001b[38;5;241m1\u001b[39m)]\n\u001b[0;32m      7\u001b[0m     I \u001b[38;5;241m=\u001b[39m init(X[\u001b[38;5;241m0\u001b[39m], a, b)\n\u001b[0;32m      8\u001b[0m     Tks \u001b[38;5;241m=\u001b[39m [trans(X[i], X[i\u001b[38;5;241m+\u001b[39m\u001b[38;5;241m1\u001b[39m], n) \u001b[38;5;28;01mfor\u001b[39;00m i \u001b[38;5;129;01min\u001b[39;00m \u001b[38;5;28mrange\u001b[39m(k)]\n",
      "Cell \u001b[1;32mIn [9], line 14\u001b[0m, in \u001b[0;36mgenState\u001b[1;34m(vars, s, i, n)\u001b[0m\n\u001b[0;32m     12\u001b[0m \u001b[38;5;28;01mdef\u001b[39;00m \u001b[38;5;21mgenState\u001b[39m(\u001b[38;5;28mvars\u001b[39m,s,i,n):\n\u001b[0;32m     13\u001b[0m     state \u001b[38;5;241m=\u001b[39m {}\n\u001b[1;32m---> 14\u001b[0m     state[\u001b[38;5;124m'\u001b[39m\u001b[38;5;124mpc\u001b[39m\u001b[38;5;124m'\u001b[39m] \u001b[38;5;241m=\u001b[39m \u001b[43mInt\u001b[49m\u001b[43m(\u001b[49m\u001b[38;5;124;43m'\u001b[39;49m\u001b[38;5;124;43mpc\u001b[39;49m\u001b[38;5;124;43m'\u001b[39;49m\u001b[38;5;241;43m+\u001b[39;49m\u001b[38;5;124;43m'\u001b[39;49m\u001b[38;5;124;43m!\u001b[39;49m\u001b[38;5;124;43m'\u001b[39;49m\u001b[38;5;241;43m+\u001b[39;49m\u001b[43ms\u001b[49m\u001b[38;5;241;43m+\u001b[39;49m\u001b[38;5;28;43mstr\u001b[39;49m\u001b[43m(\u001b[49m\u001b[43mi\u001b[49m\u001b[43m)\u001b[49m\u001b[43m)\u001b[49m\n\u001b[0;32m     15\u001b[0m     \u001b[38;5;28;01mfor\u001b[39;00m v \u001b[38;5;129;01min\u001b[39;00m \u001b[38;5;28mvars\u001b[39m[\u001b[38;5;241m1\u001b[39m:]:\n\u001b[0;32m     16\u001b[0m         state[v] \u001b[38;5;241m=\u001b[39m BitVec(v\u001b[38;5;241m+\u001b[39m\u001b[38;5;124m'\u001b[39m\u001b[38;5;124m!\u001b[39m\u001b[38;5;124m'\u001b[39m\u001b[38;5;241m+\u001b[39ms\u001b[38;5;241m+\u001b[39m\u001b[38;5;28mstr\u001b[39m(i),n)\n",
      "File \u001b[1;32m~\\anaconda3\\envs\\logica\\lib\\site-packages\\pysmt\\shortcuts.py:262\u001b[0m, in \u001b[0;36mInt\u001b[1;34m(value)\u001b[0m\n\u001b[0;32m    256\u001b[0m \u001b[38;5;28;01mdef\u001b[39;00m \u001b[38;5;21mInt\u001b[39m(value):\n\u001b[0;32m    257\u001b[0m     \u001b[38;5;124;03m\"\"\"Returns an Integer constant with the given value.\u001b[39;00m\n\u001b[0;32m    258\u001b[0m \n\u001b[0;32m    259\u001b[0m \u001b[38;5;124;03m    :param value: Specify the value\u001b[39;00m\n\u001b[0;32m    260\u001b[0m \u001b[38;5;124;03m    :returns: An Integer constant with the given value\u001b[39;00m\n\u001b[0;32m    261\u001b[0m \u001b[38;5;124;03m    \"\"\"\u001b[39;00m\n\u001b[1;32m--> 262\u001b[0m     \u001b[38;5;28;01mreturn\u001b[39;00m \u001b[43mget_env\u001b[49m\u001b[43m(\u001b[49m\u001b[43m)\u001b[49m\u001b[38;5;241;43m.\u001b[39;49m\u001b[43mformula_manager\u001b[49m\u001b[38;5;241;43m.\u001b[39;49m\u001b[43mInt\u001b[49m\u001b[43m(\u001b[49m\u001b[43mvalue\u001b[49m\u001b[43m)\u001b[49m\n",
      "File \u001b[1;32m~\\anaconda3\\envs\\logica\\lib\\site-packages\\pysmt\\formula.py:372\u001b[0m, in \u001b[0;36mFormulaManager.Int\u001b[1;34m(self, value)\u001b[0m\n\u001b[0;32m    370\u001b[0m     val \u001b[38;5;241m=\u001b[39m pysmt_integer_from_integer(value)\n\u001b[0;32m    371\u001b[0m \u001b[38;5;28;01melse\u001b[39;00m:\n\u001b[1;32m--> 372\u001b[0m     \u001b[38;5;28;01mraise\u001b[39;00m PysmtTypeError(\u001b[38;5;124m\"\u001b[39m\u001b[38;5;124mInvalid type in constant. The type was:\u001b[39m\u001b[38;5;124m\"\u001b[39m \u001b[38;5;241m+\u001b[39m \\\n\u001b[0;32m    373\u001b[0m                          \u001b[38;5;28mstr\u001b[39m(\u001b[38;5;28mtype\u001b[39m(value)))\n\u001b[0;32m    374\u001b[0m n \u001b[38;5;241m=\u001b[39m \u001b[38;5;28mself\u001b[39m\u001b[38;5;241m.\u001b[39mcreate_node(node_type\u001b[38;5;241m=\u001b[39mop\u001b[38;5;241m.\u001b[39mINT_CONSTANT,\n\u001b[0;32m    375\u001b[0m                      args\u001b[38;5;241m=\u001b[39m\u001b[38;5;28mtuple\u001b[39m(),\n\u001b[0;32m    376\u001b[0m                      payload\u001b[38;5;241m=\u001b[39mval)\n\u001b[0;32m    377\u001b[0m \u001b[38;5;28mself\u001b[39m\u001b[38;5;241m.\u001b[39mint_constants[value] \u001b[38;5;241m=\u001b[39m n\n",
      "\u001b[1;31mPysmtTypeError\u001b[0m: Invalid type in constant. The type was:<class 'str'>"
     ]
    }
   ],
   "source": [
    "def gera_traco(vars,init,trans, error, k, n, a, b):\n",
    "\n",
    "    s = Solver()\n",
    "    \n",
    "    \n",
    "    X = [genState(vars, 'X', i, n) for i in range(k+1)]\n",
    "    I = init(X[0], a, b)\n",
    "    Tks = [trans(X[i], X[i+1], n) for i in range(k)]\n",
    "\n",
    "    s.add([I, And(Tks)])\n",
    "     \n",
    "    check = s.check()\n",
    "    if check == sat:\n",
    "        m = s.model()\n",
    "        #print(m)\n",
    "        #print(X)\n",
    "        for i in range(k):\n",
    "            print(\"Passo \", i)\n",
    "            for v in X[i]:\n",
    "                \n",
    "                print(v, \"=\", m[X[i][v]])\n",
    "            print(\"----------------\")\n",
    "    else:\n",
    "        print(check)\n",
    "                \n",
    "gera_traco(['pc', 'x', 'y', 'z'],init,trans, error, 20, 9, 150, 2)"
   ]
  },
  {
   "cell_type": "markdown",
   "id": "e7ae2680",
   "metadata": {},
   "source": [
    "### Função invert\n",
    "    - Função invert que recebe a função python que codifica a relação de transição e devolve a relação de transição inversa."
   ]
  },
  {
   "cell_type": "code",
   "execution_count": 6,
   "id": "5bc47035",
   "metadata": {},
   "outputs": [],
   "source": [
    "def invert(trans, n_bits):\n",
    "    return (lambda c, p: trans(p,c, n_bits))"
   ]
  },
  {
   "cell_type": "markdown",
   "id": "8ab0d871",
   "metadata": {},
   "source": [
    "### O algoritmo de \"model-checking\"\n",
    "\n",
    "O algoritmo de “model-checking” manipula as fórmulas $\\;\\mathsf{R}_n\\;\\equiv\\; \\mathsf{I}\\,\\land\\,\\mathsf{T}^n\\;$ e $\\;\\mathsf{U}_m\\equiv\\; \\mathsf{E}\\,\\land\\,\\mathsf{B}^m\\;$ fazendo crescer os índices $\\;n,m\\;$. Neste exemplo, os índices $\\;n,m\\;$ crescem de acordo com o `input` do utilizador."
   ]
  },
  {
   "cell_type": "markdown",
   "id": "ea3371e8",
   "metadata": {},
   "source": [
    "Para auxiliar na implementação deste algoritmo, começamos por definir duas funções.\n",
    "A função `rename` renomeia uma fórmula (sobre um estado) de acordo com um dado estado. \n",
    "A função `same` testa se dois estados são iguais."
   ]
  },
  {
   "cell_type": "code",
   "execution_count": 7,
   "id": "a824cedb",
   "metadata": {},
   "outputs": [],
   "source": [
    "def baseName(s):\n",
    "    return ''.join(list(itertools.takewhile(lambda x: x!='!', s)))\n",
    "\n",
    "def rename(form,state):\n",
    "    vs = get_free_variables(form)\n",
    "    pairs = [ (x,state[baseName(x.symbol_name())]) for x in vs ]\n",
    "    return form.substitute(dict(pairs))\n",
    "\n",
    "def same(state1,state2):\n",
    "    return And([state1[x] == state2[x] for x in state1])"
   ]
  },
  {
   "cell_type": "markdown",
   "id": "6bc3856e",
   "metadata": {},
   "source": [
    "### O algoritmo de \"model-checking\"\n"
   ]
  },
  {
   "cell_type": "code",
   "execution_count": 8,
   "id": "909ac9e1",
   "metadata": {},
   "outputs": [
    {
     "ename": "PysmtTypeError",
     "evalue": "Invalid type in constant. The type was:<class 'str'>",
     "output_type": "error",
     "traceback": [
      "\u001b[1;31m---------------------------------------------------------------------------\u001b[0m",
      "\u001b[1;31mPysmtTypeError\u001b[0m                            Traceback (most recent call last)",
      "Cell \u001b[1;32mIn [8], line 63\u001b[0m\n\u001b[0;32m     56\u001b[0m         command \u001b[38;5;241m=\u001b[39m \u001b[38;5;28mint\u001b[39m(\u001b[38;5;28minput\u001b[39m(\u001b[38;5;124m\"\u001b[39m\u001b[38;5;124m1- Aumentar n\u001b[39m\u001b[38;5;130;01m\\n\u001b[39;00m\u001b[38;5;124m2- Aumentar m\u001b[39m\u001b[38;5;130;01m\\n\u001b[39;00m\u001b[38;5;124m3- Sair\u001b[39m\u001b[38;5;124m\"\u001b[39m))    \n\u001b[0;32m     58\u001b[0m         \u001b[38;5;28mprint\u001b[39m(\u001b[38;5;124m\"\u001b[39m\u001b[38;5;124munknown\u001b[39m\u001b[38;5;124m\"\u001b[39m)                   \n\u001b[1;32m---> 63\u001b[0m model_checking([\u001b[38;5;124m'\u001b[39m\u001b[38;5;124mpc\u001b[39m\u001b[38;5;124m'\u001b[39m, \u001b[38;5;124m'\u001b[39m\u001b[38;5;124mx\u001b[39m\u001b[38;5;124m'\u001b[39m, \u001b[38;5;124m'\u001b[39m\u001b[38;5;124my\u001b[39m\u001b[38;5;124m'\u001b[39m, \u001b[38;5;124m'\u001b[39m\u001b[38;5;124mz\u001b[39m\u001b[38;5;124m'\u001b[39m], init, trans, error, \u001b[38;5;241m50\u001b[39m, \u001b[38;5;241m50\u001b[39m, \u001b[38;5;241m9\u001b[39m, \u001b[38;5;241m150\u001b[39m, \u001b[38;5;241m2\u001b[39m)\n",
      "Cell \u001b[1;32mIn [8], line 7\u001b[0m, in \u001b[0;36mmodel_checking\u001b[1;34m(vars, init, trans, error, N, M, n_bits, a, b)\u001b[0m\n\u001b[0;32m      4\u001b[0m s \u001b[38;5;241m=\u001b[39m Solver()\n\u001b[0;32m      6\u001b[0m \u001b[38;5;66;03m# Criar todos os estados que poderão vir a ser necessários.\u001b[39;00m\n\u001b[1;32m----> 7\u001b[0m X \u001b[38;5;241m=\u001b[39m [genState(\u001b[38;5;28mvars\u001b[39m, \u001b[38;5;124m'\u001b[39m\u001b[38;5;124mX\u001b[39m\u001b[38;5;124m'\u001b[39m, i, n_bits) \u001b[38;5;28;01mfor\u001b[39;00m i \u001b[38;5;129;01min\u001b[39;00m \u001b[38;5;28mrange\u001b[39m(N\u001b[38;5;241m+\u001b[39m\u001b[38;5;241m1\u001b[39m)]\n\u001b[0;32m      8\u001b[0m Y \u001b[38;5;241m=\u001b[39m [genState(\u001b[38;5;28mvars\u001b[39m, \u001b[38;5;124m'\u001b[39m\u001b[38;5;124mY\u001b[39m\u001b[38;5;124m'\u001b[39m, i, n_bits) \u001b[38;5;28;01mfor\u001b[39;00m i \u001b[38;5;129;01min\u001b[39;00m \u001b[38;5;28mrange\u001b[39m(M\u001b[38;5;241m+\u001b[39m\u001b[38;5;241m1\u001b[39m)]\n\u001b[0;32m     11\u001b[0m (n,m) \u001b[38;5;241m=\u001b[39m (\u001b[38;5;241m1\u001b[39m,\u001b[38;5;241m1\u001b[39m)\n",
      "Cell \u001b[1;32mIn [8], line 7\u001b[0m, in \u001b[0;36m<listcomp>\u001b[1;34m(.0)\u001b[0m\n\u001b[0;32m      4\u001b[0m s \u001b[38;5;241m=\u001b[39m Solver()\n\u001b[0;32m      6\u001b[0m \u001b[38;5;66;03m# Criar todos os estados que poderão vir a ser necessários.\u001b[39;00m\n\u001b[1;32m----> 7\u001b[0m X \u001b[38;5;241m=\u001b[39m [\u001b[43mgenState\u001b[49m\u001b[43m(\u001b[49m\u001b[38;5;28;43mvars\u001b[39;49m\u001b[43m,\u001b[49m\u001b[43m \u001b[49m\u001b[38;5;124;43m'\u001b[39;49m\u001b[38;5;124;43mX\u001b[39;49m\u001b[38;5;124;43m'\u001b[39;49m\u001b[43m,\u001b[49m\u001b[43m \u001b[49m\u001b[43mi\u001b[49m\u001b[43m,\u001b[49m\u001b[43m \u001b[49m\u001b[43mn_bits\u001b[49m\u001b[43m)\u001b[49m \u001b[38;5;28;01mfor\u001b[39;00m i \u001b[38;5;129;01min\u001b[39;00m \u001b[38;5;28mrange\u001b[39m(N\u001b[38;5;241m+\u001b[39m\u001b[38;5;241m1\u001b[39m)]\n\u001b[0;32m      8\u001b[0m Y \u001b[38;5;241m=\u001b[39m [genState(\u001b[38;5;28mvars\u001b[39m, \u001b[38;5;124m'\u001b[39m\u001b[38;5;124mY\u001b[39m\u001b[38;5;124m'\u001b[39m, i, n_bits) \u001b[38;5;28;01mfor\u001b[39;00m i \u001b[38;5;129;01min\u001b[39;00m \u001b[38;5;28mrange\u001b[39m(M\u001b[38;5;241m+\u001b[39m\u001b[38;5;241m1\u001b[39m)]\n\u001b[0;32m     11\u001b[0m (n,m) \u001b[38;5;241m=\u001b[39m (\u001b[38;5;241m1\u001b[39m,\u001b[38;5;241m1\u001b[39m)\n",
      "Cell \u001b[1;32mIn [2], line 14\u001b[0m, in \u001b[0;36mgenState\u001b[1;34m(vars, s, i, n)\u001b[0m\n\u001b[0;32m     12\u001b[0m \u001b[38;5;28;01mdef\u001b[39;00m \u001b[38;5;21mgenState\u001b[39m(\u001b[38;5;28mvars\u001b[39m,s,i,n):\n\u001b[0;32m     13\u001b[0m     state \u001b[38;5;241m=\u001b[39m {}\n\u001b[1;32m---> 14\u001b[0m     state[\u001b[38;5;124m'\u001b[39m\u001b[38;5;124mpc\u001b[39m\u001b[38;5;124m'\u001b[39m] \u001b[38;5;241m=\u001b[39m \u001b[43mInt\u001b[49m\u001b[43m(\u001b[49m\u001b[38;5;124;43m'\u001b[39;49m\u001b[38;5;124;43mpc\u001b[39;49m\u001b[38;5;124;43m'\u001b[39;49m\u001b[38;5;241;43m+\u001b[39;49m\u001b[38;5;124;43m'\u001b[39;49m\u001b[38;5;124;43m!\u001b[39;49m\u001b[38;5;124;43m'\u001b[39;49m\u001b[38;5;241;43m+\u001b[39;49m\u001b[43ms\u001b[49m\u001b[38;5;241;43m+\u001b[39;49m\u001b[38;5;28;43mstr\u001b[39;49m\u001b[43m(\u001b[49m\u001b[43mi\u001b[49m\u001b[43m)\u001b[49m\u001b[43m)\u001b[49m\n\u001b[0;32m     15\u001b[0m     \u001b[38;5;28;01mfor\u001b[39;00m v \u001b[38;5;129;01min\u001b[39;00m \u001b[38;5;28mvars\u001b[39m[\u001b[38;5;241m1\u001b[39m:]:\n\u001b[0;32m     16\u001b[0m         state[v] \u001b[38;5;241m=\u001b[39m BitVec(v\u001b[38;5;241m+\u001b[39m\u001b[38;5;124m'\u001b[39m\u001b[38;5;124m!\u001b[39m\u001b[38;5;124m'\u001b[39m\u001b[38;5;241m+\u001b[39ms\u001b[38;5;241m+\u001b[39m\u001b[38;5;28mstr\u001b[39m(i),n)\n",
      "File \u001b[1;32m~\\anaconda3\\envs\\logica\\lib\\site-packages\\pysmt\\shortcuts.py:262\u001b[0m, in \u001b[0;36mInt\u001b[1;34m(value)\u001b[0m\n\u001b[0;32m    256\u001b[0m \u001b[38;5;28;01mdef\u001b[39;00m \u001b[38;5;21mInt\u001b[39m(value):\n\u001b[0;32m    257\u001b[0m     \u001b[38;5;124;03m\"\"\"Returns an Integer constant with the given value.\u001b[39;00m\n\u001b[0;32m    258\u001b[0m \n\u001b[0;32m    259\u001b[0m \u001b[38;5;124;03m    :param value: Specify the value\u001b[39;00m\n\u001b[0;32m    260\u001b[0m \u001b[38;5;124;03m    :returns: An Integer constant with the given value\u001b[39;00m\n\u001b[0;32m    261\u001b[0m \u001b[38;5;124;03m    \"\"\"\u001b[39;00m\n\u001b[1;32m--> 262\u001b[0m     \u001b[38;5;28;01mreturn\u001b[39;00m \u001b[43mget_env\u001b[49m\u001b[43m(\u001b[49m\u001b[43m)\u001b[49m\u001b[38;5;241;43m.\u001b[39;49m\u001b[43mformula_manager\u001b[49m\u001b[38;5;241;43m.\u001b[39;49m\u001b[43mInt\u001b[49m\u001b[43m(\u001b[49m\u001b[43mvalue\u001b[49m\u001b[43m)\u001b[49m\n",
      "File \u001b[1;32m~\\anaconda3\\envs\\logica\\lib\\site-packages\\pysmt\\formula.py:372\u001b[0m, in \u001b[0;36mFormulaManager.Int\u001b[1;34m(self, value)\u001b[0m\n\u001b[0;32m    370\u001b[0m     val \u001b[38;5;241m=\u001b[39m pysmt_integer_from_integer(value)\n\u001b[0;32m    371\u001b[0m \u001b[38;5;28;01melse\u001b[39;00m:\n\u001b[1;32m--> 372\u001b[0m     \u001b[38;5;28;01mraise\u001b[39;00m PysmtTypeError(\u001b[38;5;124m\"\u001b[39m\u001b[38;5;124mInvalid type in constant. The type was:\u001b[39m\u001b[38;5;124m\"\u001b[39m \u001b[38;5;241m+\u001b[39m \\\n\u001b[0;32m    373\u001b[0m                          \u001b[38;5;28mstr\u001b[39m(\u001b[38;5;28mtype\u001b[39m(value)))\n\u001b[0;32m    374\u001b[0m n \u001b[38;5;241m=\u001b[39m \u001b[38;5;28mself\u001b[39m\u001b[38;5;241m.\u001b[39mcreate_node(node_type\u001b[38;5;241m=\u001b[39mop\u001b[38;5;241m.\u001b[39mINT_CONSTANT,\n\u001b[0;32m    375\u001b[0m                      args\u001b[38;5;241m=\u001b[39m\u001b[38;5;28mtuple\u001b[39m(),\n\u001b[0;32m    376\u001b[0m                      payload\u001b[38;5;241m=\u001b[39mval)\n\u001b[0;32m    377\u001b[0m \u001b[38;5;28mself\u001b[39m\u001b[38;5;241m.\u001b[39mint_constants[value] \u001b[38;5;241m=\u001b[39m n\n",
      "\u001b[1;31mPysmtTypeError\u001b[0m: Invalid type in constant. The type was:<class 'str'>"
     ]
    }
   ],
   "source": [
    "# Falta ver o porquê do pysmt bater mal\n",
    "\n",
    "def model_checking(vars,init,trans,error,N, M, n_bits, a, b):\n",
    "    s = Solver()\n",
    "\n",
    "    # Criar todos os estados que poderão vir a ser necessários.\n",
    "    X = [genState(vars, 'X', i, n_bits) for i in range(N+1)]\n",
    "    Y = [genState(vars, 'Y', i, n_bits) for i in range(M+1)]\n",
    "        \n",
    "    \n",
    "    (n,m) = (1,1)\n",
    "    command = 0\n",
    "    while command != 3:\n",
    "        Tn = And([trans(X[i], X[i+1], n_bits) for i in range(n)])\n",
    "        I = init(X[0], a, b) \n",
    "        Rn = And(I, Tn)\n",
    "            \n",
    "        Bm = And([invert(trans, n_bits)(Y[i], Y[i+1]) for i in range(m)])\n",
    "        E = error(Y[0])\n",
    "        Um = And(E, Bm)\n",
    "            \n",
    "        Vnm = And(Rn, same(X[n], Y[m]), Um)\n",
    "        s.add([Vnm])\n",
    "        check = s.check()\n",
    "        if check == sat:\n",
    "            print(\"Unsafe\")\n",
    "            return\n",
    "        else:                        # Vnm é instatisfazível\n",
    "            C = binary_interpolant(And(Rn, same(X[n], Y[m])), Um)\n",
    "            #C =1\n",
    "            if C is None:\n",
    "                print(\"Interpolant None\")\n",
    "                break\n",
    "            C0 = rename(C, X[0])\n",
    "            C1 = rename(C, X[1])\n",
    "            T = trans(X[0], X[1], n_bits)\n",
    "            if not s.solve([C0, T, Not(C1)]):   # C é invariante de T\n",
    "                print(\"Safe\")\n",
    "                return\n",
    "            else:\n",
    "                ### tenta gerar o majorante S\n",
    "                S = rename(C, X[n])\n",
    "                while True:\n",
    "                    A = And(S, trans(X[n], Y[m]))\n",
    "                    if s.solve([A,Um]):\n",
    "                        print(\"Não é possível encontrar um majorante\")\n",
    "                        break\n",
    "                    else:\n",
    "                        Cnew = binary_interpolant(A, Um)\n",
    "                        Cn = rename(Cnew, X[n])\n",
    "                        if s.solve([Cn, Not(S)]):   # Se Cn -> S não é tautologia\n",
    "                            S = Or(S, Cn)\n",
    "                        else:             # S foi encontrado\n",
    "                            print(\"Safe\")\n",
    "                            return\n",
    "        command = int(input(\"1- Aumentar n\\n2- Aumentar m\\n3- Sair\"))    \n",
    "                            \n",
    "        print(\"unknown\")                   \n",
    "\n",
    "\n",
    "                        \n",
    "\n",
    "model_checking(['pc', 'x', 'y', 'z'], init, trans, error, 50, 50, 9, 150, 2)            "
   ]
  },
  {
   "cell_type": "code",
   "execution_count": 57,
   "id": "88a3c676",
   "metadata": {},
   "outputs": [
    {
     "name": "stdout",
     "output_type": "stream",
     "text": [
      "2\n"
     ]
    }
   ],
   "source": [
    "(n,m) = (1,1)\n",
    "n = n+1\n",
    "print(n)"
   ]
  },
  {
   "cell_type": "code",
   "execution_count": null,
   "id": "23671bdc",
   "metadata": {},
   "outputs": [],
   "source": []
  }
 ],
 "metadata": {
  "kernelspec": {
   "display_name": "Python 3 (ipykernel)",
   "language": "python",
   "name": "python3"
  },
  "language_info": {
   "codemirror_mode": {
    "name": "ipython",
    "version": 3
   },
   "file_extension": ".py",
   "mimetype": "text/x-python",
   "name": "python",
   "nbconvert_exporter": "python",
   "pygments_lexer": "ipython3",
   "version": "3.10.4"
  }
 },
 "nbformat": 4,
 "nbformat_minor": 5
}
