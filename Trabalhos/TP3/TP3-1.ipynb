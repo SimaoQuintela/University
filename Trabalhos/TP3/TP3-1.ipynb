{
 "cells": [
  {
   "cell_type": "markdown",
   "id": "0d833ef2",
   "metadata": {},
   "source": [
    "### TP3 - 1"
   ]
  },
  {
   "cell_type": "markdown",
   "id": "7afac0d9",
   "metadata": {},
   "source": [
    "\n",
    "1. Pretende-se construir uma implementação simplificada do algoritmo “model checking” orientado aos interpolantes seguindo a estrutura apresentada nos apontamentos onde no passo $(n,m)\\,$na impossibilidade de encontrar um interpolante invariante se dá ao utilizador a possibilidade de incrementar um dos índices $n$ e $m$ à sua escolha.\n",
    "    Pretende-se aplicar este algoritmo ao problema da da multiplicação de inteiros positivos em `BitVec`  (apresentado no TP2)."
   ]
  },
  {
   "cell_type": "code",
   "execution_count": 1,
   "id": "3f6437c5",
   "metadata": {},
   "outputs": [],
   "source": [
    "from pysmt.shortcuts import *\n",
    "from pysmt.typing import INT\n",
    "import itertools "
   ]
  },
  {
   "cell_type": "markdown",
   "id": "e6d79a9a",
   "metadata": {},
   "source": [
    "<img src=\"automato.png\" alt=\"autómato\" style=\"width: 600px;\"/>"
   ]
  },
  {
   "cell_type": "markdown",
   "id": "a8b1c717",
   "metadata": {},
   "source": [
    "#### Função declare(t, N):\n",
    "\n",
    "   A seguinte função cria a $t$-ésima cópia das variáveis de estado, agrupadas num dicionário que nos permite aceder às mesmas pelo nome."
   ]
  },
  {
   "cell_type": "code",
   "execution_count": 2,
   "id": "6c486398",
   "metadata": {},
   "outputs": [],
   "source": [
    "'''\n",
    "def declare(i, n):\n",
    "    state = {}\n",
    "    state['pc'] = Int('pc'+str(i))\n",
    "    state['x'] = BitVec('x'+str(i), n)\n",
    "    state['y'] = BitVec('y'+str(i), n)\n",
    "    state['z'] = BitVec('z'+str(i), n)\n",
    "    \n",
    "    return state\n",
    "'''\n",
    "\n",
    "def genState(vars,s,i):\n",
    "    state = {}\n",
    "    state['pc'] = Symbol('pc'+'!'+s+str(i), INT)\n",
    "    for v in vars[1:]:\n",
    "        state[v] = Symbol(v+'!'+s+str(i), INT)\n",
    "    return state"
   ]
  },
  {
   "cell_type": "markdown",
   "id": "6742176b",
   "metadata": {},
   "source": [
    "#### Função init(state, prob, N):\n",
    "\n",
    "    state - Dicionário de variáveis de estado\n",
    "    a - valor associado ao 1º número a multiplicar\n",
    "    b - valor associado ao 2º número a multiplicar\n",
    "\n",
    "   A função `init` tem como objetivo devolver um predicado do Solver que testa se é um possível estado inicial do programa, através do `state`, um dicionário de variáveis."
   ]
  },
  {
   "cell_type": "code",
   "execution_count": 3,
   "id": "0edbdbfb",
   "metadata": {},
   "outputs": [],
   "source": [
    "def init(state, a, b):\n",
    "    return And( \n",
    "        Equals(state['pc'], Int(0)),\n",
    "        Equals(state['x'], Int(a)),\n",
    "        Equals(state['y'], Int(b)),\n",
    "        Equals(state['z'], Int(0))\n",
    "    )"
   ]
  },
  {
   "cell_type": "markdown",
   "id": "32d66c0a",
   "metadata": {},
   "source": [
    "#### Função trans(curr, prox, N):\n",
    "\n",
    "    curr - Estado das variáveis no momento atual\n",
    "    prox - Estado das variáveis no momento da próxima iteração\n",
    "    n - Número de bits \n",
    "    \n",
    "   A função `trans` tem como objetivo devolver um predicado do Solver, através dos três estados disponíveis, que teste se é possível transitar entre os estados possíveis."
   ]
  },
  {
   "cell_type": "code",
   "execution_count": 8,
   "id": "e4ac2635",
   "metadata": {},
   "outputs": [],
   "source": [
    " # falta ver a cena do %\n",
    "\n",
    "def error(state):\n",
    "    return Or(state['pc'] == 4, state['pc'] == 6)\n",
    "\n",
    "def trans(curr, prox, n):\n",
    "    same_values = And(\n",
    "        Equals(prox['x'], curr['x']),\n",
    "        Equals(prox['y'], curr['y']),\n",
    "        Equals(prox['z'], curr['z'])    \n",
    "    )\n",
    "    \n",
    "    t0 = And(\n",
    "        Equals(curr['pc'], Int(0)),\n",
    "        Equals(prox['pc'], Int(1)),\n",
    "        same_values\n",
    "    )\n",
    "    \n",
    "    # y = 0\n",
    "    t1 = And(\n",
    "        Equals(curr['y'], Int(0)),\n",
    "        Equals(curr['pc'], Int(1)),\n",
    "        Equals(prox['pc'], Int(5)),\n",
    "        same_values\n",
    "    )\n",
    "    \n",
    "    # y != 0 ^ odd(y)\n",
    "    t2 = And(\n",
    "        NotEquals(curr['y'], Int(0)),\n",
    "        Equals(curr['y'] % Int(2), Int(1)),\n",
    "        Equals(curr['pc'], Int(1)),\n",
    "        Equals(prox['pc'], Int(2)),\n",
    "        same_values\n",
    "    )\n",
    "    \n",
    "    \n",
    "    # y != 0 ^ even(y)\n",
    "    t3 = And(\n",
    "        NotEquals(curr['y'], Int(0)),\n",
    "        Equals(curr['y'] % Int(2), Int(0)),\n",
    "        Equals(curr['pc'], Int(1)),\n",
    "        Equals(prox['pc'], Int(3)),\n",
    "        same_values\n",
    "    )\n",
    "\n",
    "    \n",
    "\n",
    "    # transição em que o solver decide se vai para o estado de overflow ou se continua\n",
    "    magia_left = And(\n",
    "        Equals(prox['x'], curr['x'] * Int(2)),\n",
    "        Equals(prox['y'], curr['y'] / Int(2)),\n",
    "        Equals(prox['z'], curr['z']),\n",
    "        \n",
    "        Equals(curr['pc'], Int(3)),\n",
    "        \n",
    "        Or(\n",
    "            And(LE(prox['x'], Minus(Pow(Int(2), Int(n)), Int(1))), Equals(prox['pc'], Int(1))),  # curr['x'] < prox['x']  - não há overflow\n",
    "            And(GT(cprox['x'], Minus(Pow(Int(2), Int(n)), Int(1))), Equals(prox['pc'], Int(4))),  # curr['x'] > prox['x'] - há overflow\n",
    "        )\n",
    "    )\n",
    "    \n",
    "    # transição em que o solver decide se vai para o estado de overflow ou se continua\n",
    "    magia_right = And(\n",
    "        Equals(prox['x'], curr['x']),\n",
    "        Equals(prox['y'], Minus(curr['y'], Int(1))),\n",
    "        Equals(prox['z'], Plus(curr['z'], curr['x'])),\n",
    "        \n",
    "        Equals(curr['pc'], 2),\n",
    "        \n",
    "        Or(\n",
    "            And(LE(prox['x'], Minus(Pow(Int(2), Int(n)), Int(1))), Equals(prox['pc'], Int(1))),  # curr['x'] < prox['x']  - não há overflow\n",
    "            And(GT(prox['x'], Minus(Pow(Int(2), Int(n)), Int(1))), Equals(prox['pc'], Int(6))),  # curr['x'] >= prox['x'] - há overflow\n",
    "        )\n",
    "    )\n",
    "    \n",
    "    \n",
    "    # caso de paragem no overflow e no estado final\n",
    "    stop_case = And(\n",
    "        Equals(prox['pc'], curr['pc']),\n",
    "        same_values,\n",
    "        \n",
    "        Or(\n",
    "            And(Equals(curr['pc'], Int(4)), Equals(prox['pc'], Int(4))),\n",
    "            And(Equals(curr['pc'], Int(5)), Equals(prox['pc'], Int(5))),\n",
    "            And(Equals(curr['pc'], Int(6)), Equals(prox['pc'], Int(6)))\n",
    "        )\n",
    "    )\n",
    "    \n",
    "    \n",
    "    return Or(t0, t1, t2, t3, stop_case, magia_left, magia_right)"
   ]
  },
  {
   "cell_type": "markdown",
   "id": "099186d3",
   "metadata": {},
   "source": [
    "#### Função gera_traco(declare, init, trans, k, n, a, b)\n",
    "\n",
    "    declare - Variáveis de estado\n",
    "    init - Condições para o estado inicial\n",
    "    trans - Função transição\n",
    "    k - Valor do traço\n",
    "    n - Número de bits\n",
    "    a - Valor a ser multiplicado\n",
    "    b - Valor a ser multiplicado\n",
    "\n",
    "A função `gera_traco` tem como objetivo imprimir o valor das variáveis à medida que vão percorrendo os estados, através das variáveis do estado, de um predicado que testa se um estado é inicial, um número positivo para gerar um possível traço de execução do programa de tamanho `k` , com `N` bits, multiplicando `a` por `b`."
   ]
  },
  {
   "cell_type": "code",
   "execution_count": 9,
   "id": "87e008ae",
   "metadata": {},
   "outputs": [
    {
     "ename": "TypeError",
     "evalue": "'NoneType' object is not callable",
     "output_type": "error",
     "traceback": [
      "\u001b[1;31m---------------------------------------------------------------------------\u001b[0m",
      "\u001b[1;31mTypeError\u001b[0m                                 Traceback (most recent call last)",
      "Input \u001b[1;32mIn [9]\u001b[0m, in \u001b[0;36m<cell line: 18>\u001b[1;34m()\u001b[0m\n\u001b[0;32m     15\u001b[0m         \u001b[38;5;28;01melse\u001b[39;00m:\n\u001b[0;32m     16\u001b[0m             \u001b[38;5;28mprint\u001b[39m(check)\n\u001b[1;32m---> 18\u001b[0m \u001b[43mgera_traco\u001b[49m\u001b[43m(\u001b[49m\u001b[43m[\u001b[49m\u001b[38;5;124;43m'\u001b[39;49m\u001b[38;5;124;43mpc\u001b[39;49m\u001b[38;5;124;43m'\u001b[39;49m\u001b[43m,\u001b[49m\u001b[43m \u001b[49m\u001b[38;5;124;43m'\u001b[39;49m\u001b[38;5;124;43mx\u001b[39;49m\u001b[38;5;124;43m'\u001b[39;49m\u001b[43m,\u001b[49m\u001b[43m \u001b[49m\u001b[38;5;124;43m'\u001b[39;49m\u001b[38;5;124;43my\u001b[39;49m\u001b[38;5;124;43m'\u001b[39;49m\u001b[43m,\u001b[49m\u001b[43m \u001b[49m\u001b[38;5;124;43m'\u001b[39;49m\u001b[38;5;124;43mz\u001b[39;49m\u001b[38;5;124;43m'\u001b[39;49m\u001b[43m]\u001b[49m\u001b[43m,\u001b[49m\u001b[43minit\u001b[49m\u001b[43m,\u001b[49m\u001b[43mtrans\u001b[49m\u001b[43m,\u001b[49m\u001b[43m \u001b[49m\u001b[43merror\u001b[49m\u001b[43m,\u001b[49m\u001b[43m \u001b[49m\u001b[38;5;241;43m20\u001b[39;49m\u001b[43m,\u001b[49m\u001b[43m \u001b[49m\u001b[38;5;241;43m9\u001b[39;49m\u001b[43m,\u001b[49m\u001b[43m \u001b[49m\u001b[38;5;241;43m150\u001b[39;49m\u001b[43m,\u001b[49m\u001b[43m \u001b[49m\u001b[38;5;241;43m2\u001b[39;49m\u001b[43m)\u001b[49m\n",
      "Input \u001b[1;32mIn [9]\u001b[0m, in \u001b[0;36mgera_traco\u001b[1;34m(vars, init, trans, error, k, n, a, b)\u001b[0m\n\u001b[0;32m      4\u001b[0m X \u001b[38;5;241m=\u001b[39m [genState(\u001b[38;5;28mvars\u001b[39m, \u001b[38;5;124m'\u001b[39m\u001b[38;5;124mX\u001b[39m\u001b[38;5;124m'\u001b[39m, i, n) \u001b[38;5;28;01mfor\u001b[39;00m i \u001b[38;5;129;01min\u001b[39;00m \u001b[38;5;28mrange\u001b[39m(k\u001b[38;5;241m+\u001b[39m\u001b[38;5;241m1\u001b[39m)]\n\u001b[0;32m      5\u001b[0m I \u001b[38;5;241m=\u001b[39m init(X[\u001b[38;5;241m0\u001b[39m], a, b)\n\u001b[1;32m----> 6\u001b[0m Tks \u001b[38;5;241m=\u001b[39m [trans(X[i], X[i\u001b[38;5;241m+\u001b[39m\u001b[38;5;241m1\u001b[39m], n) \u001b[38;5;28;01mfor\u001b[39;00m i \u001b[38;5;129;01min\u001b[39;00m \u001b[38;5;28mrange\u001b[39m(k)]\n\u001b[0;32m      8\u001b[0m \u001b[38;5;28;01mif\u001b[39;00m s\u001b[38;5;241m.\u001b[39msolve([I,And(Tks)]):\n\u001b[0;32m      9\u001b[0m     \u001b[38;5;28;01mfor\u001b[39;00m i \u001b[38;5;129;01min\u001b[39;00m \u001b[38;5;28mrange\u001b[39m(k):\n",
      "Input \u001b[1;32mIn [9]\u001b[0m, in \u001b[0;36m<listcomp>\u001b[1;34m(.0)\u001b[0m\n\u001b[0;32m      4\u001b[0m X \u001b[38;5;241m=\u001b[39m [genState(\u001b[38;5;28mvars\u001b[39m, \u001b[38;5;124m'\u001b[39m\u001b[38;5;124mX\u001b[39m\u001b[38;5;124m'\u001b[39m, i, n) \u001b[38;5;28;01mfor\u001b[39;00m i \u001b[38;5;129;01min\u001b[39;00m \u001b[38;5;28mrange\u001b[39m(k\u001b[38;5;241m+\u001b[39m\u001b[38;5;241m1\u001b[39m)]\n\u001b[0;32m      5\u001b[0m I \u001b[38;5;241m=\u001b[39m init(X[\u001b[38;5;241m0\u001b[39m], a, b)\n\u001b[1;32m----> 6\u001b[0m Tks \u001b[38;5;241m=\u001b[39m [\u001b[43mtrans\u001b[49m\u001b[43m(\u001b[49m\u001b[43mX\u001b[49m\u001b[43m[\u001b[49m\u001b[43mi\u001b[49m\u001b[43m]\u001b[49m\u001b[43m,\u001b[49m\u001b[43m \u001b[49m\u001b[43mX\u001b[49m\u001b[43m[\u001b[49m\u001b[43mi\u001b[49m\u001b[38;5;241;43m+\u001b[39;49m\u001b[38;5;241;43m1\u001b[39;49m\u001b[43m]\u001b[49m\u001b[43m,\u001b[49m\u001b[43m \u001b[49m\u001b[43mn\u001b[49m\u001b[43m)\u001b[49m \u001b[38;5;28;01mfor\u001b[39;00m i \u001b[38;5;129;01min\u001b[39;00m \u001b[38;5;28mrange\u001b[39m(k)]\n\u001b[0;32m      8\u001b[0m \u001b[38;5;28;01mif\u001b[39;00m s\u001b[38;5;241m.\u001b[39msolve([I,And(Tks)]):\n\u001b[0;32m      9\u001b[0m     \u001b[38;5;28;01mfor\u001b[39;00m i \u001b[38;5;129;01min\u001b[39;00m \u001b[38;5;28mrange\u001b[39m(k):\n",
      "Input \u001b[1;32mIn [8]\u001b[0m, in \u001b[0;36mtrans\u001b[1;34m(curr, prox, n)\u001b[0m\n\u001b[0;32m     26\u001b[0m t2 \u001b[38;5;241m=\u001b[39m And(\n\u001b[0;32m     27\u001b[0m     NotEquals(curr[\u001b[38;5;124m'\u001b[39m\u001b[38;5;124my\u001b[39m\u001b[38;5;124m'\u001b[39m], Int(\u001b[38;5;241m0\u001b[39m)),\n\u001b[0;32m     28\u001b[0m     Equals(Minus(curr[\u001b[38;5;124m'\u001b[39m\u001b[38;5;124my\u001b[39m\u001b[38;5;124m'\u001b[39m], Int(\u001b[38;5;241m2\u001b[39m)), Int(\u001b[38;5;241m1\u001b[39m)),\n\u001b[1;32m   (...)\u001b[0m\n\u001b[0;32m     31\u001b[0m     same_values\n\u001b[0;32m     32\u001b[0m )\n\u001b[0;32m     35\u001b[0m \u001b[38;5;66;03m# y != 0 ^ even(y)\u001b[39;00m\n\u001b[0;32m     36\u001b[0m t3 \u001b[38;5;241m=\u001b[39m And(\n\u001b[0;32m     37\u001b[0m     NotEquals(curr[\u001b[38;5;124m'\u001b[39m\u001b[38;5;124my\u001b[39m\u001b[38;5;124m'\u001b[39m], Int(\u001b[38;5;241m0\u001b[39m)),\n\u001b[1;32m---> 38\u001b[0m     Equals(\u001b[43mcurr\u001b[49m\u001b[43m[\u001b[49m\u001b[38;5;124;43m'\u001b[39;49m\u001b[38;5;124;43my\u001b[39;49m\u001b[38;5;124;43m'\u001b[39;49m\u001b[43m]\u001b[49m\u001b[43m \u001b[49m\u001b[38;5;241;43m%\u001b[39;49m\u001b[43m \u001b[49m\u001b[43mInt\u001b[49m\u001b[43m(\u001b[49m\u001b[38;5;241;43m2\u001b[39;49m\u001b[43m)\u001b[49m, Int(\u001b[38;5;241m0\u001b[39m)),\n\u001b[0;32m     39\u001b[0m     Equals(curr[\u001b[38;5;124m'\u001b[39m\u001b[38;5;124mpc\u001b[39m\u001b[38;5;124m'\u001b[39m], Int(\u001b[38;5;241m1\u001b[39m)),\n\u001b[0;32m     40\u001b[0m     Equals(prox[\u001b[38;5;124m'\u001b[39m\u001b[38;5;124mpc\u001b[39m\u001b[38;5;124m'\u001b[39m], Int(\u001b[38;5;241m3\u001b[39m)),\n\u001b[0;32m     41\u001b[0m     same_values\n\u001b[0;32m     42\u001b[0m )\n\u001b[0;32m     46\u001b[0m \u001b[38;5;66;03m# transição em que o solver decide se vai para o estado de overflow ou se continua\u001b[39;00m\n\u001b[0;32m     47\u001b[0m magia_left \u001b[38;5;241m=\u001b[39m And(\n\u001b[0;32m     48\u001b[0m     Equals(prox[\u001b[38;5;124m'\u001b[39m\u001b[38;5;124mx\u001b[39m\u001b[38;5;124m'\u001b[39m], curr[\u001b[38;5;124m'\u001b[39m\u001b[38;5;124mx\u001b[39m\u001b[38;5;124m'\u001b[39m] \u001b[38;5;241m*\u001b[39m Int(\u001b[38;5;241m2\u001b[39m)),\n\u001b[0;32m     49\u001b[0m     Equals(prox[\u001b[38;5;124m'\u001b[39m\u001b[38;5;124my\u001b[39m\u001b[38;5;124m'\u001b[39m], curr[\u001b[38;5;124m'\u001b[39m\u001b[38;5;124my\u001b[39m\u001b[38;5;124m'\u001b[39m] \u001b[38;5;241m/\u001b[39m Int(\u001b[38;5;241m2\u001b[39m)),\n\u001b[1;32m   (...)\u001b[0m\n\u001b[0;32m     57\u001b[0m     )\n\u001b[0;32m     58\u001b[0m )\n",
      "File \u001b[1;32m~\\anaconda3\\envs\\logica\\lib\\site-packages\\pysmt\\fnode.py:957\u001b[0m, in \u001b[0;36mFNode.__mod__\u001b[1;34m(self, right)\u001b[0m\n\u001b[0;32m    956\u001b[0m \u001b[38;5;28;01mdef\u001b[39;00m \u001b[38;5;21m__mod__\u001b[39m(\u001b[38;5;28mself\u001b[39m, right):\n\u001b[1;32m--> 957\u001b[0m     \u001b[38;5;28;01mreturn\u001b[39;00m \u001b[38;5;28;43mself\u001b[39;49m\u001b[38;5;241;43m.\u001b[39;49m\u001b[43m_apply_infix\u001b[49m\u001b[43m(\u001b[49m\u001b[43mright\u001b[49m\u001b[43m,\u001b[49m\u001b[43m \u001b[49m\u001b[38;5;28;43;01mNone\u001b[39;49;00m\u001b[43m,\u001b[49m\u001b[43m \u001b[49m\u001b[43mbv_function\u001b[49m\u001b[38;5;241;43m=\u001b[39;49m\u001b[43m_mgr\u001b[49m\u001b[43m(\u001b[49m\u001b[43m)\u001b[49m\u001b[38;5;241;43m.\u001b[39;49m\u001b[43mBVURem\u001b[49m\u001b[43m)\u001b[49m\n",
      "File \u001b[1;32m~\\anaconda3\\envs\\logica\\lib\\site-packages\\pysmt\\decorators.py:107\u001b[0m, in \u001b[0;36massert_infix_enabled.<locals>.assert_infix_enabled_wrap\u001b[1;34m(*args, **kwargs)\u001b[0m\n\u001b[0;32m    105\u001b[0m \u001b[38;5;28;01mif\u001b[39;00m \u001b[38;5;129;01mnot\u001b[39;00m get_env()\u001b[38;5;241m.\u001b[39menable_infix_notation:\n\u001b[0;32m    106\u001b[0m     \u001b[38;5;28;01mraise\u001b[39;00m PysmtModeError(INFIX_ERROR_MSG)\n\u001b[1;32m--> 107\u001b[0m \u001b[38;5;28;01mreturn\u001b[39;00m f(\u001b[38;5;241m*\u001b[39margs, \u001b[38;5;241m*\u001b[39m\u001b[38;5;241m*\u001b[39mkwargs)\n",
      "File \u001b[1;32m~\\anaconda3\\envs\\logica\\lib\\site-packages\\pysmt\\fnode.py:706\u001b[0m, in \u001b[0;36mFNode._apply_infix\u001b[1;34m(self, right, function, bv_function)\u001b[0m\n\u001b[0;32m    704\u001b[0m \u001b[38;5;28;01mif\u001b[39;00m \u001b[38;5;28mself\u001b[39m\u001b[38;5;241m.\u001b[39mget_type()\u001b[38;5;241m.\u001b[39mis_bv_type():\n\u001b[0;32m    705\u001b[0m     \u001b[38;5;28;01mreturn\u001b[39;00m bv_function(\u001b[38;5;28mself\u001b[39m, right)\n\u001b[1;32m--> 706\u001b[0m \u001b[38;5;28;01mreturn\u001b[39;00m \u001b[43mfunction\u001b[49m\u001b[43m(\u001b[49m\u001b[38;5;28;43mself\u001b[39;49m\u001b[43m,\u001b[49m\u001b[43m \u001b[49m\u001b[43mright\u001b[49m\u001b[43m)\u001b[49m\n",
      "\u001b[1;31mTypeError\u001b[0m: 'NoneType' object is not callable"
     ]
    }
   ],
   "source": [
    "def gera_traco(vars,init,trans, error, k, n, a, b):\n",
    "    with Solver(name='z3') as s:\n",
    "    \n",
    "        X = [genState(vars, 'X', i, n) for i in range(k+1)]\n",
    "        I = init(X[0], a, b)\n",
    "        Tks = [trans(X[i], X[i+1], n) for i in range(k)]\n",
    "     \n",
    "        if s.solve([I,And(Tks)]):\n",
    "            for i in range(k):\n",
    "                print(\"Estado:\",i)\n",
    "                for v in X[i]:\n",
    "                    for k in range(1,5):\n",
    "                        print(\"          \",v,'=',s.get_value(X[i][v][k]))\n",
    "                print(\"----------------\")\n",
    "        else:\n",
    "            print(check)\n",
    "                \n",
    "gera_traco(['pc', 'x', 'y', 'z'],init,trans, error, 20, 9, 150, 2)"
   ]
  },
  {
   "cell_type": "markdown",
   "id": "e7ae2680",
   "metadata": {},
   "source": [
    "### Função invert\n",
    "    - Função invert que recebe a função python que codifica a relação de transição e devolve a relação de transição inversa."
   ]
  },
  {
   "cell_type": "code",
   "execution_count": null,
   "id": "5bc47035",
   "metadata": {},
   "outputs": [],
   "source": [
    "def invert(trans, n_bits):\n",
    "    return (lambda c, p: trans(p,c, n_bits))"
   ]
  },
  {
   "cell_type": "markdown",
   "id": "8ab0d871",
   "metadata": {},
   "source": [
    "### O algoritmo de \"model-checking\"\n",
    "\n",
    "O algoritmo de “model-checking” manipula as fórmulas $\\;\\mathsf{R}_n\\;\\equiv\\; \\mathsf{I}\\,\\land\\,\\mathsf{T}^n\\;$ e $\\;\\mathsf{U}_m\\equiv\\; \\mathsf{E}\\,\\land\\,\\mathsf{B}^m\\;$ fazendo crescer os índices $\\;n,m\\;$. Neste exemplo, os índices $\\;n,m\\;$ crescem de acordo com o `input` do utilizador."
   ]
  },
  {
   "cell_type": "markdown",
   "id": "ea3371e8",
   "metadata": {},
   "source": [
    "Para auxiliar na implementação deste algoritmo, começamos por definir duas funções.\n",
    "A função `rename` renomeia uma fórmula (sobre um estado) de acordo com um dado estado. \n",
    "A função `same` testa se dois estados são iguais."
   ]
  },
  {
   "cell_type": "code",
   "execution_count": null,
   "id": "a824cedb",
   "metadata": {},
   "outputs": [],
   "source": [
    "def baseName(s):\n",
    "    return ''.join(list(itertools.takewhile(lambda x: x!='!', s)))\n",
    "\n",
    "def rename(form,state):\n",
    "    vs = get_free_variables(form)\n",
    "    pairs = [ (x,state[baseName(x.symbol_name())]) for x in vs ]\n",
    "    return form.substitute(dict(pairs))\n",
    "\n",
    "def same(state1,state2):\n",
    "    return And([state1[x] == state2[x] for x in state1])"
   ]
  },
  {
   "cell_type": "markdown",
   "id": "6bc3856e",
   "metadata": {},
   "source": [
    "### O algoritmo de \"model-checking\"\n"
   ]
  },
  {
   "cell_type": "code",
   "execution_count": null,
   "id": "909ac9e1",
   "metadata": {},
   "outputs": [],
   "source": [
    "# Falta ver o porquê do pysmt bater mal\n",
    "\n",
    "def model_checking(vars,init,trans,error,N, M, n_bits, a, b):\n",
    "    s = Solver()\n",
    "\n",
    "    # Criar todos os estados que poderão vir a ser necessários.\n",
    "    X = [genState(vars, 'X', i, n_bits) for i in range(N+1)]\n",
    "    Y = [genState(vars, 'Y', i, n_bits) for i in range(M+1)]\n",
    "        \n",
    "    \n",
    "    (n,m) = (1,1)\n",
    "    command = 0\n",
    "    while command != 3:\n",
    "        Tn = And([trans(X[i], X[i+1], n_bits) for i in range(n)])\n",
    "        I = init(X[0], a, b) \n",
    "        Rn = And(I, Tn)\n",
    "            \n",
    "        Bm = And([invert(trans, n_bits)(Y[i], Y[i+1]) for i in range(m)])\n",
    "        E = error(Y[0])\n",
    "        Um = And(E, Bm)\n",
    "            \n",
    "        Vnm = And(Rn, same(X[n], Y[m]), Um)\n",
    "        s.add([Vnm])\n",
    "        check = s.check()\n",
    "        if check == sat:\n",
    "            print(\"Unsafe\")\n",
    "            return\n",
    "        else:                        # Vnm é instatisfazível\n",
    "            C = binary_interpolant(And(Rn, same(X[n], Y[m])), Um)\n",
    "            #C =1\n",
    "            if C is None:\n",
    "                print(\"Interpolant None\")\n",
    "                break\n",
    "            C0 = rename(C, X[0])\n",
    "            C1 = rename(C, X[1])\n",
    "            T = trans(X[0], X[1], n_bits)\n",
    "            if not s.solve([C0, T, Not(C1)]):   # C é invariante de T\n",
    "                print(\"Safe\")\n",
    "                return\n",
    "            else:\n",
    "                ### tenta gerar o majorante S\n",
    "                S = rename(C, X[n])\n",
    "                while True:\n",
    "                    A = And(S, trans(X[n], Y[m]))\n",
    "                    if s.solve([A,Um]):\n",
    "                        print(\"Não é possível encontrar um majorante\")\n",
    "                        break\n",
    "                    else:\n",
    "                        Cnew = binary_interpolant(A, Um)\n",
    "                        Cn = rename(Cnew, X[n])\n",
    "                        if s.solve([Cn, Not(S)]):   # Se Cn -> S não é tautologia\n",
    "                            S = Or(S, Cn)\n",
    "                        else:             # S foi encontrado\n",
    "                            print(\"Safe\")\n",
    "                            return\n",
    "        command = int(input(\"1- Aumentar n\\n2- Aumentar m\\n3- Sair\"))    \n",
    "                            \n",
    "        print(\"unknown\")                   \n",
    "\n",
    "\n",
    "                        \n",
    "\n",
    "model_checking(['pc', 'x', 'y', 'z'], init, trans, error, 50, 50, 9, 150, 2)            "
   ]
  },
  {
   "cell_type": "code",
   "execution_count": null,
   "id": "88a3c676",
   "metadata": {},
   "outputs": [],
   "source": [
    "(n,m) = (1,1)\n",
    "n = n+1\n",
    "print(n)"
   ]
  },
  {
   "cell_type": "code",
   "execution_count": null,
   "id": "23671bdc",
   "metadata": {},
   "outputs": [],
   "source": []
  }
 ],
 "metadata": {
  "kernelspec": {
   "display_name": "Python 3 (ipykernel)",
   "language": "python",
   "name": "python3"
  },
  "language_info": {
   "codemirror_mode": {
    "name": "ipython",
    "version": 3
   },
   "file_extension": ".py",
   "mimetype": "text/x-python",
   "name": "python",
   "nbconvert_exporter": "python",
   "pygments_lexer": "ipython3",
   "version": "3.10.4"
  }
 },
 "nbformat": 4,
 "nbformat_minor": 5
}
