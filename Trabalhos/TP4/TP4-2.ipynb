{
 "cells": [
  {
   "cell_type": "markdown",
   "id": "37c4eabf",
   "metadata": {},
   "source": [
    "\n",
    "### Exercício 4.2\n",
    "\n",
    "O programa `Python` seguinte implementa o algoritmo de bubble sort para ordenação in situ de um array de inteiros `seq`."
   ]
  },
  {
   "cell_type": "code",
   "execution_count": null,
   "id": "0af247ca",
   "metadata": {},
   "outputs": [],
   "source": [
    "seq = [-2,1,2,-1,4,-4,-3,3]\n",
    "changed = True\n",
    "# pre\n",
    "assert changed = True and len(seq) >= 0\n",
    "while changed:\n",
    "    changed = False\n",
    "    for i in range(len(seq) - 1):\n",
    "        if seq[i] > seq[i+1]:\n",
    "            seq[i], seq[i+1] = seq[i+1], seq[i]\n",
    "            changed = True\n",
    "# pos\n",
    "assert forall i . 0 <= i < n -> seq[i] <= seq[i+1] and assert changed = False\n",
    "\n",
    "pass            "
   ]
  },
  {
   "cell_type": "markdown",
   "id": "d8a7b27e",
   "metadata": {},
   "source": [
    "\n",
    "1. Defina a pré-condição e a pós-condição que descrevem a especificação deste algoritmo.\n",
    "2. O ciclo `for` pode ser descrito por uma transição $\\,\\mathtt{seq}\\gets \\mathit{exp}(\\mathtt{seq})\\,$. Construa uma relação de transição $\\;\\mathsf{trans}(\\mathtt{seq},\\mathtt{seq}')\\,$ que modele esta atribuição.\n",
    "3. Usando a técnica que lhe parecer mais conveniente verifique a correção do algoritmo.\n"
   ]
  },
  {
   "cell_type": "markdown",
   "id": "bca6b087",
   "metadata": {},
   "source": [
    "### 1. Pré e Pós Condição\n",
    "\n",
    "\n",
    "* Pré-Condição: $$ changed = True \\land N >= 0 \\land N < len(array) -1$$\n",
    "* Pós-Condição: $$ changed = False \\land \\forall_{i<N-1}\\,\\centerdot\\, seq[i] \\gt seq[i+1]$$"
   ]
  },
  {
   "cell_type": "markdown",
   "id": "79529d6b",
   "metadata": {},
   "source": [
    "### 2. Definição do ciclo for como uma transição\n",
    "O ciclo for pode ser representado por uma relação de transição. O esquema seguinte representa o sistema de transição:"
   ]
  },
  {
   "attachments": {
    "transition_model_bubble_sort.jpg": {
     "image/jpeg": "[encoded data removed]"
    }
   },
   "cell_type": "markdown",
   "id": "9da8a69d",
   "metadata": {},
   "source": [
    "![transition_model_bubble_sort.jpg](attachment:transition_model_bubble_sort.jpg)"
   ]
  },
  {
   "cell_type": "markdown",
   "id": "f0a92658",
   "metadata": {},
   "source": [
    "### 3. Correção do programa\n",
    "Para a correção do programa utilizamos a técnica SAU (Single Assignment Unfold)."
   ]
  },
  {
   "cell_type": "markdown",
   "id": "2c22f71e",
   "metadata": {},
   "source": [
    "### Classe SAU"
   ]
  },
  {
   "cell_type": "code",
   "execution_count": 1,
   "id": "8f2aa447",
   "metadata": {},
   "outputs": [],
   "source": [
    "from pysmt.shortcuts import *\n",
    "from pysmt.typing import *\n",
    "\n",
    "# Auxiliares\n",
    "def prime(v):\n",
    "    return Symbol(\"next(%s)\" % v.symbol_name(), v.symbol_type())\n",
    "def fresh(v):\n",
    "    return FreshSymbol(typename=v.symbol_type(),template=v.symbol_name()+\"_%d\")\n",
    "\n",
    "# A classe \"Sigle Assignment Unfold\"\n",
    "class SAU(object):\n",
    "    \"\"\"Trivial representation of a while cycle and its unfolding.\"\"\"\n",
    "    def __init__(self, variables, pre , pos, control, trans, sname=\"z3\"):\n",
    "              \n",
    "        self.variables = variables       # variables   \n",
    "        self.pre = pre                   # pre-condition as a predicate in \"variables\"\n",
    "        self.pos = pos                   # pos-condition as a predicate in \"variables\"\n",
    "        self.control = control           # cycle control as a predicate in \"variables\"\n",
    "        self.trans = trans               # cycle body as a binary transition relation \n",
    "                                         # in \"variables\" and \"prime variables\"\n",
    "        \n",
    "        self.prime_variables = [prime(v) for v in self.variables]\n",
    "        self.frames = [And([Not(control),pos])]  \n",
    "                 # inializa com uma só frame: a da terminação do ciclo\n",
    "        \n",
    "        self.solver = Solver(name=sname)\n",
    "\n",
    "    def new_frame(self):        \n",
    "        freshs = [fresh(v) for v in self.variables]    \n",
    "        b = self.control\n",
    "        S = self.trans.substitute(dict(zip(self.prime_variables,freshs)))\n",
    "        W = self.frames[-1].substitute(dict(zip(self.variables,freshs)))\n",
    "        \n",
    "        self.frames.append(And([b , ForAll(freshs, Implies(S, W))]))\n",
    "        \n",
    "    def unfold(self,bound=0):\n",
    "        n = 0\n",
    "        while True:\n",
    "            if n > bound:\n",
    "                print(\"falha: número de tentativas ultrapassa o limite %d \"%bound)\n",
    "                break\n",
    "            \n",
    "            f = Or(self.frames)\n",
    "            if self.solver.solve([self.pre,Not(f)]):  \n",
    "                self.new_frame()\n",
    "                n += 1\n",
    "            else:\n",
    "                print(\"sucesso na tentativa %d \"%n)\n",
    "                break   \n",
    "    \n",
    "    "
   ]
  },
  {
   "cell_type": "code",
   "execution_count": 2,
   "id": "96bd6902",
   "metadata": {
    "scrolled": false
   },
   "outputs": [
    {
     "name": "stdout",
     "output_type": "stream",
     "text": [
      "sucesso na tentativa 1 \n"
     ]
    }
   ],
   "source": [
    "# constantes auxiliares\n",
    "array = [-2,1,2,-1,4,-4,-3,3]\n",
    "\n",
    "seq = Symbol(\"seq\", ArrayType(INT, INT))\n",
    "\n",
    "for j in range(len(array)):\n",
    "    Store(seq, Int(j), Int(array[j]))\n",
    "\n",
    "changed_pre = Bool(True)\n",
    "changed_pos = Bool(False)\n",
    "\n",
    "# O ciclo\n",
    "i = Symbol(\"i\", INT)\n",
    "temp = Symbol(\"temp\", INT)\n",
    "N = Symbol(\"N\", INT)\n",
    "changed = Symbol(\"changed\")\n",
    "variables = [i, changed, N, temp, seq]\n",
    "\n",
    "pre  =  And(                                                         # pré-condição    \n",
    "    Iff(changed,changed_pre),                                        # changed = True\n",
    "    GE(N, Int(0)),                                                   # N >= 0\n",
    "    LT(N, Minus(Int(len(array)), Int(1)) )                           # N < tamanho do array -1\n",
    ")     \n",
    "\n",
    "pos  =  And(\n",
    "    GE(i, Int(0)), LT(i, Minus(N, Int(1))),                         # i >= 0, i < N -1\n",
    "    ForAll([i], LE(Select(seq, i), Select(seq, Plus(i, Int(1)) ))), # forall i, seq[i] <= seq[i+1]\n",
    "    Iff(changed, changed_pos)                                       # changed = False\n",
    ")       \n",
    "\n",
    "cond =  Iff(changed, changed_pre)                                   # condição de controlo do ciclo\n",
    "\n",
    "trans_for = And(\n",
    "    ForAll(\n",
    "        [i],\n",
    "        And(\n",
    "            LT(i, Minus(N, Int(1))),  # i < n -1\n",
    "            GE(i, Int(0)),\n",
    "            Implies(\n",
    "                GT( Select(seq, i), Select(seq, Plus(i, Int(1))) ),   # if (seq[i] > seq[i+1])\n",
    "                And(  # swap\n",
    "                    Equals(temp, Select(seq, i)),\n",
    "                    Equals(Select(seq,i), Select(seq, Plus(i, Int(1)))),\n",
    "                    Equals(Select(seq, Plus(i, Int(1))), temp),\n",
    "                    Iff(changed, changed_pre)\n",
    "                )\n",
    "            )\n",
    "        )\n",
    "    )\n",
    ")\n",
    "\n",
    "trans_while = And(                           # corpo do ciclo como uma relaçao de transição\n",
    "    Iff(changed, changed_pos),\n",
    "    trans_for\n",
    ")\n",
    "\n",
    "W = SAU(variables, pre, pos, cond, trans_while)\n",
    "#Run\n",
    "W.unfold(len(array))"
   ]
  }
 ],
 "metadata": {
  "kernelspec": {
   "display_name": "Python 3 (ipykernel)",
   "language": "python",
   "name": "python3"
  },
  "language_info": {
   "codemirror_mode": {
    "name": "ipython",
    "version": 3
   },
   "file_extension": ".py",
   "mimetype": "text/x-python",
   "name": "python",
   "nbconvert_exporter": "python",
   "pygments_lexer": "ipython3",
   "version": "3.10.4"
  }
 },
 "nbformat": 4,
 "nbformat_minor": 5
}
