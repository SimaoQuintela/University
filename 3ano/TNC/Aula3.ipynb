{
 "cells": [
  {
   "cell_type": "code",
   "execution_count": 1,
   "id": "d9d0109e",
   "metadata": {},
   "outputs": [],
   "source": [
    "# rho-Pollard"
   ]
  },
  {
   "cell_type": "code",
   "execution_count": 1,
   "id": "a17934da",
   "metadata": {},
   "outputs": [
    {
     "data": {
      "text/plain": [
       "5"
      ]
     },
     "execution_count": 1,
     "metadata": {},
     "output_type": "execute_result"
    }
   ],
   "source": [
    "f = lambda x: x^2 +1\n",
    "f(2)"
   ]
  },
  {
   "cell_type": "code",
   "execution_count": 2,
   "id": "b8403c2d",
   "metadata": {},
   "outputs": [],
   "source": [
    "n = 36287"
   ]
  },
  {
   "cell_type": "code",
   "execution_count": 3,
   "id": "5bb7f564",
   "metadata": {},
   "outputs": [
    {
     "data": {
      "text/plain": [
       "False"
      ]
     },
     "execution_count": 3,
     "metadata": {},
     "output_type": "execute_result"
    }
   ],
   "source": [
    "is_prime(n)"
   ]
  },
  {
   "cell_type": "code",
   "execution_count": 23,
   "id": "7a23449d",
   "metadata": {},
   "outputs": [],
   "source": [
    "Zn = IntegerModRing(n)\n",
    "x0 = Zn(2)"
   ]
  },
  {
   "cell_type": "code",
   "execution_count": 24,
   "id": "f9b9256a",
   "metadata": {},
   "outputs": [
    {
     "data": {
      "text/plain": [
       "1"
      ]
     },
     "execution_count": 24,
     "metadata": {},
     "output_type": "execute_result"
    }
   ],
   "source": [
    "a = f(x0)\n",
    "b = f(a)\n",
    "gcd(b-a, n)"
   ]
  },
  {
   "cell_type": "code",
   "execution_count": 25,
   "id": "e2665a09",
   "metadata": {},
   "outputs": [
    {
     "data": {
      "text/plain": [
       "1"
      ]
     },
     "execution_count": 25,
     "metadata": {},
     "output_type": "execute_result"
    }
   ],
   "source": [
    "a = f(a)\n",
    "b = f(f(b))\n",
    "\n",
    "gcd(b-a, n)"
   ]
  },
  {
   "cell_type": "code",
   "execution_count": 26,
   "id": "9f4006e5",
   "metadata": {},
   "outputs": [
    {
     "data": {
      "text/plain": [
       "[(0, 0),\n",
       " (0, 1),\n",
       " (0, 2),\n",
       " (0, 3),\n",
       " (0, 4),\n",
       " (0, 5),\n",
       " (0, 6),\n",
       " (0, 7),\n",
       " (0, 8),\n",
       " (0, 9),\n",
       " (0, 10),\n",
       " (0, 11),\n",
       " (0, 12),\n",
       " (0, 13),\n",
       " (0, 14),\n",
       " (0, 15),\n",
       " (0, 16),\n",
       " (0, 17),\n",
       " (0, 18),\n",
       " (0, 19),\n",
       " (0, 20),\n",
       " (0, 21),\n",
       " (0, 22),\n",
       " (0, 23),\n",
       " (0, 24),\n",
       " (0, 25),\n",
       " (0, 26),\n",
       " (0, 27),\n",
       " (0, 28),\n",
       " (0, 29)]"
      ]
     },
     "execution_count": 26,
     "metadata": {},
     "output_type": "execute_result"
    }
   ],
   "source": [
    "c = mod(ZZ(f(x0)), gcd(b-a, n))\n",
    "L = [(c,0)]\n",
    "for i in range(1, 30):\n",
    "    c = mod(ZZ(f(ZZ(c))), gcd(b-a, n))\n",
    "    L.append( (c, i) )\n",
    "L"
   ]
  },
  {
   "cell_type": "code",
   "execution_count": 27,
   "id": "2eac5484",
   "metadata": {},
   "outputs": [],
   "source": [
    "def Pollard(n, f = lambda x : x^2+1, x0=2):\n",
    "    Zn = IntegerModRing(n)\n",
    "    x0 = Zn(x0)\n",
    "    a = f(x0)\n",
    "    b = f(a)\n",
    "    mdc = gcd(b-a, n)\n",
    "    while mdc == 1:\n",
    "        a = f(a)\n",
    "        b = f(f(b))\n",
    "        mdc = gcd(b-a, n)\n",
    "    return ZZ(mdc)"
   ]
  },
  {
   "cell_type": "code",
   "execution_count": 32,
   "id": "29ec83ab",
   "metadata": {},
   "outputs": [
    {
     "data": {
      "text/plain": [
       "131"
      ]
     },
     "execution_count": 32,
     "metadata": {},
     "output_type": "execute_result"
    }
   ],
   "source": [
    "Pollard(n)"
   ]
  },
  {
   "cell_type": "code",
   "execution_count": 31,
   "id": "59e490ae",
   "metadata": {},
   "outputs": [
    {
     "data": {
      "text/plain": [
       "277"
      ]
     },
     "execution_count": 31,
     "metadata": {},
     "output_type": "execute_result"
    }
   ],
   "source": [
    "fact = Pollard(n, lambda x: x^3+1, 3)\n",
    "fact"
   ]
  },
  {
   "cell_type": "code",
   "execution_count": 11,
   "id": "834d9c01",
   "metadata": {},
   "outputs": [
    {
     "data": {
      "text/plain": [
       "<class 'sage.rings.integer.Integer'>"
      ]
     },
     "execution_count": 11,
     "metadata": {},
     "output_type": "execute_result"
    }
   ],
   "source": [
    "type(fact)"
   ]
  },
  {
   "cell_type": "code",
   "execution_count": 12,
   "id": "7c74983b",
   "metadata": {},
   "outputs": [
    {
     "data": {
      "text/plain": [
       "131"
      ]
     },
     "execution_count": 12,
     "metadata": {},
     "output_type": "execute_result"
    }
   ],
   "source": [
    "n/Pollard(n, lambda x: x^3+1, 3)"
   ]
  },
  {
   "cell_type": "markdown",
   "id": "2bd324f0",
   "metadata": {},
   "source": [
    "### Exemplo e implementação do ($\\rho -1$)-Pollard"
   ]
  },
  {
   "cell_type": "code",
   "execution_count": 59,
   "id": "cffa3f5d",
   "metadata": {},
   "outputs": [],
   "source": [
    "n = 36287"
   ]
  },
  {
   "cell_type": "code",
   "execution_count": 60,
   "id": "20e23fb7",
   "metadata": {},
   "outputs": [],
   "source": [
    "def p_menos_um_pollard(n):\n",
    "    Zn = IntegerModRing(n)\n",
    "    r = Zn(2)\n",
    "    k = 2\n",
    "    while gcd(r-1, n) == 1:\n",
    "        r = r^k\n",
    "        k = k+1\n",
    "    return ZZ(gcd(r-1, n))"
   ]
  },
  {
   "cell_type": "code",
   "execution_count": 61,
   "id": "2030823c",
   "metadata": {},
   "outputs": [
    {
     "data": {
      "text/plain": [
       "131"
      ]
     },
     "execution_count": 61,
     "metadata": {},
     "output_type": "execute_result"
    }
   ],
   "source": [
    "p_menos_um_pollard(n)"
   ]
  },
  {
   "cell_type": "code",
   "execution_count": null,
   "id": "7428eab6",
   "metadata": {},
   "outputs": [],
   "source": []
  }
 ],
 "metadata": {
  "kernelspec": {
   "display_name": "SageMath 9.8",
   "language": "sage",
   "name": "sagemath"
  },
  "language_info": {
   "codemirror_mode": {
    "name": "ipython",
    "version": 3
   },
   "file_extension": ".py",
   "mimetype": "text/x-python",
   "name": "python",
   "nbconvert_exporter": "python",
   "pygments_lexer": "ipython3",
   "version": "3.10.9"
  }
 },
 "nbformat": 4,
 "nbformat_minor": 5
}
