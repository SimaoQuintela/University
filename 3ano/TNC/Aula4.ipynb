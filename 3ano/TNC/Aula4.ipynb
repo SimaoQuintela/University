{
 "cells": [
  {
   "cell_type": "code",
   "execution_count": 1,
   "id": "f6ff0bf7",
   "metadata": {},
   "outputs": [],
   "source": [
    "n = 97"
   ]
  },
  {
   "cell_type": "code",
   "execution_count": 2,
   "id": "6a9aa500",
   "metadata": {},
   "outputs": [],
   "source": [
    "def decomp(n):\n",
    "    s = 0\n",
    "    t = n-1\n",
    "    while t % 2 == 0:\n",
    "        t = t // 2\n",
    "        s+=1\n",
    "    return s, t"
   ]
  },
  {
   "cell_type": "code",
   "execution_count": 3,
   "id": "a89299f3",
   "metadata": {},
   "outputs": [
    {
     "data": {
      "text/plain": [
       "(5, 3)"
      ]
     },
     "execution_count": 3,
     "metadata": {},
     "output_type": "execute_result"
    }
   ],
   "source": [
    "s, t = decomp(n)\n",
    "s,t"
   ]
  },
  {
   "cell_type": "code",
   "execution_count": 4,
   "id": "f5504299",
   "metadata": {},
   "outputs": [],
   "source": [
    "def Miller():\n",
    "    Zn = IntegerModRing(n)\n",
    "    b = Zn(b)\n",
    "    s, t = decomp(n)\n",
    "    if b^t == 1:\n",
    "        return True\n",
    "    j = 0\n",
    "    while b^(2^j *t) != Zn(-1) and j<= s-1:\n",
    "        j = j+1\n",
    "    return b^(2^j *t) == Zn(-1)"
   ]
  },
  {
   "cell_type": "code",
   "execution_count": null,
   "id": "851e4057",
   "metadata": {},
   "outputs": [],
   "source": []
  }
 ],
 "metadata": {
  "kernelspec": {
   "display_name": "SageMath 9.8",
   "language": "sage",
   "name": "sagemath"
  },
  "language_info": {
   "codemirror_mode": {
    "name": "ipython",
    "version": 3
   },
   "file_extension": ".py",
   "mimetype": "text/x-python",
   "name": "python",
   "nbconvert_exporter": "python",
   "pygments_lexer": "ipython3",
   "version": "3.10.9"
  }
 },
 "nbformat": 4,
 "nbformat_minor": 5
}
