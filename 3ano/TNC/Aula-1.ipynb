{
 "cells": [
  {
   "cell_type": "code",
   "execution_count": 1,
   "id": "fd60b79f",
   "metadata": {},
   "outputs": [],
   "source": [
    "p = 19"
   ]
  },
  {
   "cell_type": "code",
   "execution_count": 5,
   "id": "f4dafac9",
   "metadata": {},
   "outputs": [
    {
     "data": {
      "text/plain": [
       "True"
      ]
     },
     "execution_count": 5,
     "metadata": {},
     "output_type": "execute_result"
    }
   ],
   "source": [
    "is_prime(p)"
   ]
  },
  {
   "cell_type": "code",
   "execution_count": 6,
   "id": "25f6355c",
   "metadata": {},
   "outputs": [],
   "source": [
    "q = random_prime(2^50, lbound=2^49)"
   ]
  },
  {
   "cell_type": "code",
   "execution_count": 7,
   "id": "e341a15d",
   "metadata": {},
   "outputs": [
    {
     "data": {
      "text/plain": [
       "741415106775653"
      ]
     },
     "execution_count": 7,
     "metadata": {},
     "output_type": "execute_result"
    }
   ],
   "source": [
    "q"
   ]
  },
  {
   "cell_type": "markdown",
   "id": "25528825",
   "metadata": {},
   "source": [
    "#### IntegerModRing(p) -> Cria um anel módulo p"
   ]
  },
  {
   "cell_type": "code",
   "execution_count": 8,
   "id": "6a9c9b82",
   "metadata": {},
   "outputs": [],
   "source": [
    "Zp = IntegerModRing(p)"
   ]
  },
  {
   "cell_type": "code",
   "execution_count": 9,
   "id": "1ffc8aec",
   "metadata": {},
   "outputs": [
    {
     "data": {
      "text/plain": [
       "Ring of integers modulo 19"
      ]
     },
     "execution_count": 9,
     "metadata": {},
     "output_type": "execute_result"
    }
   ],
   "source": [
    "Zp"
   ]
  },
  {
   "cell_type": "code",
   "execution_count": 10,
   "id": "4eaf6e73",
   "metadata": {},
   "outputs": [
    {
     "data": {
      "text/plain": [
       "True"
      ]
     },
     "execution_count": 10,
     "metadata": {},
     "output_type": "execute_result"
    }
   ],
   "source": [
    "Zp.is_field()"
   ]
  },
  {
   "cell_type": "code",
   "execution_count": 13,
   "id": "a0b51c62",
   "metadata": {},
   "outputs": [
    {
     "data": {
      "text/plain": [
       "13"
      ]
     },
     "execution_count": 13,
     "metadata": {},
     "output_type": "execute_result"
    }
   ],
   "source": [
    "# Isto dá o inverso de 3 em Zp mod 13\n",
    "1/Zp(3)"
   ]
  },
  {
   "cell_type": "code",
   "execution_count": 14,
   "id": "be2a411d",
   "metadata": {},
   "outputs": [
    {
     "data": {
      "text/plain": [
       "<class 'sage.rings.finite_rings.integer_mod.IntegerMod_int'>"
      ]
     },
     "execution_count": 14,
     "metadata": {},
     "output_type": "execute_result"
    }
   ],
   "source": [
    "a = Zp(3)\n",
    "type(a)"
   ]
  },
  {
   "cell_type": "code",
   "execution_count": 15,
   "id": "62154205",
   "metadata": {},
   "outputs": [
    {
     "data": {
      "text/plain": [
       "1"
      ]
     },
     "execution_count": 15,
     "metadata": {},
     "output_type": "execute_result"
    }
   ],
   "source": [
    "a*13"
   ]
  },
  {
   "cell_type": "code",
   "execution_count": 16,
   "id": "aa9744be",
   "metadata": {},
   "outputs": [
    {
     "data": {
      "text/plain": [
       "1"
      ]
     },
     "execution_count": 16,
     "metadata": {},
     "output_type": "execute_result"
    }
   ],
   "source": [
    "a^18"
   ]
  },
  {
   "cell_type": "code",
   "execution_count": 17,
   "id": "6454c7cc",
   "metadata": {},
   "outputs": [
    {
     "data": {
      "text/plain": [
       "179769313486231590772930519078902473361797697894230657273430081157732675805500963132708477322407536021120113879871393357658789768814416622492847430639475495326128730055418916720358286149012628884608238524307878002995771232714537901652291102187814803038831816442085866438647042272997237841612379170235096238567"
      ]
     },
     "execution_count": 17,
     "metadata": {},
     "output_type": "execute_result"
    }
   ],
   "source": [
    "p1 = next_prime(2^510)\n",
    "q1 = next_prime(2^514)\n",
    "n = p1*q1\n",
    "n"
   ]
  },
  {
   "cell_type": "code",
   "execution_count": 18,
   "id": "c20ffa4e",
   "metadata": {},
   "outputs": [],
   "source": [
    "Zn = IntegerModRing(n)\n",
    "a = Zn(2)"
   ]
  },
  {
   "cell_type": "code",
   "execution_count": 19,
   "id": "0656e771",
   "metadata": {},
   "outputs": [
    {
     "ename": "OverflowError",
     "evalue": "exponent must be at most 9223372036854775807",
     "output_type": "error",
     "traceback": [
      "\u001b[0;31m---------------------------------------------------------------------------\u001b[0m",
      "\u001b[0;31mOverflowError\u001b[0m                             Traceback (most recent call last)",
      "Cell \u001b[0;32mIn[19], line 1\u001b[0m\n\u001b[0;32m----> 1\u001b[0m (\u001b[43mInteger\u001b[49m\u001b[43m(\u001b[49m\u001b[38;5;241;43m2\u001b[39;49m\u001b[43m)\u001b[49m\u001b[38;5;241;43m*\u001b[39;49m\u001b[38;5;241;43m*\u001b[39;49m\u001b[43m(\u001b[49m\u001b[43mn\u001b[49m\u001b[38;5;241;43m-\u001b[39;49m\u001b[43mInteger\u001b[49m\u001b[43m(\u001b[49m\u001b[38;5;241;43m1\u001b[39;49m\u001b[43m)\u001b[49m\u001b[43m)\u001b[49m \u001b[38;5;241m%\u001b[39m n) \u001b[38;5;241m==\u001b[39m Integer(\u001b[38;5;241m0\u001b[39m)\n",
      "File \u001b[0;32m/usr/lib/python3.10/site-packages/sage/rings/integer.pyx:2191\u001b[0m, in \u001b[0;36msage.rings.integer.Integer.__pow__ (build/cythonized/sage/rings/integer.c:14818)\u001b[0;34m()\u001b[0m\n\u001b[1;32m   2189\u001b[0m \n\u001b[1;32m   2190\u001b[0m         if type(left) is type(right):\n\u001b[0;32m-> 2191\u001b[0m             return (<Integer>left)._pow_(right)\n\u001b[1;32m   2192\u001b[0m         elif isinstance(left, Element):\n\u001b[1;32m   2193\u001b[0m             return coercion_model.bin_op(left, right, operator.pow)\n",
      "File \u001b[0;32m/usr/lib/python3.10/site-packages/sage/rings/integer.pyx:2271\u001b[0m, in \u001b[0;36msage.rings.integer.Integer._pow_ (build/cythonized/sage/rings/integer.c:15172)\u001b[0;34m()\u001b[0m\n\u001b[1;32m   2269\u001b[0m         r = smallInteger(1)\n\u001b[1;32m   2270\u001b[0m else:\n\u001b[0;32m-> 2271\u001b[0m     raise OverflowError(f\"exponent must be at most {LONG_MAX}\")\n\u001b[1;32m   2272\u001b[0m if mpz_sgn(exp) >= 0:\n\u001b[1;32m   2273\u001b[0m     return r\n",
      "\u001b[0;31mOverflowError\u001b[0m: exponent must be at most 9223372036854775807"
     ]
    }
   ],
   "source": [
    "(2^(n-1) % n) == 1"
   ]
  },
  {
   "cell_type": "code",
   "execution_count": 22,
   "id": "0631dc95",
   "metadata": {},
   "outputs": [
    {
     "data": {
      "text/plain": [
       "63884057677033857867129544075875018006483517008622425472253122718934559430182746915294370989565635571652566824190050479926920752047445925775365661502396816621517951585145696125556953606220054036677972624896793562084470026482729309675357613805966899678452377693486747624239681891551643130096163480439122028578"
      ]
     },
     "execution_count": 22,
     "metadata": {},
     "output_type": "execute_result"
    }
   ],
   "source": [
    "power_mod(2, n-1, n)"
   ]
  },
  {
   "cell_type": "code",
   "execution_count": 31,
   "id": "5c202e3a",
   "metadata": {},
   "outputs": [
    {
     "data": {
      "text/plain": [
       "True"
      ]
     },
     "execution_count": 31,
     "metadata": {},
     "output_type": "execute_result"
    }
   ],
   "source": [
    "a^(n-1) != 1"
   ]
  },
  {
   "cell_type": "code",
   "execution_count": 28,
   "id": "f50b88a6",
   "metadata": {},
   "outputs": [
    {
     "data": {
      "text/plain": [
       "False"
      ]
     },
     "execution_count": 28,
     "metadata": {},
     "output_type": "execute_result"
    }
   ],
   "source": [
    "def teste_Fermat(n, base = 2):\n",
    "    if gcd(base, n) != 1:\n",
    "        return False\n",
    "    \n",
    "    return power_mod(base, n-1, n) == 1\n",
    "# o power_mod faz base^(n-1) % n\n",
    "\n",
    "teste_Fermat(n)"
   ]
  },
  {
   "cell_type": "code",
   "execution_count": 34,
   "id": "b5edf504",
   "metadata": {},
   "outputs": [
    {
     "data": {
      "text/plain": [
       "[341, 561, 645]"
      ]
     },
     "execution_count": 34,
     "metadata": {},
     "output_type": "execute_result"
    }
   ],
   "source": [
    "[j for j in range(3, 1000, 2) if j not in Primes() and teste_Fermat(j)]"
   ]
  },
  {
   "cell_type": "markdown",
   "id": "ebaf3975",
   "metadata": {},
   "source": [
    "#### Estes 3 números abaixo são pseudoprimos"
   ]
  },
  {
   "cell_type": "code",
   "execution_count": 35,
   "id": "96c5d77f",
   "metadata": {},
   "outputs": [
    {
     "data": {
      "text/plain": [
       "11 * 31"
      ]
     },
     "execution_count": 35,
     "metadata": {},
     "output_type": "execute_result"
    }
   ],
   "source": [
    "factor(341)"
   ]
  },
  {
   "cell_type": "code",
   "execution_count": 36,
   "id": "8abf4814",
   "metadata": {},
   "outputs": [
    {
     "data": {
      "text/plain": [
       "3 * 11 * 17"
      ]
     },
     "execution_count": 36,
     "metadata": {},
     "output_type": "execute_result"
    }
   ],
   "source": [
    "factor(561)"
   ]
  },
  {
   "cell_type": "code",
   "execution_count": 37,
   "id": "7afa763d",
   "metadata": {},
   "outputs": [
    {
     "data": {
      "text/plain": [
       "3 * 5 * 43"
      ]
     },
     "execution_count": 37,
     "metadata": {},
     "output_type": "execute_result"
    }
   ],
   "source": [
    "factor(645)"
   ]
  },
  {
   "cell_type": "code",
   "execution_count": 38,
   "id": "9fb1b980",
   "metadata": {},
   "outputs": [
    {
     "data": {
      "text/plain": [
       "1"
      ]
     },
     "execution_count": 38,
     "metadata": {},
     "output_type": "execute_result"
    }
   ],
   "source": [
    "power_mod(2, 644, 645)"
   ]
  },
  {
   "cell_type": "code",
   "execution_count": 47,
   "id": "5021a3db",
   "metadata": {},
   "outputs": [],
   "source": [
    "def factorial_mod(k, n):\n",
    "    \"\"\"função que calcula k! mod n\"\"\"\n",
    "    Zn = IntegerModRing(n)\n",
    "    factorial = Zn(1)\n",
    "    \n",
    "    for j in range(1, k+1):\n",
    "        factorial = factorial * j\n",
    "    \n",
    "    return ZZ(factorial)\n",
    "\n",
    "\n",
    "def teste_Wilson(n):\n",
    "    \"\"\"Testa a primalidade de um natural usando o Teorema de Wilson\"\"\"\n",
    "    return mod(factorial_mod(n-1, n), n) == mod(-1, n)\n",
    "    \n",
    "    "
   ]
  },
  {
   "cell_type": "code",
   "execution_count": 48,
   "id": "2a104f53",
   "metadata": {},
   "outputs": [
    {
     "data": {
      "text/plain": [
       "1"
      ]
     },
     "execution_count": 48,
     "metadata": {},
     "output_type": "execute_result"
    }
   ],
   "source": [
    "factorial_mod(3, 5)"
   ]
  },
  {
   "cell_type": "code",
   "execution_count": 49,
   "id": "7968f091",
   "metadata": {},
   "outputs": [
    {
     "data": {
      "text/plain": [
       "False"
      ]
     },
     "execution_count": 49,
     "metadata": {},
     "output_type": "execute_result"
    }
   ],
   "source": [
    "mod(factorial_mod(23, 24), 24) == mod(-1, 24)"
   ]
  },
  {
   "cell_type": "code",
   "execution_count": 50,
   "id": "9ff8772a",
   "metadata": {},
   "outputs": [
    {
     "data": {
      "text/plain": [
       "True"
      ]
     },
     "execution_count": 50,
     "metadata": {},
     "output_type": "execute_result"
    }
   ],
   "source": [
    "mod(factorial_mod(30, 31), 31) == mod(-1, 31)"
   ]
  },
  {
   "cell_type": "code",
   "execution_count": 51,
   "id": "880f7d17",
   "metadata": {},
   "outputs": [
    {
     "data": {
      "text/plain": [
       "True"
      ]
     },
     "execution_count": 51,
     "metadata": {},
     "output_type": "execute_result"
    }
   ],
   "source": [
    "teste_Wilson(41)"
   ]
  },
  {
   "cell_type": "code",
   "execution_count": null,
   "id": "5fc2e7cf",
   "metadata": {},
   "outputs": [],
   "source": []
  }
 ],
 "metadata": {
  "kernelspec": {
   "display_name": "SageMath 9.7",
   "language": "sage",
   "name": "sagemath"
  },
  "language_info": {
   "codemirror_mode": {
    "name": "ipython",
    "version": 3
   },
   "file_extension": ".py",
   "mimetype": "text/x-python",
   "name": "python",
   "nbconvert_exporter": "python",
   "pygments_lexer": "ipython3",
   "version": "3.10.9"
  }
 },
 "nbformat": 4,
 "nbformat_minor": 5
}
