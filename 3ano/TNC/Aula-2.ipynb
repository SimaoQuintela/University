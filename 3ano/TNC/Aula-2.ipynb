{
 "cells": [
  {
   "cell_type": "code",
   "execution_count": 18,
   "id": "7c37e14c",
   "metadata": {},
   "outputs": [],
   "source": [
    "# folha 2, ex. 8 B\n",
    "a, b, n = 333333333, 87543211376, 967454302211"
   ]
  },
  {
   "cell_type": "code",
   "execution_count": 19,
   "id": "9a503f93",
   "metadata": {},
   "outputs": [
    {
     "data": {
      "text/plain": [
       "True"
      ]
     },
     "execution_count": 19,
     "metadata": {},
     "output_type": "execute_result"
    }
   ],
   "source": [
    "gcd(a,n).divides(b)"
   ]
  },
  {
   "cell_type": "code",
   "execution_count": 20,
   "id": "d39b391c",
   "metadata": {},
   "outputs": [
    {
     "data": {
      "text/plain": [
       "1"
      ]
     },
     "execution_count": 20,
     "metadata": {},
     "output_type": "execute_result"
    }
   ],
   "source": [
    "gcd(a,n)"
   ]
  },
  {
   "cell_type": "code",
   "execution_count": 21,
   "id": "f41cb923",
   "metadata": {},
   "outputs": [],
   "source": [
    "Zn = IntegerModRing(n)\n",
    "a, b = Zn(a), Zn(b)"
   ]
  },
  {
   "cell_type": "code",
   "execution_count": 22,
   "id": "51e6d32c",
   "metadata": {},
   "outputs": [
    {
     "data": {
      "text/plain": [
       "913523349503"
      ]
     },
     "execution_count": 22,
     "metadata": {},
     "output_type": "execute_result"
    }
   ],
   "source": [
    "sol = 1/a * b\n",
    "sol"
   ]
  },
  {
   "cell_type": "code",
   "execution_count": 23,
   "id": "fd9eebba",
   "metadata": {},
   "outputs": [
    {
     "data": {
      "text/plain": [
       "286506252506"
      ]
     },
     "execution_count": 23,
     "metadata": {},
     "output_type": "execute_result"
    }
   ],
   "source": [
    "_, x0, _ = xgcd(ZZ(a), n)\n",
    "x0"
   ]
  },
  {
   "cell_type": "code",
   "execution_count": 24,
   "id": "f67e7a08",
   "metadata": {},
   "outputs": [
    {
     "data": {
      "text/plain": [
       "913523349503"
      ]
     },
     "execution_count": 24,
     "metadata": {},
     "output_type": "execute_result"
    }
   ],
   "source": [
    "sol2 = x0*b\n",
    "sol2"
   ]
  },
  {
   "cell_type": "markdown",
   "id": "22560397",
   "metadata": {},
   "source": [
    "Aplicar o tcr ao problema $ x \\equiv 1 \\mod 5, x \\equiv 4 \\mod 6. $"
   ]
  },
  {
   "cell_type": "code",
   "execution_count": 26,
   "id": "56b91fbf",
   "metadata": {},
   "outputs": [
    {
     "data": {
      "text/plain": [
       "16"
      ]
     },
     "execution_count": 26,
     "metadata": {},
     "output_type": "execute_result"
    }
   ],
   "source": [
    "crt(1,4,5,6)"
   ]
  },
  {
   "cell_type": "code",
   "execution_count": 27,
   "id": "a62379cd",
   "metadata": {},
   "outputs": [
    {
     "data": {
      "text/plain": [
       "22"
      ]
     },
     "execution_count": 27,
     "metadata": {},
     "output_type": "execute_result"
    }
   ],
   "source": [
    "crt(2,4,10,9)"
   ]
  },
  {
   "cell_type": "code",
   "execution_count": 28,
   "id": "fcc73231",
   "metadata": {},
   "outputs": [
    {
     "data": {
      "text/plain": [
       "73"
      ]
     },
     "execution_count": 28,
     "metadata": {},
     "output_type": "execute_result"
    }
   ],
   "source": [
    "1261%99"
   ]
  },
  {
   "cell_type": "code",
   "execution_count": 29,
   "id": "6c3da3bd",
   "metadata": {},
   "outputs": [
    {
     "data": {
      "text/plain": [
       "1584"
      ]
     },
     "execution_count": 29,
     "metadata": {},
     "output_type": "execute_result"
    }
   ],
   "source": [
    "1261+323"
   ]
  },
  {
   "cell_type": "code",
   "execution_count": 30,
   "id": "b407a63f",
   "metadata": {},
   "outputs": [
    {
     "data": {
      "text/plain": [
       "1584"
      ]
     },
     "execution_count": 30,
     "metadata": {},
     "output_type": "execute_result"
    }
   ],
   "source": [
    "crt(84,0,100,99)"
   ]
  },
  {
   "cell_type": "code",
   "execution_count": 39,
   "id": "3b879d56",
   "metadata": {},
   "outputs": [
    {
     "data": {
      "text/plain": [
       "((24, 25, 27), (1, 3, 7))"
      ]
     },
     "execution_count": 39,
     "metadata": {},
     "output_type": "execute_result"
    }
   ],
   "source": [
    "#10 c\n",
    "a, b = 124, 201\n",
    "\n",
    "im_a = mod(a, 100), mod(a, 99), mod(a, 97)\n",
    "im_b = mod(b, 100), mod(b, 99), mod(b, 97)\n",
    "\n",
    "im_a, im_b"
   ]
  },
  {
   "cell_type": "code",
   "execution_count": 40,
   "id": "ba597fbc",
   "metadata": {},
   "outputs": [
    {
     "data": {
      "text/plain": [
       "(24, 75, 92)"
      ]
     },
     "execution_count": 40,
     "metadata": {},
     "output_type": "execute_result"
    }
   ],
   "source": [
    "im_prod = im_a[0]*im_b[0], im_a[1]*im_b[1], im_a[2]*im_b[2]\n",
    "im_prod"
   ]
  },
  {
   "cell_type": "code",
   "execution_count": 41,
   "id": "a49e611c",
   "metadata": {},
   "outputs": [
    {
     "data": {
      "text/plain": [
       "24924"
      ]
     },
     "execution_count": 41,
     "metadata": {},
     "output_type": "execute_result"
    }
   ],
   "source": [
    "crt(crt(ZZ(im_prod[0]), ZZ(im_prod[1]), 100, 99), ZZ(im_prod[2]), 9900, 97)"
   ]
  },
  {
   "cell_type": "code",
   "execution_count": 42,
   "id": "cad11f83",
   "metadata": {},
   "outputs": [
    {
     "data": {
      "text/plain": [
       "24924"
      ]
     },
     "execution_count": 42,
     "metadata": {},
     "output_type": "execute_result"
    }
   ],
   "source": [
    "124*201"
   ]
  },
  {
   "cell_type": "code",
   "execution_count": null,
   "id": "b0823a69",
   "metadata": {},
   "outputs": [],
   "source": []
  }
 ],
 "metadata": {
  "kernelspec": {
   "display_name": "SageMath 9.7",
   "language": "sage",
   "name": "sagemath"
  },
  "language_info": {
   "codemirror_mode": {
    "name": "ipython",
    "version": 3
   },
   "file_extension": ".py",
   "mimetype": "text/x-python",
   "name": "python",
   "nbconvert_exporter": "python",
   "pygments_lexer": "ipython3",
   "version": "3.10.9"
  }
 },
 "nbformat": 4,
 "nbformat_minor": 5
}
