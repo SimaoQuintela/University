{
 "cells": [
  {
   "cell_type": "code",
   "execution_count": 1,
   "id": "cc473685",
   "metadata": {},
   "outputs": [
    {
     "data": {
      "text/plain": [
       "(1013, 1511)"
      ]
     },
     "execution_count": 1,
     "metadata": {},
     "output_type": "execute_result"
    }
   ],
   "source": [
    "p = next_prime(1011)\n",
    "q = next_prime(1500)\n",
    "p, q"
   ]
  },
  {
   "cell_type": "code",
   "execution_count": 2,
   "id": "053fa56d",
   "metadata": {},
   "outputs": [
    {
     "data": {
      "text/plain": [
       "1530643"
      ]
     },
     "execution_count": 2,
     "metadata": {},
     "output_type": "execute_result"
    }
   ],
   "source": [
    "n = p*q\n",
    "n"
   ]
  },
  {
   "cell_type": "code",
   "execution_count": 3,
   "id": "187512cc",
   "metadata": {},
   "outputs": [
    {
     "data": {
      "text/plain": [
       "1528120"
      ]
     },
     "execution_count": 3,
     "metadata": {},
     "output_type": "execute_result"
    }
   ],
   "source": [
    "m = (p-1) * (q-1)\n",
    "m"
   ]
  },
  {
   "cell_type": "code",
   "execution_count": 4,
   "id": "dbe70861",
   "metadata": {},
   "outputs": [
    {
     "data": {
      "text/plain": [
       "1528120"
      ]
     },
     "execution_count": 4,
     "metadata": {},
     "output_type": "execute_result"
    }
   ],
   "source": [
    "euler_phi(n)"
   ]
  },
  {
   "cell_type": "code",
   "execution_count": 5,
   "id": "d3eddae2",
   "metadata": {},
   "outputs": [],
   "source": [
    "Zn = IntegerModRing(n)\n",
    "Zm = IntegerModRing(m)"
   ]
  },
  {
   "cell_type": "code",
   "execution_count": 6,
   "id": "00d37d34",
   "metadata": {},
   "outputs": [
    {
     "data": {
      "text/plain": [
       "1"
      ]
     },
     "execution_count": 6,
     "metadata": {},
     "output_type": "execute_result"
    }
   ],
   "source": [
    "e = Zm.random_element()\n",
    "gcd(e,m)"
   ]
  },
  {
   "cell_type": "code",
   "execution_count": 7,
   "id": "71a092c6",
   "metadata": {},
   "outputs": [
    {
     "data": {
      "text/plain": [
       "1026979"
      ]
     },
     "execution_count": 7,
     "metadata": {},
     "output_type": "execute_result"
    }
   ],
   "source": [
    "e"
   ]
  },
  {
   "cell_type": "code",
   "execution_count": 8,
   "id": "6d46ef63",
   "metadata": {},
   "outputs": [
    {
     "data": {
      "text/plain": [
       "(1530643, 1026979)"
      ]
     },
     "execution_count": 8,
     "metadata": {},
     "output_type": "execute_result"
    }
   ],
   "source": [
    "chave_Pub = (n,e)\n",
    "chave_Pub"
   ]
  },
  {
   "cell_type": "code",
   "execution_count": 9,
   "id": "5e79c800",
   "metadata": {},
   "outputs": [
    {
     "data": {
      "text/plain": [
       "1194739"
      ]
     },
     "execution_count": 9,
     "metadata": {},
     "output_type": "execute_result"
    }
   ],
   "source": [
    "d = 1/e\n",
    "d"
   ]
  },
  {
   "cell_type": "code",
   "execution_count": 10,
   "id": "0db483bc",
   "metadata": {},
   "outputs": [],
   "source": [
    "e = ZZ(e)\n",
    "d = ZZ(d)"
   ]
  },
  {
   "cell_type": "code",
   "execution_count": 11,
   "id": "0d2cd891",
   "metadata": {},
   "outputs": [
    {
     "data": {
      "text/plain": [
       "(1194739, (1530643, 1026979))"
      ]
     },
     "execution_count": 11,
     "metadata": {},
     "output_type": "execute_result"
    }
   ],
   "source": [
    "chave_Priv = d\n",
    "chave_Pub = (n,e)\n",
    "\n",
    "chave_Priv, chave_Pub"
   ]
  },
  {
   "cell_type": "code",
   "execution_count": 12,
   "id": "0595d66f",
   "metadata": {},
   "outputs": [],
   "source": [
    "mens = 1235\n",
    "mens = Zn(mens)"
   ]
  },
  {
   "cell_type": "code",
   "execution_count": 13,
   "id": "b4a758cc",
   "metadata": {},
   "outputs": [
    {
     "data": {
      "text/plain": [
       "770374"
      ]
     },
     "execution_count": 13,
     "metadata": {},
     "output_type": "execute_result"
    }
   ],
   "source": [
    "criptograma = mens^e\n",
    "criptograma"
   ]
  },
  {
   "cell_type": "code",
   "execution_count": 14,
   "id": "31c10dbe",
   "metadata": {},
   "outputs": [
    {
     "data": {
      "text/plain": [
       "1235"
      ]
     },
     "execution_count": 14,
     "metadata": {},
     "output_type": "execute_result"
    }
   ],
   "source": [
    "decifr = criptograma ^ d\n",
    "decifr"
   ]
  },
  {
   "cell_type": "markdown",
   "id": "5aa1d13d",
   "metadata": {},
   "source": [
    "### Com p e q maiores"
   ]
  },
  {
   "cell_type": "code",
   "execution_count": 17,
   "id": "31357ad8",
   "metadata": {},
   "outputs": [
    {
     "data": {
      "text/plain": [
       "(219950466010079319281677781979571902608005581057155949865066749656973988782163417590354459615780406786666761841370094465415279785297277710314426184586239376478418122061597964265980373975787236982885971405161250121461187239760103319056970859302703065822878215063615013930251862208856605885145370704075537197617,\n",
       " 138228139850871389669981858544359020954699553600810756210854466295846745224637251957951492531959517904614319226898676808717247518257599416023822257214508393565755481365482597254973703144786411219595270515940591677278708435134028036689575452231524267007485840205254356343317849594355374039987730740059648366423)"
      ]
     },
     "execution_count": 17,
     "metadata": {},
     "output_type": "execute_result"
    }
   ],
   "source": [
    "p = random_prime(2^1025, lbound = 2^1024)\n",
    "q = random_prime(2^1024, lbound = 2^1023)\n",
    "p,q"
   ]
  },
  {
   "cell_type": "code",
   "execution_count": 19,
   "id": "fd26cd13",
   "metadata": {},
   "outputs": [
    {
     "data": {
      "text/plain": [
       "30403343775905578219249437003190426113081778177137498989767552267035431099544382239349988330905329271552073174690836188126360782738199179078194770393511962190486992939144368208367506210163922239495347325231468976534123442119085616073466641076984909201785729887913347952587216454394344275828860969435271076305891528812226082651238513388282502238824270756723024556796050365254840022784612617168549610512445052700430412062895807596489002282927223045944947679126922172304200069263247053829980597982647696080979151169327684372949958573054410337087684165541756483863344795184394894020035629321995161541632788814025378413991"
      ]
     },
     "execution_count": 19,
     "metadata": {},
     "output_type": "execute_result"
    }
   ],
   "source": [
    "n = p*q\n",
    "n"
   ]
  },
  {
   "cell_type": "code",
   "execution_count": 21,
   "id": "83b59788",
   "metadata": {},
   "outputs": [
    {
     "data": {
      "text/plain": [
       "30403343775905578219249437003190426113081778177137498989767552267035431099544382239349988330905329271552073174690836188126360782738199179078194770393511962190486992939144368208367506210163922239495347325231468976534123442119085616073466641076984909201785729887913347952587216454394344275828860969435271076305533350206365131942286853747758571315261565622065057850720129149302019288777811947620243658364705128009149330994627036322356474979372345919606699237326174402260026465836166492309026520862074047878497909248225842574210062898160278981341137854007529151032980739915525523746465917518783181616499687369890192849952"
      ]
     },
     "execution_count": 21,
     "metadata": {},
     "output_type": "execute_result"
    }
   ],
   "source": [
    "m = (p-1)*(q-1)\n",
    "m"
   ]
  },
  {
   "cell_type": "code",
   "execution_count": 28,
   "id": "b72b7643",
   "metadata": {},
   "outputs": [
    {
     "data": {
      "text/plain": [
       "16381939141182034855495798014907001050372758524105880468693704784138829362370370766883520782917066363403135922724430715530203366317038409616560512071439324672386713741186367979824146965664000704976387269103363277930330811864184797286467207774242270394986437924375443601822479315004680656978154840940776307021001079310189613624761991712836321974658515747999567381961393601677821903559846214052010138618979123826802252159298345220977091007807483872273840939808362129231005440130265281497539840921120113957765960932834045495167499079407028020562598572068367425415833841689326785590436119692852686596223807036723038870307"
      ]
     },
     "execution_count": 28,
     "metadata": {},
     "output_type": "execute_result"
    }
   ],
   "source": [
    "e = randint(1, m)\n",
    "gcd(e,m)\n",
    "d = power_mod(e, -1, m)\n",
    "d"
   ]
  },
  {
   "cell_type": "code",
   "execution_count": 30,
   "id": "29d2f642",
   "metadata": {},
   "outputs": [
    {
     "data": {
      "text/plain": [
       "30371072270743985913559400874340978527798491409650885451111832365878832457329643400636708589977142920994082982095691381654917254271350247346320921509418469577451227334121952087113965845271952201369049975251013364708737196680190172910361680380507697757866749364672143863693423891622119060470155623977080287292570062922561096068457949298815797977482415660423398762318487801962759801040388756224505242474332788315287237760040221093267873742146578796461824912930415477275856455039315206060525536238263536491470983426904318662037621791686020218282920900350343515093037533778746862089175971836700182641934895652772876075277"
      ]
     },
     "execution_count": 30,
     "metadata": {},
     "output_type": "execute_result"
    }
   ],
   "source": [
    "mens = 1235\n",
    "cifr = power_mod(mens, e, n)\n",
    "cifr"
   ]
  },
  {
   "cell_type": "code",
   "execution_count": 31,
   "id": "c41195e1",
   "metadata": {},
   "outputs": [
    {
     "data": {
      "text/plain": [
       "1235"
      ]
     },
     "execution_count": 31,
     "metadata": {},
     "output_type": "execute_result"
    }
   ],
   "source": [
    "decifr = power_mod(cifr, d, n)\n",
    "decifr"
   ]
  },
  {
   "cell_type": "code",
   "execution_count": 38,
   "id": "db32c020",
   "metadata": {},
   "outputs": [],
   "source": [
    "def RSA_gen(nbits):\n",
    "    p = random_prime(2^(nbits//2+1), lbound=2^(nbits // 2))\n",
    "    q = random_prime(2^(nbits//2), lbound=2^(nbits//2-1))\n",
    "    n = p*q\n",
    "    m = (p-1)*(q-1)\n",
    "    e = randint(2, m-1)\n",
    "    \n",
    "    while gcd(e,m) != 1:\n",
    "        e = randint(2, m-1)\n",
    "        \n",
    "    d = power_mod(e, -1, m)\n",
    "    PubKey = (n, e)\n",
    "    PrivKey = (n, d)\n",
    "    \n",
    "    return PubKey, PrivKey\n",
    "\n",
    "def RSA_encrypt(PubKey, mens):\n",
    "    n, e = PubKey\n",
    "    return power_mod(mens, e, n)\n",
    "\n",
    "def RSA_decrypt(PrivKey, cypherText):\n",
    "    n, d = PrivKey\n",
    "    return power_mod(cypherText, d, n)"
   ]
  },
  {
   "cell_type": "code",
   "execution_count": 39,
   "id": "25021ec4",
   "metadata": {},
   "outputs": [
    {
     "data": {
      "text/plain": [
       "((117052446674733952681987824405457449912235763078170910258003892211389527446463,\n",
       "  69424593924779133881776803762321111655489395670741509420718395423605394938549),\n",
       " (117052446674733952681987824405457449912235763078170910258003892211389527446463,\n",
       "  72789636837103926924123547696946799917312314621416329331133290927417206307629))"
      ]
     },
     "execution_count": 39,
     "metadata": {},
     "output_type": "execute_result"
    }
   ],
   "source": [
    "ChPub, ChPriv = RSA_gen(256)\n",
    "ChPub, ChPriv"
   ]
  },
  {
   "cell_type": "code",
   "execution_count": 40,
   "id": "d5095a26",
   "metadata": {},
   "outputs": [],
   "source": [
    "mens = 1234\n",
    "cypherText = RSA_encrypt(ChPub, mens) "
   ]
  },
  {
   "cell_type": "code",
   "execution_count": 42,
   "id": "bc05c15f",
   "metadata": {},
   "outputs": [
    {
     "data": {
      "text/plain": [
       "1234"
      ]
     },
     "execution_count": 42,
     "metadata": {},
     "output_type": "execute_result"
    }
   ],
   "source": [
    "RSA_decrypt(ChPriv, cypherText)"
   ]
  },
  {
   "cell_type": "code",
   "execution_count": null,
   "id": "aab44a6a",
   "metadata": {},
   "outputs": [],
   "source": []
  }
 ],
 "metadata": {
  "kernelspec": {
   "display_name": "SageMath 9.8",
   "language": "sage",
   "name": "sagemath"
  },
  "language_info": {
   "codemirror_mode": {
    "name": "ipython",
    "version": 3
   },
   "file_extension": ".py",
   "mimetype": "text/x-python",
   "name": "python",
   "nbconvert_exporter": "python",
   "pygments_lexer": "ipython3",
   "version": "3.10.9"
  }
 },
 "nbformat": 4,
 "nbformat_minor": 5
}
