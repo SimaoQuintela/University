{
 "cells": [
  {
   "cell_type": "code",
   "execution_count": 2,
   "id": "496cbc93",
   "metadata": {},
   "outputs": [],
   "source": [
    "n = 47*59\n",
    "e = 17\n",
    "C = 1504"
   ]
  },
  {
   "cell_type": "code",
   "execution_count": 3,
   "id": "4cccf4c0",
   "metadata": {},
   "outputs": [],
   "source": [
    "Zn = IntegerModRing(n)\n",
    "C = Zn(C)"
   ]
  },
  {
   "cell_type": "code",
   "execution_count": 14,
   "id": "17525502",
   "metadata": {},
   "outputs": [],
   "source": [
    "C_i = C^e\n",
    "j = 1"
   ]
  },
  {
   "cell_type": "code",
   "execution_count": 15,
   "id": "4380d1da",
   "metadata": {},
   "outputs": [
    {
     "data": {
      "text/plain": [
       "False"
      ]
     },
     "execution_count": 15,
     "metadata": {},
     "output_type": "execute_result"
    }
   ],
   "source": [
    "C_i == C"
   ]
  },
  {
   "cell_type": "code",
   "execution_count": 16,
   "id": "d369f51c",
   "metadata": {},
   "outputs": [
    {
     "data": {
      "text/plain": [
       "4"
      ]
     },
     "execution_count": 16,
     "metadata": {},
     "output_type": "execute_result"
    }
   ],
   "source": [
    "while C_i != C:\n",
    "    j = j+1\n",
    "    C_i = C_i^e\n",
    "j"
   ]
  },
  {
   "cell_type": "code",
   "execution_count": 19,
   "id": "0a1c8fd2",
   "metadata": {},
   "outputs": [
    {
     "data": {
      "text/plain": [
       "2209"
      ]
     },
     "execution_count": 19,
     "metadata": {},
     "output_type": "execute_result"
    }
   ],
   "source": [
    "P = C^(e^(j-1))\n",
    "P"
   ]
  },
  {
   "cell_type": "code",
   "execution_count": 21,
   "id": "e0dbff5d",
   "metadata": {},
   "outputs": [
    {
     "data": {
      "text/plain": [
       "True"
      ]
     },
     "execution_count": 21,
     "metadata": {},
     "output_type": "execute_result"
    }
   ],
   "source": [
    "P^e == C"
   ]
  },
  {
   "cell_type": "code",
   "execution_count": 22,
   "id": "08a187dd",
   "metadata": {},
   "outputs": [],
   "source": [
    "def cyclic_attack(PubKey, C):\n",
    "    \"\"\"Implementação do ataque cíclico\"\"\"\n",
    "    n, e = PubKey\n",
    "    C_i = power_mod(C, e, n)\n",
    "    j = 1\n",
    "    \n",
    "    while C_i != C:\n",
    "        j += 1\n",
    "        C_i = power_mod(C_i, e, n)\n",
    "        \n",
    "    return power_mod(C, e^(j-1), n)"
   ]
  },
  {
   "cell_type": "code",
   "execution_count": 23,
   "id": "693c405b",
   "metadata": {},
   "outputs": [],
   "source": [
    "ChPub = (n, e)"
   ]
  },
  {
   "cell_type": "code",
   "execution_count": 24,
   "id": "36c2d1cd",
   "metadata": {},
   "outputs": [
    {
     "data": {
      "text/plain": [
       "2209"
      ]
     },
     "execution_count": 24,
     "metadata": {},
     "output_type": "execute_result"
    }
   ],
   "source": [
    "cyclic_attack(ChPub, C)"
   ]
  },
  {
   "cell_type": "code",
   "execution_count": 35,
   "id": "98feecc4",
   "metadata": {},
   "outputs": [
    {
     "name": "stderr",
     "output_type": "stream",
     "text": [
      "UsageError: Line magic function `%load(\"Utils.ipynb\")` not found.\n"
     ]
    }
   ],
   "source": [
    "%load(\"Utils.ipynb\")"
   ]
  },
  {
   "cell_type": "code",
   "execution_count": null,
   "id": "97996326",
   "metadata": {},
   "outputs": [],
   "source": []
  }
 ],
 "metadata": {
  "kernelspec": {
   "display_name": "SageMath 9.8",
   "language": "sage",
   "name": "sagemath"
  },
  "language_info": {
   "codemirror_mode": {
    "name": "ipython",
    "version": 3
   },
   "file_extension": ".py",
   "mimetype": "text/x-python",
   "name": "python",
   "nbconvert_exporter": "python",
   "pygments_lexer": "ipython3",
   "version": "3.10.9"
  }
 },
 "nbformat": 4,
 "nbformat_minor": 5
}
