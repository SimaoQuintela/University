{
 "cells": [
  {
   "cell_type": "code",
   "execution_count": 1,
   "id": "5fd42ca3",
   "metadata": {},
   "outputs": [
    {
     "data": {
      "text/plain": [
       "Ring of integers modulo 17"
      ]
     },
     "execution_count": 1,
     "metadata": {},
     "output_type": "execute_result"
    }
   ],
   "source": [
    "p = 17\n",
    "Zp = IntegerModRing(p)\n",
    "Zp # Sistema completo de residuos scc"
   ]
  },
  {
   "cell_type": "code",
   "execution_count": 2,
   "id": "12588e54",
   "metadata": {},
   "outputs": [
    {
     "data": {
      "text/plain": [
       "[0, 1, 2, 3, 4, 5, 6, 7, 8, 9, 10, 11, 12, 13, 14, 15, 16]"
      ]
     },
     "execution_count": 2,
     "metadata": {},
     "output_type": "execute_result"
    }
   ],
   "source": [
    "Zp.list()"
   ]
  },
  {
   "cell_type": "code",
   "execution_count": 4,
   "id": "25033d77",
   "metadata": {},
   "outputs": [
    {
     "data": {
      "text/plain": [
       "[1, 2, 3, 4, 5, 6, 7, 8, 9, 10, 11, 12, 13, 14, 15, 16]"
      ]
     },
     "execution_count": 4,
     "metadata": {},
     "output_type": "execute_result"
    }
   ],
   "source": [
    "srr = [r for r in Zp if gcd(r, p) == 1]\n",
    "srr"
   ]
  },
  {
   "cell_type": "code",
   "execution_count": 7,
   "id": "5deb0735",
   "metadata": {},
   "outputs": [
    {
     "data": {
      "text/plain": [
       "16"
      ]
     },
     "execution_count": 7,
     "metadata": {},
     "output_type": "execute_result"
    }
   ],
   "source": [
    "len(srr)"
   ]
  },
  {
   "cell_type": "code",
   "execution_count": 8,
   "id": "4d35aac1",
   "metadata": {},
   "outputs": [
    {
     "data": {
      "text/plain": [
       "16"
      ]
     },
     "execution_count": 8,
     "metadata": {},
     "output_type": "execute_result"
    }
   ],
   "source": [
    "euler_phi(p)"
   ]
  },
  {
   "cell_type": "code",
   "execution_count": 9,
   "id": "dcaeca59",
   "metadata": {},
   "outputs": [],
   "source": [
    "n = 5*7\n",
    "Zn = IntegerModRing(n) #scc"
   ]
  },
  {
   "cell_type": "code",
   "execution_count": 12,
   "id": "6af04932",
   "metadata": {},
   "outputs": [
    {
     "data": {
      "text/html": [
       "<html>\\(\\displaystyle \\left[1, 2, 3, 4, 6, 8, 9, 11, 12, 13, 16, 17, 18, 19, 22, 23, 24, 26, 27, 29, 31, 32, 33, 34\\right]\\)</html>"
      ],
      "text/latex": [
       "$\\displaystyle \\left[1, 2, 3, 4, 6, 8, 9, 11, 12, 13, 16, 17, 18, 19, 22, 23, 24, 26, 27, 29, 31, 32, 33, 34\\right]$"
      ],
      "text/plain": [
       "[1,\n",
       " 2,\n",
       " 3,\n",
       " 4,\n",
       " 6,\n",
       " 8,\n",
       " 9,\n",
       " 11,\n",
       " 12,\n",
       " 13,\n",
       " 16,\n",
       " 17,\n",
       " 18,\n",
       " 19,\n",
       " 22,\n",
       " 23,\n",
       " 24,\n",
       " 26,\n",
       " 27,\n",
       " 29,\n",
       " 31,\n",
       " 32,\n",
       " 33,\n",
       " 34]"
      ]
     },
     "metadata": {},
     "output_type": "display_data"
    }
   ],
   "source": [
    "srr = [r for r in Zn if gcd(r, n) == 1]\n",
    "pretty_print(srr)"
   ]
  },
  {
   "cell_type": "code",
   "execution_count": 13,
   "id": "ba816b84",
   "metadata": {},
   "outputs": [
    {
     "data": {
      "text/plain": [
       "24"
      ]
     },
     "execution_count": 13,
     "metadata": {},
     "output_type": "execute_result"
    }
   ],
   "source": [
    "len(srr)"
   ]
  },
  {
   "cell_type": "code",
   "execution_count": 15,
   "id": "d5a96cd3",
   "metadata": {},
   "outputs": [
    {
     "data": {
      "text/plain": [
       "24"
      ]
     },
     "execution_count": 15,
     "metadata": {},
     "output_type": "execute_result"
    }
   ],
   "source": [
    "euler_phi(n)"
   ]
  },
  {
   "cell_type": "code",
   "execution_count": 17,
   "id": "cde06ab0",
   "metadata": {},
   "outputs": [
    {
     "name": "stdout",
     "output_type": "stream",
     "text": [
      "[12, 24, 1, 13, 2, 26, 3, 27, 4, 16, 17, 29, 6, 18, 19, 31, 8, 32, 9, 33, 22, 34, 11, 23]\n"
     ]
    }
   ],
   "source": [
    "a = 12\n",
    "print([a * r for r in srr])"
   ]
  },
  {
   "cell_type": "code",
   "execution_count": 19,
   "id": "def65fea",
   "metadata": {},
   "outputs": [],
   "source": [
    "p = 13\n",
    "Zp = IntegerModRing(p)"
   ]
  },
  {
   "cell_type": "code",
   "execution_count": 20,
   "id": "204598e0",
   "metadata": {},
   "outputs": [
    {
     "data": {
      "text/plain": [
       "[1, 2, 3, 4, 5, 6, 7, 8, 9, 10, 11, 12]"
      ]
     },
     "execution_count": 20,
     "metadata": {},
     "output_type": "execute_result"
    }
   ],
   "source": [
    "srr = [r for r in Zp if gcd(r,p) == 1]\n",
    "srr"
   ]
  },
  {
   "cell_type": "code",
   "execution_count": 21,
   "id": "5e0bd8ea",
   "metadata": {},
   "outputs": [
    {
     "data": {
      "text/plain": [
       "[2, 4, 8, 3, 6, 12, 11, 9, 5, 10, 7, 1]"
      ]
     },
     "execution_count": 21,
     "metadata": {},
     "output_type": "execute_result"
    }
   ],
   "source": [
    "[Zp(2)^k for k in range(1, 13)]"
   ]
  },
  {
   "cell_type": "code",
   "execution_count": 22,
   "id": "19e6774d",
   "metadata": {},
   "outputs": [
    {
     "name": "stdout",
     "output_type": "stream",
     "text": [
      "[(2, 1), (4, 2), (8, 3), (3, 4), (6, 5), (12, 6), (11, 7), (9, 8), (5, 9), (10, 10), (7, 11), (1, 12)]\n"
     ]
    }
   ],
   "source": [
    "print([(Zp(2)^k, k) for k in range(1, 13)])"
   ]
  },
  {
   "cell_type": "code",
   "execution_count": null,
   "id": "5e1bbfee",
   "metadata": {},
   "outputs": [],
   "source": []
  }
 ],
 "metadata": {
  "kernelspec": {
   "display_name": "SageMath 9.8",
   "language": "sage",
   "name": "sagemath"
  },
  "language_info": {
   "codemirror_mode": {
    "name": "ipython",
    "version": 3
   },
   "file_extension": ".py",
   "mimetype": "text/x-python",
   "name": "python",
   "nbconvert_exporter": "python",
   "pygments_lexer": "ipython3",
   "version": "3.10.9"
  }
 },
 "nbformat": 4,
 "nbformat_minor": 5
}
