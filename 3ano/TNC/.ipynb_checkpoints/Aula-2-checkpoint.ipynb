{
 "cells": [
  {
   "cell_type": "code",
   "execution_count": 11,
   "id": "244a6a1a",
   "metadata": {},
   "outputs": [],
   "source": [
    "# folha 2, ex. 8 B\n",
    "a, b, n = 333333333, 87543211376, 967454302211"
   ]
  },
  {
   "cell_type": "code",
   "execution_count": 12,
   "id": "b2fc7a61",
   "metadata": {},
   "outputs": [
    {
     "data": {
      "text/plain": [
       "True"
      ]
     },
     "execution_count": 12,
     "metadata": {},
     "output_type": "execute_result"
    }
   ],
   "source": [
    "gcd(a,n).divides(b)"
   ]
  },
  {
   "cell_type": "code",
   "execution_count": 13,
   "id": "fee86246",
   "metadata": {},
   "outputs": [
    {
     "data": {
      "text/plain": [
       "1"
      ]
     },
     "execution_count": 13,
     "metadata": {},
     "output_type": "execute_result"
    }
   ],
   "source": [
    "gcd(a,n)"
   ]
  },
  {
   "cell_type": "code",
   "execution_count": 14,
   "id": "e3eccff4",
   "metadata": {},
   "outputs": [],
   "source": [
    "Zn = IntegerModRing(n)\n",
    "a, b = Zn(a), Zn(b)"
   ]
  },
  {
   "cell_type": "code",
   "execution_count": 15,
   "id": "573d736c",
   "metadata": {},
   "outputs": [
    {
     "data": {
      "text/plain": [
       "734956958057"
      ]
     },
     "execution_count": 15,
     "metadata": {},
     "output_type": "execute_result"
    }
   ],
   "source": [
    "sol = 1/a * b\n",
    "sol"
   ]
  },
  {
   "cell_type": "code",
   "execution_count": 16,
   "id": "11cdb71c",
   "metadata": {},
   "outputs": [
    {
     "data": {
      "text/plain": [
       "-54034262820"
      ]
     },
     "execution_count": 16,
     "metadata": {},
     "output_type": "execute_result"
    }
   ],
   "source": [
    "_, x0, _ = xgcd(ZZ(a), n)\n",
    "x0"
   ]
  },
  {
   "cell_type": "code",
   "execution_count": 17,
   "id": "b95573b1",
   "metadata": {},
   "outputs": [
    {
     "data": {
      "text/plain": [
       "734956958057"
      ]
     },
     "execution_count": 17,
     "metadata": {},
     "output_type": "execute_result"
    }
   ],
   "source": [
    "sol2 = x0*b\n",
    "sol2"
   ]
  },
  {
   "cell_type": "code",
   "execution_count": null,
   "id": "598e2925",
   "metadata": {},
   "outputs": [],
   "source": []
  }
 ],
 "metadata": {
  "kernelspec": {
   "display_name": "SageMath 9.7",
   "language": "sage",
   "name": "sagemath"
  },
  "language_info": {
   "codemirror_mode": {
    "name": "ipython",
    "version": 3
   },
   "file_extension": ".py",
   "mimetype": "text/x-python",
   "name": "python",
   "nbconvert_exporter": "python",
   "pygments_lexer": "ipython3",
   "version": "3.10.9"
  }
 },
 "nbformat": 4,
 "nbformat_minor": 5
}
