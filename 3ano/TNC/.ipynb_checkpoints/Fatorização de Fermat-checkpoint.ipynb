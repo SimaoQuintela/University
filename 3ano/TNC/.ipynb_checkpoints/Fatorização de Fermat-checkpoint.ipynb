{
 "cells": [
  {
   "cell_type": "code",
   "execution_count": 18,
   "id": "57c39189",
   "metadata": {},
   "outputs": [
    {
     "data": {
      "text/plain": [
       "15049"
      ]
     },
     "execution_count": 18,
     "metadata": {},
     "output_type": "execute_result"
    }
   ],
   "source": [
    "p = next_prime(100)\n",
    "q = next_prime(140)\n",
    "n = p*q\n",
    "n"
   ]
  },
  {
   "cell_type": "code",
   "execution_count": 19,
   "id": "1c598a6f",
   "metadata": {},
   "outputs": [
    {
     "data": {
      "text/plain": [
       "123"
      ]
     },
     "execution_count": 19,
     "metadata": {},
     "output_type": "execute_result"
    }
   ],
   "source": [
    "t = ceil(sqrt(n))\n",
    "t"
   ]
  },
  {
   "cell_type": "code",
   "execution_count": 20,
   "id": "7ba42253",
   "metadata": {},
   "outputs": [
    {
     "data": {
      "text/plain": [
       "(True, True)"
      ]
     },
     "execution_count": 20,
     "metadata": {},
     "output_type": "execute_result"
    }
   ],
   "source": [
    "122^2<n, n<123^2 "
   ]
  },
  {
   "cell_type": "code",
   "execution_count": 21,
   "id": "d5d1325f",
   "metadata": {},
   "outputs": [
    {
     "data": {
      "text/plain": [
       "False"
      ]
     },
     "execution_count": 21,
     "metadata": {},
     "output_type": "execute_result"
    }
   ],
   "source": [
    "x = t^2-n\n",
    "is_square(x) # verifico se é quadrado perfeito\n"
   ]
  },
  {
   "cell_type": "code",
   "execution_count": 22,
   "id": "9759fb22",
   "metadata": {},
   "outputs": [
    {
     "data": {
      "text/plain": [
       "False"
      ]
     },
     "execution_count": 22,
     "metadata": {},
     "output_type": "execute_result"
    }
   ],
   "source": [
    "t = t+1\n",
    "x = t^2-n\n",
    "is_square(x)"
   ]
  },
  {
   "cell_type": "code",
   "execution_count": 23,
   "id": "61348193",
   "metadata": {},
   "outputs": [
    {
     "data": {
      "text/plain": [
       "True"
      ]
     },
     "execution_count": 23,
     "metadata": {},
     "output_type": "execute_result"
    }
   ],
   "source": [
    "t = t+1\n",
    "x = t^2-n\n",
    "is_square(x)"
   ]
  },
  {
   "cell_type": "code",
   "execution_count": 24,
   "id": "65491799",
   "metadata": {},
   "outputs": [
    {
     "data": {
      "text/plain": [
       "125"
      ]
     },
     "execution_count": 24,
     "metadata": {},
     "output_type": "execute_result"
    }
   ],
   "source": [
    "t"
   ]
  },
  {
   "cell_type": "code",
   "execution_count": 25,
   "id": "ada86ceb",
   "metadata": {},
   "outputs": [
    {
     "data": {
      "text/plain": [
       "576"
      ]
     },
     "execution_count": 25,
     "metadata": {},
     "output_type": "execute_result"
    }
   ],
   "source": [
    "x"
   ]
  },
  {
   "cell_type": "code",
   "execution_count": 26,
   "id": "97228b43",
   "metadata": {},
   "outputs": [],
   "source": [
    "s = int(sqrt(x))"
   ]
  },
  {
   "cell_type": "code",
   "execution_count": 27,
   "id": "6ce6b37b",
   "metadata": {},
   "outputs": [
    {
     "data": {
      "text/plain": [
       "(125, 24)"
      ]
     },
     "execution_count": 27,
     "metadata": {},
     "output_type": "execute_result"
    }
   ],
   "source": [
    "t,s"
   ]
  },
  {
   "cell_type": "code",
   "execution_count": 28,
   "id": "54b3fbda",
   "metadata": {},
   "outputs": [
    {
     "data": {
      "text/plain": [
       "(101, 149)"
      ]
     },
     "execution_count": 28,
     "metadata": {},
     "output_type": "execute_result"
    }
   ],
   "source": [
    "fact1 = t-s\n",
    "fact2 = t+s\n",
    "fact1, fact2"
   ]
  },
  {
   "cell_type": "code",
   "execution_count": 30,
   "id": "1b2d7fdd",
   "metadata": {},
   "outputs": [
    {
     "data": {
      "text/plain": [
       "True"
      ]
     },
     "execution_count": 30,
     "metadata": {},
     "output_type": "execute_result"
    }
   ],
   "source": [
    "n == fact1*fact2"
   ]
  },
  {
   "cell_type": "code",
   "execution_count": 37,
   "id": "67e235ca",
   "metadata": {},
   "outputs": [
    {
     "data": {
      "text/plain": [
       "(101, 149)"
      ]
     },
     "execution_count": 37,
     "metadata": {},
     "output_type": "execute_result"
    }
   ],
   "source": [
    "def fatorizacao_de_fermat(n):\n",
    "    t = ceil(sqrt(n))\n",
    "    x = t^2-n\n",
    "    while not is_square(x):\n",
    "        t = t+1\n",
    "        x = t^2-n\n",
    "        \n",
    "    s = int(sqrt(x))\n",
    "    fact1 = t-s\n",
    "    fact2 = t+s\n",
    "    return fact1, fact2\n",
    "    \n",
    "\n",
    "fatorizacao_de_fermat(next_prime(100)*next_prime(140))"
   ]
  },
  {
   "cell_type": "code",
   "execution_count": 38,
   "id": "c705b59d",
   "metadata": {},
   "outputs": [
    {
     "data": {
      "text/plain": [
       "32317006071311007300714876688669951960444102669715484032130345427524655138867890893197201411522913463688717960921898019494119559150490921095088152386448283120630877367300996091750197750389652106796057638384067568276792218642619756161838094338476170470581645852036305042887575891541065808607552399123930385831836629839931604913217189678592433570595407204979975197471265575262159281392120754939673496694769217137019932616744005961351912588355903082072668035686677658498973949178916826070183694275197585406793551975206643412017773626759006299241727738775594205159882555660007770314370476543983057729710165883222009486123"
      ]
     },
     "execution_count": 38,
     "metadata": {},
     "output_type": "execute_result"
    }
   ],
   "source": [
    "p = next_prime(2^1024)\n",
    "q = next_prime(2^1024 + 1000)\n",
    "n = p*q\n",
    "n"
   ]
  },
  {
   "cell_type": "code",
   "execution_count": 39,
   "id": "60f7cfdf",
   "metadata": {},
   "outputs": [
    {
     "data": {
      "text/plain": [
       "(179769313486231590772930519078902473361797697894230657273430081157732675805500963132708477322407536021120113879871393357658789768814416622492847430639474124377767893424865485276302219601246094119453082952085005768838150682342462881473913110540827237163350510684586298239947245938479716304835356329624224137859,\n",
       " 179769313486231590772930519078902473361797697894230657273430081157732675805500963132708477322407536021120113879871393357658789768814416622492847430639474124377767893424865485276302219601246094119453082952085005768838150682342462881473913110540827237163350510684586298239947245938479716304835356329624224138297)"
      ]
     },
     "execution_count": 39,
     "metadata": {},
     "output_type": "execute_result"
    }
   ],
   "source": [
    "fatorizacao_de_fermat(n)"
   ]
  },
  {
   "cell_type": "code",
   "execution_count": 40,
   "id": "2e5cbfb3",
   "metadata": {},
   "outputs": [
    {
     "data": {
      "text/plain": [
       "625 loops, best of 3: 44.9 ns per loop"
      ]
     },
     "execution_count": 40,
     "metadata": {},
     "output_type": "execute_result"
    }
   ],
   "source": [
    "timeit('fatorizacao_de_fermat')"
   ]
  },
  {
   "cell_type": "code",
   "execution_count": null,
   "id": "341147bf",
   "metadata": {},
   "outputs": [],
   "source": []
  }
 ],
 "metadata": {
  "kernelspec": {
   "display_name": "SageMath 9.7",
   "language": "sage",
   "name": "sagemath"
  },
  "language_info": {
   "codemirror_mode": {
    "name": "ipython",
    "version": 3
   },
   "file_extension": ".py",
   "mimetype": "text/x-python",
   "name": "python",
   "nbconvert_exporter": "python",
   "pygments_lexer": "ipython3",
   "version": "3.10.9"
  }
 },
 "nbformat": 4,
 "nbformat_minor": 5
}
