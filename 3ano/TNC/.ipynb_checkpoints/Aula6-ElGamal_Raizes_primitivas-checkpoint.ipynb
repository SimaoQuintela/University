{
 "cells": [
  {
   "cell_type": "markdown",
   "id": "ca55c70b",
   "metadata": {},
   "source": [
    "**Teorema:** $ n $ tem raiz primitiva sse $ n $ for da forma $2, 4, p^k, 2 * p^k$, com p primo ímpar "
   ]
  },
  {
   "cell_type": "code",
   "execution_count": 1,
   "id": "e234958f",
   "metadata": {},
   "outputs": [
    {
     "data": {
      "text/plain": [
       "[0, 1, 2, 3, 4, 5, 6, 7, 8, 9, 10, 11, 12, 13, 14, 15, 16, 17, 18, 19]"
      ]
     },
     "execution_count": 1,
     "metadata": {},
     "output_type": "execute_result"
    },
    {
     "data": {
      "text/plain": [
       "[0, 1, 2, 3, 4, 5, 6, 7, 8, 9, 10, 11, 12, 13, 14, 15, 16, 17, 18, 19]"
      ]
     },
     "execution_count": 1,
     "metadata": {},
     "output_type": "execute_result"
    }
   ],
   "source": [
    "n = 20\n",
    "Zn = IntegerModRing(n)\n",
    "list(Zn)"
   ]
  },
  {
   "cell_type": "code",
   "execution_count": 2,
   "id": "d9f0408e",
   "metadata": {},
   "outputs": [],
   "source": [
    "srr_n = [a for a in Zn if gcd(a, n) == 1]\n",
    "srr_n"
   ]
  },
  {
   "cell_type": "code",
   "execution_count": 3,
   "id": "1c94fb5a",
   "metadata": {},
   "outputs": [],
   "source": [
    "[Zn(3)^k for k in range(1, 9)]"
   ]
  },
  {
   "cell_type": "code",
   "execution_count": 4,
   "id": "a25b4e9c",
   "metadata": {},
   "outputs": [],
   "source": [
    "p = 17\n",
    "Zp = IntegerModRing(p)\n",
    "srr_p = [a for a in Zp if gcd(a, p) == 1]\n",
    "list(srr_p)"
   ]
  },
  {
   "cell_type": "code",
   "execution_count": 5,
   "id": "e0f9ff95",
   "metadata": {},
   "outputs": [],
   "source": [
    "r = Zp(2)\n",
    "[r^k for k in range(1, 17)]"
   ]
  },
  {
   "cell_type": "code",
   "execution_count": 6,
   "id": "590018c3",
   "metadata": {},
   "outputs": [],
   "source": [
    "r.multiplicative_order()"
   ]
  },
  {
   "cell_type": "code",
   "execution_count": 7,
   "id": "77ffca0a",
   "metadata": {},
   "outputs": [],
   "source": [
    "r = Zp(3)\n",
    "r.multiplicative_order()"
   ]
  },
  {
   "cell_type": "code",
   "execution_count": 8,
   "id": "b4183c4c",
   "metadata": {},
   "outputs": [],
   "source": [
    "[r^k for k in range(1, 17)]"
   ]
  },
  {
   "cell_type": "code",
   "execution_count": 9,
   "id": "1041251e",
   "metadata": {},
   "outputs": [],
   "source": [
    "r.order()"
   ]
  },
  {
   "cell_type": "markdown",
   "id": "96a85467",
   "metadata": {},
   "source": [
    "**Exemplo ElGamal**"
   ]
  },
  {
   "cell_type": "code",
   "execution_count": 10,
   "id": "c6bf3267",
   "metadata": {},
   "outputs": [],
   "source": [
    "p = random_prime(2^32, lbound=2^30)\n",
    "p"
   ]
  },
  {
   "cell_type": "code",
   "execution_count": 11,
   "id": "12e6a112",
   "metadata": {},
   "outputs": [],
   "source": [
    "Zp = IntegerModRing(p)\n",
    "r = Zp.multiplicative_generator()\n",
    "p, r"
   ]
  },
  {
   "cell_type": "code",
   "execution_count": 12,
   "id": "d166edb0",
   "metadata": {},
   "outputs": [],
   "source": [
    "a = randint(2, p-1)\n",
    "a"
   ]
  },
  {
   "cell_type": "code",
   "execution_count": 13,
   "id": "ec95f864",
   "metadata": {},
   "outputs": [],
   "source": [
    "Priv_key = a"
   ]
  },
  {
   "cell_type": "code",
   "execution_count": 14,
   "id": "afa00fb3",
   "metadata": {},
   "outputs": [],
   "source": [
    "b = r^a\n",
    "b"
   ]
  },
  {
   "cell_type": "code",
   "execution_count": 15,
   "id": "0aaa311f",
   "metadata": {},
   "outputs": [],
   "source": [
    "Pub_Key = (p, r, b)\n",
    "Pub_Key"
   ]
  },
  {
   "cell_type": "code",
   "execution_count": 16,
   "id": "5e3325e8",
   "metadata": {},
   "outputs": [],
   "source": [
    "Priv_Key = a\n",
    "Priv_Key"
   ]
  },
  {
   "cell_type": "code",
   "execution_count": 17,
   "id": "4ec00868",
   "metadata": {},
   "outputs": [],
   "source": [
    "mens = 1234"
   ]
  },
  {
   "cell_type": "markdown",
   "id": "d85b481f",
   "metadata": {},
   "source": [
    "A cifração da mensagem ***mens*** é $(\\delta, \\gamma) = (mens * b^k, r^k)$ "
   ]
  },
  {
   "cell_type": "code",
   "execution_count": 18,
   "id": "9bed5bf2",
   "metadata": {},
   "outputs": [],
   "source": [
    "k = randint(2, p-1)\n",
    "gama, delta = r^k, mens*b^k\n",
    "gama, delta"
   ]
  },
  {
   "cell_type": "markdown",
   "id": "219411c0",
   "metadata": {},
   "source": [
    "A decifração da mensagem ***mens*** é $\\gamma = (\\gamma ^a)^{-1} * \\gamma $"
   ]
  },
  {
   "cell_type": "code",
   "execution_count": 19,
   "id": "bf3e81e1",
   "metadata": {},
   "outputs": [],
   "source": [
    "decrypted_msg = (gama^a)^-1 * delta\n",
    "decrypted_msg"
   ]
  },
  {
   "cell_type": "code",
   "execution_count": 1,
   "id": "3009b907",
   "metadata": {},
   "outputs": [],
   "source": [
    "def ElGamal_KeyGen(nbits=256):\n",
    "    p = random_prime(2^nbits, 2^(nbits-1))\n",
    "    Zp = IntegerModRing(p)\n",
    "    r = Zp.multiplicative_generator()\n",
    "    \n",
    "    Priv_key = randint(2, p-1)\n",
    "    b = r^Priv_key\n",
    "    \n",
    "    Pub_key = (p, r, b)\n",
    "    \n",
    "    return {Pub_key, Priv_key}\n",
    "    \n",
    "ElGamal_KeyGen()\n",
    "\n",
    "def ElGamal_Encrypt(mens, Pub_key):\n",
    "    p, r, b = Pub_key\n",
    "    Zp = IntegerModRing(p)\n",
    "    b = Zp(b)\n",
    "    r = Zp(r)\n",
    "    k = randint(2, p-1)\n",
    "    gama, delta = r^k, mens*b^k\n",
    "    \n",
    "    return ZZ(gama), ZZ(delta)\n",
    "\n",
    "def ElGamal_Decrypt(cripto, key):\n",
    "    pub_key, a = key\n",
    "    p, _, _ = pub_key\n",
    "    gama, delta = cripto\n",
    "    Zp = IntegerModRing(p)\n",
    "    gama, delta = Zp(gama), Zp(delta)\n",
    "    decifr = 1/(gama^a) * delta\n",
    "    \n",
    "    return decifr"
   ]
  },
  {
   "cell_type": "code",
   "execution_count": 6,
   "id": "8ac450f9",
   "metadata": {},
   "outputs": [
    {
     "data": {
      "text/plain": [
       "(10878597935472964171266574228565946249010001299106465403289750851973997914146,\n",
       " 32790807501473124744637336351691629769942414999386720667825839329200141610465)"
      ]
     },
     "execution_count": 6,
     "metadata": {},
     "output_type": "execute_result"
    }
   ],
   "source": [
    "chave = ElGamal_KeyGen()\n",
    "\n",
    "ch_pub,_ = chave\n",
    "\n",
    "cifrado = ElGamal_Encrypt(5360, ch_pub)\n",
    "cifrado"
   ]
  },
  {
   "cell_type": "code",
   "execution_count": 7,
   "id": "91113dc4",
   "metadata": {},
   "outputs": [
    {
     "data": {
      "text/plain": [
       "5360"
      ]
     },
     "execution_count": 7,
     "metadata": {},
     "output_type": "execute_result"
    }
   ],
   "source": [
    "decrypted = ElGamal_Decrypt(cifrado, chave)\n",
    "decrypted"
   ]
  },
  {
   "cell_type": "code",
   "execution_count": null,
   "id": "269a0dbd",
   "metadata": {},
   "outputs": [],
   "source": []
  }
 ],
 "metadata": {
  "kernelspec": {
   "display_name": "SageMath 9.8",
   "language": "sage",
   "name": "sagemath"
  },
  "language_info": {
   "codemirror_mode": {
    "name": "ipython",
    "version": 3
   },
   "file_extension": ".py",
   "mimetype": "text/x-python",
   "name": "python",
   "nbconvert_exporter": "python",
   "pygments_lexer": "ipython3",
   "version": "3.10.9"
  }
 },
 "nbformat": 4,
 "nbformat_minor": 5
}
