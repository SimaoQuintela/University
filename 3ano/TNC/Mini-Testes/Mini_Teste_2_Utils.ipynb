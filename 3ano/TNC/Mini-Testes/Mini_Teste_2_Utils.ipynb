{
 "cells": [
  {
   "cell_type": "code",
   "execution_count": 17,
   "metadata": {},
   "outputs": [
    {
     "data": {
      "text/plain": [
       "(5717249568618732936, 4206009625521253741)"
      ]
     },
     "execution_count": 17,
     "metadata": {},
     "output_type": "execute_result"
    }
   ],
   "source": [
    "\n",
    "#verifica se um elemento x pertence ao SRR modulo n e dá a lista de todos os elems\n",
    "def pertence_SRR(x, n):\n",
    "    Zn = IntegerModRing(n)\n",
    "    res = [k for k in Zn if gcd(k,n) == 1]\n",
    "    return ((x in res), res)\n",
    "\n",
    "\n",
    "#verifica se x é raiz primitiva de n. se n tem raiz primitiva, n tem phi(phi(n)) RP's\n",
    "def e_RP(x, n):\n",
    "    Zn = IntegerModRing(n)\n",
    "    aux = Zn(x)\n",
    "    return (aux.multiplicative_order() == euler_phi(n))\n",
    "\n",
    "\n",
    "\n",
    "\n",
    "#diz o indice(root,a) modulo n.\n",
    "def indice(n,root,a):\n",
    "    Zn = IntegerModRing(n)\n",
    "    baixo = root\n",
    "    cima = a\n",
    "    return discrete_log(a,Zn(root))\n",
    "\n",
    "#calcular simbolo de legendre(a,b) pelo metodo de gauss\n",
    "\n",
    "def Lema_Gauss(a,b):\n",
    "    if(is_prime(b) == False or b == 2):\n",
    "        return f\"({a} | {b}) not possible to calculate. {b} is not prime or p = 2.\"\n",
    "    if (gcd(a,b) != 1):\n",
    "        return f\"not possible to apply Gauss, gcd({a}, {b}) is not 1\"\n",
    "    Zb = IntegerModRing(b)\n",
    "    L = [coef*a for coef in range(1, int( (b-1)/2 ) + 1 )]\n",
    "    L_vals = [Zb(elem) for elem in L]\n",
    "    L_s = [x for x in L_vals if int(x) > b/2]\n",
    "    s = len(L_s)\n",
    "    return( (-1)^s, L, L_vals, L_s, s)\n",
    "\n",
    "#verifica se n é pseudo primo Euler na base b\n",
    "def e_pseudo_primo_Euler(n, b):\n",
    "    if(gcd(n,b) != 1):\n",
    "        return f\"nao e possivel averiguar, considere que nao é\"\n",
    "    if(is_prime(n)):\n",
    "        return False\n",
    "    Zn = IntegerModRing(n)\n",
    "    j_symbol = jacobi_symbol(b, n)\n",
    "    return (b^(int((n-1)/2)) == mod(j_symbol, n))\n",
    "\n",
    "\n",
    "def EG_key_gen(n_bits=256):\n",
    "    p = random_prime(2^n_bits, 2^(n_bits-1))\n",
    "    Zp = IntegerModRing(p)\n",
    "    r = Zp.multiplicative_generator()\n",
    "    Priv_Key = randint(2, p-1)\n",
    "    b = r^Priv_Key\n",
    "    return ((p, r, b), Priv_Key)\n",
    "\n",
    "def EG_encrypt(mens, PubKey):\n",
    "    p, r, b = PubKey\n",
    "    Zp = IntegerModRing(p)\n",
    "    b = Zp(b)\n",
    "    r = Zp(r)\n",
    "    #k = randint(2, p-1)\n",
    "    k = 4321\n",
    "    gama, delta = r^k, mens*b^k\n",
    "    return ZZ(gama), ZZ(delta)\n",
    "\n",
    "def EG_decrypt(cripto, Key):\n",
    "    pub_key, a = Key\n",
    "    p, _, _ = pub_key\n",
    "    gama, delta = cripto\n",
    "    Zp = IntegerModRing(p)\n",
    "    gama, delta = Zp(gama), Zp(delta)\n",
    "    decifr = 1/(gama^a) * delta\n",
    "    return decifr\n",
    "    \n",
    "PubKey = (45845317363663719961, 7, 11610443628439658211)\n",
    "EG_encrypt(1234, PubKey)"
   ]
  },
  {
   "cell_type": "code",
   "execution_count": 16,
   "metadata": {},
   "outputs": [
    {
     "data": {
      "text/plain": [
       "False"
      ]
     },
     "execution_count": 16,
     "metadata": {},
     "output_type": "execute_result"
    }
   ],
   "source": [
    "# Dada a chave pública ElGamal (p, r, b)=(41092732894843911497, 3, 2982281005324054924),\n",
    "# sabendo que o índice de 2982281005324054924 na base 3 é igual a 2638791856504415002 a \n",
    "# decifração de (3167051226382161024, 27608156549647976925) é igual a ___. \n",
    "\n",
    "e_RP(46, 233)"
   ]
  },
  {
   "cell_type": "code",
   "execution_count": 18,
   "metadata": {},
   "outputs": [
    {
     "data": {
      "text/plain": [
       "1001"
      ]
     },
     "execution_count": 18,
     "metadata": {},
     "output_type": "execute_result"
    }
   ],
   "source": [
    "a = 1686993563598632295\n",
    "Pub = (38899467353195790779, 2, 14869180389745241183)\n",
    "EG_decrypt((16349564195997616110, 4301028191686303894), (Pub, a))"
   ]
  },
  {
   "cell_type": "code",
   "execution_count": 43,
   "metadata": {},
   "outputs": [
    {
     "data": {
      "text/plain": [
       "0"
      ]
     },
     "execution_count": 43,
     "metadata": {},
     "output_type": "execute_result"
    }
   ],
   "source": [
    "base = 6\n",
    "n = 81\n",
    "power_mod(base, (n-1)/2, n)\n"
   ]
  },
  {
   "cell_type": "code",
   "execution_count": null,
   "metadata": {},
   "outputs": [],
   "source": []
  },
  {
   "cell_type": "code",
   "execution_count": null,
   "metadata": {},
   "outputs": [],
   "source": []
  },
  {
   "cell_type": "code",
   "execution_count": 30,
   "metadata": {},
   "outputs": [
    {
     "data": {
      "text/plain": [
       "(26597275306110179793, 35560960694045869157)"
      ]
     },
     "execution_count": 30,
     "metadata": {},
     "output_type": "execute_result"
    }
   ],
   "source": [
    "PubKey=(38745447849506679581, 3, 139470619494520778)\n",
    "EG_encrypt(1234, PubKey)"
   ]
  },
  {
   "cell_type": "code",
   "execution_count": 37,
   "metadata": {},
   "outputs": [
    {
     "data": {
      "text/plain": [
       "True"
      ]
     },
     "execution_count": 37,
     "metadata": {},
     "output_type": "execute_result"
    }
   ],
   "source": [
    "e_RP(65,239)"
   ]
  },
  {
   "cell_type": "code",
   "execution_count": 49,
   "metadata": {},
   "outputs": [
    {
     "data": {
      "text/plain": [
       "8"
      ]
     },
     "execution_count": 49,
     "metadata": {},
     "output_type": "execute_result"
    }
   ],
   "source": [
    "power_mod(2, 60*10^6+3, 7*11)"
   ]
  },
  {
   "cell_type": "code",
   "execution_count": null,
   "metadata": {},
   "outputs": [],
   "source": []
  }
 ],
 "metadata": {
  "kernelspec": {
   "display_name": "SageMath 9.8",
   "language": "sage",
   "name": "sagemath"
  },
  "language_info": {
   "codemirror_mode": {
    "name": "ipython",
    "version": 3
   },
   "file_extension": ".py",
   "mimetype": "text/x-python",
   "name": "python",
   "nbconvert_exporter": "python",
   "pygments_lexer": "ipython3",
   "version": "3.10.10"
  }
 },
 "nbformat": 4,
 "nbformat_minor": 4
}
