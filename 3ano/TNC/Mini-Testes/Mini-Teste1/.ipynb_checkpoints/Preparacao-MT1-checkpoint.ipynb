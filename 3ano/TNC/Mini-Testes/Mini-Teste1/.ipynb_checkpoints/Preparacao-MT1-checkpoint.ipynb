{
 "cells": [
  {
   "cell_type": "markdown",
   "id": "bb6eed5c",
   "metadata": {},
   "source": [
    "## Exercícios propostos"
   ]
  },
  {
   "cell_type": "markdown",
   "id": "184ff63f",
   "metadata": {},
   "source": [
    "### 1\n",
    "Sabe-se que n é o produto de dois primos, e que $\\phi(n)$ = m, com\n",
    "\n",
    "n = 1000000000000000000000000000000000000000000000000000000000000000000000002083300000000000000000000000000000000000000000000000000000000000000000000027531,\n",
    "\n",
    "m = 1000000000000000000000000000000000000000000000000000000000000000000000002073200000000000000000000000000000000000000000000000000000000000000000000027192\n",
    "\n",
    "Factorize n.\n"
   ]
  },
  {
   "cell_type": "code",
   "execution_count": 2,
   "id": "b3fb4a81",
   "metadata": {},
   "outputs": [
    {
     "data": {
      "text/plain": [
       "True"
      ]
     },
     "execution_count": 2,
     "metadata": {},
     "output_type": "execute_result"
    }
   ],
   "source": [
    "def crack_rsa(n, phi_n):\n",
    "    \"\"\"Factoring n Given φ(n)\"\"\"\n",
    "    R.<x> = PolynomialRing(QQ)\n",
    "    f = x^2 - (n+1 - phi_n)*x + n\n",
    "    return [b for b, _ in f.roots()]\n",
    "\n",
    "n = 1000000000000000000000000000000000000000000000000000000000000000000000002083300000000000000000000000000000000000000000000000000000000000000000000027531\n",
    "phi_n = 1000000000000000000000000000000000000000000000000000000000000000000000002073200000000000000000000000000000000000000000000000000000000000000000000027192\n",
    "\n",
    "r = crack_rsa(n, phi_n)\n",
    "r[0] * r[1] == n"
   ]
  },
  {
   "cell_type": "markdown",
   "id": "89ec3c19",
   "metadata": {},
   "source": [
    "### 2\n",
    "Sejam\n",
    "\n",
    "n= 200000000760000000722  \n",
    "a= 987654321\n",
    "\n",
    "Mostre que a é um elemento de um sistema reduzido de resíduos de n."
   ]
  },
  {
   "cell_type": "code",
   "execution_count": 33,
   "id": "f8a8d760",
   "metadata": {},
   "outputs": [
    {
     "data": {
      "text/plain": [
       "True"
      ]
     },
     "execution_count": 33,
     "metadata": {},
     "output_type": "execute_result"
    }
   ],
   "source": [
    "n = 200000000760000000722\n",
    "a = 987654321\n",
    "\n",
    "gcd(a, n) == 1"
   ]
  },
  {
   "cell_type": "markdown",
   "id": "e72cd7d1",
   "metadata": {},
   "source": [
    "### 3\n",
    "\n",
    "A chave pública RSA é (n, e) = (121933417163, 65)\n",
    "\n",
    "Qual a cifração de 1234 ?\n"
   ]
  },
  {
   "cell_type": "code",
   "execution_count": 26,
   "id": "dc18feed",
   "metadata": {},
   "outputs": [
    {
     "data": {
      "text/plain": [
       "17449145515"
      ]
     },
     "execution_count": 26,
     "metadata": {},
     "output_type": "execute_result"
    }
   ],
   "source": [
    "def RSA_encrypt(PubKey, mens):\n",
    "    n, e = PubKey\n",
    "    return power_mod(mens, e, n)\n",
    "\n",
    "\n",
    "PubKey = (121933417163, 65)\n",
    "mens = 1234\n",
    "cypher_text = RSA_encrypt(PubKey, mens)\n",
    "cypher_text"
   ]
  },
  {
   "cell_type": "markdown",
   "id": "bd182050",
   "metadata": {},
   "source": [
    "### 4\n",
    "\n",
    "\n",
    "A chave pública RSA é\n",
    "\n",
    "n = 13337357214366117467  \n",
    "e =  65  \n",
    "\n",
    "Foi interceptada a mensagem 1349840170245217428\n",
    "\n",
    "Obtenha a mensagem original\n",
    "\n"
   ]
  },
  {
   "cell_type": "code",
   "execution_count": 32,
   "id": "549aa6d5",
   "metadata": {},
   "outputs": [
    {
     "data": {
      "text/plain": [
       "4321"
      ]
     },
     "execution_count": 32,
     "metadata": {},
     "output_type": "execute_result"
    }
   ],
   "source": [
    "cypher_text = 1349840170245217428\n",
    "n = 13337357214366117467\n",
    "phi_n = euler_phi(13337357214366117467)\n",
    "e = 65\n",
    "\n",
    "d = power_mod(e, -1, phi_n)\n",
    "\n",
    "\n",
    "def RSA_decrypt(PrivKey, cypherText):\n",
    "    n, d = PrivKey\n",
    "    return power_mod(cypherText, d, n)\n",
    "\n",
    "PrivKey = (n, d)\n",
    "RSA_decrypt( PrivKey , cypher_text)"
   ]
  },
  {
   "cell_type": "markdown",
   "id": "8d663283",
   "metadata": {},
   "source": [
    "### 5\n",
    "\n",
    "**srr** = {1, 2, 3, 4, 6, 8, 9, 11, 12, 13, 16, 17, 18, 19, 22, 23, 24, 26, 27, 29, 31, 32, 33, 34} é um srr de 35?\n"
   ]
  },
  {
   "cell_type": "markdown",
   "id": "ee2f02d2",
   "metadata": {},
   "source": [
    "Sim, $\\phi (n)$ = 24 $ \\equiv $ length(**srr**) e todos os elementos de srr são primos relativos com 35, ou seja, gcd(35, x), x $ \\in $ srr"
   ]
  },
  {
   "cell_type": "markdown",
   "id": "24436258",
   "metadata": {},
   "source": [
    "### 6\n",
    "\n",
    "Para n=13* 17 e a=192* 10^100+2, o resto da divisão inteira de 2^a por n é....\n"
   ]
  },
  {
   "cell_type": "code",
   "execution_count": 50,
   "id": "6a73334b",
   "metadata": {},
   "outputs": [
    {
     "data": {
      "text/plain": [
       "4"
      ]
     },
     "execution_count": 50,
     "metadata": {},
     "output_type": "execute_result"
    }
   ],
   "source": [
    "n = 13*17\n",
    "a = 192*10^100+2\n",
    "\n",
    "power_mod(2, a, n)"
   ]
  },
  {
   "cell_type": "markdown",
   "id": "32e250d5",
   "metadata": {},
   "source": [
    "### 7\n",
    "\n",
    "n = 13* 17  \n",
    "m = 12* 16 = $\\phi(n)$  \n",
    "a = m*10^100+3  \n",
    "usar o teorema de Euler: 2^a = (2^(m)^(10^100)) * 2^3 = 2^3 = 8\n"
   ]
  },
  {
   "cell_type": "code",
   "execution_count": 49,
   "id": "180138c0",
   "metadata": {},
   "outputs": [
    {
     "data": {
      "text/plain": [
       "8"
      ]
     },
     "execution_count": 49,
     "metadata": {},
     "output_type": "execute_result"
    }
   ],
   "source": [
    "m = 12*16\n",
    "a = m*10^100 +3\n",
    "n = 13*17\n",
    "\n",
    "power_mod(2, a, n)"
   ]
  },
  {
   "cell_type": "code",
   "execution_count": null,
   "id": "fe0e7cf0",
   "metadata": {},
   "outputs": [],
   "source": []
  }
 ],
 "metadata": {
  "kernelspec": {
   "display_name": "SageMath 9.8",
   "language": "sage",
   "name": "sagemath"
  },
  "language_info": {
   "codemirror_mode": {
    "name": "ipython",
    "version": 3
   },
   "file_extension": ".py",
   "mimetype": "text/x-python",
   "name": "python",
   "nbconvert_exporter": "python",
   "pygments_lexer": "ipython3",
   "version": "3.10.9"
  }
 },
 "nbformat": 4,
 "nbformat_minor": 5
}
