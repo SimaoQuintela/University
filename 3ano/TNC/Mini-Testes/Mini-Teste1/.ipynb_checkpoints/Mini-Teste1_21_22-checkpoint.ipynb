{
 "cells": [
  {
   "cell_type": "markdown",
   "id": "66e79740",
   "metadata": {},
   "source": [
    "### 1\n",
    "Dada a chave pública RSA (n, e)=(693277811, 316259639), a cifração de\n",
    "mens=1234 é ___."
   ]
  },
  {
   "cell_type": "code",
   "execution_count": null,
   "id": "fc579d9d",
   "metadata": {},
   "outputs": [],
   "source": [
    "# 1\n",
    "\"\"\"\n",
    "Dada a chave pública RSA (n, e)=(693277811, 316259639), a cifração de\n",
    "mens=1234 é ___.\n",
    "\"\"\"\n",
    "def RSA_encrypt(PubKey, mens):\n",
    "    n, e = PubKey\n",
    "    return power_mod(mens, e, n)\n",
    "\n",
    "n = 693277811\n",
    "e = 316259639\n",
    "PubKey = (n, e)\n",
    "mens = 1234\n",
    "\n",
    "cipher = RSA_encrypt(PubKey, mens)\n",
    "cipher"
   ]
  },
  {
   "cell_type": "markdown",
   "id": "15cb25c8",
   "metadata": {},
   "source": [
    "### 3\n",
    "Para n=7 * 11 e a=60 * 10^6+3, o resto da divisão inteira de 2^(a) por n é ___.\n"
   ]
  },
  {
   "cell_type": "code",
   "execution_count": null,
   "id": "baa22bcc",
   "metadata": {},
   "outputs": [],
   "source": [
    "\n",
    "n = 7*11\n",
    "Zn = IntegerModRing(n)\n",
    "a = 60* 10^6 +3\n",
    "Zn(a)"
   ]
  },
  {
   "cell_type": "markdown",
   "id": "40336120",
   "metadata": {},
   "source": [
    "### 4\n",
    "Considere n=2^30-1 m=2^29-1 e o isomorfismo f de anéis Zₙₘ \n",
    "para Zₙ x Zₘ. A imagem recíproca de a,b = (402374628, 220354304) é ____."
   ]
  },
  {
   "cell_type": "code",
   "execution_count": null,
   "id": "4ed91cbc",
   "metadata": {},
   "outputs": [],
   "source": [
    "# Considere n=2^30-1 m=2^29-1 e o isomorfismo f de anéis Zₙₘ \n",
    "# para Zₙ x Zₘ. A imagem recíproca de a,b = (402374628, 220354304) é\n",
    "a, b = (402374628, 220354304)\n",
    "n = 2^30-1\n",
    "m = 2^29-1\n",
    "\n",
    "crt([a,b],[n,m])"
   ]
  },
  {
   "cell_type": "markdown",
   "id": "ae47ed12",
   "metadata": {},
   "source": [
    "### 5\n",
    "Seja n=132002270077371949948362191626864624544281744489044628930994\n",
    "9221398183744757167418233483816517913500769573185604578191251523432\n",
    "96102632245428780393835198756120076413409903767178289970313733641, o\n",
    "produto de dois primos p e q, com p<q.    \n",
    "$\\phi(n)$=132002270077371949948362191\n",
    "6268646245438210134242418221976805402218736627552591454371378733725\n",
    "0092354937109125309569929876298181420041615778930061460488221183885\n",
    "7200400618908255519020024534400.  \n",
    "Então p = ___. "
   ]
  },
  {
   "cell_type": "code",
   "execution_count": null,
   "id": "690f8f7d",
   "metadata": {},
   "outputs": [],
   "source": [
    "n =132002270077371949948362191626864624544281744489044628930994922139818374475716741823348381651791350076957318560457819125152343296102632245428780393835198756120076413409903767178289970313733641\n",
    "phi_n =132002270077371949948362191626864624543821013424241822197680540221873662755259145437137873372500923549371091253095699298762981814200416157789300614604882211838857200400618908255519020024534400\n",
    "\n",
    "def crack_rsa(n, phi_n):\n",
    "    \"\"\"Factoring n Given φ(n)\"\"\"\n",
    "    R.<x> = PolynomialRing(QQ)\n",
    "    f = x^2 - (n+1 - phi_n)*x + n\n",
    "    return [b for b, _ in f.roots()]\n",
    "\n",
    "p_and_q = crack_rsa(n, phi_n)\n",
    "print(p_and_q)\n",
    "\n",
    "p = p_and_q[0] if p_and_q[0] < p_and_q[1] else p_and_q[1]\n",
    "p"
   ]
  },
  {
   "cell_type": "code",
   "execution_count": null,
   "id": "f3a5cdb7",
   "metadata": {},
   "outputs": [],
   "source": [
    "\"\"\"\n",
    "pedro implementation\n",
    "\n",
    "from sympy import symbols, Eq, solve\n",
    "\n",
    "def crack_RSA(n, phi_n):\n",
    "    p, q = symbols('p q')\n",
    "    #x = p + q\n",
    "    x = n - phi_n + 1\n",
    "    \n",
    "    #x_2 = p - q\n",
    "    x_2 = sqrt(x^2 - 4 * n)\n",
    "    \n",
    "    eq1 = Eq(p + q, x)\n",
    "    eq2 = Eq(p - q, x_2)\n",
    "    \n",
    "    return solve((eq1,eq2), (p, q))\n",
    "\n",
    "n =132002270077371949948362191626864624544281744489044628930994922139818374475716741823348381651791350076957318560457819125152343296102632245428780393835198756120076413409903767178289970313733641\n",
    "phi_n =132002270077371949948362191626864624543821013424241822197680540221873662755259145437137873372500923549371091253095699298762981814200416157789300614604882211838857200400618908255519020024534400\n",
    "\n",
    "crack_RSA(n, phi_n)\n",
    "\"\"\""
   ]
  },
  {
   "cell_type": "markdown",
   "id": "f6d998a3",
   "metadata": {},
   "source": [
    "### 6\n",
    "De uma chave pública RSA (n,e)=(27689175374730517, 22840310715134467)\n",
    "sabe-se que p=30366293 divide n. Então o expoente de decifração, d, é igual a ___"
   ]
  },
  {
   "cell_type": "code",
   "execution_count": null,
   "id": "ec8fd752",
   "metadata": {},
   "outputs": [],
   "source": [
    "n = 27689175374730517\n",
    "p = 30366293\n",
    "e = 22840310715134467\n",
    "q = n/p\n",
    "\n",
    "phi_n = (p-1)*(q-1)\n",
    "\n",
    "d = inverse_mod(e,phi_n)\n",
    "d"
   ]
  },
  {
   "cell_type": "code",
   "execution_count": null,
   "id": "0292bd39",
   "metadata": {},
   "outputs": [],
   "source": []
  }
 ],
 "metadata": {
  "kernelspec": {
   "display_name": "SageMath 9.8",
   "language": "sage",
   "name": "sagemath"
  },
  "language_info": {
   "codemirror_mode": {
    "name": "ipython",
    "version": 3
   },
   "file_extension": ".py",
   "mimetype": "text/x-python",
   "name": "python",
   "nbconvert_exporter": "python",
   "pygments_lexer": "ipython3",
   "version": "3.10.9"
  }
 },
 "nbformat": 4,
 "nbformat_minor": 5
}
