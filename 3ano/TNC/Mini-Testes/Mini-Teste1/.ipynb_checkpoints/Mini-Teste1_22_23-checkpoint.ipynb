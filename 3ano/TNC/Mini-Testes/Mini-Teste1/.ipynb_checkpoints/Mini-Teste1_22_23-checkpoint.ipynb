{
 "cells": [
  {
   "cell_type": "markdown",
   "id": "ca9830b7",
   "metadata": {},
   "source": [
    "### 1\n",
    "Para n=5* 13 e a=48* 10^6+1, o resto da divisão inteira de 3^(a) por n é ___. "
   ]
  },
  {
   "cell_type": "code",
   "execution_count": 2,
   "id": "d15aebeb",
   "metadata": {},
   "outputs": [
    {
     "data": {
      "text/plain": [
       "3"
      ]
     },
     "execution_count": 2,
     "metadata": {},
     "output_type": "execute_result"
    }
   ],
   "source": [
    "a=48*10^6+1\n",
    "n=5*13\n",
    "power_mod(3, a , n)"
   ]
  },
  {
   "cell_type": "markdown",
   "id": "64e3acd4",
   "metadata": {},
   "source": [
    "### 2"
   ]
  },
  {
   "cell_type": "code",
   "execution_count": 6,
   "id": "695ce125",
   "metadata": {},
   "outputs": [
    {
     "data": {
      "text/plain": [
       "15646515"
      ]
     },
     "execution_count": 6,
     "metadata": {},
     "output_type": "execute_result"
    }
   ],
   "source": [
    "mens = 1234\n",
    "PubKey = (491219447, 104843387)\n",
    "\n",
    "def RSA_encrypt(PubKey, mens):\n",
    "    n, e = PubKey\n",
    "    return power_mod(mens, e, n)\n",
    "\n",
    "RSA_encrypt(PubKey, mens)"
   ]
  },
  {
   "cell_type": "markdown",
   "id": "93f15d1a",
   "metadata": {},
   "source": [
    "### 3"
   ]
  },
  {
   "cell_type": "code",
   "execution_count": 8,
   "id": "0a08c12f",
   "metadata": {},
   "outputs": [
    {
     "data": {
      "text/plain": [
       "78001893946017389"
      ]
     },
     "execution_count": 8,
     "metadata": {},
     "output_type": "execute_result"
    }
   ],
   "source": [
    "n=2^30-1\n",
    "m=2^29-1\n",
    "\n",
    "crt([818560937, 354334950], [n,m])"
   ]
  },
  {
   "cell_type": "markdown",
   "id": "01b4beaa",
   "metadata": {},
   "source": [
    "### 4\n",
    "De uma chave pública RSA (n,e)=(27689175374730517, 22840310715134467) sabe-se que p=30366293 divide n. Então o expoente de decifração, d, é igual a "
   ]
  },
  {
   "cell_type": "code",
   "execution_count": 11,
   "id": "bdda72bb",
   "metadata": {},
   "outputs": [
    {
     "data": {
      "text/plain": [
       "22151829585186475"
      ]
     },
     "execution_count": 11,
     "metadata": {},
     "output_type": "execute_result"
    }
   ],
   "source": [
    "n = 27689175374730517\n",
    "e = 22840310715134467\n",
    "p = 30366293\n",
    "q = n/p\n",
    "\n",
    "phi_n = euler_phi(n)\n",
    "\n",
    "d = power_mod(e, -1, phi_n)\n",
    "d\n",
    "#PubKey = (n, e)"
   ]
  },
  {
   "cell_type": "markdown",
   "id": "5cfd5888",
   "metadata": {},
   "source": [
    "### 5"
   ]
  },
  {
   "cell_type": "code",
   "execution_count": 12,
   "id": "d07e28cb",
   "metadata": {},
   "outputs": [
    {
     "data": {
      "text/plain": [
       "[4938334880924504117312522408562543432692124417696153068853777836654499847554730544281556571287418511458811358740009129217140856084278191331087645206407243,\n",
       " 41524312871235577117091595980453530277]"
      ]
     },
     "execution_count": 12,
     "metadata": {},
     "output_type": "execute_result"
    }
   ],
   "source": [
    "n = 205060962658444997392293932779186804334744892058831278603651316430692457602649868676813660672059473686066433807871543749142012527490771161913022854480706861240087242021878783143422739092596311\n",
    "phi_n=205060962658444997392293932779186804329806557177906774486338794022129914169957744259117507603205695849411933960316813204860455956203352650454211495740697690498633514702023474720739113432658792\n",
    "\n",
    "def crack_rsa(n, phi_n):\n",
    "    \"\"\"Factoring n Given φ(n)\"\"\"\n",
    "    R.<x> = PolynomialRing(QQ)\n",
    "    f = x^2 - (n+1 - phi_n)*x + n\n",
    "    return [b for b, _ in f.roots()]\n",
    "\n",
    "crack_rsa(n, phi_n)"
   ]
  },
  {
   "cell_type": "markdown",
   "id": "84b9e75a",
   "metadata": {},
   "source": [
    "### 6"
   ]
  },
  {
   "cell_type": "code",
   "execution_count": 13,
   "id": "e3d36149",
   "metadata": {},
   "outputs": [
    {
     "data": {
      "text/plain": [
       "2"
      ]
     },
     "execution_count": 13,
     "metadata": {},
     "output_type": "execute_result"
    }
   ],
   "source": [
    "gcd(86, 6)"
   ]
  },
  {
   "cell_type": "code",
   "execution_count": 14,
   "id": "4a68707f",
   "metadata": {},
   "outputs": [
    {
     "data": {
      "text/plain": [
       "1"
      ]
     },
     "execution_count": 14,
     "metadata": {},
     "output_type": "execute_result"
    }
   ],
   "source": [
    "gcd(53, 6)"
   ]
  },
  {
   "cell_type": "code",
   "execution_count": 15,
   "id": "43e61bfd",
   "metadata": {},
   "outputs": [
    {
     "data": {
      "text/plain": [
       "1"
      ]
     },
     "execution_count": 15,
     "metadata": {},
     "output_type": "execute_result"
    }
   ],
   "source": [
    "gcd(161, 6)"
   ]
  },
  {
   "cell_type": "code",
   "execution_count": 16,
   "id": "d6ca6a08",
   "metadata": {},
   "outputs": [
    {
     "data": {
      "text/plain": [
       "1"
      ]
     },
     "execution_count": 16,
     "metadata": {},
     "output_type": "execute_result"
    }
   ],
   "source": [
    "gcd(103, 6)"
   ]
  },
  {
   "cell_type": "code",
   "execution_count": null,
   "id": "72a0f08e",
   "metadata": {},
   "outputs": [],
   "source": []
  }
 ],
 "metadata": {
  "kernelspec": {
   "display_name": "SageMath 9.8",
   "language": "sage",
   "name": "sagemath"
  },
  "language_info": {
   "codemirror_mode": {
    "name": "ipython",
    "version": 3
   },
   "file_extension": ".py",
   "mimetype": "text/x-python",
   "name": "python",
   "nbconvert_exporter": "python",
   "pygments_lexer": "ipython3",
   "version": "3.10.9"
  }
 },
 "nbformat": 4,
 "nbformat_minor": 5
}
