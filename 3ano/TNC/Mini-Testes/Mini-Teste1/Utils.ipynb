{
 "cells": [
  {
   "cell_type": "code",
   "execution_count": null,
   "id": "6af2cfe9",
   "metadata": {},
   "outputs": [],
   "source": [
    "def factorial_mod(k, n):\n",
    "    \"\"\"função que calcula k! mod n\"\"\"\n",
    "    Zn = IntegerModRing(n)\n",
    "    factorial = Zn(1)\n",
    "    \n",
    "    for j in range(1, k+1):\n",
    "        factorial = factorial * j\n",
    "    \n",
    "    return ZZ(factorial)\n",
    "\n",
    "\n",
    "def teste_Wilson(n):\n",
    "    \"\"\"Testa a primalidade de um natural usando o Teorema de Wilson\"\"\"\n",
    "    return mod(factorial_mod(n-1, n), n) == mod(-1, n)"
   ]
  },
  {
   "cell_type": "code",
   "execution_count": null,
   "id": "91fd6bdb",
   "metadata": {},
   "outputs": [],
   "source": [
    "def teste_Fermat(n, base = 2):\n",
    "    if gcd(base, n) != 1:\n",
    "        return False\n",
    "    \n",
    "    return power_mod(base, n-1, n) == 1\n",
    "# o power_mod faz base^(n-1) % n\n",
    "\n",
    "teste_Fermat(103)"
   ]
  },
  {
   "cell_type": "markdown",
   "id": "aa1150e4",
   "metadata": {},
   "source": [
    "### Teste de Miller"
   ]
  },
  {
   "cell_type": "code",
   "execution_count": 16,
   "id": "d6194755",
   "metadata": {},
   "outputs": [
    {
     "data": {
      "text/plain": [
       "(5, 3)"
      ]
     },
     "execution_count": 16,
     "metadata": {},
     "output_type": "execute_result"
    }
   ],
   "source": [
    "def decomp(n):\n",
    "    s = 0\n",
    "    t = n-1\n",
    "    while t % 2 == 0:\n",
    "        t = t // 2\n",
    "        s+=1\n",
    "    return s, t\n",
    "decomp(n)"
   ]
  },
  {
   "cell_type": "code",
   "execution_count": 19,
   "id": "159ba3d5",
   "metadata": {},
   "outputs": [
    {
     "data": {
      "text/plain": [
       "True"
      ]
     },
     "execution_count": 19,
     "metadata": {},
     "output_type": "execute_result"
    }
   ],
   "source": [
    "n = 97\n",
    "def Miller(n, b=2):\n",
    "    Zn = IntegerModRing(n)\n",
    "    b = Zn(b)\n",
    "    s, t = decomp(n)\n",
    "    if b^t == 1:\n",
    "        return True\n",
    "    j = 0\n",
    "    while b^(2^j *t) != Zn(-1) and j<= s-1:\n",
    "        j = j+1\n",
    "    return b^(2^j *t) == Zn(-1)\n",
    "Miller(13)"
   ]
  },
  {
   "cell_type": "markdown",
   "id": "943d39bd",
   "metadata": {},
   "source": [
    "## RSA "
   ]
  },
  {
   "cell_type": "markdown",
   "id": "b5bc029f",
   "metadata": {},
   "source": [
    "#### Fatorização usando o teorema de fatorização de Fermat"
   ]
  },
  {
   "cell_type": "code",
   "execution_count": 5,
   "id": "c0a16a4e",
   "metadata": {},
   "outputs": [
    {
     "data": {
      "text/plain": [
       "(41, 25)"
      ]
     },
     "execution_count": 5,
     "metadata": {},
     "output_type": "execute_result"
    }
   ],
   "source": [
    "def crack_when_pq_close(n):\n",
    "    \"\"\"When p and q are Close (uses Fermat Factorization Method) p.62\"\"\"\n",
    "    t = Integer(ceil(sqrt(n)))\n",
    "    while True:\n",
    "        k = t^2 - n\n",
    "        if k > 0:\n",
    "            s = Integer(int(round(sqrt(t^2 - n))))\n",
    "            if s^2 + n == t^2:\n",
    "                return t+s, t-s\n",
    "\n",
    "        t += 1\n",
    "crack_when_pq_close(1025)"
   ]
  },
  {
   "cell_type": "code",
   "execution_count": 6,
   "id": "2e29ebde",
   "metadata": {},
   "outputs": [
    {
     "data": {
      "text/plain": [
       "64"
      ]
     },
     "execution_count": 6,
     "metadata": {},
     "output_type": "execute_result"
    }
   ],
   "source": [
    "def ρ_pollard(n):\n",
    "    \"\"\"Cormen, Thomas H.; Leiserson, Charles E.; Rivest, Ronald L. & Stein, Clifford (2009). \"Section 31.9: Integer factorization\". Introduction to Algorithms (third ed.). Cambridge, MA: MIT Press. pp. 975–980. ISBN 978-0-262-03384-8. (this section discusses only Pollard's rho algorithm).\"\"\"\n",
    "    x = 2\n",
    "    y = 2\n",
    "    d = 1\n",
    "    g = lambda x: mod(x**2+1,n)\n",
    "    while d == 1:\n",
    "        x = g(x)\n",
    "        y = g(g(y))\n",
    "        d = gcd(x - y, n)\n",
    "    if d == n:\n",
    "        return None\n",
    "    else:\n",
    "        return d\n",
    "    \n",
    "ρ_pollard(1024)"
   ]
  },
  {
   "cell_type": "code",
   "execution_count": 10,
   "id": "121e1f1d",
   "metadata": {},
   "outputs": [
    {
     "data": {
      "text/plain": [
       "2"
      ]
     },
     "execution_count": 10,
     "metadata": {},
     "output_type": "execute_result"
    }
   ],
   "source": [
    "def ρ_menos_um_pollard(N, B=10^5, stop=10):\n",
    "    \"\"\"Pollard’s (p − 1)-Method\"\"\"\n",
    "    m = prod([p^int(math.log(B)/math.log(p)) for p in prime_range(B+1)])\n",
    "    for a in [2..stop]:\n",
    "        x = (Mod(a,N)^m - 1).lift()\n",
    "        if x == 0: continue\n",
    "        g = gcd(x, N)\n",
    "        if g != 1 or g != N: return g\n",
    "    return 1\n",
    "\n",
    "ρ_menos_um_pollard(1278)"
   ]
  },
  {
   "cell_type": "markdown",
   "id": "6e5e3616",
   "metadata": {},
   "source": [
    "#### Fatorizar n tendo φ(n)"
   ]
  },
  {
   "cell_type": "code",
   "execution_count": null,
   "id": "dcde19ea",
   "metadata": {},
   "outputs": [],
   "source": [
    "def crack_rsa(n, phi_n):\n",
    "    \"\"\"Factoring n Given φ(n)\"\"\"\n",
    "    R.<x> = PolynomialRing(QQ)\n",
    "    f = x^2 - (n+1 - phi_n)*x + n\n",
    "    return [b for b, _ in f.roots()]\n",
    "\n"
   ]
  },
  {
   "cell_type": "code",
   "execution_count": 10,
   "id": "8450c16c",
   "metadata": {},
   "outputs": [],
   "source": [
    "def findOrders(n):\n",
    "    Zn = IntegerModRing(n)\n",
    "    srr = [a for a in Zn if gcd(a,n)==1]\n",
    "    return pretty_print([(r,Zn(r).multiplicative_order()) for r in srr])\n",
    "\n",
    "def findRoots(n):\n",
    "    phi = euler_phi(n)\n",
    "    Zn = IntegerModRing(n)\n",
    "    srr = [a for a in Zn if gcd(a,n)==1]\n",
    "    return [r for r in srr if Zn(r).multiplicative_order()== phi]\n",
    "\n",
    "def findSrr(n):\n",
    "    phi = euler_phi(n)\n",
    "    Zn = IntegerModRing(n)\n",
    "    return [a for a in Zn if gcd(a,n)==1] \n",
    "\n",
    "def findSrr2(n):\n",
    "    return IntegerModRing(n).list_of_elements_of_multiplicative_group()"
   ]
  },
  {
   "cell_type": "markdown",
   "id": "cca1b11d",
   "metadata": {},
   "source": [
    "### RSA Generation, encryption and decryption\n",
    "PubKey = (e, n) ||\n",
    "PrivKey = (d, n)\n",
    "\n",
    "Encryption -  x^e mod N ||||\n",
    "Decryption - (x^e)^d mod N\n"
   ]
  },
  {
   "cell_type": "code",
   "execution_count": 3,
   "id": "e49a798e",
   "metadata": {},
   "outputs": [
    {
     "data": {
      "text/plain": [
       "474676446"
      ]
     },
     "execution_count": 3,
     "metadata": {},
     "output_type": "execute_result"
    }
   ],
   "source": [
    "def RSA_gen(nbits):\n",
    "    p = random_prime(2^(nbits//2+1), lbound=2^(nbits // 2))\n",
    "    q = random_prime(2^(nbits//2), lbound=2^(nbits//2-1))\n",
    "    n = p*q\n",
    "    m = (p-1)*(q-1)\n",
    "    e = randint(2, m-1)\n",
    "    \n",
    "    while gcd(e,m) != 1:\n",
    "        e = randint(2, m-1)\n",
    "        \n",
    "    d = power_mod(e, -1, m)\n",
    "    PubKey = (n, e)\n",
    "    PrivKey = (n, d)\n",
    "    \n",
    "    return PubKey, PrivKey\n",
    "\n",
    "def RSA_encrypt(PubKey, mens):\n",
    "    n, e = PubKey\n",
    "    return power_mod(mens, e, n)\n",
    "\n",
    "def RSA_decrypt(PrivKey, cypherText):\n",
    "    n, d = PrivKey\n",
    "    return power_mod(cypherText, d, n)\n",
    "\n",
    "RSA_encrypt((630148901, 41859065), 1234)"
   ]
  },
  {
   "cell_type": "code",
   "execution_count": 2,
   "id": "58f6cb66",
   "metadata": {},
   "outputs": [],
   "source": [
    "def rsa_e(bits,e):\n",
    "    # only prove correctness up to 1024 bits\n",
    "    proof = (bits <= 1024)\n",
    "    while True:\n",
    "        p = next_prime(ZZ.random_element(2**(bits//2+1)),\n",
    "                proof=proof)\n",
    "        q = next_prime(ZZ.random_element(2**(bits//2+1)),\n",
    "                proof=proof)\n",
    "        n = p*q\n",
    "        phi_n = (p-1)*(q-1)\n",
    "        if gcd(e,phi_n) == 1: break\n",
    "    d = lift(Mod(e,phi_n)^(-1))\n",
    "    return d, n, e"
   ]
  },
  {
   "cell_type": "code",
   "execution_count": null,
   "id": "9c01ce2b",
   "metadata": {},
   "outputs": [],
   "source": []
  },
  {
   "cell_type": "code",
   "execution_count": null,
   "id": "82eb87c9",
   "metadata": {},
   "outputs": [],
   "source": [
    "n=1431702961131339621602945101050088245802771644687686106472404992618656781417216251296575852739319584928520070989102317406096771341195807540255351846662720304620283140579998725212022478694288443\n",
    "phi_n = 1431702961131339621602945101050088245793639679386713169093313712250573769060652354811397118799813658291947433707988011985679885048571032964071342275971679191493672348651555118274559858896490208\n"
   ]
  }
 ],
 "metadata": {
  "kernelspec": {
   "display_name": "SageMath 9.8",
   "language": "sage",
   "name": "sagemath"
  },
  "language_info": {
   "codemirror_mode": {
    "name": "ipython",
    "version": 3
   },
   "file_extension": ".py",
   "mimetype": "text/x-python",
   "name": "python",
   "nbconvert_exporter": "python",
   "pygments_lexer": "ipython3",
   "version": "3.10.10"
  }
 },
 "nbformat": 4,
 "nbformat_minor": 5
}
