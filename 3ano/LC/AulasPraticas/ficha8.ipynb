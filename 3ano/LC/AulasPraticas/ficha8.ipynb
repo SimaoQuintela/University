{
 "cells": [
  {
   "cell_type": "markdown",
   "metadata": {
    "id": "FNdYXkIUq2sY"
   },
   "source": [
    "# Verificação Indutiva\n",
    "\n",
    "Na aula passada vimos como modelar sistemas dinâmicos com *First-order Transition Systems* (FOTSs) e como verificar propriedades de segurança e animação sobre estes sistemas com *Bounded Model Checking* (BMC). O procedimento de BMC verifica se uma propriedade é válida num FOTS considerando apenas um número limitado de estados de execução. Se quisermos verificar uma propriedade para qualquer execução não limitada do FOTS temos que usar um procedimento alternativo. Nesta aula vamos usar indução para fazer verificação em traços não limitadados."
   ]
  },
  {
   "cell_type": "markdown",
   "metadata": {
    "id": "_s3umjWjq2sd"
   },
   "source": [
    "## Verificação indutiva de invariantes\n",
    "\n",
    "No caso da verificação de propriedades de segurança $G\\ \\phi$, para verificar o invariante $\\phi$ por indução temos que verificar as seguintes condições:\n",
    "- $\\phi$ é válido nos estados iniciais, ou seja, $\\mathit{init}(s) \\rightarrow \\phi(s)$\n",
    "- Para qualquer estado, assumindo que $\\phi$ é verdade, se executarmos uma transição, $\\phi$ continua a ser verdade no próximo estado, ou seja, $\\phi(s) \\wedge \\mathit{trans}(s,s') \\rightarrow \\phi(s')$."
   ]
  },
  {
   "cell_type": "markdown",
   "metadata": {
    "id": "ExovCEMTq2se"
   },
   "source": [
    "### Exercício 1\n",
    "\n",
    "Implemente a função `induction_always` para verificação de invariantes por indução. \n",
    "A função recebe como argumento uma função que gera uma cópia das variáveis do estado, um predicado que testa se um estado é inicial, um predicado que testa se um par de estados é uma transição válida, e o invariante.\n",
    "\n",
    "Note que terá que testar a validade das duas condições acima recorrendo à satisfiabilidade, ou seja, usando o solver para encontrar contra-exemplos, devendo o procedimento reportar qual das propriedades falha. Por exemplo, no caso da primeira deve procurar uma valoração que satisfaça $\\mathit{init}(s) \\wedge \\neg \\phi(s)$."
   ]
  },
  {
   "cell_type": "code",
   "execution_count": null,
   "metadata": {},
   "outputs": [],
   "source": [
    "from pysmt.shortcuts import *\n",
    "from pysmt.typing import INT\n",
    "\n",
    "\n",
    "def induction_always(declare,init,trans,inv):\n",
    "    with Solver(name=\"z3\") as s:\n",
    "    \n",
    "    # completar\n",
    "    "
   ]
  },
  {
   "cell_type": "markdown",
   "metadata": {
    "id": "n7Tp8y0Tq2sg"
   },
   "source": [
    "Usando este procedimento podemos tentar verificar a propriedade $G (x \\ge 0)$ sobre o programa\n",
    "\n",
    "```Python\n",
    "{ x >= 3 }\n",
    "0: while (x>0):\n",
    "1:    x = x-1\n",
    "2: stop\n",
    "```"
   ]
  },
  {
   "cell_type": "code",
   "execution_count": null,
   "metadata": {
    "colab": {
     "base_uri": "https://localhost:8080/"
    },
    "executionInfo": {
     "elapsed": 24,
     "status": "ok",
     "timestamp": 1636473291699,
     "user": {
      "displayName": "Maria João Frade",
      "photoUrl": "https://lh3.googleusercontent.com/a-/AOh14Ggsl7DgkrbKKq_x5wt54lWf1B_Ow_4tBk8o4LfVfw=s64",
      "userId": "03944960066051965480"
     },
     "user_tz": 0
    },
    "id": "M-rhnphYq2sh",
    "outputId": "8c479b20-bdfd-4f47-9ca7-b6794d880731"
   },
   "outputs": [],
   "source": [
    "def declare(i):\n",
    "    state = {}\n",
    "    state['pc'] = Symbol('pc'+str(i),INT)\n",
    "    state['x'] = Symbol('x'+str(i),INT)\n",
    "    return state\n",
    "\n",
    "def init(state):\n",
    "    return And(Equals(state['pc'],Int(0)), state['x']>= Int(3))\n",
    "\n",
    "def trans(curr,prox):\n",
    "    t01 = And(Equals(curr['pc'],Int(0)),curr['x'] > Int(0), Equals(prox['pc'],Int(1)), Equals(prox['x'],curr['x']))\n",
    "    t02 = And(Equals(curr['pc'],Int(0)),curr['x'] <= Int(0), Equals(prox['pc'],Int(2)), Equals(prox['x'],curr['x']))\n",
    "    t10 = And(Equals(curr['pc'],Int(1)),Equals(prox['pc'],Int(0)),Equals(prox['x'],curr['x']-Int(1)))\n",
    "    t22 = And(Equals(curr['pc'],Int(2)),Equals(prox['pc'],Int(2)),Equals(prox['x'],curr['x']))\n",
    "    return Or(t02,t01,t10,t22)\n",
    "\n",
    "def nonnegative(state):\n",
    "    return (state['x'] >= Int(0))\n",
    "\n",
    "induction_always(declare,init,trans,nonnegative)"
   ]
  },
  {
   "cell_type": "markdown",
   "metadata": {
    "id": "qwlKfE4gq2si"
   },
   "source": [
    "Como se pode verificar, a propriedade anterior, embora seja verdade, não pode ser verificada por indução, pois o passo indutivo falha quando $\\mathit{pc} = 1$ e $x = 0$. De facto, este contra-exemplo para o passo de indução não é realista, dado que este estado não é acessível a partir do estado inicial. Para verificarmos esta propriedade por indução temos que encontrar um invariante $\\phi$ que seja mais forte que o desejado, ou seja, $\\phi(x,\\mathit{pc}) \\rightarrow x \\ge 0$, e que seja verificável por indução."
   ]
  },
  {
   "cell_type": "markdown",
   "metadata": {
    "id": "2pXO5njkq2sj"
   },
   "source": [
    "### Exercício 2\n",
    "\n",
    "Encontre uma propriedade mais forte que $x \\ge 0$ e que seja verificável por indução. Sugestão: pode ser útil usar a funcção `Ite` do pySMT, que corresponde a um if-then-else lógico."
   ]
  },
  {
   "cell_type": "code",
   "execution_count": null,
   "metadata": {
    "colab": {
     "base_uri": "https://localhost:8080/"
    },
    "executionInfo": {
     "elapsed": 23,
     "status": "ok",
     "timestamp": 1636473291700,
     "user": {
      "displayName": "Maria João Frade",
      "photoUrl": "https://lh3.googleusercontent.com/a-/AOh14Ggsl7DgkrbKKq_x5wt54lWf1B_Ow_4tBk8o4LfVfw=s64",
      "userId": "03944960066051965480"
     },
     "user_tz": 0
    },
    "id": "f4lEpeshq2sj",
    "outputId": "db2e81d9-d9cf-46c8-a5c7-38cb83611dda"
   },
   "outputs": [],
   "source": [
    "# completar\n"
   ]
  },
  {
   "cell_type": "markdown",
   "metadata": {
    "id": "ZYl6hfLaq2sk"
   },
   "source": [
    "### Exercício 3\n",
    "\n",
    "Utilize o SMT solver para verificar que essa propriedade é realmente mais forte que $x \\ge 0$."
   ]
  },
  {
   "cell_type": "code",
   "execution_count": null,
   "metadata": {
    "colab": {
     "base_uri": "https://localhost:8080/"
    },
    "executionInfo": {
     "elapsed": 19,
     "status": "ok",
     "timestamp": 1636473291701,
     "user": {
      "displayName": "Maria João Frade",
      "photoUrl": "https://lh3.googleusercontent.com/a-/AOh14Ggsl7DgkrbKKq_x5wt54lWf1B_Ow_4tBk8o4LfVfw=s64",
      "userId": "03944960066051965480"
     },
     "user_tz": 0
    },
    "id": "ftEnYAQ4q2sl",
    "outputId": "6f414d93-1b5c-4153-a7ae-d665f1555413"
   },
   "outputs": [],
   "source": [
    "# completar\n"
   ]
  },
  {
   "cell_type": "markdown",
   "metadata": {
    "id": "-kBZIxZRq2sl"
   },
   "source": [
    "Nem sempre é fácil encontrar um invariante indutivo mais forte que o desejado. Um procedimento de verificação alternativo que pode ser utilizado nesses casos é a designada $k$-indução. A ideia é generalizar a indução simples assumindo no passo indutivo que o invariante é válido nos $k$ estados anteriores. Claro que neste caso também será necessário verificar que a propriedade é válida nos $k$ primeiros estados. Com esta generalização é possível verificar que $x \\ge 0$ é um invariante recorrendo a $k$-indução com $k=2$."
   ]
  },
  {
   "cell_type": "markdown",
   "metadata": {
    "id": "7ICWikCAq2sm"
   },
   "source": [
    "### Exercício 4\n",
    "\n",
    "Implemente o método `kinduction_always` para verificação de invariantes por $k$-indução."
   ]
  },
  {
   "cell_type": "code",
   "execution_count": null,
   "metadata": {},
   "outputs": [],
   "source": [
    "def kinduction_always(declare,init,trans,inv,k):\n",
    "\n",
    "    # completar\n"
   ]
  },
  {
   "cell_type": "markdown",
   "metadata": {
    "id": "us3fkVlVq2sn"
   },
   "source": [
    "## Verificação de propriedades de animação por indução\n",
    "\n",
    "Como vimos, podemos verificar propriedades de animação do tipo $F\\ \\phi$ usando BMC. Mais uma vez, se quisermos verificar estas propriedades para qualquer execução ilimitada temos que usar um procedimento alternativo. Uma possibilidade consiste em reduzir a verificação dessas propriedades à verificação de uma propriedade de segurança, mais concretamente um invariante, que possa ser verificado por indução.\n",
    "\n",
    "Por exemplo, uma técnica que pode ser usada para verificar uma propriedade de animação do tipo $F\\ (G\\ \\phi)$, passa por descobrir um *variante* $V$ que satisfaz as seguintes condições:\n",
    "- O variante nunca é negativo, ou seja, $G\\ (V(s) \\ge 0)$\n",
    "- O variante descresce sempre (estritamente) ou atinge o valor 0, ou seja, $G\\ (\\forall s' . \\mathit{trans}(s,s') \\rightarrow (V(s') < V(s) \\vee V(s') = 0))$\n",
    "- Quando o variante é 0 verifica-se necessariamente $\\phi$, ou seja, $G\\ (V(s)=0 \\rightarrow \\phi(s))$\n",
    "\n",
    "A terminação de um programa é um dos exemplos de propriedade que encaixa neste padrão. Por exemplo, para o programa acima a terminação pode ser expressa por $F\\ (G\\ \\mathit{pc}=2)$ (note que devido ao lacete no estado final, o programa permanece indefinidamente no estado final).\n",
    "\n",
    "Note que a segunda condição recorre a uma quantificação universal sobre os possíveis estados alcançáveis por uma transição a partir de cada estado."
   ]
  },
  {
   "cell_type": "markdown",
   "metadata": {
    "id": "mMQvyYUJq2sn"
   },
   "source": [
    "### Exercício 5\n",
    "\n",
    "Descubra o variante que permite provar por indução que o programa acima termina. Encontre também os menores valores de $k$ que permitem provar as condições acima por $k$-indução."
   ]
  },
  {
   "cell_type": "code",
   "execution_count": null,
   "metadata": {},
   "outputs": [],
   "source": [
    "# completar"
   ]
  },
  {
   "cell_type": "markdown",
   "metadata": {
    "id": "9QJB46sNq2so"
   },
   "source": [
    "### Exercício 6\n",
    "\n",
    "Encontrar um variante que decresça em todas as transições nem sempre é fácil. Podemos relaxar a segunda condição acima e exigir que o variante apenas tenha que decrescer estritamente a cada $l$ transições. Neste caso dizemos que temos um *lookahead* de $l$. Altere a definição da função decrescente por forma a considerar um lookahead de 2 e encontre um variante mais simples que o anterior que lhe permita verificar a terminação do programa."
   ]
  },
  {
   "cell_type": "code",
   "execution_count": null,
   "metadata": {
    "colab": {
     "base_uri": "https://localhost:8080/"
    },
    "executionInfo": {
     "elapsed": 1356,
     "status": "ok",
     "timestamp": 1636473293412,
     "user": {
      "displayName": "Maria João Frade",
      "photoUrl": "https://lh3.googleusercontent.com/a-/AOh14Ggsl7DgkrbKKq_x5wt54lWf1B_Ow_4tBk8o4LfVfw=s64",
      "userId": "03944960066051965480"
     },
     "user_tz": 0
    },
    "id": "U8xmhg1lq2sp",
    "outputId": "b35fbeae-8364-4f7e-bfc8-870354e384c5"
   },
   "outputs": [],
   "source": [
    "# completar"
   ]
  }
 ],
 "metadata": {
  "colab": {
   "collapsed_sections": [],
   "name": "Aula7-Resolucao.ipynb",
   "provenance": []
  },
  "kernelspec": {
   "display_name": "Python 3 (ipykernel)",
   "language": "python",
   "name": "python3"
  },
  "language_info": {
   "codemirror_mode": {
    "name": "ipython",
    "version": 3
   },
   "file_extension": ".py",
   "mimetype": "text/x-python",
   "name": "python",
   "nbconvert_exporter": "python",
   "pygments_lexer": "ipython3",
   "version": "3.10.4"
  }
 },
 "nbformat": 4,
 "nbformat_minor": 1
}
