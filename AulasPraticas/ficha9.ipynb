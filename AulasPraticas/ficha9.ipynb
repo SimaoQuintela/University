{
 "cells": [
  {
   "cell_type": "markdown",
   "id": "ea9990c0",
   "metadata": {},
   "source": [
    "# Safe First-Order Transion Systems\n",
    "\n",
    "A verificação de propriedades lógicas de sistemas dinâmicos feita  em comportamentos ilimitados cinge-se, quase sempre, a propriedades de segurança da forma $\\,\\mathsf{G}\\,\\mathsf{P}\\,$  em que $\\,\\mathsf{P}\\,$ é uma propriedade de segurança expressa como um predicado nas variáveis de estado do sistema.\n",
    "Como não é possível verificar fórmulas temporais genéricas, muitos modelos de sistemas dinâmicos incluem a propriedade $\\,\\mathsf{P}\\,$ diretamente na formulação do próprio sistema e dispensam a lógica temporal. \n",
    "Mais exatamente é mais natural exprimir a propriedade de segurança $\\,\\mathsf{P}\\,$ como a negação de uma condição de erro $\\,\\mathsf{E}\\,$;  isto é, o sistema está num estado seguro se  não estiver num estado onde se verifique a condição de erro $\\,\\mathsf{E}\\,$.\n",
    "\n",
    "\n",
    "**Safe First Order Transition Systems (SFOTS)** são modelos de sistemas dinâmicos definidos por\n",
    "$\\:\\:\\:\\Sigma\\;\\equiv\\;\\langle\\,\\mathsf{X}\\,,\\,\\mathsf{next}\\,,\\,\\mathsf{I}\\,,\\,\\mathsf{T}\\,,\\,\\mathsf{E}\\,\\rangle\\:\\:\\:$\n",
    "onde \n",
    "$\\,\\mathsf{X}\\,$ é o conjunto das variáveis base que define o espaço de estados,\n",
    "$\\,\\mathsf{next}\\,$ é o operador que gera os vários “clones” dessas variáveis,\n",
    "$\\;\\mathsf{I}\\;$ é o predicado que determina os estados iniciais,\n",
    "$\\;\\mathsf{T}\\;$ é o predicado que define a relação de transição entre estados, e\n",
    "$\\;\\mathsf{E}\\;$ é o predicado que define uma condição de erro."
   ]
  },
  {
   "cell_type": "code",
   "execution_count": 1,
   "id": "29ec6ef6",
   "metadata": {},
   "outputs": [],
   "source": [
    "from pysmt.shortcuts import *\n",
    "from pysmt.typing import INT\n",
    "\n",
    "import itertools "
   ]
  },
  {
   "cell_type": "markdown",
   "id": "5c7bb153",
   "metadata": {},
   "source": [
    "Considere o seguinte programa anotado com uma pré-condição e com valor do *program counter*.\n",
    "```Python\n",
    "{ x >= 3 }\n",
    "0: while (x>0):\n",
    "1:     if x == 2:\n",
    "2:        raise Error\n",
    "3:     x = x-5\n",
    "4: stop\n",
    "```\n",
    "Para modelar este programa como um SFOTS teremos o conjunto $\\mathsf{X}$ de variáveis do estado dado pela lista `['x','pc']`, e definimos a função\n",
    "`genState` que recebe a lista com o nome das variáveis do estado, uma etiqueta e um inteiro, e cria a i-ésima cópia das variáveis do estado para essa etiqueta. As variáveis lógicas começam sempre com o nome de base das variáveis dos estado, seguido do separador `!`."
   ]
  },
  {
   "cell_type": "code",
   "execution_count": 2,
   "id": "0456cf03",
   "metadata": {},
   "outputs": [],
   "source": [
    "def genState(vars,s,i):\n",
    "    state = {}\n",
    "    for v in vars:\n",
    "        state[v] = Symbol(v+'!'+s+str(i),INT)\n",
    "    return state"
   ]
  },
  {
   "cell_type": "markdown",
   "id": "efa3f2a0",
   "metadata": {},
   "source": [
    "### Exercício 1\n",
    "\n",
    "Defina as seguintes funções para completar a modelação deste programa:\n",
    "- `init1` dado um estado do programa (um dicionário de variáveis), devolve um predicado do pySMT que testa se esse estado é um possível estado inicial do programa.\n",
    "- `error1` dado um  estado do programa, devolve um predicado do pySMT que testa se esse estado é um possível estado de erro do programa.\n",
    "- `trans1` que, dados dois estados do programa, devolve um predicado do pySMT que testa se é possível transitar do primeiro para o segundo estado"
   ]
  },
  {
   "cell_type": "code",
   "execution_count": 3,
   "id": "85da258d",
   "metadata": {},
   "outputs": [],
   "source": [
    "def init1(state):\n",
    "    return And(Equals(state['pc'], 0), state['x'] >= 3)\n",
    "\n",
    "def error1(state):\n",
    "    return And(Equals(state['pc'] ,2))\n",
    "\n",
    "def trans1(curr, prox):\n",
    "    t1 = And(\n",
    "        curr['pc'] == 0,\n",
    "        curr['x'] == 0,\n",
    "        prox['pc'] == 1,\n",
    "        prox['x'] == curr['x']\n",
    "    )\n",
    "    \n",
    "    t2 = And(\n",
    "        curr['pc'] == 0,\n",
    "        curr['x'] <= 0,\n",
    "        prox['pc'] == 4,\n",
    "        prox['x'] == curr['x']\n",
    "    )\n",
    "    \n",
    "    t3 = And(\n",
    "        curr['pc'] == 1,\n",
    "        curr['x'] == 2,\n",
    "        prox['pc'] == 2,\n",
    "        prox['x'] == curr['x']\n",
    "    )\n",
    "    \n",
    "    t4 = And(\n",
    "        curr['pc'] == 1,\n",
    "        curr['x'] != 2,\n",
    "        prox['pc'] == 3,\n",
    "        prox['x'] == curr['x']\n",
    "    )\n",
    "    \n",
    "    t5 = And(\n",
    "        curr['pc'] == 2,\n",
    "        prox['pc'] == 2,\n",
    "        prox['x'] == curr['x']\n",
    "    )\n",
    " \n",
    "    t6 = And(\n",
    "        curr['pc'] == 1,\n",
    "        prox['pc'] == 0,\n",
    "        prox['x'] == curr['x'] -5\n",
    "    )\n",
    "\n",
    "    \n",
    "    return Or(t1,t2,t3,t4,t5,t6)\n"
   ]
  },
  {
   "cell_type": "markdown",
   "id": "4723f3ef",
   "metadata": {},
   "source": [
    "## Notação\n",
    "\n",
    "O operador $\\,\\mathsf{next}\\,$ está implícito na definição inicial de um FOTS quando se considera o conjunto de variáveis $\\,\\mathsf{X'}\\,$ como “clones” das variáveis iniciais do sistema $\\,\\mathsf{X}\\,$; de facto tem-se \n",
    "$\\:\\:\\mathsf{X}'\\,\\equiv\\,\\mathsf{next}(\\mathsf{X})$.\n",
    "\n",
    "A mesma notação aplica-se a um qualquer predicado $\\,\\mathsf{P}\\,$ que tenha $\\,\\mathsf{X}\\,$ como o seu conjunto de variáveis livres:  representa-se por $\\,\\mathsf{P}'\\,$ a fórmula nas variáveis livres $\\,\\mathsf{X}'\\,$ que se obtém de $\\,\\mathsf{P}\\,$ substituindo que cada variável $\\,\\mathsf{X}\\,$ pela variável correspondente $\\,\\mathsf{X}'\\,$. Temos portanto,\n",
    "$\\:\\:\\mathsf{P}'\\;\\equiv\\;\\mathsf{P}\\,\\{\\mathsf{X}/\\mathsf{next}(\\mathsf{X})\\}$.\n",
    "\n",
    "A notação (usada nas aulas teóricas) segue as seguintes convenções:\n",
    "\n",
    "- Todos os predicados unários são expressões que têm livres as variáveis $\\;\\mathsf{X}\\;$.\n",
    "- Todos os predicados binários são expressões que têm livres as variáveis $\\;\\mathsf{X}\\;$ e $\\;\\mathsf{X}'\\;$.\n",
    "- Todo o predicado $n$-ário é uma expressão que tem livres variáveis $\\,\\mathsf{X}_0\\,,\\,\\mathsf{X}_1\\,\\cdots\\,\\mathsf{X}_{n-1}\\;$ com\n",
    " $\\:\\mathsf{X}_0\\;\\equiv\\;\\mathsf{X}\\:$  e $\\:\\mathsf{X}_{i+1}\\;\\equiv\\;\\mathsf{next}(\\mathsf{X}_i)\\;$   para $\\;i>0$\n",
    "- Se $\\;\\mathsf{P}\\;$ é um predicado $\\,n$-ário então \n",
    " $\\mathsf{P}'\\;\\equiv\\,\\mathsf{P}\\,\\{\\mathsf{X}_i/\\mathsf{X}_{i+1}\\;\\text{para}\\;i < n\\!-\\!1\\;,\\;\\mathsf{X}_{n-1}/\\mathsf{next}(\\mathsf{X}_{n-1})\\}$\n",
    "   \n",
    "Por conveniência, em todas estas sequências de variáveis $\\,\\mathsf{X}_0\\,$ coincide com a variável $\\,\\mathsf{X}\\,$ que ocorre na definição de $\\,\\Sigma\\,$ e as restantes variáveis resultam de sucessivas invocações de $\\,\\mathsf{next}(\\mathsf{X})$.\n",
    "Nomeadamente a variável $\\,\\mathsf{X}_i\\,$ resulta da $i$-ésima invocação de $\\mathsf{next(X)}$.\n",
    "\n",
    "Adicionalmente a função $\\,\\mathsf{top}\\,$ que aplicada a um predicado $n$-ário $\\,\\mathsf{P}\\,$ dá como resultado a última variável na sequência de variavéis que ocorrem em $\\,\\mathsf{P}$. "
   ]
  },
  {
   "cell_type": "markdown",
   "id": "5a199b1c",
   "metadata": {},
   "source": [
    "Uma sequência de transições\n",
    "$\\,s_0 \\stackrel{T}\\longrightarrow s_1 \\stackrel{T}\\longrightarrow s_2 \\cdots s_{n-1} \\stackrel{T}\\longrightarrow s_n\\;$\n",
    "pode ser definida indutivamente da  como potências da relação binária $\\,\\mathsf{T}\\,$,\n",
    "$\\:\\mathsf{T}^{n+1}\\;\\equiv\\; \\mathsf{T}\\,\\land\\, (\\mathsf{T}^{n})'\\;$ para $\\; n > 0$.\n",
    "Para um predicado unário  $\\;\\mathsf{P}\\;$, temos\n",
    "$\\:\\mathsf{P}^0 \\equiv \\mathsf{True}\\:\\text{e}\\; \\mathsf{P}^{n+1}\\equiv\\mathsf{P}\\,\\land\\,(\\mathsf{P}^n)'\\:$ para $\\;n\\geq 0$. Verifica-se que $\\:(\\mathsf{P}\\land\\mathsf{T})^n\\equiv \\mathsf{P}^n\\,\\land\\,\\mathsf{T}^n$."
   ]
  },
  {
   "cell_type": "markdown",
   "id": "49baf508",
   "metadata": {},
   "source": [
    "### Exercício 2 \n",
    "Escreva as fórmulas lógicas representadas nesta notação por $\\mathsf{P}^{3}$ e $\\mathsf{T}^{3}$. Assuma que $\\mathsf{P}$ é um predicado unário e $\\mathsf{T}$ um predicado binário.\n",
    "\n",
    "$$\n",
    "\\begin{array}\n",
    "\\mathsf{P}^{3}\\;\\equiv\\; \\mathsf{P}(X_0) \\land \\mathsf{P}(X_1) \\land \\mathsf{P}(X_2) \\\\\n",
    "\\mathsf{T}^{3}\\;\\equiv\\; \\mathsf{T}(X_0, X_1) \\land \\mathsf{T}(X_1, X2) \\land \\mathsf{T}(X_2, X_3)\n",
    "\\end{array}\n",
    "$$"
   ]
  },
  {
   "cell_type": "markdown",
   "id": "b1f1553e",
   "metadata": {},
   "source": [
    "Seguindo esta notação, a fórmula \n",
    "$\\;\\mathsf{I}\\,\\land\\,\\mathsf{T}^n\\,$ denota um traço finito com $\\,n\\,$ transições em $\\Sigma\\,$, $\\,\\mathsf{X}_0,\\cdots,\\mathsf{X}_n\\,$, que descrevem estados acessíveis com $n$ ou menos transições. Inspirada nesta notação, a seguinte função `genTrace` gera um possível traço de execução com $n$ transições."
   ]
  },
  {
   "cell_type": "code",
   "execution_count": 4,
   "id": "7e62ae86",
   "metadata": {},
   "outputs": [],
   "source": [
    "def genTrace(vars,init,trans,error,n):\n",
    "    with Solver(name=\"z3\") as s:\n",
    "        \n",
    "        X = [genState(vars,'X',i) for i in range(n+1)]   # cria n+1 estados (com etiqueta X)\n",
    "        I = init(X[0])\n",
    "        Tks = [ trans(X[i],X[i+1]) for i in range(n) ]\n",
    "        \n",
    "        if s.solve([I,And(Tks)]):      # testa se I /\\ T^n  é satisfazível\n",
    "            for i in range(n):\n",
    "                print(\"Estado:\",i)\n",
    "                for v in X[i]:\n",
    "                    print(\"          \",v,'=',s.get_value(X[i][v]))"
   ]
  },
  {
   "cell_type": "markdown",
   "id": "c0017d53",
   "metadata": {},
   "source": [
    "### Exercício 3\n",
    "\n",
    "Use esta função para testar a sua resposta ao exercício 1."
   ]
  },
  {
   "cell_type": "code",
   "execution_count": 5,
   "id": "8254f37f",
   "metadata": {
    "scrolled": false
   },
   "outputs": [
    {
     "ename": "AttributeError",
     "evalue": "'int' object has no attribute 'args'",
     "output_type": "error",
     "traceback": [
      "\u001b[1;31m---------------------------------------------------------------------------\u001b[0m",
      "\u001b[1;31mAttributeError\u001b[0m                            Traceback (most recent call last)",
      "Input \u001b[1;32mIn [5]\u001b[0m, in \u001b[0;36m<cell line: 1>\u001b[1;34m()\u001b[0m\n\u001b[1;32m----> 1\u001b[0m \u001b[43mgenTrace\u001b[49m\u001b[43m(\u001b[49m\u001b[43m[\u001b[49m\u001b[38;5;124;43m'\u001b[39;49m\u001b[38;5;124;43mx\u001b[39;49m\u001b[38;5;124;43m'\u001b[39;49m\u001b[43m,\u001b[49m\u001b[43m \u001b[49m\u001b[38;5;124;43m'\u001b[39;49m\u001b[38;5;124;43mpc\u001b[39;49m\u001b[38;5;124;43m'\u001b[39;49m\u001b[43m]\u001b[49m\u001b[43m,\u001b[49m\u001b[43m \u001b[49m\u001b[43minit1\u001b[49m\u001b[43m,\u001b[49m\u001b[43m \u001b[49m\u001b[43mtrans1\u001b[49m\u001b[43m,\u001b[49m\u001b[43m \u001b[49m\u001b[43merror1\u001b[49m\u001b[43m,\u001b[49m\u001b[43m \u001b[49m\u001b[38;5;241;43m10\u001b[39;49m\u001b[43m)\u001b[49m\n",
      "Input \u001b[1;32mIn [4]\u001b[0m, in \u001b[0;36mgenTrace\u001b[1;34m(vars, init, trans, error, n)\u001b[0m\n\u001b[0;32m      2\u001b[0m \u001b[38;5;28;01mwith\u001b[39;00m Solver(name\u001b[38;5;241m=\u001b[39m\u001b[38;5;124m\"\u001b[39m\u001b[38;5;124mz3\u001b[39m\u001b[38;5;124m\"\u001b[39m) \u001b[38;5;28;01mas\u001b[39;00m s:\n\u001b[0;32m      4\u001b[0m     X \u001b[38;5;241m=\u001b[39m [genState(\u001b[38;5;28mvars\u001b[39m,\u001b[38;5;124m'\u001b[39m\u001b[38;5;124mX\u001b[39m\u001b[38;5;124m'\u001b[39m,i) \u001b[38;5;28;01mfor\u001b[39;00m i \u001b[38;5;129;01min\u001b[39;00m \u001b[38;5;28mrange\u001b[39m(n\u001b[38;5;241m+\u001b[39m\u001b[38;5;241m1\u001b[39m)]   \u001b[38;5;66;03m# cria n+1 estados (com etiqueta X)\u001b[39;00m\n\u001b[1;32m----> 5\u001b[0m     I \u001b[38;5;241m=\u001b[39m \u001b[43minit\u001b[49m\u001b[43m(\u001b[49m\u001b[43mX\u001b[49m\u001b[43m[\u001b[49m\u001b[38;5;241;43m0\u001b[39;49m\u001b[43m]\u001b[49m\u001b[43m)\u001b[49m\n\u001b[0;32m      6\u001b[0m     Tks \u001b[38;5;241m=\u001b[39m [ trans(X[i],X[i\u001b[38;5;241m+\u001b[39m\u001b[38;5;241m1\u001b[39m]) \u001b[38;5;28;01mfor\u001b[39;00m i \u001b[38;5;129;01min\u001b[39;00m \u001b[38;5;28mrange\u001b[39m(n) ]\n\u001b[0;32m      8\u001b[0m     \u001b[38;5;28;01mif\u001b[39;00m s\u001b[38;5;241m.\u001b[39msolve([I,And(Tks)]):      \u001b[38;5;66;03m# testa se I /\\ T^n  é satisfazível\u001b[39;00m\n",
      "Input \u001b[1;32mIn [3]\u001b[0m, in \u001b[0;36minit1\u001b[1;34m(state)\u001b[0m\n\u001b[0;32m      1\u001b[0m \u001b[38;5;28;01mdef\u001b[39;00m \u001b[38;5;21minit1\u001b[39m(state):\n\u001b[1;32m----> 2\u001b[0m     \u001b[38;5;28;01mreturn\u001b[39;00m And(\u001b[43mEquals\u001b[49m\u001b[43m(\u001b[49m\u001b[43mstate\u001b[49m\u001b[43m[\u001b[49m\u001b[38;5;124;43m'\u001b[39;49m\u001b[38;5;124;43mpc\u001b[39;49m\u001b[38;5;124;43m'\u001b[39;49m\u001b[43m]\u001b[49m\u001b[43m,\u001b[49m\u001b[43m \u001b[49m\u001b[38;5;241;43m0\u001b[39;49m\u001b[43m)\u001b[49m, state[\u001b[38;5;124m'\u001b[39m\u001b[38;5;124mx\u001b[39m\u001b[38;5;124m'\u001b[39m] \u001b[38;5;241m>\u001b[39m\u001b[38;5;241m=\u001b[39m \u001b[38;5;241m3\u001b[39m)\n",
      "File \u001b[1;32m~\\anaconda3\\envs\\logica\\lib\\site-packages\\pysmt\\shortcuts.py:209\u001b[0m, in \u001b[0;36mEquals\u001b[1;34m(left, right)\u001b[0m\n\u001b[0;32m    207\u001b[0m \u001b[38;5;28;01mdef\u001b[39;00m \u001b[38;5;21mEquals\u001b[39m(left, right):\n\u001b[0;32m    208\u001b[0m     \u001b[38;5;124mr\u001b[39m\u001b[38;5;124;03m\"\"\".. math:: l = r\"\"\"\u001b[39;00m\n\u001b[1;32m--> 209\u001b[0m     \u001b[38;5;28;01mreturn\u001b[39;00m \u001b[43mget_env\u001b[49m\u001b[43m(\u001b[49m\u001b[43m)\u001b[49m\u001b[38;5;241;43m.\u001b[39;49m\u001b[43mformula_manager\u001b[49m\u001b[38;5;241;43m.\u001b[39;49m\u001b[43mEquals\u001b[49m\u001b[43m(\u001b[49m\u001b[43mleft\u001b[49m\u001b[43m,\u001b[49m\u001b[43m \u001b[49m\u001b[43mright\u001b[49m\u001b[43m)\u001b[49m\n",
      "File \u001b[1;32m~\\anaconda3\\envs\\logica\\lib\\site-packages\\pysmt\\formula.py:284\u001b[0m, in \u001b[0;36mFormulaManager.Equals\u001b[1;34m(self, left, right)\u001b[0m\n\u001b[0;32m    279\u001b[0m \u001b[38;5;28;01mdef\u001b[39;00m \u001b[38;5;21mEquals\u001b[39m(\u001b[38;5;28mself\u001b[39m, left, right):\n\u001b[0;32m    280\u001b[0m     \u001b[38;5;124;03m\"\"\" Creates an expression of the form: left = right\u001b[39;00m\n\u001b[0;32m    281\u001b[0m \n\u001b[0;32m    282\u001b[0m \u001b[38;5;124;03m    For the boolean case use Iff\u001b[39;00m\n\u001b[0;32m    283\u001b[0m \u001b[38;5;124;03m    \"\"\"\u001b[39;00m\n\u001b[1;32m--> 284\u001b[0m     \u001b[38;5;28;01mreturn\u001b[39;00m \u001b[38;5;28;43mself\u001b[39;49m\u001b[38;5;241;43m.\u001b[39;49m\u001b[43mcreate_node\u001b[49m\u001b[43m(\u001b[49m\u001b[43mnode_type\u001b[49m\u001b[38;5;241;43m=\u001b[39;49m\u001b[43mop\u001b[49m\u001b[38;5;241;43m.\u001b[39;49m\u001b[43mEQUALS\u001b[49m\u001b[43m,\u001b[49m\n\u001b[0;32m    285\u001b[0m \u001b[43m                            \u001b[49m\u001b[43margs\u001b[49m\u001b[38;5;241;43m=\u001b[39;49m\u001b[43m(\u001b[49m\u001b[43mleft\u001b[49m\u001b[43m,\u001b[49m\u001b[43m \u001b[49m\u001b[43mright\u001b[49m\u001b[43m)\u001b[49m\u001b[43m)\u001b[49m\n",
      "File \u001b[1;32m~\\anaconda3\\envs\\logica\\lib\\site-packages\\pysmt\\formula.py:96\u001b[0m, in \u001b[0;36mFormulaManager.create_node\u001b[1;34m(self, node_type, args, payload)\u001b[0m\n\u001b[0;32m     94\u001b[0m \u001b[38;5;28mself\u001b[39m\u001b[38;5;241m.\u001b[39m_next_free_id \u001b[38;5;241m+\u001b[39m\u001b[38;5;241m=\u001b[39m \u001b[38;5;241m1\u001b[39m\n\u001b[0;32m     95\u001b[0m \u001b[38;5;28mself\u001b[39m\u001b[38;5;241m.\u001b[39mformulae[content] \u001b[38;5;241m=\u001b[39m n\n\u001b[1;32m---> 96\u001b[0m \u001b[38;5;28;43mself\u001b[39;49m\u001b[38;5;241;43m.\u001b[39;49m\u001b[43m_do_type_check\u001b[49m\u001b[43m(\u001b[49m\u001b[43mn\u001b[49m\u001b[43m)\u001b[49m\n\u001b[0;32m     97\u001b[0m \u001b[38;5;28;01mreturn\u001b[39;00m n\n",
      "File \u001b[1;32m~\\anaconda3\\envs\\logica\\lib\\site-packages\\pysmt\\formula.py:81\u001b[0m, in \u001b[0;36mFormulaManager._do_type_check_real\u001b[1;34m(self, formula)\u001b[0m\n\u001b[0;32m     80\u001b[0m \u001b[38;5;28;01mdef\u001b[39;00m \u001b[38;5;21m_do_type_check_real\u001b[39m(\u001b[38;5;28mself\u001b[39m, formula):\n\u001b[1;32m---> 81\u001b[0m     \u001b[38;5;28;43mself\u001b[39;49m\u001b[38;5;241;43m.\u001b[39;49m\u001b[43mget_type\u001b[49m\u001b[43m(\u001b[49m\u001b[43mformula\u001b[49m\u001b[43m)\u001b[49m\n",
      "File \u001b[1;32m~\\anaconda3\\envs\\logica\\lib\\site-packages\\pysmt\\type_checker.py:43\u001b[0m, in \u001b[0;36mSimpleTypeChecker.get_type\u001b[1;34m(self, formula)\u001b[0m\n\u001b[0;32m     41\u001b[0m \u001b[38;5;28;01mdef\u001b[39;00m \u001b[38;5;21mget_type\u001b[39m(\u001b[38;5;28mself\u001b[39m, formula):\n\u001b[0;32m     42\u001b[0m     \u001b[38;5;124;03m\"\"\" Returns the pysmt.types type of the formula \"\"\"\u001b[39;00m\n\u001b[1;32m---> 43\u001b[0m     res \u001b[38;5;241m=\u001b[39m \u001b[38;5;28;43mself\u001b[39;49m\u001b[38;5;241;43m.\u001b[39;49m\u001b[43mwalk\u001b[49m\u001b[43m(\u001b[49m\u001b[43mformula\u001b[49m\u001b[43m)\u001b[49m\n\u001b[0;32m     44\u001b[0m     \u001b[38;5;28;01mif\u001b[39;00m \u001b[38;5;129;01mnot\u001b[39;00m \u001b[38;5;28mself\u001b[39m\u001b[38;5;241m.\u001b[39mbe_nice \u001b[38;5;129;01mand\u001b[39;00m res \u001b[38;5;129;01mis\u001b[39;00m \u001b[38;5;28;01mNone\u001b[39;00m:\n\u001b[0;32m     45\u001b[0m         \u001b[38;5;28;01mraise\u001b[39;00m PysmtTypeError(\u001b[38;5;124m\"\u001b[39m\u001b[38;5;124mThe formula \u001b[39m\u001b[38;5;124m'\u001b[39m\u001b[38;5;132;01m%s\u001b[39;00m\u001b[38;5;124m'\u001b[39m\u001b[38;5;124m is not well-formed\u001b[39m\u001b[38;5;124m\"\u001b[39m \\\n\u001b[0;32m     46\u001b[0m                              \u001b[38;5;241m%\u001b[39m \u001b[38;5;28mstr\u001b[39m(formula))\n",
      "File \u001b[1;32m~\\anaconda3\\envs\\logica\\lib\\site-packages\\pysmt\\walkers\\dag.py:106\u001b[0m, in \u001b[0;36mDagWalker.walk\u001b[1;34m(self, formula, **kwargs)\u001b[0m\n\u001b[0;32m    103\u001b[0m \u001b[38;5;28;01mif\u001b[39;00m formula \u001b[38;5;129;01min\u001b[39;00m \u001b[38;5;28mself\u001b[39m\u001b[38;5;241m.\u001b[39mmemoization:\n\u001b[0;32m    104\u001b[0m     \u001b[38;5;28;01mreturn\u001b[39;00m \u001b[38;5;28mself\u001b[39m\u001b[38;5;241m.\u001b[39mmemoization[formula]\n\u001b[1;32m--> 106\u001b[0m res \u001b[38;5;241m=\u001b[39m \u001b[38;5;28mself\u001b[39m\u001b[38;5;241m.\u001b[39miter_walk(formula, \u001b[38;5;241m*\u001b[39m\u001b[38;5;241m*\u001b[39mkwargs)\n\u001b[0;32m    108\u001b[0m \u001b[38;5;28;01mif\u001b[39;00m \u001b[38;5;28mself\u001b[39m\u001b[38;5;241m.\u001b[39minvalidate_memoization:\n\u001b[0;32m    109\u001b[0m     \u001b[38;5;28mself\u001b[39m\u001b[38;5;241m.\u001b[39mmemoization\u001b[38;5;241m.\u001b[39mclear()\n",
      "File \u001b[1;32m~\\anaconda3\\envs\\logica\\lib\\site-packages\\pysmt\\walkers\\dag.py:98\u001b[0m, in \u001b[0;36mDagWalker.iter_walk\u001b[1;34m(self, formula, **kwargs)\u001b[0m\n\u001b[0;32m     96\u001b[0m \u001b[38;5;124;03m\"\"\"Performs an iterative walk of the DAG\"\"\"\u001b[39;00m\n\u001b[0;32m     97\u001b[0m \u001b[38;5;28mself\u001b[39m\u001b[38;5;241m.\u001b[39mstack\u001b[38;5;241m.\u001b[39mappend((\u001b[38;5;28;01mFalse\u001b[39;00m, formula))\n\u001b[1;32m---> 98\u001b[0m \u001b[38;5;28mself\u001b[39m\u001b[38;5;241m.\u001b[39m_process_stack(\u001b[38;5;241m*\u001b[39m\u001b[38;5;241m*\u001b[39mkwargs)\n\u001b[0;32m     99\u001b[0m res_key \u001b[38;5;241m=\u001b[39m \u001b[38;5;28mself\u001b[39m\u001b[38;5;241m.\u001b[39m_get_key(formula, \u001b[38;5;241m*\u001b[39m\u001b[38;5;241m*\u001b[39mkwargs)\n\u001b[0;32m    100\u001b[0m \u001b[38;5;28;01mreturn\u001b[39;00m \u001b[38;5;28mself\u001b[39m\u001b[38;5;241m.\u001b[39mmemoization[res_key]\n",
      "File \u001b[1;32m~\\anaconda3\\envs\\logica\\lib\\site-packages\\pysmt\\walkers\\dag.py:93\u001b[0m, in \u001b[0;36mDagWalker._process_stack\u001b[1;34m(self, **kwargs)\u001b[0m\n\u001b[0;32m     91\u001b[0m     \u001b[38;5;28mself\u001b[39m\u001b[38;5;241m.\u001b[39m_compute_node_result(formula, \u001b[38;5;241m*\u001b[39m\u001b[38;5;241m*\u001b[39mkwargs)\n\u001b[0;32m     92\u001b[0m \u001b[38;5;28;01melse\u001b[39;00m:\n\u001b[1;32m---> 93\u001b[0m     \u001b[38;5;28mself\u001b[39m\u001b[38;5;241m.\u001b[39m_push_with_children_to_stack(formula, \u001b[38;5;241m*\u001b[39m\u001b[38;5;241m*\u001b[39mkwargs)\n",
      "File \u001b[1;32m~\\anaconda3\\envs\\logica\\lib\\site-packages\\pysmt\\walkers\\dag.py:54\u001b[0m, in \u001b[0;36mDagWalker._push_with_children_to_stack\u001b[1;34m(self, formula, **kwargs)\u001b[0m\n\u001b[0;32m     52\u001b[0m \u001b[38;5;124;03m\"\"\"Add children to the stack.\"\"\"\u001b[39;00m\n\u001b[0;32m     53\u001b[0m \u001b[38;5;28mself\u001b[39m\u001b[38;5;241m.\u001b[39mstack\u001b[38;5;241m.\u001b[39mappend((\u001b[38;5;28;01mTrue\u001b[39;00m, formula))\n\u001b[1;32m---> 54\u001b[0m \u001b[38;5;28;01mfor\u001b[39;00m s \u001b[38;5;129;01min\u001b[39;00m \u001b[38;5;28;43mself\u001b[39;49m\u001b[38;5;241;43m.\u001b[39;49m\u001b[43m_get_children\u001b[49m\u001b[43m(\u001b[49m\u001b[43mformula\u001b[49m\u001b[43m)\u001b[49m:\n\u001b[0;32m     55\u001b[0m     \u001b[38;5;66;03m# Add only if not memoized already\u001b[39;00m\n\u001b[0;32m     56\u001b[0m     key \u001b[38;5;241m=\u001b[39m \u001b[38;5;28mself\u001b[39m\u001b[38;5;241m.\u001b[39m_get_key(s, \u001b[38;5;241m*\u001b[39m\u001b[38;5;241m*\u001b[39mkwargs)\n\u001b[0;32m     57\u001b[0m     \u001b[38;5;28;01mif\u001b[39;00m key \u001b[38;5;129;01mnot\u001b[39;00m \u001b[38;5;129;01min\u001b[39;00m \u001b[38;5;28mself\u001b[39m\u001b[38;5;241m.\u001b[39mmemoization:\n",
      "File \u001b[1;32m~\\anaconda3\\envs\\logica\\lib\\site-packages\\pysmt\\walkers\\dag.py:49\u001b[0m, in \u001b[0;36mDagWalker._get_children\u001b[1;34m(self, formula)\u001b[0m\n\u001b[0;32m     48\u001b[0m \u001b[38;5;28;01mdef\u001b[39;00m \u001b[38;5;21m_get_children\u001b[39m(\u001b[38;5;28mself\u001b[39m, formula):\n\u001b[1;32m---> 49\u001b[0m     \u001b[38;5;28;01mreturn\u001b[39;00m \u001b[43mformula\u001b[49m\u001b[38;5;241;43m.\u001b[39;49m\u001b[43margs\u001b[49m()\n",
      "\u001b[1;31mAttributeError\u001b[0m: 'int' object has no attribute 'args'"
     ]
    }
   ],
   "source": [
    "genTrace(['x', 'pc'], init1, trans1, error1, 10)"
   ]
  },
  {
   "cell_type": "markdown",
   "id": "2406c910",
   "metadata": {},
   "source": [
    "## Segurança e acessibilidade\n",
    "\n",
    "\n",
    "O algoritmo de verificação num SFOTS tem objetivos distintos da verificação usada nos FOTS.\n",
    "Num SFOTS a propriedade de segurança (ou condição de erro) está contida na própria definição do sistema. A especificação do sistema determina o comportamento $\\;\\Sigma\\;$ formado pelos traços mas também o subconjunto $\\,\\Sigma_U\\subseteq \\Sigma\\;$ formado pelos traços que violam a condição de segurança.  Agora o algoritmo de verificação limita-se a  decidir se o conjunto $\\;\\Sigma_U\\;$ é ou não vazio.\n",
    "\n",
    "\n",
    "Num SFOTS $\\:\\Sigma\\;\\equiv\\;\\langle\\,\\,\\mathsf{X}\\,,\\,\\mathsf{next}\\,,\\,\\mathsf{I}\\,,\\,\\mathsf{T}\\,,\\,\\mathsf{E}\\,\\rangle$  a  verificação deriva das noções de acessibilidade e insegurança. \n",
    "- Um estado $\\,r\\,$ é **acessível (“reachable”)** em $\\,\\Sigma\\,$ quando $\\,r\\in\\mathsf{I}\\,$ ou quando existe uma transição $\\;(s,r)\\in \\mathsf{T}\\;$ em que $\\,s\\,$ é acessível em $\\,\\Sigma\\,$.\n",
    "- Um estado $\\,u\\,$ é **inseguro (“unsafe”)** em $\\,\\Sigma\\,$ quando $\\,u\\in \\mathsf{E}\\,$ ou quando existe uma transição $\\,(u,\\upsilon)\\in \\mathsf{T}\\,$ em que $\\,\\upsilon\\,$ é inseguro em $\\,\\Sigma\\,$.\n",
    "- O SFOTS $\\,\\Sigma\\,$ é **inseguro** se existe algum estado $\\,s\\,$ que seja simultaneamente acessível e inseguro. Em caso contrário o sistema $\\,\\Sigma\\,$ é **seguro**.\n",
    "\n",
    "A fórmula $\\;\\mathsf{R}_n\\;\\equiv\\; \\mathsf{I}\\,\\land\\,\\mathsf{T}^n\\,$ denota um traço finito com $\\,n\\,$ transições em $\\Sigma\\,$, $\\,\\mathsf{X}_0,\\cdots,\\mathsf{X}_n\\,$ que descrevem estados acessíveis com $n$ ou menos transições.  \n",
    "\n",
    "Para descrever os estados inseguros, dá jeito  definir um novo SFOTS \n",
    "$\\:\\:\\Sigma^\\top\\;\\equiv\\;\\langle\\,\\mathsf{Y}\\,,\\,\\mathsf{next}\\,,\\,\\mathsf{E}\\,,\\,\\mathsf{B}\\,,\\,\\mathsf{I}\\,\\rangle\\:\\:$ onde $\\,\\mathsf{Y}\\,$ é um “clone” da variável $\\,\\mathsf{X}\\,$;  invocações sucessivas de $\\,\\mathsf{next}(\\mathsf{Y})\\,$  produzem variáveis; $\\;\\mathsf{E}$ é a nova condição inicial; $\\;\\mathsf{I}$  é a nova condição de erro; a relação de transição $\\,\\mathsf{B}\\,$ é a relação inversa de $\\,\\mathsf{T}\\,$. É fácil de ver que\n",
    "> - Um estado $\\,s\\,$ é inseguro em $\\,\\Sigma\\,$ se e só se $\\,s\\,$ é acessível em $\\,\\Sigma^\\top\\,$. \n",
    "> - Um estado $\\,s\\,$ é acessível em $\\,\\Sigma\\,$ se e só se $\\,s\\,$ é inseguro em $\\,\\Sigma^\\top\\,$.\n",
    "\n",
    "\n",
    "Este resultado permite-nos analisar as condições de segurança exclusivamente através das relações de acessibilidade em $\\,\\Sigma\\,$ e $\\,\\Sigma^\\top\\,$."
   ]
  },
  {
   "cell_type": "markdown",
   "id": "96cd2704",
   "metadata": {},
   "source": [
    "### Exercício 4\n",
    "\n",
    "Usando o sistema $\\,\\Sigma^\\top$, escreva a fórmula (que convecionamos chamar $\\:\\mathsf{U}_m)\\;$ que denota um traço finito com $\\,m\\,$ transições, cujos estados $\\,\\mathsf{Y}_0,\\,\\cdots\\,,\\mathsf{Y}_m\\;$ são sempre inseguros. \n",
    "                                       \n",
    "$$\\mathsf{U}_m\\;\\equiv\\; \\mathsf{E} \\land \\mathsf{B}^n $$"
   ]
  },
  {
   "cell_type": "markdown",
   "id": "0a2ef762",
   "metadata": {},
   "source": [
    "### Exercício 5\n",
    "\n",
    "Defina uma função de ordem superior `invert` que recebe a função python que codifica a relação de transição e devolve a relação e transição inversa."
   ]
  },
  {
   "cell_type": "code",
   "execution_count": null,
   "id": "1fdce991",
   "metadata": {},
   "outputs": [],
   "source": [
    "def invert(trans):\n",
    "    return (lambda c, p: trans(p,c))"
   ]
  },
  {
   "cell_type": "markdown",
   "id": "0e905ce7",
   "metadata": {},
   "source": [
    "Para avaliar a segurança eventual do sistema $\\;\\Sigma\\;$ é necessário determinar se nenhum estado é simultâneamente acessível e inseguro. Para isso tem que se avaliar se, para todo o $\\,n,\\,m\\,$, a fórmula  $\\:\\:V_{n,m}\\,\\equiv\\,\\mathsf{R}_n\\,\\land\\,(X_n=Y_m) \\,\\land\\,\\mathsf{U}_m\\:\\:$ é insatisfazível, onde $\\;X_n = \\mathsf{top}(\\mathsf{R}_n)\\:\\text{e}\\: Y_m = \\mathsf{top}(\\mathsf{U}_m)$.\n",
    "\n",
    "\n",
    "## Um algoritmo de \"model-checking\" usando interpolantes e invariantes\n",
    "\n",
    "Para provar que $\\,\\mathsf{V}_{n,m}\\,$ é insatisfazíevel para todo $\\,n,m\\,$ vai-se usar uma estratégia similar ás provas por indução. Para tal precisamos de recorrer a interpolantes e a invariantes.\n",
    "\n",
    "Um **interpolante** para o par $\\;(A,B)\\;$ de duas fórmula de 1ª ordem é definível quando $\\,A\\,$ e $\\,B\\,$ são mutuamente inconsistentes (isto é, $\\;A\\,\\land\\,B\\;$ é insatisfazível) e, nesse caso, é uma fórmula de 1ª ordem $\\;C\\;$ tal que:\n",
    "- $C\\;$ só contém as variáveis comuns a $A$ e a $B$.\n",
    "- Os pares $\\;(A,\\neg\\,C)\\;$ e $\\;(C,B)\\;$ são ambos mutuamente inconsistentes.\n",
    "\n",
    "Na sua formulação mais simples, os invariantes são predicados cujo valor lógico se mantém após a execução da  transição $\\;\\mathsf{T}$.\n",
    "Esta ideia pode ser generalizada para qualquer predicado  $\\,n$-ário $\\,\\mathsf{F}\\,$ nas variáveis $\\;X_0,\\cdots,X_n\\;$ , com $\\,n\\geq 1\\,$. \n",
    "Neste contexto o predicado $\\,\\mathsf{P}\\,$ é **invariante** quando, sendo $\\,X_n \\equiv \\mathsf{top}(\\mathsf{F})\\,$, se verifica que \n",
    "$\\mathsf{P}\\,\\land\\,\\mathsf{F}\\,\\to\\,\\mathsf{P}\\{\\mathsf{X}/X_n\\}\\:$ é uma tautologia.\n",
    "\n",
    "Se $\\;\\mathsf{P}\\,,\\,\\mathsf{Q}\\;$ são ambos predicado em $\\,\\mathsf{X}\\,$,  diz-se que $\\,\\mathsf{P}\\;$ é **invariante relativo a $\\,\\mathsf{Q}\\;$ para a transição $\\;\\mathsf{T}\\;$** quando \n",
    "$\\:\\mathsf{Q}\\,\\land\\,\\mathsf{P}\\,\\land\\,\\mathsf{T}\\,\\to\\,\\mathsf{P}'\\:$\n",
    "é uma tautologia.\n",
    "\n",
    "\n",
    "O algoritmo de “model-checking” pretende verificar se para todo $\\,n,m\\,$ a fórmula $\\,\\mathsf{V}_{n,m}\\,$ é insatisfazível.\n",
    "O algoritmo derivado das noções de interpolante e invariante baseia-se no seguinte resultado\n",
    "\n",
    "> Se existe um predicado unário $\\,S\\,$ que é invariante de $\\;\\mathsf{T}\\,$ e, para algum par de índices $(n,m)\\,$ verifica-se que  $\\;\\mathsf{R}_n(\\overline{X}_n) \\,\\to\\,S(X_n)\\;$ e $\\;\\mathsf{U}_m(\\overline{Y}_m)\\,\\to\\,\\neg\\,S(Y_m)\\;$  são tautologias , então $\\;\\mathsf{V}_{n',m'}\\;$ é insatisfazível para todo $\\;n'\\ge n\\;$ e $\\;m'\\ge m\\;$.\n",
    "\n"
   ]
  },
  {
   "cell_type": "markdown",
   "id": "9940ac7a",
   "metadata": {},
   "source": [
    "### O algoritmo de \"model-checking\"\n",
    "\n",
    "O algoritmo de “model-checking” manipula as fórmulas $\\;\\mathsf{R}_n\\;\\equiv\\; \\mathsf{I}\\,\\land\\,\\mathsf{T}^n\\;$ e $\\;\\mathsf{U}_m\\equiv\\; \\mathsf{E}\\,\\land\\,\\mathsf{B}^m\\;$ fazendo crescer os índices $\\;n,m\\;$ de acordo  com as seguintes regras\n",
    "\n",
    "----------\n",
    "1. Inicia-se $n=0$, $\\;\\mathsf{R}_0 = \\mathsf{I}\\;$ e $\\;\\mathsf{U}_0 = \\mathsf{E}$.\n",
    "\n",
    "\n",
    "2.  No estado $\\,(n,m)\\,$  tem-se a certeza que em todos os estados anteriores não foi detectada nenhuma justificação para a insegurança do SFOTS. \n",
    "    Se $\\;\\mathsf{V}_{n,m}\\equiv\\;\\mathsf{R}_n\\land(X_n=Y_m)\\land\\mathsf{U}_m\\;$ é satisfazível o sistema é inseguro e o algoritmo termina com a mensagem **unsafe**.\n",
    "\n",
    "\n",
    "3. Se $\\;\\mathsf{V}_{n,m}\\equiv\\;\\mathsf{R}_n\\land(X_n=Y_m)\\land \\mathsf{U}_m\\;$ for insatisfazível calcula-se  $\\;{C}\\;$ como  o interpolante do par $\\,(\\mathsf{R}_n\\land(X_n=Y_m)\\,,\\,\\mathsf{U}_m)\\,$.\n",
    "     Neste caso verificam-se as tautologias    $\\mathsf{R}_n \\to C(X_n)\\;$  e $\\;\\mathsf{U}_m\\,\\to\\,\\neg\\, C(Y_m)\\;$.\n",
    "\n",
    "\n",
    "4. Testa-se a condição $\\;\\mathsf{SAT}(C\\land\\mathsf{T}\\land\\neg\\,C')=\\emptyset\\;$  para verificar se  $\\,C\\,$ é um invariante de $\\;\\mathsf{T}\\,$; se for invariante  então, pelo resultado anterior, sabe-se que $\\,\\mathsf{V}_{n',m'}\\;$ é insatisfazível para todo $\\,n'\\ge n\\,$ e $\\,m'\\ge n\\,$. O algoritmo termina com a mensagem **safe**.\n",
    "\n",
    "\n",
    "5. Se $\\,C\\,$ não for invariante de $\\,\\mathsf{T}\\,$ procura-se encontrar um majorante $\\,S \\supseteq C$ que verifique as condições do resultado referido: seja um invariante de $\\,\\mathsf{T}$   disjunto de $\\,\\mathsf{U}_m\\,$.\n",
    "\n",
    "\n",
    "6. Se for possível encontrar tal majorante $\\,S\\,$ então o algoritmo termina com a mensagem **safe**. Se não for possível encontrar o majorante pelo menos um dos índices $\\,n,m\\,$ é incrementado, os valores das fórmulas $\\,\\mathsf{R}_n\\,,\\,\\mathsf{U}_m\\,$ são actualizados e repete-se o processo a partir do passo 2.\n",
    "\n",
    "\n",
    "#### Para encontrar um majorante $S$\n",
    "A parte crítica é o passo 5. Várias estratégias são possíveis (veremos algumas mais tarde). \n",
    "Uma solução possível é um algoritmo iterativo que tenta encontrar um invariante $\\,S\\,$ pelos passos seguintes\n",
    "\n",
    "1. $S\\;$ é inicializado com $\\,C(X_n)$\n",
    "2. Faz-se $\\,A \\equiv S(X_n)\\,\\land\\,\\mathsf{T}(X_n,Y_m)\\,$ e verifica-se se  $\\,A\\land U_m\\;$ é insatisfazível. Se for satisfazível então não é possível encontrar o majorante e esta rotina termina sem sucesso.\n",
    "3. Se $\\,A \\land U_m\\;$ for insatisfazível calcula-se um novo interpolante $\\,C(Y_m)\\,$ deste par $(A,U_m)$.\n",
    "4. Se $\\,C(X_n)\\,\\to\\,S\\;$ for tautologia, o invariante pretendido está encontrado.\n",
    "5. Se $\\,C(X_n)\\,\\to\\,S\\;$ não é tautologia, actualiza-se $\\,S\\,$ com $\\,S \\,\\lor\\, C(X_n)\\,$ e repete-se o processo a partir do passo (1)."
   ]
  },
  {
   "cell_type": "markdown",
   "id": "4fe472c3",
   "metadata": {},
   "source": [
    "Para auxiliar na implementação deste algoritmo, começamos por definir duas funções.\n",
    "A função `rename` renomeia uma fórmula (sobre um estado) de acordo com um dado estado. \n",
    "A função `same` testa se dois estados são iguais."
   ]
  },
  {
   "cell_type": "code",
   "execution_count": null,
   "id": "6d68a79f",
   "metadata": {},
   "outputs": [],
   "source": [
    "def baseName(s):\n",
    "    return ''.join(list(itertools.takewhile(lambda x: x!='!', s)))\n",
    "\n",
    "def rename(form,state):\n",
    "    vs = get_free_variables(form)\n",
    "    pairs = [ (x,state[baseName(x.symbol_name())]) for x in vs ]\n",
    "    return form.substitute(dict(pairs))\n",
    "\n",
    "def same(state1,state2):\n",
    "    return And([Equals(state1[x],state2[x]) for x in state1])"
   ]
  },
  {
   "cell_type": "markdown",
   "id": "ba497e7f",
   "metadata": {},
   "source": [
    "### Exercício 6\n",
    "\n",
    "Complete a função de ordem superior `model-checking` que dada a lista de nomes das variáveis do sistema, um predicado que testa se um estado é inicial, um predicado que testa se um par de estados é uma transição válida, \n",
    " um  predicado que testa se um estado é de erro, e dois números positivos N e M que são os limites máximos para os indices $n$ e $m$, implemente o algoritmo acima descrito com o auxílio de m SMT solver."
   ]
  },
  {
   "cell_type": "code",
   "execution_count": null,
   "id": "67ff5eb8",
   "metadata": {},
   "outputs": [],
   "source": [
    "def model_checking(vars,init,trans,error,N,M):\n",
    "    with Solver(name=\"z3\") as s:\n",
    "\n",
    "        # Criar todos os estados que poderão vir a ser necessários.\n",
    "        X = [genState(vars,'X',i) for i in range(N+1)]\n",
    "        Y = [genState(vars,'Y',i) for i in range(M+1)]\n",
    "        \n",
    "        # Estabelecer a ordem pela qual os pares (n,m) vão surgir. Por exemplo:\n",
    "        order = sorted([(a,b) for a in range(1,N+1) for b in range(1,M+1)],key=lambda tup:tup[0]+tup[1]) \n",
    "        \n",
    "        for (n,m) in order:\n",
    "            Tn = And([trans(X[i], X[i+1]) for i in range(n)])\n",
    "            I = init(X[0]) \n",
    "            Rn = And(I, Tn)\n",
    "            \n",
    "            Bm = And([invert(trans)(Y[i], Y[i+1]) for i in range(m)])\n",
    "            E = error(Y[0])\n",
    "            Um = And(E, Bm)\n",
    "            \n",
    "            Vnm = And(Rn, same(X[n], Y[m], Um))\n",
    "                \n",
    "            if s.solve([Vmn]):\n",
    "                print(\"Unsafe\")\n",
    "                return\n",
    "            else:                        # Vnm é instatisfazível\n",
    "                C = binary_interpolant(And(Rn, same(X[n], Y[m])), Um)\n",
    "                if C is None:\n",
    "                    print(\"Interpolant None\")\n",
    "                    break\n",
    "                C0 = rename(C, X[0])\n",
    "                C1 = rename(C, X[1])\n",
    "                T = trans(X[0], X[1])\n",
    "                if not s.solve([C0, T, Not(C1)]):   # C é invariante de T\n",
    "                    print(\"Safe\")\n",
    "                    return\n",
    "                else:\n",
    "                    ### tenta gerar o majorante S\n",
    "                    S = rename(C, X[n])\n",
    "                    while True:\n",
    "                        A = And(S, trans(X[n], Y[m]))\n",
    "                        if s.solve([A,Um]):\n",
    "                            print(\"Não é possível encontrar um majorante\")\n",
    "                            break\n",
    "                        else:\n",
    "                            Cnew = binary_interpolant(A, Um)\n",
    "                            Cn = rename(Cnew, X[n])\n",
    "                            if s.solve([Cn, Not(S)]):   # Se Cn -> S não é tautologia\n",
    "                                S = Or(S, Cn)\n",
    "                            else:             # S foi encontrado\n",
    "                                print(\"Safe\")\n",
    "                                return\n",
    "                            \n",
    "            print(\"unknown\")                   \n",
    "\n",
    "\n",
    "                        \n",
    "\n",
    "model_checking(['x','pc'], init1, trans1, error1, 50, 50)            "
   ]
  },
  {
   "cell_type": "markdown",
   "id": "3f352dca",
   "metadata": {},
   "source": [
    "### Exercício 7\n",
    "\n",
    " Como deve ter visto pela resposta do algoritmo anterior, o nosso programa é inseguro. Defina uma precondição mais forte de modo a que o programa seja seguro."
   ]
  },
  {
   "cell_type": "code",
   "execution_count": null,
   "id": "d6fcc7b3",
   "metadata": {},
   "outputs": [],
   "source": [
    "# completar"
   ]
  }
 ],
 "metadata": {
  "kernelspec": {
   "display_name": "Python 3 (ipykernel)",
   "language": "python",
   "name": "python3"
  },
  "language_info": {
   "codemirror_mode": {
    "name": "ipython",
    "version": 3
   },
   "file_extension": ".py",
   "mimetype": "text/x-python",
   "name": "python",
   "nbconvert_exporter": "python",
   "pygments_lexer": "ipython3",
   "version": "3.10.4"
  }
 },
 "nbformat": 4,
 "nbformat_minor": 5
}
