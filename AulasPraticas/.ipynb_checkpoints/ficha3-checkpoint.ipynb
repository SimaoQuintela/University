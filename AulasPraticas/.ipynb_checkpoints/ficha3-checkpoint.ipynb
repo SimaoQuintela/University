{
 "cells": [
  {
   "cell_type": "markdown",
   "metadata": {
    "id": "qm74Ke0WGTy6"
   },
   "source": [
    "# Problemas de alocação\n",
    "\n",
    "Os problemas de alocação modelam uma relação entre dois tipos de entidades: *compromissos* e *recursos*. Adicionalmente, as restrições sobre a alocação de recursos a compromissos classificam-se em dois tipos: *obrigações* e *limitações*.\n",
    "\n",
    "Nesta aula vamos considerar um problema de alocação. Pretende-se que faça a modelação do problema em Programação Inteira e que use o SCIP para os resolver.\n",
    "Usaremos a biblioteca [OR-Tools](https://developers.google.com/optimization) para fazer a interface para o SCIP. "
   ]
  },
  {
   "cell_type": "markdown",
   "metadata": {
    "id": "XtKrQ1REGTzB"
   },
   "source": [
    "## Horário de um centro de estudos\n",
    "\n",
    "Um centro de estudos possui $S$ salas de aula, $P$ professores, e está aberto $H$ horas por dia, durante $D$ dias na semana.\n",
    "\n",
    "O centro de estudos funciona com as seguintes regras:\n",
    "- Cada professor não pode dar mais do que $C$ horas por dia.\n",
    "- Todos os professores do centro devem ter uma carga horária semanal parecida (diferença máxima de 2 horas).\n",
    "- Não é permitido mais do que um professor por sala.\n",
    "- Alocações contíguas do mesmo professor têm de ser na mesma sala.\n",
    "\n",
    "Pretende-se estabelecer um horário para o centro de estudos que permita ter um número mínimo de aulas $N$ por semana."
   ]
  },
  {
   "cell_type": "markdown",
   "metadata": {
    "id": "1cENlISOGTzB"
   },
   "source": [
    "### Análise do problema\n",
    "\n",
    "Este é um problema de alocação. Pretende-se alocar professores a salas de aula, ao longo da semana, sendo o tempo de ocupação das salas de uma hora. \n",
    "\n",
    "Existem $P$ professores, que podemos identificar por um índice $p \\in [0..P\\!-\\!1]$, e podemos identificar cada sala disponível num dado dia, a uma dada hora, por um triplo $(s,d,h) \\in [0..S\\!-\\!1]\\times[0..D\\!-\\!1]\\times[0..H\\!-\\!1]$.\n",
    "\n",
    "Vamos usar uma família $x_{p,s,d,h}$ de variáveis binárias (i.e., que assumem valores inteiros $\\{0,1\\}$), com a seguinte semântica\n",
    "\n",
    "$$x_{p,s,d,h} == 1  \\quad \\mbox{se e só se} \\quad \\mbox{o professor $p$ for alocado à sala $s$, no dia $d$, à hora $h$.}$$\n",
    "\n",
    "Estas $P\\times S\\times D\\times H$ variáveis são convenientemente representadas numa matriz $X$ instanciável com valores $\\{0,1\\}^{P\\times S\\times D\\times H}$, a que se costuma chamar *matriz de alocação*.\n",
    "\n",
    "Destaca-se ainda o seguinte:\n",
    "\n",
    "**Limitações** (que impõem limites máximos à alocação)\n",
    "\n",
    "1. A carga horária diária máxima de cada professor é $C$.\n",
    "2. Cada sala tem alocado, no máximo, um professor.\n",
    "3. Em cada dia e hora, cada professor é alocado 0 ou 1 vezes.\n",
    "4. No mesmo dia duas alocações contíguas do mesmo professor têm de ser na mesma sala.\n",
    "\n",
    "\n",
    "**Obrigações** (que impõem limites mínimos à alocação)\n",
    "\n",
    "5. Todos os professores têm uma carga horaria semanal parecida (diferença máxima de 2 horas).\n",
    "6. O número mínimo de aulas por semana é $N$."
   ]
  },
  {
   "cell_type": "markdown",
   "metadata": {
    "id": "nsiPBF-eGTzC"
   },
   "source": [
    "### Implementação\n",
    "\n",
    "Começamos por importar a biblioteca de programação linear do OR-Tools e criar uma instância do *solver*.\n",
    "\n",
    "\n",
    "Depois inicializamos o *solver* `horario` e definir os valores para as constantes $S$, $P$, $H$, $D$, $C$ e $N$."
   ]
  },
  {
   "cell_type": "code",
   "execution_count": 1,
   "metadata": {
    "id": "zvJ27RwPGTzC"
   },
   "outputs": [],
   "source": [
    "from ortools.linear_solver import pywraplp\n",
    "\n",
    "horario = pywraplp.Solver.CreateSolver('SCIP')\n",
    "\n",
    "S, P, H, D, C, N = 1, 2, 6, 5, 4, 21"
   ]
  },
  {
   "cell_type": "markdown",
   "metadata": {
    "id": "Ov_Egb_aGTzD"
   },
   "source": [
    "Em seguida, declaramos a matriz de alocação, $X$, e uma variável $T$ que irá representar a carga horária semanal mínima de cada professor (com as restrições adequadas)."
   ]
  },
  {
   "cell_type": "markdown",
   "metadata": {
    "id": "YB6lP3VaGTzD"
   },
   "source": [
    "### Exercício 1\n",
    "\n",
    "Complete a declaração da matriz de alocação $X$ como um dicionário."
   ]
  },
  {
   "cell_type": "code",
   "execution_count": 7,
   "metadata": {
    "id": "foHh_W_8GTzD"
   },
   "outputs": [],
   "source": [
    "x = {}\n",
    "for p in range(P):\n",
    "    x[p] = {}\n",
    "    for s in range(S):\n",
    "        x[p][s] = {}\n",
    "        for d in range(D):\n",
    "            x[p][s][d] = {}\n",
    "            for h in range(H):\n",
    "                x[p][s][d][h] = horario.BoolVar(f'X[{p},{s},{d},{h}]')\n",
    "\n",
    "                \n",
    "def X(p,s,d,h):              # abreviatura para aceder a uma posição da matriz\n",
    "    return x[p][s][d][h]           \n",
    "\n",
    "T = horario.IntVar(0.0,H*D,\"T\")"
   ]
  },
  {
   "cell_type": "markdown",
   "metadata": {
    "id": "x4oLYNM6GTzE"
   },
   "source": [
    "Passamos agora à modelação das restrições e à sua introdução no *solver*.\n",
    "\n",
    "A restrição\n",
    "\n",
    "1. A carga horária diaria máxima de cada professor é $C$\n",
    "\n",
    "pode expressar-se da seguinte forma:\n",
    "\n",
    "$$\\forall_{d< D} \\cdot \\forall_{p< P} \\cdot \\quad \\sum_{h< H,\\,s< S} x_{p,s,d,h} \\leq C$$"
   ]
  },
  {
   "cell_type": "code",
   "execution_count": 8,
   "metadata": {
    "id": "PejhYKKbGTzE"
   },
   "outputs": [],
   "source": [
    "for d in range(D):\n",
    "    for p in range(P):\n",
    "        horario.Add(sum([X(p,s,d,h) for h in range(H) for s in range(S)]) <= C)"
   ]
  },
  {
   "cell_type": "markdown",
   "metadata": {
    "id": "eUYL_nPFGTzE"
   },
   "source": [
    "### Exercício 2\n",
    "\n",
    "Apresente as fórmulas que modelam as restantes restrições e acrescente-as ao problema `horario`.\n",
    "\n",
    "2. Cada sala tem alocada, no máximo, um professor.\n",
    "\n",
    "$$ \\forall_{s < S}\\cdot \\forall_{d < D}\\cdot \\forall_{h < H}\\cdot \\sum_{p < P} x_{p,s,d,h} \\leq 1 $$"
   ]
  },
  {
   "cell_type": "code",
   "execution_count": 13,
   "metadata": {
    "id": "G-m55v0hGTzE"
   },
   "outputs": [],
   "source": [
    "for d in range(D):\n",
    "    for h in range(H):\n",
    "        for s in range(S):\n",
    "            horario.Add(sum(X(p,s,d,h) for p in range(P)) <= 1)"
   ]
  },
  {
   "cell_type": "markdown",
   "metadata": {
    "id": "00Ahl-P2GTzF"
   },
   "source": [
    "3. Em cada dia e hora, cada professor é alocado 0 ou 1 vezes.\n",
    "\n",
    "$$ \\forall_{p < P}\\cdot \\forall_{d < D} \\cdot \\forall{h < H} \\cdot \\sum_{s < S} x_{p,s,d,h} \\leq 1 $$"
   ]
  },
  {
   "cell_type": "code",
   "execution_count": 14,
   "metadata": {
    "id": "cIllcXXnGTzF"
   },
   "outputs": [],
   "source": [
    "for p in range(P):\n",
    "    for d in range(D):\n",
    "        for h in range(H):\n",
    "            horario.Add(sum(X(p,s,d,h) for s in range(S)) <= 1)"
   ]
  },
  {
   "cell_type": "markdown",
   "metadata": {
    "id": "Ok9ow7OoGTzF"
   },
   "source": [
    "4. Todos os professores têm uma carga horaria semanal parecida (diferença máxima de 2 horas).\n",
    "\n",
    "$$ \\forall_{p < P}. T \\leq \\sum_{s < S, d < D, h < H} x_{p,s,d,h} \\leq T+2 $$"
   ]
  },
  {
   "cell_type": "code",
   "execution_count": 15,
   "metadata": {
    "id": "3iOLD4lsGTzG"
   },
   "outputs": [],
   "source": [
    "for p in range(P):\n",
    "    horario.Add(sum(X(p,s,d,h) for s in range(S) for d in range(D) for h in range(H)) >= T)\n",
    "    horario.Add(sum(X(p,s,d,h) for s in range(S) for d in range(D) for h in range(H)) <= T+2)"
   ]
  },
  {
   "cell_type": "markdown",
   "metadata": {
    "id": "P9aBI-47GTzG"
   },
   "source": [
    "5. No mesmo dia duas alocações contíguas do mesmo professor têm de ser na mesma sala.\n",
    "\n",
    "$$ \\forall_{p < P}. \\forall_{d < D}. \\forall_{h < H-1}. \\forall{s < S-1}. \\forall{s < s' < S} x_{p,d,h,s'} + x_{p,d,h+1, s'} <= 1 \\and x_{p,d,h+1,s'} + x_{p,d,h, s'} <= 1 $$"
   ]
  },
  {
   "cell_type": "code",
   "execution_count": 7,
   "metadata": {
    "id": "_93GrtW9GTzG"
   },
   "outputs": [],
   "source": [
    "# completar"
   ]
  },
  {
   "cell_type": "markdown",
   "metadata": {
    "id": "78_mkZ64GTzH"
   },
   "source": [
    "6. O número mínimo de aulas por semana é $N$.\n",
    "\n",
    "$$\n",
    "(completar)\n",
    "$$"
   ]
  },
  {
   "cell_type": "code",
   "execution_count": 1,
   "metadata": {
    "colab": {
     "base_uri": "https://localhost:8080/"
    },
    "id": "T5N7FrGLGTzH",
    "outputId": "9b929781-a79b-4715-88c1-4488706c649c",
    "scrolled": true
   },
   "outputs": [],
   "source": [
    "# completar"
   ]
  },
  {
   "cell_type": "markdown",
   "metadata": {
    "id": "CPF-K3sPGTzH"
   },
   "source": [
    "### Exercício 3\n",
    "\n",
    "Finalize a resolução do problema procurando uma solução, e imprimindo o número de aulas por semana, caso exista."
   ]
  },
  {
   "cell_type": "code",
   "execution_count": 2,
   "metadata": {
    "colab": {
     "base_uri": "https://localhost:8080/"
    },
    "id": "uM01CqR4GTzH",
    "outputId": "32c81756-9e46-45c8-8468-e764c67232d4"
   },
   "outputs": [],
   "source": [
    "# completar"
   ]
  },
  {
   "cell_type": "markdown",
   "metadata": {
    "id": "nSThh2OmGTzJ"
   },
   "source": [
    "### Exercício 4\n",
    "\n",
    "Defina funções para construir os horarios de professores e salas individuais, e para apresentar de forma legível esses horários."
   ]
  },
  {
   "cell_type": "code",
   "execution_count": 3,
   "metadata": {
    "id": "o1CsauGPGTzJ"
   },
   "outputs": [],
   "source": [
    "# completar"
   ]
  },
  {
   "cell_type": "markdown",
   "metadata": {
    "id": "wEvQeGL_GTzK"
   },
   "source": [
    "### Exercício 5\n",
    "\n",
    "Explore o comportamento do modelo pela variação dos parâmetros $S$, $P$, $H$, $D$, $C$ e $N$."
   ]
  },
  {
   "cell_type": "markdown",
   "metadata": {
    "id": "IvnRPqlHGTzK"
   },
   "source": [
    "### Exercício 6\n",
    "\n",
    "Queremos agora acrescentar a seguinte regra no funcionamento do centro de estudos:\n",
    "\n",
    "> Cada professor tem de ter um dia da semana em que não dá aulas.\n",
    "\n",
    "Esta *obrigação* poderia ser expressa matematicamente, de forma direta, por\n",
    "$$\n",
    "\\forall_{p<P}.\\exists_{d<D}. \\quad \\sum_{s<S,h<H} x_{p,s,d,h} = 0\n",
    "$$\n",
    "ou, em alternativa, pela seguinte expressão\n",
    "$$\n",
    "\\forall_{p<P}. \\quad \\bigvee_{d<D} \\big(\\sum_{s<S,h<H} x_{p,s,d,h} = 0\\big) \n",
    "$$\n",
    "\n",
    "Contudo a disjunção não tem uma representação direta nos solvers para programação inteira. Para a implementar podemos acrescentar uma família de variáveis binárias $y_{p,d}$ que indicam se o professor $p$ dá aulas no dia $d$, com a seguinte restrição que limita o número máximo de dias em que o professor dá aulas.\n",
    "\n",
    "$$\\forall_{p<P} \\cdot \\quad \\sum_{d<D} y_{p,d} \\leq D-1 $$"
   ]
  },
  {
   "cell_type": "markdown",
   "metadata": {
    "id": "hSH6ZG1nGTzK"
   },
   "source": [
    "O valor de  $y_{p,d}$ deve também de alguma forma limitar superiormente as aulas que o professor $p$ dá no dia $d$.\n",
    "Apresente uma fórmula que modele esta nova limitação."
   ]
  },
  {
   "cell_type": "markdown",
   "metadata": {
    "id": "tu1RcHkYGTzL"
   },
   "source": [
    "$$\\forall_{p<P} \\cdot \\forall_{d<D} \\cdot \\quad \\sum_{s<S,h<H} x_{p,s,d,h} \\leq y_{p,d} \\times H$$\n",
    "\n"
   ]
  },
  {
   "cell_type": "markdown",
   "metadata": {
    "id": "nhmCmsTLGTzL"
   },
   "source": [
    "Acrescente agora estas fórmulas ao problema `horario`, e encontre nova solução."
   ]
  },
  {
   "cell_type": "code",
   "execution_count": 4,
   "metadata": {
    "colab": {
     "base_uri": "https://localhost:8080/"
    },
    "id": "PyxVJHbJGTzL",
    "outputId": "b99e186c-1a74-41d9-c3d6-91880c56e31f"
   },
   "outputs": [],
   "source": [
    "# completar"
   ]
  }
 ],
 "metadata": {
  "colab": {
   "collapsed_sections": [],
   "name": "Aula3-Resolucao.ipynb",
   "provenance": []
  },
  "kernelspec": {
   "display_name": "Python 3 (ipykernel)",
   "language": "python",
   "name": "python3"
  },
  "language_info": {
   "codemirror_mode": {
    "name": "ipython",
    "version": 3
   },
   "file_extension": ".py",
   "mimetype": "text/x-python",
   "name": "python",
   "nbconvert_exporter": "python",
   "pygments_lexer": "ipython3",
   "version": "3.10.4"
  }
 },
 "nbformat": 4,
 "nbformat_minor": 1
}
