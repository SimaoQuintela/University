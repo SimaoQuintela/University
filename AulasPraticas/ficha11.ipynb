{
 "cells": [
  {
   "cell_type": "markdown",
   "id": "41dcee93",
   "metadata": {},
   "source": [
    "# Transformadores de predicados\n",
    "\n",
    "Um transformador de predicados, como o nome sugere, não é mais do que um operador que recebe um predicado e produz um predicado.\n",
    "Uma técnica de verificação de segurança de sistemas dinâmicos que pode ser aplicada a SFOTS baseia-se neste conceito. Associado a uma transição $\\;\\mathsf{T}\\,$, o transformador de predicados $\\;\\mathsf{wp_T}\\;$, designado por **weakest pre-condition** mapeia um predicado genérico $\\,\\mathsf{Q}\\,$ no  predicado $\\;\\mathsf{wp_T}(\\mathsf{Q})\\;$ que verifica, para todo o predicado $\\;\\mathsf{P}$, a seguinte propriedade\n",
    "$$\\mathsf{P}\\,\\to\\,\\mathsf{wp_T}(\\mathsf{Q})\\quad \\mbox{ sse } \\quad\\mathsf{P}\\,\\land\\,\\mathsf{T}\\,\\to\\,\\mathsf{Q}'\\quad$$ \n",
    "\n",
    "O transformador de predicados $\\;\\mathsf{sp_T}$, associado a uma transição $\\;\\mathsf{T}\\,$, designado por **strongest post-condition**, mapeia um predicado genérico $\\,\\mathsf{P}\\,$ no  predicado $\\;\\mathsf{sp_T}(\\mathsf{P})\\;$ que verifica, para todo o predicado $\\;\\mathsf{Q}$,\n",
    "$$\\mathsf{sp_T}(\\mathsf{P})\\,\\to\\,\\mathsf{Q}\\quad \\mbox{ sse } \\quad\\mathsf{P}\\,\\land\\,\\mathsf{T}\\,\\to\\,\\mathsf{Q}'\\quad$$ \n",
    "\n",
    "Relembramos estes tranformadores para os diversos tipos de transições, conforme apresentado nas aulas teóricas.\n",
    "\n",
    "- Atribuição:  $ \\quad\\mathsf{T(X,X')}\\;\\equiv\\; (\\mathsf{X}' = \\mathit{exp}(\\mathsf{X}))$\n",
    "   - $\\mathsf{wp_T(Q)\\;\\equiv\\;Q\\{\\mathsf{X}/\\mathit{exp}(\\mathsf{X})\\} }$\n",
    "   - $\\mathsf{sp_T(P)\\;\\equiv\\; P\\{\\mathsf{X}/\\mathsf{Z}\\}\\,\\land\\,(\\mathsf{X}=\\mathit{exp}(\\mathsf{Z})) }\\quad$ sendo $\\;\\mathsf{Z}\\;$ uma variável fresca\n",
    "   \n",
    "   \n",
    "- Guarda: $\\quad\\mathsf{T(X,X')\\;\\equiv \\;G(X)\\,\\land\\, S(X,X')}\\,$\n",
    "   - $\\mathsf{wp_T(Q)\\;\\equiv\\; G \\to \\,wp_S(Q)}$\n",
    "   - $\\mathsf{sp_T(P)\\;\\equiv\\;sp_S(G\\land P)}$\n",
    "   \n",
    "   \n",
    "- Escolha: $\\quad \\mathsf{T(X,X') \\;\\equiv\\; \\mathsf{T}_0(X,X') \\;\\lor\\;\\mathsf{T}_1(X,X')}$\n",
    "   - $\\mathsf{wp_{\\mathsf{T}}(Q)\\;\\equiv\\; \\mathsf{wp}_{\\mathsf{T}_0}(Q)\\,\\land\\,\\mathsf{wp}_{\\mathsf{T}_1}(Q)}$\n",
    "   - $\\mathsf{sp_{\\mathsf{T}}(P)\\;\\equiv\\; \\mathsf{sp}_{\\mathsf{T}_0}(P)\\,\\lor\\,\\mathsf{sp}_{\\mathsf{T}_1}(P)}$\n",
    "   \n",
    "   \n",
    "- Composição: $\\quad\\mathsf{T(X,X')\\;\\equiv\\;\\exists\\,Y\\,\\centerdot\\,\\mathsf{T}_0(X,Y)\\land\\mathsf{T}_1(Y,X')}$\n",
    "   - $\\mathsf{wp_\\mathsf{T}(Q)\\;\\equiv\\; \\mathsf{wp}_{\\mathsf{T}_1}(\\mathsf{sp}_{\\mathsf{T}_0}(Q))}$\n",
    "   - $\\mathsf{sp_\\mathsf{T}(P)\\;\\equiv\\; \\mathsf{sp}_{\\mathsf{T}_0}(\\mathsf{sp}_{\\mathsf{T}_1}(P))}$\n",
    "\n",
    "\n",
    "- Atribuição não-determinística: $ \\quad\\mathsf{T(X,X')\\;\\equiv\\; (X' = havoc(X))\\;\\equiv\\; \\bigvee\\,a\\,\\centerdot\\,(X'=a) }$ \n",
    "   - $\\,\\mathsf{wp_T(Q)\\,\\equiv\\,\\bigwedge\\,a\\,\\centerdot\\,Q\\{X/a\\} \\,\\equiv\\,\\forall\\,a\\,\\centerdot\\,Q\\{X/a\\}}$\n",
    "   - $\\mathsf{sp_T(P)\\,\\equiv\\,\\bigvee\\,a\\,\\centerdot\\,(X=a) \\,\\equiv\\,\\exists\\,a\\,\\centerdot\\,(X=a)}$\n"
   ]
  },
  {
   "cell_type": "markdown",
   "id": "ca897a17",
   "metadata": {},
   "source": [
    "Os dois operadores $\\;\\mathsf{wp}\\,$ e $\\,\\mathsf{sp}\\,$  podem ser aplicados múltiplas vezes.  $\\;\\mathsf{sp}^n(\\mathsf{I})\\;$ é a pós-condição mais forte  após a aplicação $\\,n\\,$ vezes da transição $\\,\\mathsf{T}\\,$ a partir de um estado inicial $\\,s\\in\\mathsf{I}\\,$. Formalmente tem-se\n",
    "$\\:\\mathsf{sp}^0(\\mathsf{I}) \\;\\equiv\\;\\mathsf{I}\\:$ e $\\:\\mathsf{sp}^{n}(\\mathsf{I})\\;\\equiv\\;\\mathsf{sp}(\\mathsf{sp}^{n-1}(\\mathsf{I}))\\;$ para $n>0$.\n",
    "De igual modo,  $\\mathsf{wp}^m(\\mathsf{E})\\;$ é a pré-condição mais fraca que assegura um estado de erro $\\,e\\in\\mathsf{E}\\;$ após $\\,m\\,$ aplicações  da transição $\\;\\mathsf{T}$. Formalmente tem-se\n",
    "$\\mathsf{wp}^0(\\mathsf{E}) \\;\\equiv\\;\\mathsf{E}\\:$ e $\\:\\mathsf{wp}^{m}(\\mathsf{E})\\;\\equiv\\;\\mathsf{wp}(\\mathsf{wp}^{m-1}(\\mathsf{E}))\\:$ para $m>0$.\n",
    "\n",
    "$\\mathsf{sp}^\\ast(\\mathsf{I})\\;\\equiv\\;\\bigvee_{n=0}^\\infty\\;\\mathsf{sp}^n(\\mathsf{I})\\:$ denota o conjunto  dos estados alcançáveis\n",
    "e $\\:\\mathsf{wp}^\\ast(\\mathsf{E})\\;\\equiv\\;\\bigvee_{m=0}^\\infty\\;\\mathsf{wp}^m(\\mathsf{E})\\:$ representa o conjunto dos estados inseguros.\n",
    "O  sistema $\\;\\Sigma\\;$ é seguro se estes dois conjuntos nunca se intersectam, isto é, se $\\;\\mathsf{sp}^\\ast(\\mathsf{I})\\,\\land\\,\\mathsf{wp}^\\ast(\\mathsf{E})\\;$ é insatisfazível.\n",
    "\n",
    "Nem $\\;\\mathsf{sp}^\\ast(\\mathsf{I})\\;$ nem $\\;\\mathsf{wp}^\\ast(\\mathsf{E})\\;$ pode ser computado (por ter um número infinito de disjunções), mas podemos esboçar um algoritmo de verificação baseado nesta ideia, recorrendo a aproximações destes predicados. "
   ]
  },
  {
   "cell_type": "markdown",
   "id": "a4544329",
   "metadata": {},
   "source": [
    "### Exercício 1\n",
    "\n",
    "Considere o seguinte programa anotado com uma pré-condição e desenhe um  \"control flow automaton” (CFA) que o modele, seguindo as diretivas apresentadas nas aulas teóricas.\n",
    "```Python\n",
    "{ x >= 3 } \n",
    "while (x>0):\n",
    "    if x == 2: \n",
    "        raise error\n",
    "    x = x-5\n",
    "stop\n",
    "```"
   ]
  },
  {
   "cell_type": "markdown",
   "id": "b3109fa6",
   "metadata": {},
   "source": [
    "Pode-se assumir que o predicado dos estados iniciais é\n",
    "$\\mathsf{I}\\;\\equiv\\;\\mathsf{True}$ e associar um predicado a cada um dos locais do sistema de acordo com os seguintes princípios:\n",
    "- Ao primeiro local de acessibilidade ($\\,\\mathsf{system}\\,$) associamos a pré-condição mais forte $\\;\\mathsf{sp}(\\mathsf{I})\\,$, o que é determinado pelo comando  $\\,\\mathsf{havoc}\\,$ seguido da guarda da transição. \n",
    "- Aos locais $\\;\\mathsf{stop}\\;$ e $\\;\\mathsf{error}\\;$ associamos predicados constantes que vão depender do tipo de problema que vamos tentar modelar. \n",
    "- Aos restantes locais associamos a pré-condição mais fraca.                       "
   ]
  },
  {
   "cell_type": "markdown",
   "id": "ad5ae83c",
   "metadata": {},
   "source": [
    "### Exercício 2\n",
    "\n",
    "À semelhança do apresentado nos apontamentos teóricos, escreva as definições recursivas que descrevem o CFA que construiu no exercício 1."
   ]
  },
  {
   "cell_type": "markdown",
   "id": "94ad6ed4",
   "metadata": {},
   "source": [
    "*(completar)*"
   ]
  },
  {
   "cell_type": "markdown",
   "id": "9943b4a6",
   "metadata": {},
   "source": [
    "Para determinar se existe algum estado acessível que seja um estado inseguro faz-se $\\;\\mathsf{error}\\,\\equiv\\,\\mathsf{True}\\,$ e  $\\;\\mathsf{stop}\\,\\equiv\\,\\mathsf{False}\\,$ e verifica-se se $\\;\\mathsf{system}\\;$ é satisfazível (caso isso aconteça o sistema é inseguro)."
   ]
  },
  {
   "cell_type": "markdown",
   "id": "0e840306",
   "metadata": {},
   "source": [
    "### Exercício 3\n",
    "\n",
    "Tendo por base o exercício 2, escreva uma função em python que, de forma iterativa, tente detectar uma situação em que o sistema é inseguro. A função pode receber dois argumentos um valor de entrada para x e o número de tentativas no cálculo aproximado de $\\;\\mathsf{wp}^\\ast(\\mathsf{E})\\;$."
   ]
  },
  {
   "cell_type": "code",
   "execution_count": 1,
   "id": "c1a33a5b",
   "metadata": {},
   "outputs": [],
   "source": [
    "from pysmt.shortcuts import *\n",
    "from pysmt.typing import INT\n",
    "\n",
    "\n",
    "def ex1_safety(val,n):\n",
    "    with Solver(name=\"z3\") as s:\n",
    "        \n",
    "        # completar\n",
    "        x = Symbol('x', INT)\n",
    "        \n",
    "        stop = FALSE()\n",
    "        error = TRUE()\n",
    "        \n",
    "        do = FALSE()\n",
    "        \n",
    "        for i in range(n):\n",
    "            \n",
    "            system = And(Equals(x, Int(val)), GT(x, Int(3)), do)\n",
    "            if s.is_sat(system):\n",
    "                print('unsafe', i)\n",
    "                return\n",
    "            \n",
    "            atrib = do.substitute({x : x - Int(5)})\n",
    "            \n",
    "            do = And(\n",
    "                Implies(Equals(x, Int(2)), error),\n",
    "                Implies(LE(x, Int(0)), stop),\n",
    "                Implies(And(GT(x, Int(0)), NotEquals(x, Int(2))), atrib)\n",
    "            )\n",
    "        print('Unknown',i)"
   ]
  },
  {
   "cell_type": "code",
   "execution_count": 2,
   "id": "f0afdb7c",
   "metadata": {},
   "outputs": [
    {
     "name": "stdout",
     "output_type": "stream",
     "text": [
      "Unknown 9\n"
     ]
    }
   ],
   "source": [
    "ex1_safety(5,10)"
   ]
  },
  {
   "cell_type": "code",
   "execution_count": null,
   "id": "f213cb07",
   "metadata": {},
   "outputs": [],
   "source": [
    "ex1_safety(17,10)"
   ]
  },
  {
   "cell_type": "markdown",
   "id": "cfd9e9dd",
   "metadata": {},
   "source": [
    "### Exercício 4\n",
    "\n",
    "Experimente fortalecer a pré-condição da função de forma evitar situações de erro."
   ]
  },
  {
   "cell_type": "code",
   "execution_count": null,
   "id": "cfe28abe",
   "metadata": {},
   "outputs": [],
   "source": [
    "# completar"
   ]
  },
  {
   "cell_type": "markdown",
   "id": "7efdfbcf",
   "metadata": {},
   "source": [
    "### Exercício 5\n",
    "\n",
    "Para determinar se existe algum estado acessível que conduza a uma paragem no estado $\\;\\mathsf{stop}\\;$, pode-se fazer  $\\;\\mathsf{stop}\\,\\equiv\\,\\mathsf{True}\\,$ e $\\;\\mathsf{error}\\,\\equiv\\,\\mathsf{False}\\,$ e verificar se $\\,\\mathsf{system}\\,$ é satisfazível. Codifique uma função python que implementa este teste."
   ]
  },
  {
   "cell_type": "code",
   "execution_count": 3,
   "id": "fea1302c",
   "metadata": {},
   "outputs": [],
   "source": [
    "def ex5_safety(val,n):\n",
    "    with Solver(name=\"z3\") as s:\n",
    "        \n",
    "        # completar\n",
    "        x = Symbol('x', INT)\n",
    "        \n",
    "        stop = FALSE()\n",
    "        error = TRUE()\n",
    "        \n",
    "        do = FALSE()\n",
    "        \n",
    "        for i in range(n):\n",
    "            \n",
    "            system = And(Equals(x, Int(val)), GT(x, Int(3)), do)\n",
    "            if s.is_sat(system):\n",
    "                print('Finished', i)\n",
    "                return\n",
    "            \n",
    "            atrib = do.substitute({x : x - Int(5)})\n",
    "            \n",
    "            do = And(\n",
    "                Implies(Equals(x, Int(2)), error),\n",
    "                Implies(LE(x, Int(0)), stop),\n",
    "                Implies(And(GT(x, Int(0)), NotEquals(x, Int(2))), atrib)\n",
    "            )\n",
    "        print('Unknown',i)"
   ]
  },
  {
   "cell_type": "code",
   "execution_count": 5,
   "id": "0036965a",
   "metadata": {},
   "outputs": [
    {
     "name": "stdout",
     "output_type": "stream",
     "text": [
      "Unknown 9\n",
      "Finished 4\n"
     ]
    }
   ],
   "source": [
    "ex5_safety(10,10)\n",
    "ex5_safety(17,10)"
   ]
  },
  {
   "cell_type": "markdown",
   "id": "c52aa056",
   "metadata": {},
   "source": [
    "### Exercício 6\n",
    "\n",
    "Aplique estas técnicas de verificação ao problema da multiplicação de dois inteiros positivo (que foi proposto num trabalho prático), e que está explicado nos apontamentos teóricos. "
   ]
  },
  {
   "cell_type": "code",
   "execution_count": null,
   "id": "3b03e230",
   "metadata": {},
   "outputs": [],
   "source": []
  }
 ],
 "metadata": {
  "kernelspec": {
   "display_name": "Python 3 (ipykernel)",
   "language": "python",
   "name": "python3"
  },
  "language_info": {
   "codemirror_mode": {
    "name": "ipython",
    "version": 3
   },
   "file_extension": ".py",
   "mimetype": "text/x-python",
   "name": "python",
   "nbconvert_exporter": "python",
   "pygments_lexer": "ipython3",
   "version": "3.10.4"
  }
 },
 "nbformat": 4,
 "nbformat_minor": 5
}
