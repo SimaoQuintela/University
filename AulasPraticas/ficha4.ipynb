{
 "cells": [
  {
   "cell_type": "markdown",
   "id": "95aa9b02",
   "metadata": {},
   "source": [
    "# Sobre linearidade\n",
    "\n",
    "Os problemas que temos visto de Programação Inteira tem por objectivo calcular uma solução (ou a melhor solução, no caso de ser um problema de optimização) para um problema modelado como um conjunto de relações *lineares*, i.e., onde só são permitidas multiplicações em que um dos factores é constante.\n",
    "O relaxamento desta condição torna o problema muito mais difícil, e muitos solvers não lhe conseguem dar resposta, ou apenas conseguem responder em situações muito limitadas."
   ]
  },
  {
   "cell_type": "markdown",
   "id": "7894c5ee",
   "metadata": {},
   "source": [
    "### Exercício 1\n",
    "\n",
    "Considere o exemplo de utilização do SCIP para encontrar $x$ e $y$ que minimizem $3x+4y$ satisfazendo as seguintes restrições:\n",
    "\n",
    "$$\n",
    "\\left\\{\n",
    "\\begin{array}{l}\n",
    "5x + 6y \\leq 200\\\\\n",
    "2x + 80y \\ge 150\\\\\n",
    "0 \\leq x \\leq 100\\\\\n",
    "0 \\leq y \\leq 100\n",
    "\\end{array}\n",
    "\\right.\n",
    "$$"
   ]
  },
  {
   "cell_type": "code",
   "execution_count": null,
   "id": "7447dccb",
   "metadata": {},
   "outputs": [],
   "source": [
    "from ortools.linear_solver import pywraplp\n",
    "\n",
    "solver = pywraplp.Solver.CreateSolver('SCIP')\n",
    "\n",
    "x = solver.IntVar(0.0,100,\"x\")\n",
    "y = solver.IntVar(0.0,100,\"y\")\n",
    "\n",
    "solver.Add(5*x + 6*y <= 200)\n",
    "solver.Add(2*x + 80*y >= 150)\n",
    "\n",
    "solver.Minimize(3*x + 4*y)\n",
    "\n",
    "status = solver.Solve()\n",
    "\n",
    "if status == pywraplp.Solver.OPTIMAL:\n",
    "    print (\"x = \",round(x.solution_value()))\n",
    "    print (\"y = \",round(y.solution_value()))\n",
    "    print (\"objectivo = \",round(solver.Objective().Value()))\n",
    "else:\n",
    "    print('No solution found.')"
   ]
  },
  {
   "cell_type": "markdown",
   "id": "f4d80707",
   "metadata": {},
   "source": [
    "Altere o programa de forma a acrescentar a restrição (não linear)  $ x y \\ge 1$ e veja como ele se comporta."
   ]
  },
  {
   "cell_type": "markdown",
   "id": "5064c8d0",
   "metadata": {},
   "source": [
    "Como se deve ter apercebido, o *wrapper* do SCIP assinala logo um erro de tipo, não perminido assim o produto de duas variáveis. \n",
    "O OR-Tools disponibiliza outras ferramentas de programação inteira que permitem este tipo de restrições, como é o caso do [CP-SAT solver](https://developers.google.com/optimization/cp/cp_solver)."
   ]
  },
  {
   "cell_type": "markdown",
   "id": "18824b4e",
   "metadata": {},
   "source": [
    "## CP-SAT solver\n",
    "\n",
    "O CP-SAT solver é uma ferramenta de programação inteira do OR-Tools que consegue lidar com a multiplicação de variáveis, embora de uma forma especial. \n",
    "\n",
    "A forma de interagir com o CP-SAT difere em alguns detalhes da do SCIP. Para ilustrar isso, apresentamos a seguir  a resolução comentada do exercício 1 em CP-SAT."
   ]
  },
  {
   "cell_type": "code",
   "execution_count": null,
   "id": "339be546",
   "metadata": {},
   "outputs": [],
   "source": [
    "# Importar biblioteca\n",
    "from ortools.sat.python import cp_model\n",
    "\n",
    "# Cria o modelo CP-SAT\n",
    "model = cp_model.CpModel()\n",
    "\n",
    "# Cria as variáveis\n",
    "x = model.NewIntVar(0, 100, 'x')\n",
    "y = model.NewIntVar(0, 100, 'y')\n",
    "\n",
    "# Adiciona as restrições ao modelo\n",
    "model.Add(5*x + 6*y <= 200)\n",
    "model.Add(2*x + 80*y >= 150)\n",
    "\n",
    "# Define o objectivo\n",
    "model.Minimize(3*x + 4*y)\n",
    "\n",
    "# Cria um solver CP-SAT a solver and solves the model.\n",
    "solver = cp_model.CpSolver()\n",
    "\n",
    "# Invoca o solver com o modelo criado\n",
    "status = solver.Solve(model)\n",
    "\n",
    "# Interpreta os resultados\n",
    "if status == cp_model.OPTIMAL or status == cp_model.FEASIBLE:\n",
    "    print('x = %i' % solver.Value(x))\n",
    "    print('y = %i' % solver.Value(y))\n",
    "    print (\"objectivo = \", int(solver.ObjectiveValue()))\n",
    "else:\n",
    "    print('No solution found.')"
   ]
  },
  {
   "cell_type": "markdown",
   "id": "3e182b91",
   "metadata": {},
   "source": [
    "Se tentar acrescentar a restrição $x y\\ge 1$ através de `model.Add(x*y <= 1)` verá que obtém também um erro de tipo.\n",
    "No CP-SAT a multiplicação de variáveis tem um tratamento especial.\n",
    "\n",
    "A multiplicação de variáveis no CP-SAT não é uma operação como a multiplicação de um escalar por uma variável. Para cada multiplicação de variáveis é necessário criar uma variável adicional que representa essa multiplicação. É depois esta nova variável que entra nas restrições que são acrescentadas."
   ]
  },
  {
   "cell_type": "code",
   "execution_count": null,
   "id": "3206eabf",
   "metadata": {},
   "outputs": [],
   "source": [
    "# Importar biblioteca\n",
    "from ortools.sat.python import cp_model\n",
    "\n",
    "# Cria o modelo CP-SAT\n",
    "model = cp_model.CpModel()\n",
    "\n",
    "# Cria as variáveis\n",
    "x = model.NewIntVar(0, 100, 'x')\n",
    "y = model.NewIntVar(0, 100, 'y')\n",
    "\n",
    "# Adiciona as restrições ao modelo\n",
    "model.Add(5*x + 6*y <= 200)\n",
    "model.Add(2*x + 80*y >= 150)\n",
    "\n",
    "# Cria uma variável adicional que representa a multiplicação das variáveis\n",
    "xy = model.NewIntVar(0, 100*100, \"xy\")\n",
    "model.AddMultiplicationEquality(xy, [x,y])  # xy = x*y\n",
    "# Acescenta a restrição x*y>=1\n",
    "model.Add(xy >= 1)\n",
    "\n",
    "# Define o objectivo\n",
    "model.Minimize(3*x + 4*y)\n",
    "\n",
    "# Cria um solver CP-SAT a solver and solves the model.\n",
    "solver = cp_model.CpSolver()\n",
    "\n",
    "# Invoca o solver com o modelo criado\n",
    "status = solver.Solve(model)\n",
    "\n",
    "# Interpreta os resultados\n",
    "if status == cp_model.OPTIMAL or status == cp_model.FEASIBLE:\n",
    "    print('x = %i' % solver.Value(x))\n",
    "    print('y = %i' % solver.Value(y))\n",
    "    print (\"objectivo = \", int(solver.ObjectiveValue()))\n",
    "else:\n",
    "    print('No solution found.')"
   ]
  },
  {
   "cell_type": "markdown",
   "id": "0cd5ab7a",
   "metadata": {},
   "source": [
    "Tem [aqui](https://github.com/d-krupke/cpsat-primer) um breve tutorial do CP-SAT."
   ]
  },
  {
   "cell_type": "markdown",
   "id": "01606b91",
   "metadata": {},
   "source": [
    "# Mais um problema de optimização linear\n",
    "\n",
    "Um hospital trabalha todos os dias da semana e tem que ter um número mínimo de enfermeiros para assegurar o seu bom funcionamento. Os enfermeiros trabalham em turnos, e há 3 turnos: manhã, tarde ou noite.\n",
    "As regras de funcionamento do hospital, quanto ao corpo de enfermagem, são as seguintes:\n",
    "\n",
    "- Todos os turnos têm pelo menos N enfermeiros.\n",
    "- Os turnos da manhã, por serem mais movimentados, têm no mínimo, mais 30% de enfermeiros do que é exigido nos restantes turnos.\n",
    "- Um enfermeiro não pode trabalhar dois turnos seguidos.\n",
    "- Todos os enfermeiros têm que ter, pelo menos, um dia de folga.\n",
    "\n",
    "Dado o número N de enfermeiros que se quer assegurar por turno, pretende-se saber qual será o números mínimo de enfermeiros que o hospital deve contratar."
   ]
  },
  {
   "cell_type": "markdown",
   "id": "8e48f748",
   "metadata": {},
   "source": [
    "### Exercício 2\n",
    "\n",
    "Faça a análise do problema acima apresentado. Primeiro, indique claramente as variáveis que vai necessitar e a sua interpretação. Depois, escreva formalmente as restrições que modelam o problema. Por fim, defina o objectivo do problema. "
   ]
  },
  {
   "cell_type": "markdown",
   "id": "5f71b6ec",
   "metadata": {},
   "source": [
    "(completar)"
   ]
  },
  {
   "cell_type": "markdown",
   "id": "2cba3216",
   "metadata": {},
   "source": [
    "### Exercício 3\n",
    "\n",
    "Codifique em Python uma função `nurses(N)` que calcula o número mínimo de enfermeiros que um hospital deve contratar."
   ]
  },
  {
   "cell_type": "code",
   "execution_count": null,
   "id": "047ada0a",
   "metadata": {},
   "outputs": [],
   "source": [
    "# completar"
   ]
  }
 ],
 "metadata": {
  "kernelspec": {
   "display_name": "Python 3 (ipykernel)",
   "language": "python",
   "name": "python3"
  },
  "language_info": {
   "codemirror_mode": {
    "name": "ipython",
    "version": 3
   },
   "file_extension": ".py",
   "mimetype": "text/x-python",
   "name": "python",
   "nbconvert_exporter": "python",
   "pygments_lexer": "ipython3",
   "version": "3.10.4"
  }
 },
 "nbformat": 4,
 "nbformat_minor": 5
}
