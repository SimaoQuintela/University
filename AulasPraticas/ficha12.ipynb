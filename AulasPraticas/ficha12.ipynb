{
 "cells": [
  {
   "cell_type": "markdown",
   "metadata": {
    "id": "54JdmrDISUMj"
   },
   "source": [
    "# Sistemas híbridos\n",
    "\n",
    "\n",
    "*Autómatos híbridos* são modelos de sistemas ciber-físicos. Essencialmente um autómato híbrido é uma *máquina de estados finita*, onde cada estado (designado por *modo de funcionamento*) descreve o comportamento contínuo de um sistema dinâmico modelado por *relações diferenciais ordinárias* (nas variáveis contínuas e nas suas derivadas em relação ao tempo) codificadas num predicado designado por *flow*. Estas variáveis contínuas evoluem num modo de funcionamento enquanto o seu *flow* for válido.\n",
    "Cada transição discreta entre estados (um *switch* entre modos de funcionamento) é representada por um arco anotado com um evento e um predicado (*jump*). O *switch* realiza-se quando o seu *jump* é válido. Ao ocorrer uma transição as variáveis internas dos modos conservam o seu valor, a não ser que lhes seja explicitamente atribuído um novo valor.\n",
    "\n",
    "*Sistemas híbridos* são modelos constituídos por vários autómatos híbridos que, em princípio, evoluem de forma “quase-independente”; a única dependência manifesta-se no sincronismo de duas ou mais transições relativas ao mesmo evento em autómatos distintos.\n",
    "\n",
    "Um sistema híbrido pode ser descrito por um FOTS (sobre o qual podemos verificar propriedades lógicas com as metodologias que já estudamos). Nesse processo o FOTS vai *discretizar* as relações diferenciais ordinárias e vai mapea-las num espaço de estados também discreto.\n",
    "\n",
    "\n"
   ]
  },
  {
   "cell_type": "markdown",
   "metadata": {
    "id": "TByP3ksyVJjn"
   },
   "source": [
    "\n",
    "### Exemplo do termostato\n",
    "\n",
    "Considere o seguinte autómato híbrido que modela o comportamento de um termostato que controla uma caldeira de aquecimento.\n",
    "\n",
    "![termostato.png](data:image/png;base64,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)\n",
    "\n",
    "Inicialmente a temperatura (aqui representada pela variável $x$) é de 20 graus. Quando a temperatura é menor que 19 graus o termostato pode ligar-se. Como o modo em que o termostato está desligado tem o invariante $x>=18$, esta temperatura estabelece um limite a partir do qual o termostato tem necessariamente que se ligar. O termostato só pode voltar a desligar quando a temperatura excede os 21 graus, fazendo-o necessariamente se esta atingir os 22 graus devido ao invariante no modo em que está ligado.\n"
   ]
  },
  {
   "cell_type": "markdown",
   "metadata": {
    "id": "yDTBP_2ASUMo"
   },
   "source": [
    "## Verificação de autómatos híbridos com FOTS\n",
    "\n",
    "Podemos verificar propriedades de segurança de autómatos híbridos codificando a semântica dos mesmos num FOTS e usando depois os procedimentos de verificação implementados nas aulas anteriores.\n",
    "\n",
    "A ideia básica é incluir nos estados do FOTS para além das variáveis contínuas do autómato híbrido duas variáveis especiais:\n",
    "- uma variável contínua que denota o tempo ($t$ no caso do termostato)\n",
    "- uma variável discreta que denota o *modo de funcionamento* ($m$ no caso do termostato)\n",
    "\n",
    "O estado inicial do FOTS é derivado facilmente a partir da definição do autómato híbrido. Por exemplo, no caso do termostato temos\n",
    "\n",
    "$$\n",
    "t = 0 \\wedge m = \\mathsf{INIT} \\wedge x = 20\n",
    "$$\n",
    "\n",
    "As transições do FOTS incluem os dois tipos de transição que podem ocorrer num autómato híbrido:\n",
    "- Transições *timed* descrevem os *flows* associados a cada modo (a evolução das variáveis contínuas)\n",
    "- Transições *untimed* descrevem os *switches* entre modos\n",
    "\n",
    "As transições *untimed* podem ser obtidas através de uma codificação muito directa das guardas e efeitos especificadas nos *switches*, com a restrição que o tempo não evolui nestas transições, nem as variáveis contínuas se modificam a não ser que lhes seja explicitamente atribuído um novo valor no efeito do *switch*. Por exemplo, no caso do termostato temos 3 transições deste tipo:\n",
    "\n",
    "$$\n",
    "\\begin{array}{c}\n",
    "m = \\mathsf{INIT} \\wedge m' = \\mathsf{OFF} \\wedge x' = x \\wedge t' = t \\\\\n",
    "\\vee\\\\\n",
    "m = \\mathsf{OFF} \\wedge m' = \\mathsf{ON} \\wedge x < 19 \\wedge x' = x \\wedge t' = t \\\\\n",
    "\\vee\\\\\n",
    "m = \\mathsf{ON} \\wedge m' = \\mathsf{OFF} \\wedge x \\ge 21 \\wedge x' = x \\wedge t' = t \n",
    "\\end{array}\n",
    "$$\n",
    "\n",
    "Nas transições *timed* o modo permanece constante, mas o resto das variáveis evoluem de acordo com as restrições indicadas. Os *flows* são especificados indicando qual a derivada em relação ao tempo de cada variável contínua. Para codificar os *flows* no FOTS é necessário fazer a sua *discretização*, ou seja, indicar qual a variação ocorrida num intervalo de tempo $t'-t$. Se a derivada for uma constante a discretização é trivial. Por exemplo, se $\\dot{x} = k$ temos que $x' - x = k(t'-t)$. \n",
    "Se a relação de *flow* é amortecida, como por exemplo no modo $\\mathsf{OFF}$ do termostato, uma pseudo-solução seria aproximar a derivada $\\dot{x}$ por $\\frac{x'-x}{t'-t}$ obtendo-se\n",
    "$5(x' - x) + x*(t'-t) = 0$, mas nesta equação ocorre um produto não-escalar $\\,x*(t'-t)\\,$ e, por isso,  ela não vai ser decidível.\n",
    "Uma sugestão para discretizar consiste em usar um valor constante para substituir a variável $x$, inferido a partir do invariante de modo. Neste caso a equação de flow transforma-se numa inequação.\n",
    "\n",
    "\n",
    "Por exemplo, no caso do *flow* associado ao modo $\\mathsf{OFF}$, $5\\dot{x}+x=0$,  como sabemos que $x \\ge 18$ podemos substituir $x$ por 18 na equação, dando origem à relação $x' - x \\le -\\frac{18}{5}(t'-t)$. \n",
    "No caso do *flow* associado ao modo $\\mathsf{ON}$, $5\\dot{x}+x=25$,  como $x \\le 22$ podemos aproximar $x$ por 22, dando origem à relação $x' - x \\ge \\frac{3}{5}(t'-t)$. \n",
    "\n",
    "Finalmente, é necessário também impor os invariantes dos modos no FOTS. Isso pode ser feito acrescentando a cada transição uma restrição que obriga o invariante a ser cumprido. Temos também que assugurar que o tempo avança.\n",
    "\n",
    "\n",
    "Com esta técnica, no caso do termostato teríamos as seguintes duas transições *timed*:\n",
    "\n",
    "$$\n",
    "\\begin{array}{c}\n",
    "m = \\mathsf{OFF} \\wedge m' = m \\wedge x' - x \\le -\\frac{18}{5}(t'-t) \\wedge x \\ge 18 \\wedge x' \\ge 18 \\wedge t'>t \\\\\n",
    "\\vee\\\\\n",
    "m = \\mathsf{ON} \\wedge m' = m \\wedge x' - x \\ge \\frac{3}{5}(t'-t) \\wedge x \\le 22 \\wedge x' \\le 22 \\wedge t' > t\n",
    "\\end{array}\n",
    "$$\n",
    "\n",
    "Para reduzir os erros na verificação pode-se reduzir a granularidade da discretização subdividindo cada modo em vários sub-modos que cubram toda a gama dos valores permitidos. Por exemplo neste caso poderíamos dividir cada um dos modos em 4 sub-modos, cada um com uma variação de temperatura máxima de 1 grau, cobrindo assim toda a gama de temperaturas possíveis (entre 18 e 22 graus)."
   ]
  },
  {
   "cell_type": "markdown",
   "metadata": {
    "id": "RjXfc2BA3RQU"
   },
   "source": [
    "Começamos por importar as bibliotecas do pySMT e, como o pySMT não permite ainda definir um tipo enumerado para implementar os modos do termostato, vamos usar três valores inteiros par os representar."
   ]
  },
  {
   "cell_type": "code",
   "execution_count": null,
   "metadata": {
    "colab": {
     "base_uri": "https://localhost:8080/"
    },
    "executionInfo": {
     "elapsed": 3366,
     "status": "ok",
     "timestamp": 1637606453071,
     "user": {
      "displayName": "Maria João Frade",
      "photoUrl": "https://lh3.googleusercontent.com/a-/AOh14Ggsl7DgkrbKKq_x5wt54lWf1B_Ow_4tBk8o4LfVfw=s64",
      "userId": "03944960066051965480"
     },
     "user_tz": 0
    },
    "id": "RLqZGQq03U72",
    "outputId": "298f70f0-64cf-4f97-e216-d0fb2c4fffc4"
   },
   "outputs": [],
   "source": [
    "from pysmt.shortcuts import *\n",
    "from pysmt.typing import *\n",
    "\n",
    "INIT = Int(-1)\n",
    "OFF = Int(0)\n",
    "ON = Int(1)"
   ]
  },
  {
   "cell_type": "markdown",
   "metadata": {
    "id": "wVqSU6sNSUMs"
   },
   "source": [
    "Podemos agora declarar as variáveis do FOTS correspondente ao termostato da seguinte forma."
   ]
  },
  {
   "cell_type": "code",
   "execution_count": null,
   "metadata": {
    "executionInfo": {
     "elapsed": 511,
     "status": "ok",
     "timestamp": 1637606457065,
     "user": {
      "displayName": "Maria João Frade",
      "photoUrl": "https://lh3.googleusercontent.com/a-/AOh14Ggsl7DgkrbKKq_x5wt54lWf1B_Ow_4tBk8o4LfVfw=s64",
      "userId": "03944960066051965480"
     },
     "user_tz": 0
    },
    "id": "v650hJAOSUMt"
   },
   "outputs": [],
   "source": [
    "def declare(i):\n",
    "    s = {}\n",
    "    s['t'] = Symbol('t'+str(i),REAL)\n",
    "    s['m'] = Symbol('m'+str(i),INT)\n",
    "    s['x'] = Symbol('x'+str(i),REAL)\n",
    "    return s"
   ]
  },
  {
   "cell_type": "markdown",
   "metadata": {
    "id": "PEsEy58rSUMt"
   },
   "source": [
    "### Exercício 1\n",
    "\n",
    "Codifique os predicados `init` e `trans` que caracterizam, respectivamente, os estados iniciais e as transições do FOTS correspondente ao termostato."
   ]
  },
  {
   "cell_type": "code",
   "execution_count": null,
   "metadata": {
    "executionInfo": {
     "elapsed": 313,
     "status": "ok",
     "timestamp": 1637606459304,
     "user": {
      "displayName": "Maria João Frade",
      "photoUrl": "https://lh3.googleusercontent.com/a-/AOh14Ggsl7DgkrbKKq_x5wt54lWf1B_Ow_4tBk8o4LfVfw=s64",
      "userId": "03944960066051965480"
     },
     "user_tz": 0
    },
    "id": "jn7-SHt-SUMu"
   },
   "outputs": [],
   "source": [
    "def init(s):\n",
    "    # completar\n",
    "\n",
    "def trans(s,p):\n",
    "    # completar\n",
    "  "
   ]
  },
  {
   "cell_type": "markdown",
   "metadata": {
    "id": "aJHgeLDaSUMu"
   },
   "source": [
    "### Exercício 2\n",
    "\n",
    "Adapte a função `gera_traco` implementada nas aulas anteriores por forma a imprimir todas as variáveis contínuas como números de virgula flutuante. \n",
    "Para obter o valor de uma variável num tipo Python use o método `get_py_value`. Verá que os valores voão aprecer como frações. Converta estes valores para um float do Python usando a função `float`."
   ]
  },
  {
   "cell_type": "code",
   "execution_count": null,
   "metadata": {},
   "outputs": [],
   "source": [
    "def gera_traco(declare,init,trans,k):\n",
    "    with Solver(name=\"z3\") as s:\n",
    "        \n",
    "        # completar\n",
    "    \n",
    "                        \n",
    "####\n",
    "gera_traco(declare,init,trans,5)"
   ]
  },
  {
   "cell_type": "markdown",
   "metadata": {
    "id": "gndOh_ijSUMw"
   },
   "source": [
    "### Exercício 3\n",
    "\n",
    "Adapte a função `bmc_always` implementada nas aulas anterior para, tal como no exercício anterior, quando ocorrer um contra-exemplo imprima também todas as variáveis continuas como números de virgula flutuante. "
   ]
  },
  {
   "cell_type": "code",
   "execution_count": null,
   "metadata": {},
   "outputs": [],
   "source": [
    "def bmc_always(declare,init,trans,prop,K):\n",
    "    for k in range(1,K+1):\n",
    "        with Solver(name=\"z3\") as s:\n",
    "            \n",
    "            # completar\n",
    "\n",
    "\n",
    "            \n",
    "    \n",
    "######\n",
    "\n",
    "def nonnegative(s):\n",
    "    return (s['x'] >= Real(0))\n",
    "\n",
    "bmc_always(declare,init,trans,nonnegative,20)"
   ]
  },
  {
   "cell_type": "markdown",
   "metadata": {
    "id": "VJ_lZva0SUMx"
   },
   "source": [
    "### Exercício 4\n",
    "\n",
    "A propriedade \"o termostato irá inevitavelmente estar ligado\" é uma propriedade de *liveness* exprimível como $F\\ (m = \\mathsf{ON})$. No entanto a propriedade \"passado 1 segundo o termostato irá inevitavelmente estar ligado\" já é uma propriedade de *safety*. Explique porquê e verifique também se esta propriedade se verifica no termostato."
   ]
  },
  {
   "cell_type": "code",
   "execution_count": null,
   "metadata": {
    "colab": {
     "base_uri": "https://localhost:8080/"
    },
    "executionInfo": {
     "elapsed": 334,
     "status": "ok",
     "timestamp": 1637606526811,
     "user": {
      "displayName": "Maria João Frade",
      "photoUrl": "https://lh3.googleusercontent.com/a-/AOh14Ggsl7DgkrbKKq_x5wt54lWf1B_Ow_4tBk8o4LfVfw=s64",
      "userId": "03944960066051965480"
     },
     "user_tz": 0
    },
    "id": "igZq9v0hSUMx",
    "outputId": "2cfe3af2-6183-496b-dd08-88ef582215e2"
   },
   "outputs": [],
   "source": [
    "# completar"
   ]
  },
  {
   "cell_type": "markdown",
   "metadata": {
    "id": "bw3lvq2qSUMy"
   },
   "source": [
    "### Exercício 5\n",
    "\n",
    "Como pode verificar o contra-exemplo obtido não é realista e deve-se à aproximação feita na discretização, que permite mais comportamentos que os realmente possíveis no sistema real. Isto faz com que seja possível termos falsos contra-exemplos para algumas propriedades. Para reduzir estes falsos contra-exemplos podemos tentar melhorar essa discretização, por exemplo, tentando inferir invariantes mais fortes para as variáveis contínuas em cada um dos modos. No caso do termostato sabemos que em qualquer dos modos de facto temos que $18 \\le x \\le 22$. Usando esta informação refine a definição do predicado `trans` e volte a verificar a propriedade. Se o contra-exemplo continuar a ser claramente inválido podemos refinar mais cada um dos modos, desdobrando-os para gamas da variável $x$ mais apertadas, por exemplo, dividindo cada um deles em 2 sub-modos onde $18 \\le x \\le 20$ e $20 \\le x \\le 22$."
   ]
  },
  {
   "cell_type": "code",
   "execution_count": null,
   "metadata": {},
   "outputs": [],
   "source": [
    "# completar"
   ]
  },
  {
   "cell_type": "markdown",
   "metadata": {
    "id": "da603jpuSUMz"
   },
   "source": [
    "### Exercício 6\n",
    "\n",
    "Considere o seguinte autómato híbrido que modela um contador que no modo $\\mathsf{ON}$ evolui síncronamente com o tempo. Neste caso vamos assumir que a variável de tempo é designada $\\tau$ e variável de modo por $n$.\n",
    "\n",
    "\n",
    "![contador.png](data:image/png;base64,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)\n",
    "\n",
    "\n",
    "Modele este autómato com um FOTS e verifique que o valor do contador nunca é superior ao tempo decorrido."
   ]
  },
  {
   "cell_type": "code",
   "execution_count": null,
   "metadata": {
    "colab": {
     "base_uri": "https://localhost:8080/"
    },
    "executionInfo": {
     "elapsed": 717,
     "status": "ok",
     "timestamp": 1637606768001,
     "user": {
      "displayName": "Maria João Frade",
      "photoUrl": "https://lh3.googleusercontent.com/a-/AOh14Ggsl7DgkrbKKq_x5wt54lWf1B_Ow_4tBk8o4LfVfw=s64",
      "userId": "03944960066051965480"
     },
     "user_tz": 0
    },
    "id": "xW8g1SkaSUM0",
    "outputId": "c379fdb4-23ff-478b-aa70-513ed16c4954"
   },
   "outputs": [],
   "source": [
    "# completar"
   ]
  },
  {
   "cell_type": "markdown",
   "metadata": {
    "id": "84K42HfRSUM0"
   },
   "source": [
    "## Verificação de sistemas híbridos com FOTS"
   ]
  },
  {
   "cell_type": "markdown",
   "metadata": {
    "id": "WDR6v8r-SUM1"
   },
   "source": [
    "Se quisermos verificar propriedades sobre um sistema híbrido, por exemplo, sobre o sistema que incluiu os dois autómatos acima, temos que modelar a evolução de todos os seus autómatos num único FOTS. Os estados deste FOTS correspondem ao produto cartesiano dos estados dos vários autómatos, sendo o estado inicial caracterizado pela conjunção dos predicados iniciais de todos eles. Por exemplo, num sistema híbrido com um termostato e um contador,  o estado inicial seria caracterizado pelo seguinte predicado.\n",
    "\n",
    "$$\n",
    "m = \\mathsf{INIT} \\wedge x = 20 \\wedge t = 0 \\wedge n = \\mathsf{INIT} \\wedge c = 0 \\wedge \\tau = 0\n",
    "$$\n",
    "\n",
    "Para tal temos que considerar como é que as transições dos diferentes autómatos estão sincronizadas:\n",
    "\n",
    "- as transições *timed* de diferentes autómatos ocorrem simultaneamente sse o intervalo de tempo decorrido for igual em todos os *flows*\n",
    "- as transições *untimed* de diferentes autómatos ocorrem simultaneamente sse o evento que ocorre for igual em todos os *switches*\n",
    "\n",
    "No sistema híbrido exemplo, a transição *untimed* relativa ao evento $\\mathsf{init}$ seria caracterizada pela seguinte restrição.\n",
    "\n",
    "$$\n",
    "m = \\mathsf{INIT} \\wedge m' = \\mathsf{OFF} \\wedge x' = x \\wedge t' = t \\wedge n = \\mathsf{INIT} \\wedge n' = \\mathsf{OFF} \\wedge c' = c \\wedge \\tau' = \\tau\n",
    "$$\n",
    "\n",
    "No caso das transições *timed* temos que considerar todas as combinações de transições *timed* nos diferentes modos. Por exemplo, quando os dois autómatos estão no estado $\\mathsf{OFF}$ o *flow* pode ser caracterizado pela seguinte restrição (sem considerar o refinamento introduzido no exercício 5).\n",
    "\n",
    "$$\n",
    "\\begin{array}{c}\n",
    "m = \\mathsf{OFF} \\wedge m' = m \\wedge x' - x \\le -\\frac{18}{5}(t'-t) \\wedge x \\ge 18 \\wedge x' \\ge 18 \\wedge t'>t\\\\\n",
    "\\wedge\\\\\n",
    "n = \\mathsf{OFF} \\wedge n' = n \\wedge c' - c = 0 \\wedge \\tau' > \\tau\\\\\n",
    "\\wedge\\\\\n",
    "t' - t = \\tau' - \\tau\n",
    "\\end{array}\n",
    "$$"
   ]
  },
  {
   "cell_type": "markdown",
   "metadata": {
    "id": "-B9FE-UhSUM1"
   },
   "source": [
    "### Exercício 7\n",
    "\n",
    "Modele este sistema híbrido em Z3 e gere um traço com 5 estados."
   ]
  },
  {
   "cell_type": "code",
   "execution_count": null,
   "metadata": {
    "colab": {
     "base_uri": "https://localhost:8080/"
    },
    "executionInfo": {
     "elapsed": 262,
     "status": "ok",
     "timestamp": 1637606814533,
     "user": {
      "displayName": "Maria João Frade",
      "photoUrl": "https://lh3.googleusercontent.com/a-/AOh14Ggsl7DgkrbKKq_x5wt54lWf1B_Ow_4tBk8o4LfVfw=s64",
      "userId": "03944960066051965480"
     },
     "user_tz": 0
    },
    "id": "p-Zl2DurSUM2",
    "outputId": "9bc6f2d6-7e08-4736-8d8b-a7e2fa66d863"
   },
   "outputs": [],
   "source": [
    "# completar"
   ]
  },
  {
   "cell_type": "markdown",
   "metadata": {
    "id": "i_ojESrCSUM2"
   },
   "source": [
    "### Exercício 8\n",
    "\n",
    "Verifique que o contador é positivo passados pelo menos 0.2 segundos."
   ]
  },
  {
   "cell_type": "code",
   "execution_count": null,
   "metadata": {
    "colab": {
     "base_uri": "https://localhost:8080/"
    },
    "executionInfo": {
     "elapsed": 699,
     "status": "ok",
     "timestamp": 1637606823355,
     "user": {
      "displayName": "Maria João Frade",
      "photoUrl": "https://lh3.googleusercontent.com/a-/AOh14Ggsl7DgkrbKKq_x5wt54lWf1B_Ow_4tBk8o4LfVfw=s64",
      "userId": "03944960066051965480"
     },
     "user_tz": 0
    },
    "id": "gFO2plCpSUM3",
    "outputId": "8c063cf0-0986-495a-fa3f-1920a670bda9"
   },
   "outputs": [],
   "source": [
    "# completar"
   ]
  },
  {
   "cell_type": "code",
   "execution_count": null,
   "metadata": {
    "executionInfo": {
     "elapsed": 9,
     "status": "ok",
     "timestamp": 1637605761858,
     "user": {
      "displayName": "Maria João Frade",
      "photoUrl": "https://lh3.googleusercontent.com/a-/AOh14Ggsl7DgkrbKKq_x5wt54lWf1B_Ow_4tBk8o4LfVfw=s64",
      "userId": "03944960066051965480"
     },
     "user_tz": 0
    },
    "id": "y7K_i75USUM3"
   },
   "outputs": [],
   "source": []
  }
 ],
 "metadata": {
  "colab": {
   "collapsed_sections": [],
   "name": "Aula8-Resolucao.ipynb",
   "provenance": []
  },
  "kernelspec": {
   "display_name": "Python 3 (ipykernel)",
   "language": "python",
   "name": "python3"
  },
  "language_info": {
   "codemirror_mode": {
    "name": "ipython",
    "version": 3
   },
   "file_extension": ".py",
   "mimetype": "text/x-python",
   "name": "python",
   "nbconvert_exporter": "python",
   "pygments_lexer": "ipython3",
   "version": "3.10.4"
  }
 },
 "nbformat": 4,
 "nbformat_minor": 1
}
