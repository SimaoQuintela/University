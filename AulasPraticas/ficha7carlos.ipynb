{
 "cells": [
  {
   "cell_type": "markdown",
   "metadata": {
    "id": "UqLU0IeuTGUH"
   },
   "source": [
    "# *Bounded Model Checking*\n",
    "\n",
    "Nesta aula vamos estudar *model checking*, uma das técnicas mais utilizadas para verificação automática de propriedades de sistemas dinâmicos (sistemas caracterizados por um estado que evolui ao longo do tempo). O *model checking* tem por objectivo verificar automaticamente se uma propriedade (tipicamente especificada numa lógica temporal) é válida num modelo do sistema (tipicamente formalizado como um sistema de transição). Mais concretamente vamos estudar uma técnica de *bounded model checking*, onde o objectivo é verificar se uma propriedade é válida considerando apenas um dado número máximo de estados da execução do sistema.\n",
    "\n",
    "\n",
    "Vamos usar a biblioteca [pySMT](https://github.com/pysmt/pysmt), apresentada na ficha 1, que permite que um programa em Python comunique com vários SMT solvers, tendo por base uma linguagem comum. \n",
    "A documentação do pySMT pode ser encontrada em https://pysmt.readthedocs.io/en/latest/index.html."
   ]
  },
  {
   "cell_type": "markdown",
   "metadata": {
    "id": "HvSqi-xHTGUN"
   },
   "source": [
    "## *First-order Transition Systems* (FOTS)\n",
    "\n",
    "FOTS são modelos de sistemas dinâmicos que são determinados por um espaço de estados, uma relação de transição de estados e um conjunto de estados iniciais. Nos FOTS o conjunto de estados iniciais é descrito por um predicado unário (*init*) sobre o vector de variáveis associado ao espaço de estados, e a relação de transição é descrita por um predicado binário (*trans*) sobre dois vectores de variáveis que representam o estado antes e depois da transição."
   ]
  },
  {
   "cell_type": "markdown",
   "metadata": {
    "id": "BuJbOTLATGUN"
   },
   "source": [
    "### Modelação de programas com FOTS\n",
    "\n",
    "Um programa pode ser modelado por um FOTS da seguinte forma:\n",
    "- O estado é constituído pelas variáveis do programa mais uma variável para o respectivo *program counter*\n",
    "- Os estados iniciais são caracterizados implicitamente por um predicado sobre as variáveis de estado\n",
    "- As transições são caracterizadas implicitamente por um predicado sobre pares de estados\n",
    "\n",
    "Considere, por exemplo o programa seguinte, anotado com uma pré-condição que restringe o valor inicial de $x$:\n",
    "\n",
    "```Python\n",
    "{ x >= 3 }\n",
    "0: while (x>0):\n",
    "1:    x = x-1\n",
    "2: stop\n",
    "```\n",
    "\n",
    "Neste caso o estado do FOTS respectivo será um par de inteiros, o primeiro contendo o valor do $\\mathit{pc}$ (o *program counter* que neste caso pode ser 0, 1 ou 2) e o segundo o valor da variável $x$. O estado inicial é caracterizado pelo seguinte predicado:\n",
    "\n",
    "$$\n",
    "\\mathit{pc} = 0 \\wedge x \\ge 3\n",
    "$$\n",
    "\n",
    "As transições possíveis no FOTS são caracterizadas pelo seguinte predicado:\n",
    "\n",
    "$$\n",
    "\\begin{array}{c}\n",
    "(\\mathit{pc} = 0 \\wedge x > 0 \\wedge \\mathit{pc}' = 1 \\wedge x' = x)\\\\\n",
    "\\vee\\\\\n",
    "(\\mathit{pc} = 0 \\wedge x \\le 0 \\wedge \\mathit{pc}' = 2 \\wedge x' = x) \\\\\n",
    "\\vee\\\\\n",
    "(\\mathit{pc} = 1 \\wedge \\mathit{pc}' = 0 \\wedge x' = x - 1) \\\\\n",
    "\\vee\\\\\n",
    "(\\mathit{pc} = 2 \\wedge \\mathit{pc}' = 2 \\wedge x' = x)\n",
    "\\end{array}\n",
    "$$\n",
    "\n",
    "Note que este predicado é uma disjunção de todas as possíveis transições que podem ocorrer no programa. Cada transição é caracterizada por um predicado onde uma variável do programa denota o seu valor no pré-estado e a mesma variável com apóstrofe denota o seu valor no pós-estado. É usual exigir que cada estado do FOTS tenha pelo menos um sucessor, pelo que o estado final do programa é caracterizado por uma transição para ele próprio (um lacete).\n",
    "\n",
    "Usando estes predicados podemos usar um SMT solver para, por exemplo, gerar uma possível execução de $k\\!-\\!1$ passos do programa (em que $k>0$). Para tal precisamos de criar $k$ cópias das variáveis que caracterizam o estado do FOTS e depois impor que a primeira cópia satisfaz o predicado inicial e que cada par de cópias consecutivas satisfazem o predicado de transição.\n",
    "\n",
    "Começamos por importar o módulo `pysmt.shortcuts` que oferece uma API simplificada que disponibiliza as funcionalidades para a utilização usual de um SMT solver.\n",
    "Os tipos estão definidos no módulo `pysmt.typing` de onde temos que importar o tipo `INT`."
   ]
  },
  {
   "cell_type": "code",
   "execution_count": 1,
   "metadata": {},
   "outputs": [],
   "source": [
    "from pysmt.shortcuts import *\n",
    "from pysmt.typing import INT"
   ]
  },
  {
   "cell_type": "markdown",
   "metadata": {},
   "source": [
    "A seguinte função cria a $i$-ésima cópia das variáveis de estado, agrupadas num dicionário que nos permite aceder às mesmas pelo nome."
   ]
  },
  {
   "cell_type": "code",
   "execution_count": 2,
   "metadata": {
    "id": "LVPq3HTNTGUO"
   },
   "outputs": [],
   "source": [
    "def declare(i):\n",
    "    state = {}\n",
    "    state['pc'] = Symbol('pc'+str(i),INT)\n",
    "    state['x'] = Symbol('x'+str(i),INT)\n",
    "    return state"
   ]
  },
  {
   "cell_type": "markdown",
   "metadata": {
    "id": "dl3FgSJtTGUQ"
   },
   "source": [
    "### Exercício 1\n",
    "\n",
    "Defina a função `init` que, dado um possível estado do programa (um dicionário de variáveis), devolva um predicado do pySMT que testa se esse estado é um possível estado inicial do programa."
   ]
  },
  {
   "cell_type": "code",
   "execution_count": 4,
   "metadata": {
    "id": "PZ4dnt1VTGUR"
   },
   "outputs": [],
   "source": [
    "def init(state):\n",
    "    # completar\n",
    "    return And(Equals(state['pc'], Int(0)), state['x']>=Int(3))"
   ]
  },
  {
   "cell_type": "markdown",
   "metadata": {
    "id": "nhFyExLWTGUR"
   },
   "source": [
    "### Exercício 2\n",
    "\n",
    "Defina a função `trans` que, dados dois possíveis estados do programa, devolva um predicado do pySMT que testa se é possível transitar do primeiro para o segundo."
   ]
  },
  {
   "cell_type": "code",
   "execution_count": 10,
   "metadata": {
    "id": "8F3Q9hScTGUR"
   },
   "outputs": [],
   "source": [
    "def trans(curr,prox):\n",
    "    # completar\n",
    "    t01 = And(Equals(curr['pc'], Int(0)), curr['x']>Int(0), Equals(prox['pc'], Int(1)), Equals(curr['x'],prox['x']))\n",
    "    t02 = And(Equals(curr['pc'], Int(0)), curr['x']<=Int(0), Equals(prox['pc'], Int(2)), Equals(curr['x'],prox['x']))\n",
    "    t10 = And(Equals(curr['pc'], Int(1)), Equals(prox['pc'], Int(0)), Equals(prox['x'],curr['x']-Int(1)))\n",
    "    t22 = And(Equals(curr['pc'], Int(2)), Equals(prox['pc'], Int(2)), Equals(prox['x'],curr['x']))\n",
    "    return Or(t01,t02,t10,t22)"
   ]
  },
  {
   "cell_type": "markdown",
   "metadata": {
    "id": "H43N7v42TGUS"
   },
   "source": [
    "### Exercício 3\n",
    "\n",
    "Complete a função de ordem superior `gera_traco` que, dada uma função que gera uma cópia das variáveis do estado, um predicado que testa se um estado é inicial, um predicado que testa se um par de estados é uma transição válida, e um número positivo `k`, use o SMT solver para gerar um possível traço de execução do programa de tamanho `k`. Para cada estado do traço deverá imprimir o respectivo valor das variáveis."
   ]
  },
  {
   "cell_type": "code",
   "execution_count": 11,
   "metadata": {
    "colab": {
     "base_uri": "https://localhost:8080/"
    },
    "executionInfo": {
     "elapsed": 24,
     "status": "ok",
     "timestamp": 1636417377625,
     "user": {
      "displayName": "Maria João Frade",
      "photoUrl": "https://lh3.googleusercontent.com/a-/AOh14Ggsl7DgkrbKKq_x5wt54lWf1B_Ow_4tBk8o4LfVfw=s64",
      "userId": "03944960066051965480"
     },
     "user_tz": 0
    },
    "id": "f6bVg4XXTGUS",
    "outputId": "d86a70c2-2185-44ab-b6b1-b7d328a7b75e"
   },
   "outputs": [
    {
     "name": "stdout",
     "output_type": "stream",
     "text": [
      "0\n",
      "pc= 0\n",
      "x= 4\n",
      "1\n",
      "pc= 1\n",
      "x= 4\n",
      "2\n",
      "pc= 0\n",
      "x= 3\n",
      "3\n",
      "pc= 1\n",
      "x= 3\n",
      "4\n",
      "pc= 0\n",
      "x= 2\n",
      "5\n",
      "pc= 1\n",
      "x= 2\n",
      "6\n",
      "pc= 0\n",
      "x= 1\n",
      "7\n",
      "pc= 1\n",
      "x= 1\n",
      "8\n",
      "pc= 0\n",
      "x= 0\n",
      "9\n",
      "pc= 2\n",
      "x= 0\n"
     ]
    }
   ],
   "source": [
    "def gera_traco(declare,init,trans,k):\n",
    "\n",
    "    with Solver(name=\"z3\") as s:\n",
    "    \n",
    "        # completar\n",
    "    \n",
    "        # cria k copias do estado\n",
    "        trace = [declare(i) for i in range(k)]\n",
    "    \n",
    "        # criar o traço\n",
    "        s.add_assertion(init(trace[0]))\n",
    "        for i in range(k-1):\n",
    "            s.add_assertion(trans(trace[i], trace[i+1]))\n",
    "        \n",
    "        if s.solve():\n",
    "            for i in range(k):\n",
    "                print(i)\n",
    "                print(\"pc=\", s.get_value(trace[i]['pc']))\n",
    "                print(\"x=\", s.get_value(trace[i]['x']))\n",
    "                \n",
    "                \n",
    "gera_traco(declare,init,trans,10)"
   ]
  },
  {
   "cell_type": "markdown",
   "metadata": {
    "id": "ytDfWWjgTGUT"
   },
   "source": [
    "## Lógica temporal linear (LTL)\n",
    "\n",
    "Sobre este FOTS podemos querer verificar várias propriedades temporais, como por exemplo:\n",
    "1. $x$ é sempre não negativo\n",
    "2. $x$ é sempre diferente de 1\n",
    "3. $x$ chega inevitavelmente a 0\n",
    "4. $x$ chega inevitavelmente a um valor negativo\n",
    "5. o programa termina\n",
    "\n",
    "Estas propriedades são de natureza muito diferente. As duas primeiras são *propriedades de segurança* (*safety*) que, em geral, garantem que \"nada de mau irá acontecer\". Neste caso em particular são invariantes, ou seja, propriedades que devem ser verdade em todos os estados da execução do programa. As três últimas são *propriedades de animação* (*liveness*) que, em geral, garantem que \"algo de bom irá acontecer\".\n",
    "\n",
    "A lógica LTL introduz *operadores temporais* que nos permitem escrever estas propriedades formalmente. Os operadores mais conhecidos são o $G$, que informalmente significa \"*é sempre verdade que*\", e o $F$, que informalmente significa \"*é inevitável que*\". Com estes operadores, as propriedades acima podem ser especificadas formalmente do seguinte modo\n",
    "1. $G\\ (x \\ge 0)$\n",
    "2. $G\\ (x \\neq 1)$\n",
    "3. $F\\ (x = 0)$\n",
    "4. $F\\ (x < 0)$\n",
    "5. $F\\ (pc = 2)$\n",
    "\n",
    "## *Bounded Model Checking* (BMC) para LTL\n",
    "\n",
    "Como é óbvio, nem todas estas propriedades são válidas. Em particular a 2ª e a 4ª não o são. O objectivo da verificação é precisamente determinar se uma propriedade temporal é válida num FOTS ou não. Este procedimento designa-se *model checking* e, quando uma propriedade não é válida, produz um contra-exemplo (um traço do FOTS correspondente a uma execução do programa onde a propriedade falha). Nesta aula vamos estudar uma técnica particular de *model checking* designada *bounded model checking*, onde o objectivo é determinar se uma propriedade temporal é válida nos primeiros $K$ estados da execução do FOTS.\n",
    "\n",
    "A ideia passa por usar um SMT solver para tentar descobrir um contra-exemplo para uma dada propriedade. Para simplificar vamos abordar apenas dois casos: verificação de invariantes da forma $G\\ \\phi$ e propriedades de animação simples da forma $F\\ \\phi$, em que $\\phi$ é uma fórmula sem operadores temporais.\n",
    "\n",
    "### BMC de invariantes\n",
    "\n",
    "Para fazer BMC de um invariante, por exemplo $G\\ (x \\ge 0)$ basta-nos usar o solver para encontrar um contra-exemplo com no máximo $K$ estados onde a propriedade $(x \\ge 0)$ seja inválida nalgum estado. Para tal podemos implementar um procedimento iterativo que tenta encontrar esse contra-exemplo com tamanhos crescentes, começando com tamanho 1 até ao tamanho máximo $K$. Para cada tamanho $0 < k \\le K$ basta tentar encontrar um possível traço onde o invariante a verificar seja inválido no último estado. Para tal podemos usar um código muito semelhante ao da função `gera_traco`. O procedimento é interrompido mal um contra-exemplo seja encontrado, sendo garantido que esse é um contra-exemplo mínimo para essa propriedade."
   ]
  },
  {
   "cell_type": "markdown",
   "metadata": {
    "id": "DtlOV8enTGUU"
   },
   "source": [
    "### Exercício 4\n",
    "\n",
    "Complete a definição da função de ordem superior `bmc_always` que, dada uma função que gera uma cópia das variáveis do estado, um predicado que testa se um estado é inicial, um predicado que testa se um par de estados é uma transição válida, um invariante a verificar, e um número positivo `K`, use o SMT solver para verificar se esse invariante é sempre válido nos primeiros `K-1` passos de execução do programa, ou devolva um contra-exemplo mínimo caso não seja."
   ]
  },
  {
   "cell_type": "code",
   "execution_count": 15,
   "metadata": {},
   "outputs": [
    {
     "name": "stdout",
     "output_type": "stream",
     "text": [
      "A propriedade é válida para traços de tamanho até 80\n"
     ]
    }
   ],
   "source": [
    "def bmc_always(declare,init,trans,inv,K):\n",
    "    for k in range(1,K+1):\n",
    "        with Solver(name=\"z3\") as s:\n",
    "\n",
    "            trace = [declare(i) for i in range(k)]\n",
    "    \n",
    "            s.add_assertion(init(trace[0]))\n",
    "            for i in range(k-1):\n",
    "                s.add_assertion(trans(trace[i], trace[i+1]))\n",
    "            \n",
    "            # \n",
    "            s.add_assertion(Not(inv(trace[k-1])))\n",
    "            if s.solve():\n",
    "                for i in range(k):\n",
    "                    print(i)\n",
    "                    print(\"pc=\", s.get_value(trace[i]['pc']))\n",
    "                    print(\"x=\", s.get_value(trace[i]['x']))\n",
    "                return\n",
    "            \n",
    "    print(\"A propriedade é válida para traços de tamanho até \" + str(k))\n",
    "\n",
    "\n",
    "def nonnegative(state):\n",
    "    return (state['x'] >= Int(0))\n",
    "\n",
    "bmc_always(declare,init,trans,nonnegative,80) # fuciona com 20"
   ]
  },
  {
   "cell_type": "markdown",
   "metadata": {
    "id": "wslkjoYpTGUW"
   },
   "source": [
    "### Exercício 5\n",
    "\n",
    "Use o procedimento `bmc_always` para encontrar um contra-exemplo para a segunda propriedade especificada acima."
   ]
  },
  {
   "cell_type": "code",
   "execution_count": 16,
   "metadata": {
    "colab": {
     "base_uri": "https://localhost:8080/"
    },
    "executionInfo": {
     "elapsed": 8,
     "status": "ok",
     "timestamp": 1636417378362,
     "user": {
      "displayName": "Maria João Frade",
      "photoUrl": "https://lh3.googleusercontent.com/a-/AOh14Ggsl7DgkrbKKq_x5wt54lWf1B_Ow_4tBk8o4LfVfw=s64",
      "userId": "03944960066051965480"
     },
     "user_tz": 0
    },
    "id": "GrpLVknVTGUW",
    "outputId": "3144e7e9-555a-4acb-9808-d00b451c401d"
   },
   "outputs": [
    {
     "name": "stdout",
     "output_type": "stream",
     "text": [
      "0\n",
      "pc= 0\n",
      "x= 3\n",
      "1\n",
      "pc= 1\n",
      "x= 3\n",
      "2\n",
      "pc= 0\n",
      "x= 2\n",
      "3\n",
      "pc= 1\n",
      "x= 2\n",
      "4\n",
      "pc= 0\n",
      "x= 1\n"
     ]
    }
   ],
   "source": [
    "# completar\n",
    "def notone(state):\n",
    "    return NotEquals(state['x'], Int(1))\n",
    "\n",
    "bmc_always(declare,init,trans,notone,10)"
   ]
  },
  {
   "cell_type": "markdown",
   "metadata": {
    "id": "vR0Epco4TGUX"
   },
   "source": [
    "### BMC de propriedades de animação\n",
    "\n",
    "Para fazer BMC de propriedades de animação da forma $F\\ \\phi$ o prodimento é ligeiramente mais complicado. Neste caso não basta encontrar um traço aberto com no máximo $K$ estados onde $\\phi$ nunca seja válida, pois tal contra-exemplo não seria convincente: nada garante que $\\phi$ não pudesse ser válida num ponto mais tarde da execução. Neste caso, o contra-exemplo teria que ser uma execução completa do programa que demonstre inequivocamente que a propriedade não é válida. É possível encontrar uma execução completa do programa com no máximo $K$ estados se a mesma tiver um *loop* no último estado, mais concretamente, uma transição para um dos estados precedentes. "
   ]
  },
  {
   "cell_type": "markdown",
   "metadata": {
    "id": "3kHk9FDkTGUX"
   },
   "source": [
    "### Exercício 6\n",
    "\n",
    "Complete a definição da função de ordem superior `bmc_eventually` que, dada uma função que gera uma cópia das variáveis do estado, um predicado que testa se um estado é inicial, um predicado que testa se um par de estados é uma transição válida, uma propriedade cuja inevitabilidade se pretende verificar, e um número positivo `K`, use o SMT solver para encontrar um contra-exemplo para essa propriedade considerando apenas os primeiros `K` estados de execução do programa. Note que neste caso um contra-exemplo tem que ser necessariamente um *loop* (no sentido acima referido) onde a propriedade desejada nunca seja válida."
   ]
  },
  {
   "cell_type": "code",
   "execution_count": 20,
   "metadata": {
    "colab": {
     "base_uri": "https://localhost:8080/"
    },
    "executionInfo": {
     "elapsed": 2670,
     "status": "ok",
     "timestamp": 1636417381027,
     "user": {
      "displayName": "Maria João Frade",
      "photoUrl": "https://lh3.googleusercontent.com/a-/AOh14Ggsl7DgkrbKKq_x5wt54lWf1B_Ow_4tBk8o4LfVfw=s64",
      "userId": "03944960066051965480"
     },
     "user_tz": 0
    },
    "id": "1wyINvR9TGUY",
    "outputId": "28b1eef8-47fc-41ad-fc09-dd63b06e410c"
   },
   "outputs": [
    {
     "name": "stdout",
     "output_type": "stream",
     "text": [
      "A propriedade é válida para traços de tamanho até 20\n",
      "A propriedade é válida para traços de tamanho até 20\n"
     ]
    }
   ],
   "source": [
    "def bmc_eventually(declare,init,trans,prop,bound):\n",
    "    for k in range(1,bound+1):\n",
    "         with Solver(name=\"z3\") as s:\n",
    "            # completar\n",
    "            trace = [declare(i) for i in range(k)]\n",
    "    \n",
    "            s.add_assertion(init(trace[0]))\n",
    "            for i in range(k-1):\n",
    "                s.add_assertion(trans(trace[i], trace[i+1]))\n",
    "            \n",
    "            for i in range(k):\n",
    "                s.add_assertion(Not(prop(trace[i])))\n",
    "            \n",
    "            s.add_assertion(Or(trans(trace[k-1],trace[i]) for i in range(k)))\n",
    "            \n",
    "            if s.solve():\n",
    "                for i in range(k):\n",
    "                    print(i)\n",
    "                    print(\"pc=\", s.get_value(trace[i]['pc']))\n",
    "                    print(\"x=\", s.get_value(trace[i]['x']))\n",
    "                return\n",
    "            \n",
    "    print(\"A propriedade é válida para traços de tamanho até \" + str(k))\n",
    "\n",
    "            \n",
    "            \n",
    "            \n",
    "            \n",
    "def zero(state):\n",
    "    return (Equals(state['x'],Int(0)))\n",
    "\n",
    "bmc_eventually(declare,init,trans,zero,20)\n",
    "\n",
    "def terminates(state):\n",
    "    return (Equals(state['pc'],Int(2)))\n",
    "\n",
    "bmc_eventually(declare,init,trans,terminates,20)"
   ]
  },
  {
   "cell_type": "markdown",
   "metadata": {
    "id": "2QmsfKbyTGUZ"
   },
   "source": [
    "### Exercício 7\n",
    "\n",
    "Modifique a função `bmc_eventually` para não só imprimir os estados do contra-exemplo, mas também o estado onde começa o *loop*. Sugere-se a utilização do método `get_py_value` do pySMT para detectar esse estado. Este método permite avaliar uma expressão no modelo devolvendo o seu valor num tipo do Python.\n",
    "\n",
    "Utilize esta função modificada para encontrar um contra exemplo para a quarta propriedade acima referida."
   ]
  },
  {
   "cell_type": "code",
   "execution_count": 21,
   "metadata": {
    "colab": {
     "base_uri": "https://localhost:8080/"
    },
    "executionInfo": {
     "elapsed": 12,
     "status": "ok",
     "timestamp": 1636417381028,
     "user": {
      "displayName": "Maria João Frade",
      "photoUrl": "https://lh3.googleusercontent.com/a-/AOh14Ggsl7DgkrbKKq_x5wt54lWf1B_Ow_4tBk8o4LfVfw=s64",
      "userId": "03944960066051965480"
     },
     "user_tz": 0
    },
    "id": "JljMLd17TGUZ",
    "outputId": "213015ab-d929-4536-f78c-389a76849dec"
   },
   "outputs": [
    {
     "name": "stdout",
     "output_type": "stream",
     "text": [
      "0\n",
      "pc= 0\n",
      "x= 3\n",
      "1\n",
      "pc= 1\n",
      "x= 3\n",
      "2\n",
      "pc= 0\n",
      "x= 2\n",
      "3\n",
      "pc= 1\n",
      "x= 2\n",
      "4\n",
      "pc= 0\n",
      "x= 1\n",
      "5\n",
      "pc= 1\n",
      "x= 1\n",
      "6\n",
      "pc= 0\n",
      "x= 0\n",
      "7\n",
      "O loop começa aqui em 7\n",
      "pc= 2\n",
      "x= 0\n"
     ]
    }
   ],
   "source": [
    "def bmc_eventually(declare,init,trans,prop,bound):\n",
    "    for k in range(1,bound+1):\n",
    "         with Solver(name=\"z3\") as s:\n",
    "            # completar\n",
    "            trace = [declare(i) for i in range(k)]\n",
    "    \n",
    "            s.add_assertion(init(trace[0]))\n",
    "            for i in range(k-1):\n",
    "                s.add_assertion(trans(trace[i], trace[i+1]))\n",
    "            \n",
    "            for i in range(k):\n",
    "                s.add_assertion(Not(prop(trace[i])))\n",
    "            \n",
    "            s.add_assertion(Or(trans(trace[k-1],trace[i]) for i in range(k)))\n",
    "            \n",
    "            if s.solve():\n",
    "                for i in range(k):\n",
    "                    print(i)\n",
    "                    if s.get_py_value(trans(trace[k-1], trace[i])):\n",
    "                        print(\"O loop começa aqui em \" + str(i))\n",
    "                    print(\"pc=\", s.get_value(trace[i]['pc']))\n",
    "                    print(\"x=\", s.get_value(trace[i]['x']))\n",
    "                return\n",
    "        \n",
    "    print(\"A propriedade é válida para traços de tamanho até \" + str(k))\n",
    "    \n",
    "def negative(state):\n",
    "    return (state['x'] < 0)\n",
    "\n",
    "bmc_eventually(declare,init,trans,negative,10)"
   ]
  },
  {
   "cell_type": "code",
   "execution_count": null,
   "metadata": {},
   "outputs": [],
   "source": []
  }
 ],
 "metadata": {
  "colab": {
   "collapsed_sections": [],
   "name": "Aula6-Resolucao.ipynb",
   "provenance": []
  },
  "kernelspec": {
   "display_name": "Python 3 (ipykernel)",
   "language": "python",
   "name": "python3"
  },
  "language_info": {
   "codemirror_mode": {
    "name": "ipython",
    "version": 3
   },
   "file_extension": ".py",
   "mimetype": "text/x-python",
   "name": "python",
   "nbconvert_exporter": "python",
   "pygments_lexer": "ipython3",
   "version": "3.10.4"
  }
 },
 "nbformat": 4,
 "nbformat_minor": 4
}
