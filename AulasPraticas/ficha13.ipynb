{
 "cells": [
  {
   "cell_type": "markdown",
   "metadata": {
    "id": "1z-noH8V9QmH"
   },
   "source": [
    "# Verificação formal de programas\n",
    "\n",
    "A *verificação formal de programas* tem por objectivo garantir que um programa satisfaz a sua especificação.\n",
    "Uma *especificação* é um modelo dum sistema que contém uma descrição do seu comportamento desejado (\"*o que*\" deve ser implementado, por oposição a \"*como*\"). Um *programa* é uma implementação concreta do sistema.\n",
    "\n",
    "## A metodologia de Floyd-Hoare \n",
    "\n",
    "A metodologia de Floyd-Hoare estabelece uma lógica de programas em que as fórmulas são da forma\n",
    "$\\{\\phi\\} S \\{\\psi\\}$, sendo $\\phi$ e $\\psi$ predicados e $S$ um programa. $\\phi$ representa as *pré-condições* (condições que se assumem estarem garantidas quando o programa inicia a sua execução) e $\\psi$ representa as *pós-condições* (condições que têm que ser asseguradas quando o programa termina). Chama-se especificação ao par $(\\phi,\\psi)$ e *triplo de Hoare* à fórmula $\\{\\phi\\} S \\{\\psi\\}$.\n",
    "\n",
    "A verificação formal de programas permite garantir que um programa se comporta de acordo com a sua especificação, seguindo a seguinte estratégia. Numa primeira fase (a *geração de condições de verificação*) transforma-se o programa e a sua especificação numa fórmula lógica, chamada *condição de verificação* (VC), que se for válida garante que o programa satisfaz a especificação. Numa segunda fase é usado um *SMT solver* para determinar a validade da VC (ou encontrar modelos que descrevem um traço do programa que conduz à violação da propriedade).\n",
    "É assim uma técnica de análise estática de programas que permite detectar erros que, eventualmente, só seriam detectados em tempo de execução.\n",
    "\n",
    "\n",
    "Vamos considerar uma linguagem imperativa simples, de variáveis de tipo inteiro, em que um programa não é mais do que uma sequência dos seguintes comandos e anotações:\n",
    "\n",
    "`skip` | `x = e` | `if b then C1 then C2` | `while b do C` | `assume P`| `assert P`\n",
    "\n",
    "A metodologia que vamos aplicar baseia-se na utilização de uma linguagem intermédia, que permita representação do programa e da sua especificação, e a partir da qual é fácil gerar a denotação lógica do programa.\n",
    "Assim, o primeiro passo consiste na tradução do programa e da especificação para essa linguagem intermédia, e o segundo passo na transformação dessa representação do programa numa VC. \n",
    "\n",
    "A noção de *fluxo de programa* é fundamental para a caracterização de programas imperativos e está na base da linguagem intermédia que vamos usar e a que chamaremos *linguagem de fluxos*. \n",
    "Um fluxo é basicamente uma sequência gerada com base nas seguintes construções:\n",
    "`skip` que corresponde à sequência vazia, `;` que acrescenta um comando a um fluxo, e `||` que permite criar um fluxo que corresponde a uma escolha não-determinista.\n",
    "\n",
    "A construção `(Fluxo || Fluxo)` denota escolha não-determinista entre dois fluxos. \n",
    "Tipicamente estes fluxos estão encabeçados por um `assume P` e somente quando `P` for verdadeiro é que esse fluxo está qualificado para execução. \n",
    "Esta construção é usada na tradução da instrução `if b then C1 else C2` que é reescrita da seguinte forma:\n",
    "`(assume b ; C1 || assume (not b) ; C2)`.\n",
    "\n",
    "A tradução da instrução `while b do C` é mais complexa e será analizada mais abaixo.\n",
    "\n",
    "Um triplo de Hoare $\\{\\phi\\} S \\{\\psi\\}$ pode ser representado por:  ${\\sf assume }\\: \\phi\\; ; S \\; ; {\\sf assert } \\:\\psi$.\n",
    "\n",
    "Para a geração das VCs há duas técnicas standard:\n",
    "\n",
    "- *Weakest pre-condition* (WPC): onde, dada a representação do programa e a pós-condição, é gerada a pré-condição mais fraca que é suficiente para garantir que quando o programa termina a pós-condição é assegurada.\n",
    "\n",
    "- *Strongest post-condition* (SPC): onde, dada a representação do programa e a pré-condição, é gerada a pós-condição mais forte que é possível garantir quando o programa termina.\n",
    "\n"
   ]
  },
  {
   "cell_type": "markdown",
   "metadata": {
    "id": "NQsQc2v-9QmK"
   },
   "source": [
    "### Weakest pre-condition\n",
    "\n",
    "A denotação `[C]` associa a cada fluxo `C` um predicado que  caracteriza a sua correcção em termos lógicos (a sua VC) segundo a técnica WPC, sendo calculada pelas seguintes regras.\n",
    "\n",
    "$\n",
    "\\begin{array}{l}\n",
    "[{\\sf skip}] = True \\\\\n",
    "[{\\sf assume}\\:\\phi] = True \\\\\n",
    "[{\\sf assert}\\:\\phi] = \\phi \\\\\n",
    "[ x = e ] = True \\\\\n",
    "[(C_1 || C_2)] = [C_1] \\wedge [C_2] \\\\\n",
    "\\\\\n",
    "[{\\sf skip}\\, ; C] = [C] \\\\\n",
    "[{\\sf assume}\\:\\phi\\, ; C] = \\phi \\to [C] \\\\\n",
    "[{\\sf assert}\\:\\phi\\, ; C] = \\phi \\wedge [C] \\\\\n",
    "[ x = e \\, ; C] = [C][e/x] \\\\\n",
    "[(C_1 || C_2)\\, ; C] = [(C_1 ; C) || (C_2 ; C)]\n",
    "\\end{array}\n",
    "$\n"
   ]
  },
  {
   "cell_type": "markdown",
   "metadata": {
    "id": "ktmnj31A9XU-"
   },
   "source": [
    "Começamos por importar as bibliotecas do PySMT e definir a função `prove` que verifica a validade de uma fórmula lógica usando um SMT solver."
   ]
  },
  {
   "cell_type": "code",
   "execution_count": 2,
   "metadata": {
    "id": "fgFDAAgn9ebM"
   },
   "outputs": [],
   "source": [
    "from pysmt.shortcuts import *\n",
    "from pysmt.typing import *\n",
    "\n",
    "def prove(f):\n",
    "    with Solver(name=\"z3\") as s:\n",
    "        s.add_assertion(Not(f))\n",
    "        if s.solve():\n",
    "            print(\"Failed to prove.\")\n",
    "        else:\n",
    "            print(\"Proved.\")"
   ]
  },
  {
   "cell_type": "markdown",
   "metadata": {
    "id": "fHGyU0V39QmK"
   },
   "source": [
    "### Exercício 1\n",
    "\n",
    "Considere o seguinte programa anotado que faz o *swap* de duas variáveis usando operações aritméticas.\n",
    "```python\n",
    "assume x == a and y == b;\n",
    "x = x + y;\n",
    "y = x - y;\n",
    "x = x - y;\n",
    "assert x == b and y == a\n",
    "```\n",
    "Usando a abordagem WPC calcule a denotação lógica deste programa (a sua condição de verificação)."
   ]
  },
  {
   "cell_type": "markdown",
   "metadata": {
    "id": "71_r1ZbT9QmL"
   },
   "source": [
    "```python\n",
    "[assume x == a and y == b; x = x + y; y = x - y; x = x - y; assert x == b and y == a]\n",
    "=\n",
    "(x == a and y == b) -> [x = x + y; y = x - y; x = x - y assert x == b and y == a]\n",
    "=\n",
    "(x == a and y == b) -> [y = x - y; x = x - y assert x == b and y == a] [x <- x+y]\n",
    "=\n",
    "(x == a and y == b) -> ([x = x - y; assert x == b and y == a] [y <- x - y]) [x <- x + y]\n",
    "=\n",
    "(x == a and y == b) -> (([assert x == b and y == a] [x <- x - y]) [y <- x - y]) [x <- x+y]\n",
    "=\n",
    "(x == a and y == b) -> (((x == b and y == a) [x <- x-y]) [y <- x - y]) [x <- x+y]\n",
    "\n",
    "\n",
    "```"
   ]
  },
  {
   "cell_type": "markdown",
   "metadata": {
    "id": "dUuq4nNu9QmN"
   },
   "source": [
    "### Exercício 2\n",
    "\n",
    "Use a função `prove` para verificar a condição de verificação obtida no exercício 1, assumindo que as variáveis são inteiros de tamanho ilimitado. Pode utilizar a função `substitute(a,{b:c})` para substituir em `a` todas as ocorrências de `b` por `c`."
   ]
  },
  {
   "cell_type": "code",
   "execution_count": 3,
   "metadata": {
    "id": "4EYY0PSE9QmO",
    "outputId": "c9b3aac0-4524-466c-82d9-268dbb8bddad"
   },
   "outputs": [
    {
     "name": "stdout",
     "output_type": "stream",
     "text": [
      "Failed to prove.\n"
     ]
    }
   ],
   "source": [
    "x = Symbol('x', INT)\n",
    "y = Symbol('y', INT)\n",
    "a = Symbol('a', INT)\n",
    "b = Symbol('b', INT)\n",
    "\n",
    "wpc = Implies(\n",
    "    And(Equals(x, a), Equals(y, b)),\n",
    "    And(Equals(x, b), Equals(y,a ).substitute({x : x+y}).substitute({y: x-y}).substitute({x: x-y}))\n",
    ")\n",
    "\n",
    "prove(wpc)"
   ]
  },
  {
   "cell_type": "markdown",
   "metadata": {
    "id": "O1TYgRqg9QmQ"
   },
   "source": [
    "### Exercício 3\n",
    "\n",
    "Considere o seguinte programa anotado que calcula o máximo de dois números.\n",
    "```python\n",
    "if x>y \n",
    "   then m = x\n",
    "   else m = y;\n",
    "assert m >= x and m >= y and (m == x or m == y)\n",
    "```\n",
    "Usando a abordagem WPC calcule a denotação lógica deste programa (a sua condição de verificação). Note que primeiro tem que traduzir o programa para a linguagem de fluxos. Use também o solver para verificar a sua validade."
   ]
  },
  {
   "cell_type": "markdown",
   "metadata": {
    "id": "VaTfy_AT9QmR"
   },
   "source": [
    "Programa de fluxos\n",
    "```python\n",
    "       (completar)\n",
    "```\n",
    "\n",
    "Denotação lógica do programa via WPC\n",
    "```python\n",
    "Seja   pos =  m >= x and m >= y and (m == x or m == y)\n",
    "```\n",
    "```python\n",
    "    [(assume x > y; m = x || assume x <= y; m = y); assert pos]\n",
    "=\n",
    "    [assume x > y; m = x; assert pos || assume x <= y; m = y; assert pos]\n",
    "=\n",
    "    [assume x > y; m = x; assert pos] and [assume x <= y; m = y; assert pos]\n",
    "=\n",
    "    ((x > y) -> [m = x; assert pos]) and ((x <= y) -> [m = y; assert pos])\n",
    "=\n",
    "    ((x > y) -> [assert pos] [m <- x]) and ((x <= y) -> [assert pos] [m <- y])\n",
    "=\n",
    "    ((x > y) -> pos [ m <- x]) and ((x <= y) -> pos [m <- y])\n",
    "```"
   ]
  },
  {
   "cell_type": "code",
   "execution_count": 4,
   "metadata": {
    "id": "bi4BycuN9QmS",
    "outputId": "5a9b1dc7-9dff-4575-a050-ceb6cc27aff6"
   },
   "outputs": [
    {
     "name": "stdout",
     "output_type": "stream",
     "text": [
      "Proved.\n"
     ]
    }
   ],
   "source": [
    "x = Symbol('x', INT)\n",
    "y = Symbol('y', INT)\n",
    "m = Symbol('m', INT)\n",
    "\n",
    "pos = And(GE(m, x), GE(m, y), Or(Equals(m,x), Equals(m, y)))\n",
    "\n",
    "wpc = And(\n",
    "    Implies(x > y, pos.substitute({m: x})),\n",
    "    Implies(x <= y, pos.substitute({m: y}))\n",
    ")\n",
    "\n",
    "prove(wpc)\n"
   ]
  },
  {
   "cell_type": "markdown",
   "metadata": {
    "id": "OHaQbpuk9QmS"
   },
   "source": [
    "### Strongest post-condition\n",
    "\n",
    "Na abordagem SPC a denotação de um fluxo com um comando de atribuição introduz um quantificador existencial, o que não é adequado à verificação com SMT solvers: \n",
    "$ \\quad [ C \\; ; x = e ] \\; =  \\; \\exists a. (x = e[a/x]) \\wedge [C][a/x] $\n",
    "\n",
    "Para lidar com este problema pode-se converter o programa original ao formato \"*single assignment*\" (SA).\n",
    "Num programa SA cada variável só pode ser usada depois de ser atribuida e só pode ser atribuída uma única vez.\n",
    "\n",
    "Um programa (onde variáveis são atribuídas mais do que uma vez) pode ser reescrito num programa SA criando \"clones\" distintos das variáveis de forma a que seja possível fazer uma atribuição única a cada instância.\n",
    "\n",
    "Neste caso, a denotação `[C]` associa a cada fluxo `C` um predicado que caracteriza a sua correcção em termos lógicos (a sua VC) segundo a técnica SPC, sendo calculada pelas seguintes regras.\n",
    "\n",
    "$\n",
    "\\begin{array}{l}\n",
    "[{\\sf skip}] = True \\\\\n",
    "[{\\sf assume}\\:\\phi] = \\phi \\\\\n",
    "[{\\sf assert}\\:\\phi] = \\phi \\\\\n",
    "[x = e ] = (x = e)\\\\\n",
    "[(C_1 || C_2)] = [C_1] \\vee [C_2] \\\\\n",
    "\\\\\n",
    "[C \\, ; {\\sf skip}\\;] = [C] \\\\\n",
    "[C \\, ;{\\sf assume}\\:\\phi] = [C] \\wedge \\phi \\\\\n",
    "[C \\, ;{\\sf assert}\\:\\phi] = [C] \\to \\phi \\\\\n",
    "[ C \\, ; x = e ] = [C] \\wedge (x = e)\\\\\n",
    "[C\\,; (C_1 || C_2)] = [(C ; C_1) || (C; C_2)]\n",
    "\\end{array}\n",
    "$\n",
    "\n"
   ]
  },
  {
   "cell_type": "markdown",
   "metadata": {
    "id": "oyFqXUq59QmT"
   },
   "source": [
    "### Exercício 4\n",
    "\n",
    "Usando a abordagem SPC calcule a denotação lógica do programa que faz o *swap* de duas variáveis (a sua condição de verificação). Note que primeiro tem que traduzir o programa para a linguagem de fluxos SA. Use também o SMT solver para verificar a validade da condição de verificação obtida."
   ]
  },
  {
   "cell_type": "markdown",
   "metadata": {
    "id": "UEmXiert9QmU"
   },
   "source": [
    "```python\n",
    "[assume x == a and y == b; x0 = x + y; y0 = x0 - y; x1 = x0 - y0; assert x1 == b and y0 == a]\n",
    "=\n",
    "[assume x == a and y == b; x0 = x+y; y0 = x0 -y; x1 = x0 - y0] -> (x1 == b and y0 == a)\n",
    "=\n",
    "([assume x == a and y == b; x0 = x +y; y0 = x0 - y] and x1 == x0 - y0) -> (x1 == b and y0 == a)\n",
    "= \n",
    "...\n",
    "```"
   ]
  },
  {
   "cell_type": "code",
   "execution_count": 6,
   "metadata": {
    "id": "hCGyvf6H9QmU",
    "outputId": "62f6b185-a8d1-4bf1-a594-19bf94174d04"
   },
   "outputs": [
    {
     "name": "stdout",
     "output_type": "stream",
     "text": [
      "((((x = a) & (y = b)) & ((x0 = (x + y)) & (y0 = (x0 - y)) & (x1 = (x0 - y0)))) -> ((x1 = b) & (y0 = a)))\n",
      "Proved.\n"
     ]
    }
   ],
   "source": [
    "x = Symbol('x', INT)\n",
    "x0 = Symbol('x0', INT)\n",
    "x1 = Symbol('x1', INT)\n",
    "y = Symbol('y', INT)\n",
    "y0 = Symbol('y0', INT)\n",
    "y1 = Symbol('y1', INT)\n",
    "a = Symbol('a', INT)\n",
    "b = Symbol('b', INT)\n",
    "\n",
    "pre = And(Equals(x, a), Equals(y, b))\n",
    "pos = And(Equals(x1, b), Equals(y0, a))\n",
    "prog = And(Equals(x0, x+y), Equals(y0, x0-y), Equals(x1, x0-y0))\n",
    "spc = Implies(And(pre, prog), pos)\n",
    "\n",
    "print(spc.serialize())\n",
    "prove(spc)"
   ]
  },
  {
   "cell_type": "markdown",
   "metadata": {
    "id": "JetTS1fy9QmV"
   },
   "source": [
    "### Exercício 5\n",
    "\n",
    "Usando a abordagem SPC calcule a denotação lógica do programa (a sua condição de verificação) que calcula o máximo de 2 números. Note que primeiro tem que traduzir o programa para a linguagem de fluxos SA. Use também o SMT solver para verificar a validade da condição de verificação obtida."
   ]
  },
  {
   "cell_type": "markdown",
   "metadata": {
    "id": "3CWbvgBB9QmV"
   },
   "source": [
    "```python\n",
    "(completar)\n",
    "```"
   ]
  },
  {
   "cell_type": "code",
   "execution_count": 10,
   "metadata": {
    "id": "aDSp72M-9QmW",
    "outputId": "a98a76da-5acd-4f9f-8687-fcf8ea09181c"
   },
   "outputs": [
    {
     "name": "stdout",
     "output_type": "stream",
     "text": [
      "((((y < x) & (m = x)) | ((x <= y) & (m = y))) -> ((x <= m) & (y <= m) & (m = x) & (m = y)))\n",
      "Failed to prove.\n"
     ]
    }
   ],
   "source": [
    "x = Symbol('x', INT)\n",
    "m = Symbol('m', INT)\n",
    "y = Symbol('y', INT)\n",
    "\n",
    "pos = And(m >= x, m >= y, Or(Equals(m,x)), Equals(m,y))\n",
    "\n",
    "spc = Implies(Or(And(x >y, Equals(m,x)), And(x <= y, Equals(m,y))), pos)\n",
    "\n",
    "print(spc.serialize())\n",
    "prove(spc)\n",
    "# devia dar true"
   ]
  },
  {
   "cell_type": "markdown",
   "metadata": {
    "id": "YwUxWfAa9QmW"
   },
   "source": [
    "\n",
    "## Programas iterativos\n",
    "\n",
    "Na verificação de programas com ciclos a dificuldade está na verificação da validade do triplo de Hoare \n",
    "$\\{\\phi\\} {\\sf while} \\; b \\;{\\sf do } \\;C \\{\\psi\\}$.\n",
    "\n",
    "Uma primeira abordagem assenta na noção de *invariante*, uma propriedade que tem que ser válida à entrada do ciclo, ao final de cada iteração, e que deve ser suficientemente forte para à saida do ciclo garantir a pós-condição.\n",
    "\n",
    "Esta ideia está sintetizada na regra:\n",
    "$$\n",
    "\\frac{\\{\\phi\\}{\\sf skip} \\{\\theta\\} \\quad \\{\\theta \\wedge b\\} C \\{\\theta\\} \\quad \\{\\theta \\wedge \\neg b\\}{\\sf skip} \\{\\psi\\} }{\\{\\phi\\} {\\sf while} \\; b \\;{\\sf do } \\;C \\{\\psi\\}}\n",
    "$$\n",
    "\n",
    "Assim, para garantir a validade de $\\{\\phi\\} {\\sf while} \\; b \\;{\\sf do } \\;C \\{\\psi\\}$ basta garantir a validade das premissas desta regra, gerando as VCs de cada um desses triplos (que correspondem à \"inicialização\", \"preservação\" e \"utilidade\"). Se as VCs forem válidas, então o triplo que está na conclusão é válido.\n",
    "\n",
    "A principal dificuldade neste processo está na descoberta do invariante $\\theta$ apropriado."
   ]
  },
  {
   "cell_type": "markdown",
   "metadata": {
    "id": "ZAqyd6TE9QmX"
   },
   "source": [
    "### Exercício 6\n",
    "\n",
    "Considere o seguinte programa anotado (incluindo o invariante de ciclo) que calcula o máximo de um array de inteiros.\n",
    "\n",
    "```python\n",
    "assume n >= 1 and i == 1 and m == A[0]\n",
    "while i<n:\n",
    "    invariant i<=n and forall j . 0 <= j < i -> m >= A[j]\n",
    "    if A[i]>m:\n",
    "        m = A[i]\n",
    "    i = i+1\n",
    "assert forall j . 0 <= j < n -> m >= A[j]\n",
    "```\n",
    "Indique os fluxos correspondentes aos triplos de Hoare necessários para verificar a inicialização, preservação e utilidade deste invariante. Calcule também as respectivas condições de verificação."
   ]
  },
  {
   "cell_type": "markdown",
   "metadata": {
    "id": "zx7hRu4h9QmY"
   },
   "source": [
    "```python\n",
    "Sejam  pre = n >= 1 and i == 1 and m == A[0]\n",
    "       pos = forall j . 0 <= j < n -> m >= A[j]\n",
    "       inv = i<=n and forall j . 0 <= j < i -> m >= A[j]\n",
    "```\n",
    "\n",
    "Denotações via WPC\n",
    "```python\n",
    "init = [assume pre; assert inv]\n",
    "     = pre -> [assert inv]\n",
    "     = pre -> inv\n",
    "        \n",
    "util = [assume inv and i >= n; assert pos]\n",
    "     = (inv and i >= n) -> [assert pos]\n",
    "     = (inv and i >= n) -> pos\n",
    "        \n",
    "#Tá nas fotos\n",
    "pres = [assume inv and i < n; (assume A[i] > m; m = A[i] || assume A[i] <= m; skip); i=i+1; assert inv]\n",
    "     = (inv and i<n) -> [(assume A[i] > m; m = A[i] || assume A[i] <= m; skip); i= i+1; assert inv]\n",
    "     = (inv and i<n) -> [assume A[i] > m; m = A[i]; i = i+1; assert inv || assume A[i] <= m; i=i+1; assert inv]\n",
    "     = (inv and i<n) -> [assume A[i] > m; m = A[i]; i = i+1; assert inv] and [assume A[i] <= m; i=i+1; assert inv]\n",
    "     = (inv and i<n) -> ((A[i] > m) -> [m = A[i]; i = i+1; assert inv] and (A[i] <= m) -> [i=i+1; assert inv])\n",
    "     = (inv and i<n) -> (A[i] > m -> [m = A[i]; i = i+1; assert inv] and (A[i] <= m) -> [i=i+1; assert inv])\n",
    "```"
   ]
  },
  {
   "cell_type": "markdown",
   "metadata": {
    "id": "89OEkFaE9QmY"
   },
   "source": [
    "### Exercício 7\n",
    "\n",
    "Utilize um SMT solver para verificar a validade das condições de verificação obtidas no exercício 6. \n",
    "Pode usar a instrução `Symbol('A', ArrayType(INT, INT))` para declarar a variável lógica do tipo array de inteiros para inteiros e `Select(A,i)` para recuperar o valor que está na posição `i` do array `A`.\n"
   ]
  },
  {
   "cell_type": "code",
   "execution_count": null,
   "metadata": {
    "id": "ui0_coB99QmY",
    "outputId": "d8a4f75b-f14e-4216-83fb-64f88fd09a09"
   },
   "outputs": [],
   "source": [
    "A = Symbol('A', ArrayType(INT, INT))\n",
    "i = Symbol('i',INT)\n",
    "m = Symbol('m',INT)\n",
    "n = Symbol('n',INT)\n",
    "j = Symbol('j',INT)\n",
    "\n",
    "\n",
    "pre = And(n>=Int(1),Equals(i,Int(1)),Equals(m,Select(A,Int(0))))\n",
    "pos = ForAll([j],Implies(And(j>=Int(0),j<n),m >= Select(A,j)))\n",
    "inv = And(i<=n,ForAll([j],Implies(And(j>=Int(0),j<i),m >= Select(A,j))))\n",
    "\n",
    "# completar\n",
    "\n",
    "init = ...\n",
    "util = ...\n",
    "pres = ...\n",
    "\n",
    "\n",
    "prove(init)\n",
    "prove(util)\n",
    "prove(pres)"
   ]
  },
  {
   "cell_type": "markdown",
   "metadata": {},
   "source": [
    "## Metodologia havoc\n",
    "\n",
    "Uma metodologia alternativa consiste em representar o programa original (com ciclos) na linguagem intermédia de fluxos (sem ciclos), substituindo cada ciclo ${\\sf while} \\; b \\;{\\sf do } \\;C$ por um fluxo $H$ tal que:\n",
    "se $\\{\\phi\\} H \\{\\psi\\}$ se verificar, então $\\{\\phi\\} {\\sf while} \\; b \\;{\\sf do } \\;C \\{\\psi\\}$ verifica-se também.\n",
    "\n",
    "O comando `havoc x` pode ser descrito informalmente como uma atribuição a `x` de um valor arbitrário.  Em termos de denotação lógica usando a técnica WPC teremos \n",
    "\n",
    "$$\n",
    "[{\\sf havoc}\\; x \\; ; C] = \\forall x. \\,[C]\n",
    "$$\n",
    "\n",
    "Na metodologia *havoc*, o ciclo (${\\sf while} \\; b \\;{\\sf do }\\{\\theta\\} \\;C$), com anotação de invariante $\\theta$ é transformado num fluxo não iterativo da seguinte forma\n",
    "\n",
    "$$\n",
    "{{\\sf assert}\\; \\theta\\; ; \\sf havoc }\\;\\vec{x} \\; ; (\\,({\\sf assume }\\; b \\wedge \\theta \\; ; \\; C \\; ; {\\sf assert}\\;\\theta \\; ; {\\sf assume}\\; \\mathit{False}) \\: || \\:\n",
    "{\\sf assume}\\; \\neg b \\wedge \\theta \\,)\n",
    "$$\n",
    "\n",
    "onde $\\vec{x}$ representa as *variáveis atribuídas em $C$*.\n",
    "\n",
    "Observe como a denotação do triplo de Hoare $\\{\\phi\\} {\\sf while} \\; b \\;{\\sf do}\\{\\theta\\}\\,C \\,\\{\\psi\\}$,  traduzido desta forma,\n",
    "permite garantir as propriedades de \"inicialização\", \"preservação\" e \"utilidade\" do invariante $\\theta$\n",
    "\n",
    "$$\n",
    "\\begin{array}{l}\n",
    "[\\,{\\sf assume}\\;\\phi\\; ;{{\\sf assert}\\; \\theta\\; ; \\sf havoc }\\;\\vec{x} \\; ; (\\,({\\sf assume }\\; b \\wedge \\theta \\; ; \\; C \\; ; {\\sf assert}\\;\\theta \\; ; {\\sf assume}\\; \\mathit{False}) \\: || \\:\n",
    "{\\sf assume}\\; \\neg b \\wedge \\theta \\,)\\; ; {\\sf assert} \\; \\psi \\,] \\\\ = \\\\\n",
    "\\phi \\to \\theta \\wedge \\forall \\vec{x}. \\, (\\,(b \\wedge \\theta \\to [C\\;; {\\sf assert}\\; \\theta ]) \\wedge (\\neg b \\wedge \\theta \\to \\psi )\\,)\n",
    "\\end{array}\n",
    "$$\n",
    "\n",
    "Note que $[ \\,{\\sf assume}\\; \\mathit{False}\\;; {\\sf assert} \\; \\psi \\,] = \\mathit{False} \\to \\psi = \\mathit{True}$."
   ]
  },
  {
   "cell_type": "markdown",
   "metadata": {},
   "source": [
    "### Codificação de funções lógicas\n",
    "\n",
    "Considere o seguinte programa `FACT` para o cálculo do factorial de um número. O programa está já anotado com pré-condição, pós-condição  e invariante de ciclo que deverá premitir  provar a sua correção face a esse contrato.\n",
    "\n",
    "```python\n",
    "assume n >= 0;\n",
    "f = 1; i = 1;\n",
    "while (i <= n):\n",
    "    invariante 0 < i and i <= n+1 and f == (i-1)!  \n",
    "    f = f*i;\n",
    "    i = i+1\n",
    "assert f == (n)!    \n",
    "```\n",
    "\n",
    "Nas anotações lógicas recorremos à função matemática $(n)!$ que denota o factorial de $n$.\n",
    "Para poder usar um *SMT solver* para o ajudar a verificar a correção do programa face à sua especificação, teremos acrescentar à teoria do *SMT solver* a codificação lógica da função factorial, uma vez que a teoria de inteiros não vem munida de tal função.\n",
    "\n",
    "Uma forma de o fazer é definir na teoria de inteiros uma função lógica ${\\sf fact}$ cuja semântica é dada por um conjunto de axiomas. Por exemplo, assim:\n",
    "\n",
    "$$\n",
    "\\begin{array}{l}\n",
    "{\\sf fact} (0) = 1 \\\\\n",
    "\\forall n . \\, n > 0 \\to {\\sf fact}(n) = n * {\\sf fact}(n-1)\n",
    "\\end{array}\n",
    "$$"
   ]
  },
  {
   "cell_type": "markdown",
   "metadata": {},
   "source": [
    "Usando o pySMT isso pode ser feito da seguinte forma:"
   ]
  },
  {
   "cell_type": "code",
   "execution_count": null,
   "metadata": {},
   "outputs": [],
   "source": [
    "fact = Symbol('fact', FunctionType(INT,[INT]))\n",
    "n = Symbol('n',INT)\n",
    "\n",
    "ax1 = Equals(fact(Int(0)),Int(1))\n",
    "ax2 = ForAll([n],Implies(n>Int(0),Equals(fact(n),n*fact(n-Int(1)))))\n",
    "axioms = And(ax1,ax2)"
   ]
  },
  {
   "cell_type": "markdown",
   "metadata": {},
   "source": [
    "Podemos agora testar a correção desta axiomatização verificando que o valor de $\\mathsf{fact}(5) = 120$."
   ]
  },
  {
   "cell_type": "code",
   "execution_count": null,
   "metadata": {},
   "outputs": [],
   "source": [
    "prove(Implies(axioms,Equals(fact(Int(5)),Int(120))))"
   ]
  },
  {
   "cell_type": "markdown",
   "metadata": {},
   "source": [
    "### Exercício 8\n",
    "\n",
    "Aplique agora a metodologia *havoc* para provar a correcção do programa `FACT` face à especificação.\n",
    "Sugestão: começe por traduzir o programa para a linguagem de fluxos e construa a VC correspondenta à sua denotação lógica usando a técnica da WPC. Tenha em atenção que as substituições que resultam das atribuições `f=1; i=1;` não terão impacto na parte da formula quantificada com $\\forall f. \\forall i. \\ldots$  uma vez que as variáveis $f$ e $i$ estão ligadas."
   ]
  },
  {
   "cell_type": "markdown",
   "metadata": {},
   "source": [
    "Programa de fluxos.\n",
    "\n",
    "```python\n",
    "Sejam  pre = n >= 0\n",
    "       inv = 0 < i and i <= n+1 and f == (i-1)! \n",
    "       pos = f == (n)! \n",
    "\n",
    "(completar)\n",
    "````"
   ]
  },
  {
   "cell_type": "markdown",
   "metadata": {},
   "source": [
    "Denotação lógica com WPC.\n",
    "\n",
    "```python\n",
    "(completar)\n",
    "```"
   ]
  },
  {
   "cell_type": "code",
   "execution_count": null,
   "metadata": {},
   "outputs": [],
   "source": [
    "# completar"
   ]
  }
 ],
 "metadata": {
  "colab": {
   "collapsed_sections": [],
   "name": "Aula9-Resolucao.ipynb",
   "provenance": []
  },
  "kernelspec": {
   "display_name": "Python 3 (ipykernel)",
   "language": "python",
   "name": "python3"
  },
  "language_info": {
   "codemirror_mode": {
    "name": "ipython",
    "version": 3
   },
   "file_extension": ".py",
   "mimetype": "text/x-python",
   "name": "python",
   "nbconvert_exporter": "python",
   "pygments_lexer": "ipython3",
   "version": "3.10.4"
  }
 },
 "nbformat": 4,
 "nbformat_minor": 1
}
