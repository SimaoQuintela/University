{
 "cells": [
  {
   "cell_type": "markdown",
   "id": "65dd1498",
   "metadata": {},
   "source": [
    "# Instalação do software e introdução à biblioteca pySMT\n",
    "\n",
    "Nesta UC vamos estudar metodologias e ferramentas para modelar e verificar propriedades lógicas de sistemas.\n",
    "As ferramentas que vamos usar são [SMT solvers](https://en.wikipedia.org/wiki/Satisfiability_modulo_theories#SMT_solvers) e a ferramenta de programação inteira [SCIP](https://www.scipopt.org).\n",
    "\n",
    "A linguagem de programação que vamos usar é o [Python](https://www.python.org) e as aulas práticas serão desenvolvidas dentro de um [Jupyter](https://jupyter.org) notebook, a ser executado na plataforma\n",
    "[Anaconda](https://www.anaconda.com).\n",
    "Usaremos a biblioteca [OR-Tools](https://developers.google.com/optimization) para fazer a interface para o SCIP e a biblioteca [pySMT](https://github.com/pysmt/pysmt) para fazer a interface com os SMT solvers. Também poderá vir a ser útil usar a bibloteca de grafos [NetworkX](https://networkx.org)."
   ]
  },
  {
   "cell_type": "markdown",
   "id": "bcc82458",
   "metadata": {},
   "source": [
    "# Instalação do software\n",
    "\n",
    "\n",
    "Os passos que a seguir se apresentam são para instalar o Anaconda, criar um \"environment\" (logica) especifico para esta UC onde instalamos o Python 3.10, o Jupyter, a biblioteca pySMT e os SMT solvers Z3 e MathSAT, e ainda as bibliotecas OR-Tools e NetworkX.\n",
    "\n",
    "Estes passos correspondem à instalação em MacOS.\n",
    "\n",
    "1. Instalar o Anaconda a partir do site  https://www.anaconda.com\n",
    "\n",
    "2. Iniciar o Conda package manager.\n",
    "\n",
    "        ~/opt/anaconda3/bin/conda init\n",
    "        \n",
    "3. Criar um ambiente específico (chamado \"logica\").\n",
    "\n",
    "        conda create -n logica python=3.10  \n",
    "        \n",
    "4. Ativar o ambiente \"logica\".\n",
    "\n",
    "        conda activate logica\n",
    "        \n",
    "5. Instalar o Jupyter nesse ambiente.\n",
    "  \n",
    "        conda install jupyter \n",
    "\n",
    "6. Instalar a biblioteca pySMT e os SMT solvers (Z3 e MathSAT) nesse ambiente.\n",
    "\n",
    "        pip install pysmt\n",
    "        pysmt-install --z3\n",
    "        pysmt-install --msat\n",
    "        \n",
    "7. Instalar as bibliotecas OR-Tools e NetworkX nesse ambiente.\n",
    "\n",
    "        pip install ortools\n",
    "        pip install networksx\n",
    "        \n",
    "\n",
    "Para arrancar com o Jupyter, na linha de comando, fazer `jupiter notebook`"
   ]
  },
  {
   "cell_type": "markdown",
   "id": "16754ba8",
   "metadata": {},
   "source": [
    "# Breve introdução à utilização de SMT solvers com  a biblioteca pySMT\n",
    "\n",
    "O problema SMT (*Satisfiability Modulo Theories*) é o problema de satisfatibilidade para lógica de primeira ordem\n",
    "no âmbito de alguma teoria lógica específica - uma teoria lógica que fixa as interpretações de certos predicados e símbolos de função. Dito de outra forma, restringe-se a satisfatibilidade a uma classe específica de modelos, numa lógica de primeira ordem tipificada e com igualdade.\n",
    "Os *SMT solvers* são ferramentas que visam responder ao problema SMT. Como o problema não é decidível, pode ser necessário (ou conveniente) restringir a classe de fórmulas em consideração a um fragmento (isto é, restrição sintática) adequado.\n",
    "\n",
    "Os SMT solvers são o motor central de muitas ferramentas de análise e verificação de programas, geração de casos de teste, bounded model checking of SW, planeamento, etc. \n",
    "Existem muitos SMT solvers disponíveis. Por exemplo: Z3, MathSAT, CVC4, Yices, entre outros. Alguns são direcionados a teorias específicas; \n",
    "muitos suportam o formato SMT-LIB (um formato textural normalizado de input/output para SMT solvers); \n",
    "muitos fornecem recursos não padronizados. Mais informação em [aqui](https://en.wikipedia.org/wiki/Satisfiability_modulo_theories#SMT_solvers)."
   ]
  },
  {
   "cell_type": "markdown",
   "id": "794f6fc7",
   "metadata": {},
   "source": [
    "## A biblioteca pySMT\n",
    "\n",
    "A biblioteca [pySMT](https://github.com/pysmt/pysmt) permite que um programa em Python comunique com vários SMT solvers tendo por base uma linguagem comum. Permite assim codificar um problema de forma independente do SMT solver, e correr o mesmo problema com vários SMT solvers.\n",
    "A documentação do pySMT pode ser encontrada em https://pysmt.readthedocs.io/en/latest/index.html.\n",
    "\n",
    "Vamos explorar alguns exemplo disponibilizados no manual do pySMT e propor novos desafios."
   ]
  },
  {
   "cell_type": "markdown",
   "id": "153830ee",
   "metadata": {},
   "source": [
    "## Primeiros exemplos\n",
    "\n",
    "\n",
    "O pySMT é altamente estruturado, mas oferece uma API simplificada que disponibiliza as funcionalidades para a utilização usual de um SMT solver. Essa API agrupa em um único módulo todas as funções para construir fórmulas, verificar a satisfatibilidade e recuperar instâncias do solver. Esse módulo é o `pysmt.shortcuts`.\n",
    "\n",
    "Neste primeiro exemplo vamos testar a satisfatibilidade de duas fórmulas proposicionais: $(A \\wedge \\neg B)$ e $(A \\wedge \\neg A)$.\n",
    "\n",
    "Para isso, primeiro precisamos criar duas novas variáveis $A$ e $B$. As variáveis PySMT são chamadas de “símbolos” e são criadas usando a função `Symbol()` que recebe como entrada um nome de variável e, opcionalmente, um tipo. Por omissão, os símbolos são Booleanos.\n",
    "\n",
    "Para este exemplo, vamos precisar das seguintes funções: `Symbol`, `And`, `Not`, `is_sat` e `get_model`."
   ]
  },
  {
   "cell_type": "code",
   "execution_count": 10,
   "id": "2ee33028",
   "metadata": {},
   "outputs": [
    {
     "name": "stdout",
     "output_type": "stream",
     "text": [
      "f := (A & (! B)) is SAT? True\n"
     ]
    }
   ],
   "source": [
    "from pysmt.shortcuts import Symbol, And, Not, is_sat, get_model\n",
    "\n",
    "varA = Symbol(\"A\")    # Default type is Boolean\n",
    "varB = Symbol(\"B\")\n",
    "f = And(varA, Not(varB))\n",
    "\n",
    "res = is_sat(f)\n",
    "print(\"f := %s is SAT? %s\" % (f, res))"
   ]
  },
  {
   "cell_type": "markdown",
   "id": "c62e72ab",
   "metadata": {},
   "source": [
    "O teste de satisfatibilidade da fórmula pode ser feito com a função `is_sat()`. É possivel explicitar o SMT solver que queremos usar."
   ]
  },
  {
   "cell_type": "code",
   "execution_count": 11,
   "id": "5151b033",
   "metadata": {},
   "outputs": [
    {
     "name": "stdout",
     "output_type": "stream",
     "text": [
      "f := (A & (! B)) is SAT (z3)? True\n",
      "f := (A & (! B)) is SAT (msat)? True\n"
     ]
    }
   ],
   "source": [
    "resZ3 = is_sat(f,solver_name=\"z3\")\n",
    "resMSAT = is_sat(f,solver_name=\"msat\")\n",
    "\n",
    "print(\"f := %s is SAT (z3)? %s\" % (f, resZ3))\n",
    "\n",
    "print(\"f := %s is SAT (msat)? %s\" % (f, resMSAT))"
   ]
  },
  {
   "cell_type": "markdown",
   "id": "77e979e1",
   "metadata": {},
   "source": [
    "Como a fórmula é satisfazível, isso significa que existe uma interpretação para seus símbolos não lógicos que torna a fórmula verdadeira. Ou seja, que existe um modelo para a fórmula.\n",
    "\n",
    "Para sabermos qual o modelo que o solver encontrou podemos usar a função `get_model()`. Se a fórmula é satifazível, esta função devolve um modelo para a fórmula (isto é, uma espécie de dicionário que mapeia cada variável lógica no seu valor), caso contrário, devolve `None`."
   ]
  },
  {
   "cell_type": "code",
   "execution_count": 12,
   "id": "13a7a78f",
   "metadata": {},
   "outputs": [
    {
     "name": "stdout",
     "output_type": "stream",
     "text": [
      "Model:\n",
      "B := False\n",
      "A := True\n"
     ]
    }
   ],
   "source": [
    "print(\"Model:\")\n",
    "model = get_model(f)\n",
    "print(model)"
   ]
  },
  {
   "cell_type": "markdown",
   "id": "8d6bcc14",
   "metadata": {},
   "source": [
    "Vamos agora gerar a fórmula $A \\wedge \\neg A$ ilustrando como podemos fazer uma substituição com o método `substitute()`. Neste caso vamos substituir a variável $B$ por $A$ na fórmula `f`."
   ]
  },
  {
   "cell_type": "code",
   "execution_count": 13,
   "id": "7694d2bf",
   "metadata": {},
   "outputs": [
    {
     "name": "stdout",
     "output_type": "stream",
     "text": [
      "g := (A & (! A)) is SAT? False\n",
      "None\n"
     ]
    }
   ],
   "source": [
    "g = f.substitute({varB:varA})\n",
    "\n",
    "res = is_sat(g)\n",
    "print(\"g := %s is SAT? %s\" % (g, res))\n",
    "\n",
    "print(get_model(g))"
   ]
  },
  {
   "cell_type": "markdown",
   "id": "4a27a25f",
   "metadata": {},
   "source": [
    "\n",
    "Vamos agora trabalhar com a teoria dos inteiros, para saber se é possível arranjar valores inteiros $x$ e $y$ entre 1 e 10, tal que $x+y > 10$ e $x-y\\leq 5$. \n",
    "\n",
    "Para criar variáveis inteiras temos que indicar o seu tipo. Os tipos estão definidos no módulo `pysmt.typing` de onde temos que importar o tipo `INT`."
   ]
  },
  {
   "cell_type": "code",
   "execution_count": 14,
   "id": "edf6cd59",
   "metadata": {},
   "outputs": [
    {
     "name": "stdout",
     "output_type": "stream",
     "text": [
      "y := 3\n",
      "x := 8\n"
     ]
    }
   ],
   "source": [
    "from pysmt.shortcuts import Symbol, is_sat, get_model, And\n",
    "from pysmt.typing import INT\n",
    "\n",
    "x = Symbol(\"x\", INT)\n",
    "y = Symbol(\"y\", INT)\n",
    "\n",
    "formula = And(1<=x , x<=10 , 1<=y , y<=10 , x+y>10 , x-y<=5)\n",
    "\n",
    "print(get_model(formula))"
   ]
  },
  {
   "cell_type": "markdown",
   "id": "e6f30b45",
   "metadata": {},
   "source": [
    "Ao importar `pysmt.shortcuts` a notação infixa fica disponível. No entanto, podemos usar os operadores textuais importando-os de `pysmt.shortcuts`. Isto por vezes torna o código mais claro, distingindo entre os operadores do Python e do SMT."
   ]
  },
  {
   "cell_type": "code",
   "execution_count": 15,
   "id": "68f6eaf4",
   "metadata": {},
   "outputs": [
    {
     "name": "stdout",
     "output_type": "stream",
     "text": [
      "y := 3\n",
      "x := 8\n"
     ]
    }
   ],
   "source": [
    "from pysmt.shortcuts import Symbol, is_sat, get_model, And, LE, GE, GT, Int, Not, Or, Equals\n",
    "from pysmt.typing import INT\n",
    "\n",
    "x = Symbol(\"x\", INT)\n",
    "y = Symbol(\"y\", INT)\n",
    "\n",
    "formula = And(LE(Int(1),x) , GE(Int(10),x) , LE(Int(1),y) , GT(x+y,Int(10)), LE(x-y,Int(5)))\n",
    "\n",
    "print(get_model(formula))\n"
   ]
  },
  {
   "cell_type": "markdown",
   "id": "ea5a915a",
   "metadata": {},
   "source": [
    "### Exercício 1\n",
    "\n",
    "Será que esta é a única solução para este problema? Como poderiamos tirar partido do solver para saber isso?"
   ]
  },
  {
   "cell_type": "code",
   "execution_count": 16,
   "id": "a8a69657",
   "metadata": {},
   "outputs": [],
   "source": [
    "# completar\n"
   ]
  },
  {
   "cell_type": "markdown",
   "id": "0481155c",
   "metadata": {},
   "source": [
    "Em vez de definir uma variável de cada vez, podemos usar as listas por compreensão do Python para definir vários símbolos. \n",
    "As compreensões são tão comuns no pySMT que operadores n-ários (como `And()`, `Or()`, `Plus()`) podem aceitar um objeto iterável (por exemplo, listas ou gerador). Vejamos o seguinte exemplo."
   ]
  },
  {
   "cell_type": "markdown",
   "id": "d26bdbeb",
   "metadata": {},
   "source": [
    "## Hello World\n",
    "\n",
    "O problema é o seguinte: \n",
    "queremos associar a cada  uma das letra que compõem as palavras HELLO e WORLD, uma valor inteiro entre 1 e 10, de forma a que `H+E+L+L+O = W+O+R+L+D = 25`. Será que isso é possivel?\n",
    "\n",
    "Vejamos a seguinte formalização do problema."
   ]
  },
  {
   "cell_type": "code",
   "execution_count": 17,
   "id": "aa8795d9",
   "metadata": {},
   "outputs": [
    {
     "name": "stdout",
     "output_type": "stream",
     "text": [
      "{d, h, e, l, o, w, r}\n",
      "(((1 <= d) & (d <= 10)) & ((1 <= h) & (h <= 10)) & ((1 <= e) & (e <= 10)) & ((1 <= l) & (l <= 10)) & ((1 <= o) & (o <= 10)) & ((1 <= w) & (w <= 10)) & ((1 <= r) & (r <= 10)))\n",
      "Serialization of the formula:\n",
      "((((1 <= d) & (d <= 10)) & ((1 <= h) & (h <= 10)) & ((1 <= e) & (e <= 10)) & ((1 <= l) & (l <= 10)) & ((1 <= o) & (o <= 10)) & ((1 <= w) & (w <= 10)) & ((1 <= r) & (r <= 10))) & (((h + e + l + l + o) = (w + o + r + l + d)) & ((h + e + l + l + o) = 25)))\n"
     ]
    }
   ],
   "source": [
    "from pysmt.shortcuts import Symbol, LE, GE, Int, And, Equals, Plus, Solver, is_sat, get_model, AllDifferent\n",
    "from pysmt.typing import INT\n",
    "\n",
    "hello = [Symbol(s, INT) for s in \"hello\"]\n",
    "world = [Symbol(s, INT) for s in \"world\"]\n",
    "\n",
    "letters = set(hello+world)\n",
    "print(letters)\n",
    "\n",
    "\n",
    "domains = And(And(LE(Int(1), l),\n",
    "                  GE(Int(10), l)) for l in letters)\n",
    "\n",
    "\n",
    "\n",
    "print(domains)\n",
    "sum_hello = Plus(hello)\n",
    "sum_world = Plus(world)\n",
    "\n",
    "problem = And(Equals(sum_hello, sum_world),\n",
    "              Equals(sum_hello, Int(25)))\n",
    "\n",
    "formula = And(domains, problem)\n",
    "\n",
    "print(\"Serialization of the formula:\")\n",
    "print(formula)"
   ]
  },
  {
   "cell_type": "markdown",
   "id": "1426178d",
   "metadata": {},
   "source": [
    "Se a fórmula for muito grande, certas subfórmulas podem ser mostradas como `...`. Se quiser garantir que vê sempre a fórmula toda use o método `serialize()`."
   ]
  },
  {
   "cell_type": "code",
   "execution_count": 18,
   "id": "df94e50e",
   "metadata": {},
   "outputs": [
    {
     "name": "stdout",
     "output_type": "stream",
     "text": [
      "((((1 <= d) & (d <= 10)) & ((1 <= h) & (h <= 10)) & ((1 <= e) & (e <= 10)) & ((1 <= l) & (l <= 10)) & ((1 <= o) & (o <= 10)) & ((1 <= w) & (w <= 10)) & ((1 <= r) & (r <= 10))) & (((h + e + l + l + o) = (w + o + r + l + d)) & ((h + e + l + l + o) = 25)))\n"
     ]
    }
   ],
   "source": [
    "print(formula.serialize())"
   ]
  },
  {
   "cell_type": "markdown",
   "id": "063e9f9f",
   "metadata": {},
   "source": [
    "### Exercício 2\n",
    "\n",
    "Veja se o problema tem solução e, se tiver, apresente uma solução."
   ]
  },
  {
   "cell_type": "code",
   "execution_count": 19,
   "id": "d7118656",
   "metadata": {},
   "outputs": [
    {
     "name": "stdout",
     "output_type": "stream",
     "text": [
      "True\n",
      "o := 1\n",
      "l := 2\n",
      "e := 10\n",
      "h := 10\n",
      "d := 2\n",
      "r := 10\n",
      "w := 10\n"
     ]
    }
   ],
   "source": [
    "sat = is_sat(formula, solver_name=\"z3\")\n",
    "print(sat)\n",
    "if sat:\n",
    "    print(get_model(formula))"
   ]
  },
  {
   "cell_type": "markdown",
   "id": "2f55d569",
   "metadata": {},
   "source": [
    "Estas funções de atalho são muito úteis em situações pontuais. Contudo, a forma mais usual de utilização de um SMT solver consiste em criar uma instância de um `Solver` e trabalhar com ele de forma incremental. Isso pode ser feito usando o `pysmt.shortcuts.Solver()`.\n",
    "Isto pode ser usado dentro de um contexto (com a instrução `with`) para lidar automaticamente com a destruição do solver e dos recursos associados. \n",
    "É possível especificar qual o solver que queremos executar e/ou a teoria lógica em que queremos trabalhar.\n",
    "\n",
    "Depois de criar o solver, podemos adicionar restrições de forma incremental (com o método `add_assertion()`), testar a satisfatibilidade desse conjunto de restrições (com o método `solve()`), inspecionar o modelo, etc.\n",
    "No exemplo abaixo lançamos o solver Z3 e em primeiro lugar verificamos se a fórmula `domain` é satisfazível. Depois, em caso afirmativo, continuamos a resolver o problema. Repare que, neste exemplo, acedemos ao valor de cada símbolo com o método `get_value()`. Porém, também podemos obter o modelo usando o método `get_model()`."
   ]
  },
  {
   "cell_type": "code",
   "execution_count": 20,
   "id": "65960918",
   "metadata": {},
   "outputs": [
    {
     "name": "stdout",
     "output_type": "stream",
     "text": [
      "d = 1\n",
      "h = 1\n",
      "e = 2\n",
      "l = 6\n",
      "o = 10\n",
      "w = 7\n",
      "r = 1\n"
     ]
    }
   ],
   "source": [
    "with Solver(name=\"z3\") as solver:\n",
    "    solver.add_assertion(domains)\n",
    "    if not solver.solve():\n",
    "        print(\"Domain is not SAT!!!\")\n",
    "        exit()\n",
    "    solver.add_assertion(problem)\n",
    "    if solver.solve():\n",
    "        for l in letters:\n",
    "            print(\"%s = %s\" %(l, solver.get_value(l)))\n",
    "    else:\n",
    "        print(\"No solution found\")"
   ]
  },
  {
   "cell_type": "markdown",
   "id": "c0b71f91",
   "metadata": {},
   "source": [
    "### Exercício 3\n",
    "\n",
    "Altere o código acima de forma a usar o método `get_model()`, apresentado o resultado com o mesmo formato."
   ]
  },
  {
   "cell_type": "code",
   "execution_count": 21,
   "id": "a48d3916",
   "metadata": {},
   "outputs": [
    {
     "name": "stdout",
     "output_type": "stream",
     "text": [
      "d := 1\n",
      "l := 6\n",
      "w := 7\n",
      "h := 1\n",
      "e := 2\n",
      "o := 10\n",
      "r := 1\n",
      "\n",
      "\n",
      "\n",
      "\n",
      "d = 1\n",
      "h = 1\n",
      "e = 2\n",
      "l = 6\n",
      "o = 10\n",
      "w = 7\n",
      "r = 1\n"
     ]
    }
   ],
   "source": [
    "with Solver(name=\"z3\") as solver:\n",
    "    solver.add_assertion(domains)\n",
    "    if not solver.solve():\n",
    "        print(\"Domain is not SAT!!!\")\n",
    "        exit()\n",
    "    solver.add_assertion(problem)\n",
    "    if solver.solve():\n",
    "        print(solver.get_model())\n",
    "        print(\"\\n\\n\\n\")\n",
    "        for l in letters:\n",
    "            print(\"%s = %s\" %(l, solver.get_value(l)))\n",
    "    else:\n",
    "        print(\"No solution found\")"
   ]
  },
  {
   "cell_type": "markdown",
   "id": "bcacb01c",
   "metadata": {},
   "source": [
    "### Exercício 4\n",
    "\n",
    "Com o pySMT é possível executar o mesmo código usando diferentes SMT solvers. Em nosso exemplo, podemos especificar qual o solver que queremos executar alterando a maneira como o instanciamos. Use o MathSAT para resolver o problema anterior. Veja se a solução apresentada é igual à do Z3."
   ]
  },
  {
   "cell_type": "code",
   "execution_count": 22,
   "id": "bf7959ca",
   "metadata": {},
   "outputs": [
    {
     "name": "stdout",
     "output_type": "stream",
     "text": [
      "r := 2\n",
      "w := 10\n",
      "o := 1\n",
      "l := 2\n",
      "e := 10\n",
      "h := 10\n",
      "d := 10\n"
     ]
    }
   ],
   "source": [
    "with Solver(name=\"msat\") as solver:\n",
    "    solver.add_assertion(domains)\n",
    "    if not solver.solve():\n",
    "        print(\"Domain is not SAT!\")\n",
    "        exit()\n",
    "    \n",
    "    solver.add_assertion(problem)\n",
    "    if solver.solve():\n",
    "        print(solver.get_model())\n",
    "    else:\n",
    "        print(\"Problem not SAT!\")\n",
    "        exit()\n",
    "        "
   ]
  },
  {
   "cell_type": "markdown",
   "id": "936528e7",
   "metadata": {},
   "source": [
    "Podemos lançar um solver simplemente com a indicação da teoria lógica com que queremos trabalhar.\n",
    "Neste caso, o solver é escolhido entre os solvers instalados que suportam essa lógica. Se não existir é gerada uma \n",
    "exceção (`NoSolverAvailableErro`).\n",
    "É claro que também podemos indicar o solver.\n",
    "\n",
    "No exemplo a seguir escolhe-se a lógica `QF_LIA` (*Quantifier-Free Linear Integer Arithmetic*)."
   ]
  },
  {
   "cell_type": "code",
   "execution_count": 23,
   "id": "978a3a10",
   "metadata": {},
   "outputs": [
    {
     "name": "stdout",
     "output_type": "stream",
     "text": [
      "d = 10\n",
      "h = 10\n",
      "e = 9\n",
      "l = 8\n",
      "o = 1\n",
      "w = 9\n",
      "r = 8\n"
     ]
    }
   ],
   "source": [
    "from pysmt.shortcuts import Symbol, LE, GE, Int, And, Equals, Plus, Solver, NotEquals\n",
    "from pysmt.typing import INT\n",
    "\n",
    "hello = [Symbol(s, INT) for s in \"hello\"]\n",
    "world = [Symbol(s, INT) for s in \"world\"]\n",
    "\n",
    "letters = set(hello+world)\n",
    "\n",
    "domains = And([And(LE(Int(1), l),\n",
    "                   GE(Int(10), l)) for l in letters])\n",
    "\n",
    "sum_hello = Plus(hello)\n",
    "sum_world = Plus(world)\n",
    "\n",
    "problem = And(Equals(sum_hello, sum_world),\n",
    "              Equals(sum_hello, Int(36)))\n",
    "\n",
    "formula = And(domains, problem)\n",
    "\n",
    "with Solver(logic=\"QF_LIA\") as solver:\n",
    "    solver.add_assertion(domains)\n",
    "    if not solver.solve():\n",
    "        print(\"Domain is not SAT!!!\")\n",
    "        exit()\n",
    "    solver.add_assertion(problem)\n",
    "    if solver.solve():\n",
    "        for l in letters:\n",
    "            print(\"%s = %s\" %(l, solver.get_value(l)))\n",
    "    else:\n",
    "        print(\"No solution found\")"
   ]
  },
  {
   "cell_type": "markdown",
   "id": "20a4744d",
   "metadata": {},
   "source": [
    "### Exercício 5\n",
    "\n",
    "O Cryptarithms é um jogo que consiste numa equação matemática entre números desconhecidos, cujos dígitos são representados por letras. Cada letra deve representar um dígito diferente e o dígito inicial de um número com vários dígitos não deve ser zero.\n",
    "\n",
    "Queremos saber os dígitos a que correspondem as letras envolvidas na seguinte equação:\n",
    "```\n",
    "TWO + TWO = FOUR\n",
    "```\n",
    "Podemos modelar o problema numa teoria de inteiros. Cada letra dá origem a uma variável inteira ($T$,$W$,$O$,$F$,$U$, e $R$) e para representar a equação acima representamos cada parcela por uma expressão aritmética onde cada letra é multiplicada pelo seu “peso específico” (em base 10).\n",
    "\n",
    "Resolver este problema equivale a resolver o seguinte sistema de equações:\n",
    "$$\n",
    "\\left\\{\n",
    "\\begin{array}{l}\n",
    "0 \\le T \\le 9\\\\\n",
    "\\cdots\\\\\n",
    "0 \\le R \\le 9\\\\\n",
    "T \\neq W \\neq O \\neq F \\neq U \\neq R \\\\\n",
    "T \\neq 0\\\\\n",
    "F \\neq 0\\\\\n",
    "(100 \\times T + 10 \\times W + O) + (100 \\times T + 10 \\times W + O) = 1000 \\times F + 100 \\times O + 10 \\times U + R\n",
    "\\end{array}\n",
    "\\right.\n",
    "$$\n",
    "\n",
    "Use o Z3 para resolver este problema. Nota: poderá ser útil usar o operador `AllDifferent`."
   ]
  },
  {
   "cell_type": "code",
   "execution_count": 34,
   "id": "2ffb91b5",
   "metadata": {
    "scrolled": false
   },
   "outputs": [
    {
     "name": "stdout",
     "output_type": "stream",
     "text": [
      "{T, W, O, F, U, R}\n",
      "R := 6\n",
      "O := 2\n",
      "W := 3\n",
      "T := 4\n",
      "F := 1\n",
      "U := 9\n"
     ]
    }
   ],
   "source": [
    "two_word = [Symbol(s, INT) for s in \"TWO\"]\n",
    "four_word = [Symbol(s, INT) for s in \"FOUR\"]\n",
    "\n",
    "t = two_word[0]\n",
    "f = four_word[0]\n",
    "letters = set(two_word + four_word)\n",
    "print(letters)\n",
    "\n",
    "\n",
    "domains= And(And(LE(Int(0), l),\n",
    "                 GE(Int(9), l),\n",
    "                 AllDifferent(letters)) for l in letters)\n",
    "\n",
    "two_sum = Plus(two_word)\n",
    "four_sum = Plus(four_word)\n",
    "\n",
    "domains = And(domains, NotEquals(t, Int(0)), NotEquals(f, Int(0)))\n",
    "#print(domains.serialize())\n",
    "problem = Equals(2*two_sum, four_sum)\n",
    "\n",
    "formula = And(domains, problem)\n",
    "\n",
    "with Solver(name=\"z3\") as solver:\n",
    "    solver.add_assertion(domains)\n",
    "    if not solver.solve():\n",
    "        print(\"Domain not SAT!\")\n",
    "        exit()\n",
    "                 \n",
    "    solver.add_assertion(formula)\n",
    "    if solver.solve():\n",
    "        print(solver.get_model())\n",
    "    else:\n",
    "        print(\"Problem not SAT!\")\n",
    "                 \n"
   ]
  },
  {
   "cell_type": "markdown",
   "id": "f85ee232",
   "metadata": {},
   "source": [
    "### Exercício 6\n",
    "\n",
    "Considere o seguinte enigma:\n",
    "```\n",
    "- If the unicorn is mythical, then it is immortal.\n",
    "- If the unicorn is not mythical, then it is a mortal mammal.\n",
    "- If the unicorn is either immortal or a mammal, then it is horned. \n",
    "- The unicorn is magical if it is horned.\n",
    "\n",
    "Given these constraints:\n",
    "- Is the unicorn magical? \n",
    "- Is it horned? \n",
    "- Is it mythical?\n",
    "```\n",
    "Modele o problema em lógica proposicional criando uma variável proposicional para cada caracteristica dos unicornios.\n",
    "Use um SMT solver para o resolver.\n",
    "\n",
    "**Sugestão:** Resolva o problema com o auxílio de 5 variáveis proposicionais, correspondentes às 5 propriedades \n",
    "    dos unicórnios. Relembre que a afirmação $A_1, \\ldots, A_n \\models B$ é válida se e só se o conjunto de \n",
    "    restrições $\\{A_1, \\ldots, A_n, \\neg B\\}$ é inconsistente. Tire proveito dos métodos `push()` e `pop()` para \n",
    "    responder às várias questões usando de forma incremental o mesmo solver."
   ]
  },
  {
   "cell_type": "code",
   "execution_count": 36,
   "id": "71bd9324",
   "metadata": {},
   "outputs": [
    {
     "name": "stdout",
     "output_type": "stream",
     "text": [
      "[A, B, C, D, E]\n",
      "A := False\n",
      "D := True\n",
      "B := False\n",
      "C := True\n",
      "E := True\n"
     ]
    }
   ],
   "source": [
    "from pysmt.shortcuts import Implies\n",
    "\n",
    "symbols = [\"A\",\"B\", \"C\", \"D\", \"E\"]\n",
    "\n",
    "letters = [ Symbol(s) for s in symbols]\n",
    "print(letters)\n",
    "A = letters[0]\n",
    "B = letters[1]\n",
    "C = letters[2]\n",
    "D = letters[3]\n",
    "E = letters[4]\n",
    "\n",
    "P1 = Implies(A,B)\n",
    "P2 = Implies(Not(A), And(Not(B),C))\n",
    "P3 = Implies(Or(B,C), D)\n",
    "P4 = Implies(D, E)\n",
    "\n",
    "with Solver(name=\"z3\") as solver:\n",
    "    solver.add_assertion(P1)\n",
    "    solver.add_assertion(P2)\n",
    "    solver.add_assertion(P3)\n",
    "    solver.add_assertion(P4)\n",
    "    solver.push()\n",
    "    \n",
    "    #solver.push(P2)\n",
    "    #solver.push(P3)\n",
    "    #solver.push(P4)\n",
    "    \n",
    "    if solver.solve():\n",
    "        print(solver.get_model())\n",
    "    else:\n",
    "        print(\"Not SAT!\")\n",
    "\n",
    "\n"
   ]
  },
  {
   "cell_type": "code",
   "execution_count": null,
   "id": "06f7b716",
   "metadata": {},
   "outputs": [],
   "source": []
  }
 ],
 "metadata": {
  "kernelspec": {
   "display_name": "Python 3 (ipykernel)",
   "language": "python",
   "name": "python3"
  },
  "language_info": {
   "codemirror_mode": {
    "name": "ipython",
    "version": 3
   },
   "file_extension": ".py",
   "mimetype": "text/x-python",
   "name": "python",
   "nbconvert_exporter": "python",
   "pygments_lexer": "ipython3",
   "version": "3.10.4"
  }
 },
 "nbformat": 4,
 "nbformat_minor": 5
}
